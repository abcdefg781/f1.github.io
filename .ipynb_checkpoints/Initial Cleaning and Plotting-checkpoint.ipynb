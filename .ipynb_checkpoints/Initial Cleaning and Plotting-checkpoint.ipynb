{
 "cells": [
  {
   "cell_type": "markdown",
   "metadata": {},
   "source": [
    "# Dashboard for F1 Data Insights"
   ]
  },
  {
   "cell_type": "markdown",
   "metadata": {},
   "source": [
    "### Import Packages"
   ]
  },
  {
   "cell_type": "code",
   "execution_count": 1,
   "metadata": {},
   "outputs": [],
   "source": [
    "import numpy as np\n",
    "import pandas as pd\n",
    "import dash\n",
    "import dash_core_components as dcc\n",
    "import dash_html_components as html\n",
    "import plotly.graph_objs as go\n",
    "import plotly.express as px\n",
    "\n",
    "# View all rows and columns of a dataframe\n",
    "# pd.set_option('display.max_rows', None)\n",
    "pd.set_option('display.max_columns', None)\n",
    "pd.set_option('display.width', None)\n",
    "# pd.set_option('display.max_colwidth', None)"
   ]
  },
  {
   "cell_type": "markdown",
   "metadata": {},
   "source": [
    "## Loading in Data"
   ]
  },
  {
   "cell_type": "code",
   "execution_count": 2,
   "metadata": {
    "scrolled": true
   },
   "outputs": [
    {
     "data": {
      "text/html": [
       "<div>\n",
       "<style scoped>\n",
       "    .dataframe tbody tr th:only-of-type {\n",
       "        vertical-align: middle;\n",
       "    }\n",
       "\n",
       "    .dataframe tbody tr th {\n",
       "        vertical-align: top;\n",
       "    }\n",
       "\n",
       "    .dataframe thead th {\n",
       "        text-align: right;\n",
       "    }\n",
       "</style>\n",
       "<table border=\"1\" class=\"dataframe\">\n",
       "  <thead>\n",
       "    <tr style=\"text-align: right;\">\n",
       "      <th></th>\n",
       "      <th>driverId</th>\n",
       "      <th>driverRef</th>\n",
       "      <th>number</th>\n",
       "      <th>code</th>\n",
       "      <th>forename</th>\n",
       "      <th>surname</th>\n",
       "      <th>dob</th>\n",
       "      <th>nationality</th>\n",
       "    </tr>\n",
       "  </thead>\n",
       "  <tbody>\n",
       "    <tr>\n",
       "      <th>0</th>\n",
       "      <td>1</td>\n",
       "      <td>hamilton</td>\n",
       "      <td>44</td>\n",
       "      <td>HAM</td>\n",
       "      <td>Lewis</td>\n",
       "      <td>Hamilton</td>\n",
       "      <td>1985-01-07</td>\n",
       "      <td>British</td>\n",
       "    </tr>\n",
       "    <tr>\n",
       "      <th>1</th>\n",
       "      <td>2</td>\n",
       "      <td>heidfeld</td>\n",
       "      <td>\\N</td>\n",
       "      <td>HEI</td>\n",
       "      <td>Nick</td>\n",
       "      <td>Heidfeld</td>\n",
       "      <td>1977-05-10</td>\n",
       "      <td>German</td>\n",
       "    </tr>\n",
       "    <tr>\n",
       "      <th>2</th>\n",
       "      <td>3</td>\n",
       "      <td>rosberg</td>\n",
       "      <td>6</td>\n",
       "      <td>ROS</td>\n",
       "      <td>Nico</td>\n",
       "      <td>Rosberg</td>\n",
       "      <td>1985-06-27</td>\n",
       "      <td>German</td>\n",
       "    </tr>\n",
       "    <tr>\n",
       "      <th>3</th>\n",
       "      <td>4</td>\n",
       "      <td>alonso</td>\n",
       "      <td>14</td>\n",
       "      <td>ALO</td>\n",
       "      <td>Fernando</td>\n",
       "      <td>Alonso</td>\n",
       "      <td>1981-07-29</td>\n",
       "      <td>Spanish</td>\n",
       "    </tr>\n",
       "    <tr>\n",
       "      <th>4</th>\n",
       "      <td>5</td>\n",
       "      <td>kovalainen</td>\n",
       "      <td>\\N</td>\n",
       "      <td>KOV</td>\n",
       "      <td>Heikki</td>\n",
       "      <td>Kovalainen</td>\n",
       "      <td>1981-10-19</td>\n",
       "      <td>Finnish</td>\n",
       "    </tr>\n",
       "    <tr>\n",
       "      <th>...</th>\n",
       "      <td>...</td>\n",
       "      <td>...</td>\n",
       "      <td>...</td>\n",
       "      <td>...</td>\n",
       "      <td>...</td>\n",
       "      <td>...</td>\n",
       "      <td>...</td>\n",
       "      <td>...</td>\n",
       "    </tr>\n",
       "    <tr>\n",
       "      <th>843</th>\n",
       "      <td>845</td>\n",
       "      <td>sirotkin</td>\n",
       "      <td>35</td>\n",
       "      <td>SIR</td>\n",
       "      <td>Sergey</td>\n",
       "      <td>Sirotkin</td>\n",
       "      <td>1995-08-27</td>\n",
       "      <td>Russian</td>\n",
       "    </tr>\n",
       "    <tr>\n",
       "      <th>844</th>\n",
       "      <td>846</td>\n",
       "      <td>norris</td>\n",
       "      <td>4</td>\n",
       "      <td>NOR</td>\n",
       "      <td>Lando</td>\n",
       "      <td>Norris</td>\n",
       "      <td>1999-11-13</td>\n",
       "      <td>British</td>\n",
       "    </tr>\n",
       "    <tr>\n",
       "      <th>845</th>\n",
       "      <td>847</td>\n",
       "      <td>russell</td>\n",
       "      <td>63</td>\n",
       "      <td>RUS</td>\n",
       "      <td>George</td>\n",
       "      <td>Russell</td>\n",
       "      <td>1998-02-15</td>\n",
       "      <td>British</td>\n",
       "    </tr>\n",
       "    <tr>\n",
       "      <th>846</th>\n",
       "      <td>848</td>\n",
       "      <td>albon</td>\n",
       "      <td>23</td>\n",
       "      <td>ALB</td>\n",
       "      <td>Alexander</td>\n",
       "      <td>Albon</td>\n",
       "      <td>1996-03-23</td>\n",
       "      <td>Thai</td>\n",
       "    </tr>\n",
       "    <tr>\n",
       "      <th>847</th>\n",
       "      <td>849</td>\n",
       "      <td>latifi</td>\n",
       "      <td>6</td>\n",
       "      <td>LAT</td>\n",
       "      <td>Nicholas</td>\n",
       "      <td>Latifi</td>\n",
       "      <td>1995-06-29</td>\n",
       "      <td>Canadian</td>\n",
       "    </tr>\n",
       "  </tbody>\n",
       "</table>\n",
       "<p>848 rows × 8 columns</p>\n",
       "</div>"
      ],
      "text/plain": [
       "     driverId   driverRef number code   forename     surname         dob  \\\n",
       "0           1    hamilton     44  HAM      Lewis    Hamilton  1985-01-07   \n",
       "1           2    heidfeld     \\N  HEI       Nick    Heidfeld  1977-05-10   \n",
       "2           3     rosberg      6  ROS       Nico     Rosberg  1985-06-27   \n",
       "3           4      alonso     14  ALO   Fernando      Alonso  1981-07-29   \n",
       "4           5  kovalainen     \\N  KOV     Heikki  Kovalainen  1981-10-19   \n",
       "..        ...         ...    ...  ...        ...         ...         ...   \n",
       "843       845    sirotkin     35  SIR     Sergey    Sirotkin  1995-08-27   \n",
       "844       846      norris      4  NOR      Lando      Norris  1999-11-13   \n",
       "845       847     russell     63  RUS     George     Russell  1998-02-15   \n",
       "846       848       albon     23  ALB  Alexander       Albon  1996-03-23   \n",
       "847       849      latifi      6  LAT   Nicholas      Latifi  1995-06-29   \n",
       "\n",
       "    nationality  \n",
       "0       British  \n",
       "1        German  \n",
       "2        German  \n",
       "3       Spanish  \n",
       "4       Finnish  \n",
       "..          ...  \n",
       "843     Russian  \n",
       "844     British  \n",
       "845     British  \n",
       "846        Thai  \n",
       "847    Canadian  \n",
       "\n",
       "[848 rows x 8 columns]"
      ]
     },
     "execution_count": 2,
     "metadata": {},
     "output_type": "execute_result"
    }
   ],
   "source": [
    "# Load Drivers data\n",
    "drivers_df = pd.read_csv(\"./f1db_csv/drivers.csv\").drop(columns = \"url\")\n",
    "drivers_df"
   ]
  },
  {
   "cell_type": "code",
   "execution_count": 3,
   "metadata": {},
   "outputs": [
    {
     "data": {
      "text/html": [
       "<div>\n",
       "<style scoped>\n",
       "    .dataframe tbody tr th:only-of-type {\n",
       "        vertical-align: middle;\n",
       "    }\n",
       "\n",
       "    .dataframe tbody tr th {\n",
       "        vertical-align: top;\n",
       "    }\n",
       "\n",
       "    .dataframe thead th {\n",
       "        text-align: right;\n",
       "    }\n",
       "</style>\n",
       "<table border=\"1\" class=\"dataframe\">\n",
       "  <thead>\n",
       "    <tr style=\"text-align: right;\">\n",
       "      <th></th>\n",
       "      <th>raceId</th>\n",
       "      <th>driverId</th>\n",
       "      <th>lap</th>\n",
       "      <th>position</th>\n",
       "      <th>time</th>\n",
       "      <th>milliseconds</th>\n",
       "    </tr>\n",
       "  </thead>\n",
       "  <tbody>\n",
       "    <tr>\n",
       "      <th>474870</th>\n",
       "      <td>1033</td>\n",
       "      <td>1</td>\n",
       "      <td>1</td>\n",
       "      <td>1</td>\n",
       "      <td>1:35.670</td>\n",
       "      <td>95670</td>\n",
       "    </tr>\n",
       "    <tr>\n",
       "      <th>474871</th>\n",
       "      <td>1033</td>\n",
       "      <td>1</td>\n",
       "      <td>2</td>\n",
       "      <td>1</td>\n",
       "      <td>1:31.458</td>\n",
       "      <td>91458</td>\n",
       "    </tr>\n",
       "    <tr>\n",
       "      <th>474872</th>\n",
       "      <td>1033</td>\n",
       "      <td>1</td>\n",
       "      <td>3</td>\n",
       "      <td>1</td>\n",
       "      <td>1:34.916</td>\n",
       "      <td>94916</td>\n",
       "    </tr>\n",
       "    <tr>\n",
       "      <th>474873</th>\n",
       "      <td>1033</td>\n",
       "      <td>1</td>\n",
       "      <td>4</td>\n",
       "      <td>3</td>\n",
       "      <td>1:53.821</td>\n",
       "      <td>113821</td>\n",
       "    </tr>\n",
       "    <tr>\n",
       "      <th>474874</th>\n",
       "      <td>1033</td>\n",
       "      <td>1</td>\n",
       "      <td>5</td>\n",
       "      <td>1</td>\n",
       "      <td>1:25.898</td>\n",
       "      <td>85898</td>\n",
       "    </tr>\n",
       "    <tr>\n",
       "      <th>...</th>\n",
       "      <td>...</td>\n",
       "      <td>...</td>\n",
       "      <td>...</td>\n",
       "      <td>...</td>\n",
       "      <td>...</td>\n",
       "      <td>...</td>\n",
       "    </tr>\n",
       "    <tr>\n",
       "      <th>477087</th>\n",
       "      <td>1034</td>\n",
       "      <td>849</td>\n",
       "      <td>48</td>\n",
       "      <td>15</td>\n",
       "      <td>1:30.871</td>\n",
       "      <td>90871</td>\n",
       "    </tr>\n",
       "    <tr>\n",
       "      <th>477088</th>\n",
       "      <td>1034</td>\n",
       "      <td>849</td>\n",
       "      <td>49</td>\n",
       "      <td>15</td>\n",
       "      <td>1:30.915</td>\n",
       "      <td>90915</td>\n",
       "    </tr>\n",
       "    <tr>\n",
       "      <th>477089</th>\n",
       "      <td>1034</td>\n",
       "      <td>849</td>\n",
       "      <td>50</td>\n",
       "      <td>15</td>\n",
       "      <td>1:31.119</td>\n",
       "      <td>91119</td>\n",
       "    </tr>\n",
       "    <tr>\n",
       "      <th>477090</th>\n",
       "      <td>1034</td>\n",
       "      <td>849</td>\n",
       "      <td>51</td>\n",
       "      <td>15</td>\n",
       "      <td>1:31.227</td>\n",
       "      <td>91227</td>\n",
       "    </tr>\n",
       "    <tr>\n",
       "      <th>477091</th>\n",
       "      <td>1034</td>\n",
       "      <td>849</td>\n",
       "      <td>52</td>\n",
       "      <td>15</td>\n",
       "      <td>1:32.146</td>\n",
       "      <td>92146</td>\n",
       "    </tr>\n",
       "  </tbody>\n",
       "</table>\n",
       "<p>2222 rows × 6 columns</p>\n",
       "</div>"
      ],
      "text/plain": [
       "        raceId  driverId  lap  position      time  milliseconds\n",
       "474870    1033         1    1         1  1:35.670         95670\n",
       "474871    1033         1    2         1  1:31.458         91458\n",
       "474872    1033         1    3         1  1:34.916         94916\n",
       "474873    1033         1    4         3  1:53.821        113821\n",
       "474874    1033         1    5         1  1:25.898         85898\n",
       "...        ...       ...  ...       ...       ...           ...\n",
       "477087    1034       849   48        15  1:30.871         90871\n",
       "477088    1034       849   49        15  1:30.915         90915\n",
       "477089    1034       849   50        15  1:31.119         91119\n",
       "477090    1034       849   51        15  1:31.227         91227\n",
       "477091    1034       849   52        15  1:32.146         92146\n",
       "\n",
       "[2222 rows x 6 columns]"
      ]
     },
     "execution_count": 3,
     "metadata": {},
     "output_type": "execute_result"
    }
   ],
   "source": [
    "# Load lap times data\n",
    "lap_times_df = pd.read_csv(\"./f1db_csv/lap_times.csv\")\n",
    "lap_times_df = lap_times_df[(lap_times_df.raceId == 1034) | (lap_times_df.raceId == 1033)]\n",
    "lap_times_df"
   ]
  },
  {
   "cell_type": "code",
   "execution_count": 4,
   "metadata": {
    "scrolled": true
   },
   "outputs": [
    {
     "data": {
      "text/html": [
       "<div>\n",
       "<style scoped>\n",
       "    .dataframe tbody tr th:only-of-type {\n",
       "        vertical-align: middle;\n",
       "    }\n",
       "\n",
       "    .dataframe tbody tr th {\n",
       "        vertical-align: top;\n",
       "    }\n",
       "\n",
       "    .dataframe thead th {\n",
       "        text-align: right;\n",
       "    }\n",
       "</style>\n",
       "<table border=\"1\" class=\"dataframe\">\n",
       "  <thead>\n",
       "    <tr style=\"text-align: right;\">\n",
       "      <th></th>\n",
       "      <th>resultId</th>\n",
       "      <th>raceId</th>\n",
       "      <th>driverId</th>\n",
       "      <th>constructorId</th>\n",
       "      <th>number</th>\n",
       "      <th>grid</th>\n",
       "      <th>position</th>\n",
       "      <th>positionText</th>\n",
       "      <th>positionOrder</th>\n",
       "      <th>points</th>\n",
       "      <th>laps</th>\n",
       "      <th>time</th>\n",
       "      <th>milliseconds</th>\n",
       "      <th>fastestLap</th>\n",
       "      <th>rank</th>\n",
       "      <th>fastestLapTime</th>\n",
       "      <th>fastestLapSpeed</th>\n",
       "      <th>statusId</th>\n",
       "    </tr>\n",
       "  </thead>\n",
       "  <tbody>\n",
       "    <tr>\n",
       "      <th>0</th>\n",
       "      <td>1</td>\n",
       "      <td>18</td>\n",
       "      <td>1</td>\n",
       "      <td>1</td>\n",
       "      <td>22</td>\n",
       "      <td>1</td>\n",
       "      <td>1</td>\n",
       "      <td>1</td>\n",
       "      <td>1</td>\n",
       "      <td>10.0</td>\n",
       "      <td>58</td>\n",
       "      <td>1:34:50.616</td>\n",
       "      <td>5690616</td>\n",
       "      <td>39</td>\n",
       "      <td>2</td>\n",
       "      <td>1:27.452</td>\n",
       "      <td>218.300</td>\n",
       "      <td>1</td>\n",
       "    </tr>\n",
       "    <tr>\n",
       "      <th>1</th>\n",
       "      <td>2</td>\n",
       "      <td>18</td>\n",
       "      <td>2</td>\n",
       "      <td>2</td>\n",
       "      <td>3</td>\n",
       "      <td>5</td>\n",
       "      <td>2</td>\n",
       "      <td>2</td>\n",
       "      <td>2</td>\n",
       "      <td>8.0</td>\n",
       "      <td>58</td>\n",
       "      <td>+5.478</td>\n",
       "      <td>5696094</td>\n",
       "      <td>41</td>\n",
       "      <td>3</td>\n",
       "      <td>1:27.739</td>\n",
       "      <td>217.586</td>\n",
       "      <td>1</td>\n",
       "    </tr>\n",
       "    <tr>\n",
       "      <th>2</th>\n",
       "      <td>3</td>\n",
       "      <td>18</td>\n",
       "      <td>3</td>\n",
       "      <td>3</td>\n",
       "      <td>7</td>\n",
       "      <td>7</td>\n",
       "      <td>3</td>\n",
       "      <td>3</td>\n",
       "      <td>3</td>\n",
       "      <td>6.0</td>\n",
       "      <td>58</td>\n",
       "      <td>+8.163</td>\n",
       "      <td>5698779</td>\n",
       "      <td>41</td>\n",
       "      <td>5</td>\n",
       "      <td>1:28.090</td>\n",
       "      <td>216.719</td>\n",
       "      <td>1</td>\n",
       "    </tr>\n",
       "    <tr>\n",
       "      <th>3</th>\n",
       "      <td>4</td>\n",
       "      <td>18</td>\n",
       "      <td>4</td>\n",
       "      <td>4</td>\n",
       "      <td>5</td>\n",
       "      <td>11</td>\n",
       "      <td>4</td>\n",
       "      <td>4</td>\n",
       "      <td>4</td>\n",
       "      <td>5.0</td>\n",
       "      <td>58</td>\n",
       "      <td>+17.181</td>\n",
       "      <td>5707797</td>\n",
       "      <td>58</td>\n",
       "      <td>7</td>\n",
       "      <td>1:28.603</td>\n",
       "      <td>215.464</td>\n",
       "      <td>1</td>\n",
       "    </tr>\n",
       "    <tr>\n",
       "      <th>4</th>\n",
       "      <td>5</td>\n",
       "      <td>18</td>\n",
       "      <td>5</td>\n",
       "      <td>1</td>\n",
       "      <td>23</td>\n",
       "      <td>3</td>\n",
       "      <td>5</td>\n",
       "      <td>5</td>\n",
       "      <td>5</td>\n",
       "      <td>4.0</td>\n",
       "      <td>58</td>\n",
       "      <td>+18.014</td>\n",
       "      <td>5708630</td>\n",
       "      <td>43</td>\n",
       "      <td>1</td>\n",
       "      <td>1:27.418</td>\n",
       "      <td>218.385</td>\n",
       "      <td>1</td>\n",
       "    </tr>\n",
       "    <tr>\n",
       "      <th>5</th>\n",
       "      <td>6</td>\n",
       "      <td>18</td>\n",
       "      <td>6</td>\n",
       "      <td>3</td>\n",
       "      <td>8</td>\n",
       "      <td>13</td>\n",
       "      <td>6</td>\n",
       "      <td>6</td>\n",
       "      <td>6</td>\n",
       "      <td>3.0</td>\n",
       "      <td>57</td>\n",
       "      <td>\\N</td>\n",
       "      <td>\\N</td>\n",
       "      <td>50</td>\n",
       "      <td>14</td>\n",
       "      <td>1:29.639</td>\n",
       "      <td>212.974</td>\n",
       "      <td>11</td>\n",
       "    </tr>\n",
       "    <tr>\n",
       "      <th>6</th>\n",
       "      <td>7</td>\n",
       "      <td>18</td>\n",
       "      <td>7</td>\n",
       "      <td>5</td>\n",
       "      <td>14</td>\n",
       "      <td>17</td>\n",
       "      <td>7</td>\n",
       "      <td>7</td>\n",
       "      <td>7</td>\n",
       "      <td>2.0</td>\n",
       "      <td>55</td>\n",
       "      <td>\\N</td>\n",
       "      <td>\\N</td>\n",
       "      <td>22</td>\n",
       "      <td>12</td>\n",
       "      <td>1:29.534</td>\n",
       "      <td>213.224</td>\n",
       "      <td>5</td>\n",
       "    </tr>\n",
       "    <tr>\n",
       "      <th>7</th>\n",
       "      <td>8</td>\n",
       "      <td>18</td>\n",
       "      <td>8</td>\n",
       "      <td>6</td>\n",
       "      <td>1</td>\n",
       "      <td>15</td>\n",
       "      <td>8</td>\n",
       "      <td>8</td>\n",
       "      <td>8</td>\n",
       "      <td>1.0</td>\n",
       "      <td>53</td>\n",
       "      <td>\\N</td>\n",
       "      <td>\\N</td>\n",
       "      <td>20</td>\n",
       "      <td>4</td>\n",
       "      <td>1:27.903</td>\n",
       "      <td>217.180</td>\n",
       "      <td>5</td>\n",
       "    </tr>\n",
       "    <tr>\n",
       "      <th>8</th>\n",
       "      <td>9</td>\n",
       "      <td>18</td>\n",
       "      <td>9</td>\n",
       "      <td>2</td>\n",
       "      <td>4</td>\n",
       "      <td>2</td>\n",
       "      <td>\\N</td>\n",
       "      <td>R</td>\n",
       "      <td>9</td>\n",
       "      <td>0.0</td>\n",
       "      <td>47</td>\n",
       "      <td>\\N</td>\n",
       "      <td>\\N</td>\n",
       "      <td>15</td>\n",
       "      <td>9</td>\n",
       "      <td>1:28.753</td>\n",
       "      <td>215.100</td>\n",
       "      <td>4</td>\n",
       "    </tr>\n",
       "    <tr>\n",
       "      <th>9</th>\n",
       "      <td>10</td>\n",
       "      <td>18</td>\n",
       "      <td>10</td>\n",
       "      <td>7</td>\n",
       "      <td>12</td>\n",
       "      <td>18</td>\n",
       "      <td>\\N</td>\n",
       "      <td>R</td>\n",
       "      <td>10</td>\n",
       "      <td>0.0</td>\n",
       "      <td>43</td>\n",
       "      <td>\\N</td>\n",
       "      <td>\\N</td>\n",
       "      <td>23</td>\n",
       "      <td>13</td>\n",
       "      <td>1:29.558</td>\n",
       "      <td>213.166</td>\n",
       "      <td>3</td>\n",
       "    </tr>\n",
       "  </tbody>\n",
       "</table>\n",
       "</div>"
      ],
      "text/plain": [
       "   resultId  raceId  driverId  constructorId number  grid position  \\\n",
       "0         1      18         1              1     22     1        1   \n",
       "1         2      18         2              2      3     5        2   \n",
       "2         3      18         3              3      7     7        3   \n",
       "3         4      18         4              4      5    11        4   \n",
       "4         5      18         5              1     23     3        5   \n",
       "5         6      18         6              3      8    13        6   \n",
       "6         7      18         7              5     14    17        7   \n",
       "7         8      18         8              6      1    15        8   \n",
       "8         9      18         9              2      4     2       \\N   \n",
       "9        10      18        10              7     12    18       \\N   \n",
       "\n",
       "  positionText  positionOrder  points  laps         time milliseconds  \\\n",
       "0            1              1    10.0    58  1:34:50.616      5690616   \n",
       "1            2              2     8.0    58       +5.478      5696094   \n",
       "2            3              3     6.0    58       +8.163      5698779   \n",
       "3            4              4     5.0    58      +17.181      5707797   \n",
       "4            5              5     4.0    58      +18.014      5708630   \n",
       "5            6              6     3.0    57           \\N           \\N   \n",
       "6            7              7     2.0    55           \\N           \\N   \n",
       "7            8              8     1.0    53           \\N           \\N   \n",
       "8            R              9     0.0    47           \\N           \\N   \n",
       "9            R             10     0.0    43           \\N           \\N   \n",
       "\n",
       "  fastestLap rank fastestLapTime fastestLapSpeed  statusId  \n",
       "0         39    2       1:27.452         218.300         1  \n",
       "1         41    3       1:27.739         217.586         1  \n",
       "2         41    5       1:28.090         216.719         1  \n",
       "3         58    7       1:28.603         215.464         1  \n",
       "4         43    1       1:27.418         218.385         1  \n",
       "5         50   14       1:29.639         212.974        11  \n",
       "6         22   12       1:29.534         213.224         5  \n",
       "7         20    4       1:27.903         217.180         5  \n",
       "8         15    9       1:28.753         215.100         4  \n",
       "9         23   13       1:29.558         213.166         3  "
      ]
     },
     "execution_count": 4,
     "metadata": {},
     "output_type": "execute_result"
    }
   ],
   "source": [
    "# Load results data\n",
    "results_df = pd.read_csv(\"./f1db_csv/results.csv\")\n",
    "results_df.head(10)\n",
    "# Filter to only race 1034\n",
    "# results_1034_df = results_df[results_df.raceId == 1034]"
   ]
  },
  {
   "cell_type": "code",
   "execution_count": 5,
   "metadata": {},
   "outputs": [
    {
     "data": {
      "text/html": [
       "<div>\n",
       "<style scoped>\n",
       "    .dataframe tbody tr th:only-of-type {\n",
       "        vertical-align: middle;\n",
       "    }\n",
       "\n",
       "    .dataframe tbody tr th {\n",
       "        vertical-align: top;\n",
       "    }\n",
       "\n",
       "    .dataframe thead th {\n",
       "        text-align: right;\n",
       "    }\n",
       "</style>\n",
       "<table border=\"1\" class=\"dataframe\">\n",
       "  <thead>\n",
       "    <tr style=\"text-align: right;\">\n",
       "      <th></th>\n",
       "      <th>constructorId</th>\n",
       "      <th>constructorRef</th>\n",
       "      <th>name</th>\n",
       "      <th>nationality</th>\n",
       "      <th>url</th>\n",
       "    </tr>\n",
       "  </thead>\n",
       "  <tbody>\n",
       "    <tr>\n",
       "      <th>0</th>\n",
       "      <td>1</td>\n",
       "      <td>mclaren</td>\n",
       "      <td>McLaren</td>\n",
       "      <td>British</td>\n",
       "      <td>http://en.wikipedia.org/wiki/McLaren</td>\n",
       "    </tr>\n",
       "    <tr>\n",
       "      <th>1</th>\n",
       "      <td>2</td>\n",
       "      <td>bmw_sauber</td>\n",
       "      <td>BMW Sauber</td>\n",
       "      <td>German</td>\n",
       "      <td>http://en.wikipedia.org/wiki/BMW_Sauber</td>\n",
       "    </tr>\n",
       "    <tr>\n",
       "      <th>2</th>\n",
       "      <td>3</td>\n",
       "      <td>williams</td>\n",
       "      <td>Williams</td>\n",
       "      <td>British</td>\n",
       "      <td>http://en.wikipedia.org/wiki/Williams_Grand_Pr...</td>\n",
       "    </tr>\n",
       "    <tr>\n",
       "      <th>3</th>\n",
       "      <td>4</td>\n",
       "      <td>renault</td>\n",
       "      <td>Renault</td>\n",
       "      <td>French</td>\n",
       "      <td>http://en.wikipedia.org/wiki/Renault_in_Formul...</td>\n",
       "    </tr>\n",
       "    <tr>\n",
       "      <th>4</th>\n",
       "      <td>5</td>\n",
       "      <td>toro_rosso</td>\n",
       "      <td>Toro Rosso</td>\n",
       "      <td>Italian</td>\n",
       "      <td>http://en.wikipedia.org/wiki/Scuderia_Toro_Rosso</td>\n",
       "    </tr>\n",
       "    <tr>\n",
       "      <th>...</th>\n",
       "      <td>...</td>\n",
       "      <td>...</td>\n",
       "      <td>...</td>\n",
       "      <td>...</td>\n",
       "      <td>...</td>\n",
       "    </tr>\n",
       "    <tr>\n",
       "      <th>206</th>\n",
       "      <td>209</td>\n",
       "      <td>manor</td>\n",
       "      <td>Manor Marussia</td>\n",
       "      <td>British</td>\n",
       "      <td>http://en.wikipedia.org/wiki/Manor_Motorsport</td>\n",
       "    </tr>\n",
       "    <tr>\n",
       "      <th>207</th>\n",
       "      <td>210</td>\n",
       "      <td>haas</td>\n",
       "      <td>Haas F1 Team</td>\n",
       "      <td>American</td>\n",
       "      <td>http://en.wikipedia.org/wiki/Haas_F1_Team</td>\n",
       "    </tr>\n",
       "    <tr>\n",
       "      <th>208</th>\n",
       "      <td>211</td>\n",
       "      <td>racing_point</td>\n",
       "      <td>Racing Point</td>\n",
       "      <td>British</td>\n",
       "      <td>http://en.wikipedia.org/wiki/Racing_Point_F1_Team</td>\n",
       "    </tr>\n",
       "    <tr>\n",
       "      <th>209</th>\n",
       "      <td>212</td>\n",
       "      <td>alpha_tauri</td>\n",
       "      <td>Scuderia Alpha Tauri</td>\n",
       "      <td>Italian</td>\n",
       "      <td>http://en.wikipedia.org/wiki/Scuderia_Alpha_Tauri</td>\n",
       "    </tr>\n",
       "    <tr>\n",
       "      <th>210</th>\n",
       "      <td>213</td>\n",
       "      <td>alphatauri</td>\n",
       "      <td>AlphaTauri</td>\n",
       "      <td>Italian</td>\n",
       "      <td>http://en.wikipedia.org/wiki/Scuderia_AlphaTauri</td>\n",
       "    </tr>\n",
       "  </tbody>\n",
       "</table>\n",
       "<p>211 rows × 5 columns</p>\n",
       "</div>"
      ],
      "text/plain": [
       "     constructorId constructorRef                  name nationality  \\\n",
       "0                1        mclaren               McLaren     British   \n",
       "1                2     bmw_sauber            BMW Sauber      German   \n",
       "2                3       williams              Williams     British   \n",
       "3                4        renault               Renault      French   \n",
       "4                5     toro_rosso            Toro Rosso     Italian   \n",
       "..             ...            ...                   ...         ...   \n",
       "206            209          manor        Manor Marussia     British   \n",
       "207            210           haas          Haas F1 Team    American   \n",
       "208            211   racing_point          Racing Point     British   \n",
       "209            212    alpha_tauri  Scuderia Alpha Tauri     Italian   \n",
       "210            213     alphatauri            AlphaTauri     Italian   \n",
       "\n",
       "                                                   url  \n",
       "0                 http://en.wikipedia.org/wiki/McLaren  \n",
       "1              http://en.wikipedia.org/wiki/BMW_Sauber  \n",
       "2    http://en.wikipedia.org/wiki/Williams_Grand_Pr...  \n",
       "3    http://en.wikipedia.org/wiki/Renault_in_Formul...  \n",
       "4     http://en.wikipedia.org/wiki/Scuderia_Toro_Rosso  \n",
       "..                                                 ...  \n",
       "206      http://en.wikipedia.org/wiki/Manor_Motorsport  \n",
       "207          http://en.wikipedia.org/wiki/Haas_F1_Team  \n",
       "208  http://en.wikipedia.org/wiki/Racing_Point_F1_Team  \n",
       "209  http://en.wikipedia.org/wiki/Scuderia_Alpha_Tauri  \n",
       "210   http://en.wikipedia.org/wiki/Scuderia_AlphaTauri  \n",
       "\n",
       "[211 rows x 5 columns]"
      ]
     },
     "execution_count": 5,
     "metadata": {},
     "output_type": "execute_result"
    }
   ],
   "source": [
    "# Load constructors names\n",
    "constructors_df = pd.read_csv(\"./f1db_csv/constructors.csv\")\n",
    "constructors_df"
   ]
  },
  {
   "cell_type": "code",
   "execution_count": 6,
   "metadata": {},
   "outputs": [],
   "source": [
    "# Load race ID and names\n",
    "races_df = pd.read_csv(\"./f1db_csv/races.csv\")"
   ]
  },
  {
   "cell_type": "code",
   "execution_count": 7,
   "metadata": {},
   "outputs": [
    {
     "name": "stderr",
     "output_type": "stream",
     "text": [
      "/Users/adelineshin/opt/anaconda3/lib/python3.7/site-packages/ipykernel_launcher.py:3: SettingWithCopyWarning: \n",
      "A value is trying to be set on a copy of a slice from a DataFrame.\n",
      "Try using .loc[row_indexer,col_indexer] = value instead\n",
      "\n",
      "See the caveats in the documentation: https://pandas.pydata.org/pandas-docs/stable/user_guide/indexing.html#returning-a-view-versus-a-copy\n",
      "  This is separate from the ipykernel package so we can avoid doing imports until\n"
     ]
    },
    {
     "data": {
      "text/html": [
       "<div>\n",
       "<style scoped>\n",
       "    .dataframe tbody tr th:only-of-type {\n",
       "        vertical-align: middle;\n",
       "    }\n",
       "\n",
       "    .dataframe tbody tr th {\n",
       "        vertical-align: top;\n",
       "    }\n",
       "\n",
       "    .dataframe thead th {\n",
       "        text-align: right;\n",
       "    }\n",
       "</style>\n",
       "<table border=\"1\" class=\"dataframe\">\n",
       "  <thead>\n",
       "    <tr style=\"text-align: right;\">\n",
       "      <th></th>\n",
       "      <th>raceId</th>\n",
       "      <th>driverId</th>\n",
       "      <th>lap</th>\n",
       "      <th>seconds</th>\n",
       "    </tr>\n",
       "  </thead>\n",
       "  <tbody>\n",
       "    <tr>\n",
       "      <th>474870</th>\n",
       "      <td>1033</td>\n",
       "      <td>1</td>\n",
       "      <td>1</td>\n",
       "      <td>95.670</td>\n",
       "    </tr>\n",
       "    <tr>\n",
       "      <th>474871</th>\n",
       "      <td>1033</td>\n",
       "      <td>1</td>\n",
       "      <td>2</td>\n",
       "      <td>91.458</td>\n",
       "    </tr>\n",
       "    <tr>\n",
       "      <th>474872</th>\n",
       "      <td>1033</td>\n",
       "      <td>1</td>\n",
       "      <td>3</td>\n",
       "      <td>94.916</td>\n",
       "    </tr>\n",
       "    <tr>\n",
       "      <th>474873</th>\n",
       "      <td>1033</td>\n",
       "      <td>1</td>\n",
       "      <td>4</td>\n",
       "      <td>113.821</td>\n",
       "    </tr>\n",
       "    <tr>\n",
       "      <th>474874</th>\n",
       "      <td>1033</td>\n",
       "      <td>1</td>\n",
       "      <td>5</td>\n",
       "      <td>85.898</td>\n",
       "    </tr>\n",
       "    <tr>\n",
       "      <th>...</th>\n",
       "      <td>...</td>\n",
       "      <td>...</td>\n",
       "      <td>...</td>\n",
       "      <td>...</td>\n",
       "    </tr>\n",
       "    <tr>\n",
       "      <th>477087</th>\n",
       "      <td>1034</td>\n",
       "      <td>849</td>\n",
       "      <td>48</td>\n",
       "      <td>90.871</td>\n",
       "    </tr>\n",
       "    <tr>\n",
       "      <th>477088</th>\n",
       "      <td>1034</td>\n",
       "      <td>849</td>\n",
       "      <td>49</td>\n",
       "      <td>90.915</td>\n",
       "    </tr>\n",
       "    <tr>\n",
       "      <th>477089</th>\n",
       "      <td>1034</td>\n",
       "      <td>849</td>\n",
       "      <td>50</td>\n",
       "      <td>91.119</td>\n",
       "    </tr>\n",
       "    <tr>\n",
       "      <th>477090</th>\n",
       "      <td>1034</td>\n",
       "      <td>849</td>\n",
       "      <td>51</td>\n",
       "      <td>91.227</td>\n",
       "    </tr>\n",
       "    <tr>\n",
       "      <th>477091</th>\n",
       "      <td>1034</td>\n",
       "      <td>849</td>\n",
       "      <td>52</td>\n",
       "      <td>92.146</td>\n",
       "    </tr>\n",
       "  </tbody>\n",
       "</table>\n",
       "<p>2222 rows × 4 columns</p>\n",
       "</div>"
      ],
      "text/plain": [
       "        raceId  driverId  lap  seconds\n",
       "474870    1033         1    1   95.670\n",
       "474871    1033         1    2   91.458\n",
       "474872    1033         1    3   94.916\n",
       "474873    1033         1    4  113.821\n",
       "474874    1033         1    5   85.898\n",
       "...        ...       ...  ...      ...\n",
       "477087    1034       849   48   90.871\n",
       "477088    1034       849   49   90.915\n",
       "477089    1034       849   50   91.119\n",
       "477090    1034       849   51   91.227\n",
       "477091    1034       849   52   92.146\n",
       "\n",
       "[2222 rows x 4 columns]"
      ]
     },
     "execution_count": 7,
     "metadata": {},
     "output_type": "execute_result"
    }
   ],
   "source": [
    "# Some cleaning\n",
    "clean_lt_df = lap_times_df[[\"raceId\", \"driverId\", \"lap\", \"milliseconds\"]]\n",
    "clean_lt_df[\"seconds\"] = clean_lt_df.milliseconds / 1000\n",
    "clean_lt_df = clean_lt_df.drop(columns = \"milliseconds\")\n",
    "clean_lt_df\n",
    "\n",
    "# race_1034_df = clean_lt_df[clean_lt_df.raceId == 1034]\n",
    "# race_1034_df[\"seconds\"] = race_1034_df.milliseconds / 1000\n",
    "# race_1034_df = race_1034_df.drop(columns = \"milliseconds\")\n",
    "# race_1034_df"
   ]
  },
  {
   "cell_type": "markdown",
   "metadata": {},
   "source": [
    "## Race Table Function"
   ]
  },
  {
   "cell_type": "code",
   "execution_count": 8,
   "metadata": {},
   "outputs": [
    {
     "name": "stderr",
     "output_type": "stream",
     "text": [
      "/Users/adelineshin/opt/anaconda3/lib/python3.7/site-packages/ipykernel_launcher.py:18: SettingWithCopyWarning: \n",
      "A value is trying to be set on a copy of a slice from a DataFrame.\n",
      "Try using .loc[row_indexer,col_indexer] = value instead\n",
      "\n",
      "See the caveats in the documentation: https://pandas.pydata.org/pandas-docs/stable/user_guide/indexing.html#returning-a-view-versus-a-copy\n"
     ]
    },
    {
     "data": {
      "text/html": [
       "<div>\n",
       "<style scoped>\n",
       "    .dataframe tbody tr th:only-of-type {\n",
       "        vertical-align: middle;\n",
       "    }\n",
       "\n",
       "    .dataframe tbody tr th {\n",
       "        vertical-align: top;\n",
       "    }\n",
       "\n",
       "    .dataframe thead th {\n",
       "        text-align: right;\n",
       "    }\n",
       "</style>\n",
       "<table border=\"1\" class=\"dataframe\">\n",
       "  <thead>\n",
       "    <tr style=\"text-align: right;\">\n",
       "      <th></th>\n",
       "      <th>driverId</th>\n",
       "      <th>driverName</th>\n",
       "      <th>number</th>\n",
       "      <th>raceId</th>\n",
       "      <th>lap</th>\n",
       "      <th>seconds</th>\n",
       "      <th>resultId</th>\n",
       "      <th>constructorId</th>\n",
       "      <th>position</th>\n",
       "      <th>constructorRef</th>\n",
       "      <th>year</th>\n",
       "      <th>name</th>\n",
       "    </tr>\n",
       "  </thead>\n",
       "  <tbody>\n",
       "    <tr>\n",
       "      <th>0</th>\n",
       "      <td>1</td>\n",
       "      <td>Lewis Hamilton</td>\n",
       "      <td>44</td>\n",
       "      <td>1034</td>\n",
       "      <td>1</td>\n",
       "      <td>94.010</td>\n",
       "      <td>24686</td>\n",
       "      <td>131</td>\n",
       "      <td>1</td>\n",
       "      <td>Mercedes</td>\n",
       "      <td>2020</td>\n",
       "      <td>British Grand Prix</td>\n",
       "    </tr>\n",
       "    <tr>\n",
       "      <th>1</th>\n",
       "      <td>1</td>\n",
       "      <td>Lewis Hamilton</td>\n",
       "      <td>44</td>\n",
       "      <td>1034</td>\n",
       "      <td>2</td>\n",
       "      <td>126.445</td>\n",
       "      <td>24686</td>\n",
       "      <td>131</td>\n",
       "      <td>1</td>\n",
       "      <td>Mercedes</td>\n",
       "      <td>2020</td>\n",
       "      <td>British Grand Prix</td>\n",
       "    </tr>\n",
       "    <tr>\n",
       "      <th>2</th>\n",
       "      <td>1</td>\n",
       "      <td>Lewis Hamilton</td>\n",
       "      <td>44</td>\n",
       "      <td>1034</td>\n",
       "      <td>3</td>\n",
       "      <td>151.201</td>\n",
       "      <td>24686</td>\n",
       "      <td>131</td>\n",
       "      <td>1</td>\n",
       "      <td>Mercedes</td>\n",
       "      <td>2020</td>\n",
       "      <td>British Grand Prix</td>\n",
       "    </tr>\n",
       "    <tr>\n",
       "      <th>3</th>\n",
       "      <td>1</td>\n",
       "      <td>Lewis Hamilton</td>\n",
       "      <td>44</td>\n",
       "      <td>1034</td>\n",
       "      <td>4</td>\n",
       "      <td>152.874</td>\n",
       "      <td>24686</td>\n",
       "      <td>131</td>\n",
       "      <td>1</td>\n",
       "      <td>Mercedes</td>\n",
       "      <td>2020</td>\n",
       "      <td>British Grand Prix</td>\n",
       "    </tr>\n",
       "    <tr>\n",
       "      <th>4</th>\n",
       "      <td>1</td>\n",
       "      <td>Lewis Hamilton</td>\n",
       "      <td>44</td>\n",
       "      <td>1034</td>\n",
       "      <td>5</td>\n",
       "      <td>138.933</td>\n",
       "      <td>24686</td>\n",
       "      <td>131</td>\n",
       "      <td>1</td>\n",
       "      <td>Mercedes</td>\n",
       "      <td>2020</td>\n",
       "      <td>British Grand Prix</td>\n",
       "    </tr>\n",
       "    <tr>\n",
       "      <th>...</th>\n",
       "      <td>...</td>\n",
       "      <td>...</td>\n",
       "      <td>...</td>\n",
       "      <td>...</td>\n",
       "      <td>...</td>\n",
       "      <td>...</td>\n",
       "      <td>...</td>\n",
       "      <td>...</td>\n",
       "      <td>...</td>\n",
       "      <td>...</td>\n",
       "      <td>...</td>\n",
       "      <td>...</td>\n",
       "    </tr>\n",
       "    <tr>\n",
       "      <th>422</th>\n",
       "      <td>826</td>\n",
       "      <td>Daniil Kvyat</td>\n",
       "      <td>26</td>\n",
       "      <td>1034</td>\n",
       "      <td>7</td>\n",
       "      <td>94.402</td>\n",
       "      <td>24703</td>\n",
       "      <td>213</td>\n",
       "      <td>99</td>\n",
       "      <td>Alphatauri</td>\n",
       "      <td>2020</td>\n",
       "      <td>British Grand Prix</td>\n",
       "    </tr>\n",
       "    <tr>\n",
       "      <th>423</th>\n",
       "      <td>826</td>\n",
       "      <td>Daniil Kvyat</td>\n",
       "      <td>26</td>\n",
       "      <td>1034</td>\n",
       "      <td>8</td>\n",
       "      <td>93.521</td>\n",
       "      <td>24703</td>\n",
       "      <td>213</td>\n",
       "      <td>99</td>\n",
       "      <td>Alphatauri</td>\n",
       "      <td>2020</td>\n",
       "      <td>British Grand Prix</td>\n",
       "    </tr>\n",
       "    <tr>\n",
       "      <th>424</th>\n",
       "      <td>826</td>\n",
       "      <td>Daniil Kvyat</td>\n",
       "      <td>26</td>\n",
       "      <td>1034</td>\n",
       "      <td>9</td>\n",
       "      <td>93.384</td>\n",
       "      <td>24703</td>\n",
       "      <td>213</td>\n",
       "      <td>99</td>\n",
       "      <td>Alphatauri</td>\n",
       "      <td>2020</td>\n",
       "      <td>British Grand Prix</td>\n",
       "    </tr>\n",
       "    <tr>\n",
       "      <th>425</th>\n",
       "      <td>826</td>\n",
       "      <td>Daniil Kvyat</td>\n",
       "      <td>26</td>\n",
       "      <td>1034</td>\n",
       "      <td>10</td>\n",
       "      <td>93.461</td>\n",
       "      <td>24703</td>\n",
       "      <td>213</td>\n",
       "      <td>99</td>\n",
       "      <td>Alphatauri</td>\n",
       "      <td>2020</td>\n",
       "      <td>British Grand Prix</td>\n",
       "    </tr>\n",
       "    <tr>\n",
       "      <th>426</th>\n",
       "      <td>826</td>\n",
       "      <td>Daniil Kvyat</td>\n",
       "      <td>26</td>\n",
       "      <td>1034</td>\n",
       "      <td>11</td>\n",
       "      <td>92.443</td>\n",
       "      <td>24703</td>\n",
       "      <td>213</td>\n",
       "      <td>99</td>\n",
       "      <td>Alphatauri</td>\n",
       "      <td>2020</td>\n",
       "      <td>British Grand Prix</td>\n",
       "    </tr>\n",
       "  </tbody>\n",
       "</table>\n",
       "<p>895 rows × 12 columns</p>\n",
       "</div>"
      ],
      "text/plain": [
       "     driverId      driverName number  raceId  lap  seconds  resultId  \\\n",
       "0           1  Lewis Hamilton     44    1034    1   94.010     24686   \n",
       "1           1  Lewis Hamilton     44    1034    2  126.445     24686   \n",
       "2           1  Lewis Hamilton     44    1034    3  151.201     24686   \n",
       "3           1  Lewis Hamilton     44    1034    4  152.874     24686   \n",
       "4           1  Lewis Hamilton     44    1034    5  138.933     24686   \n",
       "..        ...             ...    ...     ...  ...      ...       ...   \n",
       "422       826    Daniil Kvyat     26    1034    7   94.402     24703   \n",
       "423       826    Daniil Kvyat     26    1034    8   93.521     24703   \n",
       "424       826    Daniil Kvyat     26    1034    9   93.384     24703   \n",
       "425       826    Daniil Kvyat     26    1034   10   93.461     24703   \n",
       "426       826    Daniil Kvyat     26    1034   11   92.443     24703   \n",
       "\n",
       "     constructorId  position constructorRef  year                name  \n",
       "0              131         1       Mercedes  2020  British Grand Prix  \n",
       "1              131         1       Mercedes  2020  British Grand Prix  \n",
       "2              131         1       Mercedes  2020  British Grand Prix  \n",
       "3              131         1       Mercedes  2020  British Grand Prix  \n",
       "4              131         1       Mercedes  2020  British Grand Prix  \n",
       "..             ...       ...            ...   ...                 ...  \n",
       "422            213        99     Alphatauri  2020  British Grand Prix  \n",
       "423            213        99     Alphatauri  2020  British Grand Prix  \n",
       "424            213        99     Alphatauri  2020  British Grand Prix  \n",
       "425            213        99     Alphatauri  2020  British Grand Prix  \n",
       "426            213        99     Alphatauri  2020  British Grand Prix  \n",
       "\n",
       "[895 rows x 12 columns]"
      ]
     },
     "execution_count": 8,
     "metadata": {},
     "output_type": "execute_result"
    }
   ],
   "source": [
    "import pandas as pd\n",
    "\n",
    "# Import all the data\n",
    "drivers_df = pd.read_csv(\"./f1db_csv/drivers.csv\").drop(columns = \"url\")\n",
    "lap_times_df = pd.read_csv(\"./f1db_csv/lap_times.csv\")\n",
    "results_df = pd.read_csv(\"./f1db_csv/results.csv\")\n",
    "constructors_df = pd.read_csv(\"./f1db_csv/constructors.csv\")\n",
    "races_df = pd.read_csv(\"./f1db_csv/races.csv\")\n",
    "\n",
    "# Clean some names and create new variables\n",
    "# drivers_df\n",
    "drivers_df[\"number\"] = drivers_df[\"number\"].replace({r\"\\N\": None})\n",
    "drivers_df[\"driverName\"] = drivers_df[\"forename\"].str.cat(drivers_df[\"surname\"],sep = \" \")\n",
    "drivers_df = drivers_df.drop(columns = [\"forename\", \"surname\"])\n",
    "\n",
    "# lap_times_df\n",
    "clean_lt_df = lap_times_df[[\"raceId\", \"driverId\", \"lap\", \"milliseconds\"]]\n",
    "clean_lt_df[\"seconds\"] = clean_lt_df.milliseconds / 1000\n",
    "clean_lt_df = clean_lt_df.drop(columns = \"milliseconds\")\n",
    "\n",
    "# results_df\n",
    "results_df[\"position\"] = results_df[\"position\"].replace({r\"\\N\": 99})\n",
    "results_df[\"position\"] = results_df[\"position\"].astype(int)\n",
    "\n",
    "def create_race_table(year, race_name):\n",
    "    races_temp = races_df[races_df.year == year]\n",
    "    race_id = int(races_temp.raceId[races_temp.name == race_name])\n",
    "    lap_times_1 = clean_lt_df[clean_lt_df.raceId == race_id]\n",
    "    results_1 = results_df[results_df.raceId == race_id]\n",
    "    df_1 = pd.merge(drivers_df[[\"driverId\", \"driverName\", \"number\"]], lap_times_1, on = \"driverId\")\n",
    "    df_2 = pd.merge(df_1, results_1[[\"resultId\", \"driverId\", \"constructorId\", \"position\"]], on = \"driverId\")\n",
    "    df_3 = pd.merge(df_2, constructors_df[[\"constructorId\", \"constructorRef\"]], on = \"constructorId\")\n",
    "    df_3[\"constructorRef\"] = df_3[\"constructorRef\"].str.title()\n",
    "    df_4 = pd.merge(df_3, races_df[[\"raceId\", \"year\", \"name\"]], on = \"raceId\")\n",
    "    df_4 = df_4.sort_values(by = [\"position\", \"lap\"])\n",
    "    return df_4\n",
    "\n",
    "df_4 = create_race_table(2020, \"British Grand Prix\")\n",
    "df_4"
   ]
  },
  {
   "cell_type": "markdown",
   "metadata": {},
   "source": [
    "## Driver Race Reference Table"
   ]
  },
  {
   "cell_type": "code",
   "execution_count": null,
   "metadata": {},
   "outputs": [],
   "source": [
    "driver_race_df"
   ]
  },
  {
   "cell_type": "code",
   "execution_count": 8,
   "metadata": {
    "scrolled": true
   },
   "outputs": [],
   "source": [
    "import pandas as pd\n",
    "import warnings\n",
    "warnings.filterwarnings(\"ignore\")\n",
    "\n",
    "# Import all the data\n",
    "drivers_df = pd.read_csv(\"./f1db_csv/drivers.csv\").drop(columns = \"url\")\n",
    "lap_times_df = pd.read_csv(\"./f1db_csv/lap_times.csv\")\n",
    "results_df = pd.read_csv(\"./f1db_csv/results.csv\")\n",
    "constructors_df = pd.read_csv(\"./f1db_csv/constructors.csv\")\n",
    "races_df = pd.read_csv(\"./f1db_csv/races.csv\")\n",
    "\n",
    "# Clean some names and create new variables\n",
    "# drivers_df\n",
    "drivers_df[\"number\"] = drivers_df[\"number\"].replace({r\"\\N\": None})\n",
    "drivers_df[\"driverName\"] = drivers_df[\"forename\"].str.cat(drivers_df[\"surname\"],sep = \" \")\n",
    "drivers_df = drivers_df.drop(columns = [\"forename\", \"surname\"])\n",
    "\n",
    "# Create the table of drivers and teams for each race\n",
    "driver_race_df_1 = pd.merge(results_df[[\"raceId\", \"driverId\", \"constructorId\"]], drivers_df[[\"driverName\", \"driverRef\", \"driverId\"]], on = [\"driverId\"])\n",
    "driver_race_df_2 = pd.merge(driver_race_df_1, constructors_df[[\"constructorRef\", \"constructorId\", \"name\"]], on = \"constructorId\")\n",
    "driver_race_df_2 = driver_race_df_2.rename({'name': 'constructorName'}, axis=1)\n",
    "driver_race_df = pd.merge(driver_race_df_2, races_df[[\"year\", \"name\", \"raceId\"]], on = \"raceId\")\n",
    "driver_race_df = driver_race_df.sort_values(by = \"year\", ascending = False)\n",
    "\n",
    "# Add color to every driver for each race\n",
    "driver_race_df[\"color\"] = [0] * len(driver_race_df.raceId)\n",
    "for i in range(len(driver_race_df.raceId)):\n",
    "    if driver_race_df.year[i] == 2020:\n",
    "        if driver_race_df.constructorName[i] == \"Mercedes\":\n",
    "            driver_race_df[\"color\"][i] = \"#00D2BE\"\n",
    "            i += 1\n",
    "        elif driver_race_df.constructorName[i] == \"Red Bull\":\n",
    "            driver_race_df[\"color\"][i] = \"#0600EF\"\n",
    "            i += 1\n",
    "        elif driver_race_df.constructorName[i] == \"Ferrari\":\n",
    "            driver_race_df[\"color\"][i] = \"#C00000\"\n",
    "            i += 1 \n",
    "        elif driver_race_df.constructorName[i] == \"Renault\":\n",
    "            driver_race_df[\"color\"][i] = \"#FFF500\"\n",
    "            i += 1 \n",
    "        elif driver_race_df.constructorName[i] == \"Haas F1 Team\":\n",
    "            driver_race_df[\"color\"][i] = \"#787878\"\n",
    "            i += 1     \n",
    "        elif driver_race_df.constructorName[i] == \"Racing Point\":\n",
    "            driver_race_df[\"color\"][i] = \"#F596C8\"\n",
    "            i += 1 \n",
    "        elif driver_race_df.constructorName[i] == \"AlphaTauri\":\n",
    "            driver_race_df[\"color\"][i] = \"#C8C8C8\"\n",
    "            i += 1 \n",
    "        elif driver_race_df.constructorName[i] == \"McLaren\":\n",
    "            driver_race_df[\"color\"][i] = \"#FF8700\"\n",
    "            i += 1 \n",
    "        elif driver_race_df.constructorName[i] == \"Alfa Romeo\":\n",
    "            driver_race_df[\"color\"][i] = \"#960000\"\n",
    "            i += 1 \n",
    "        elif driver_race_df.constructorName[i] == \"Williams\":\n",
    "            driver_race_df[\"color\"][i] = \"#0082FA\"\n",
    "            i += 1\n",
    "    elif driver_race_df.year[i] == 2019:\n",
    "        if driver_race_df.constructorName[i] == \"Mercedes\":\n",
    "            driver_race_df.color[i] = \"#00D2BE\"\n",
    "            i += 1\n",
    "        elif driver_race_df.constructorName[i] == \"Red Bull\":\n",
    "            driver_race_df.color[i] = \"#1E41FF\"\n",
    "            i += 1\n",
    "        elif driver_race_df.constructorName[i] == \"Ferrari\":\n",
    "            driver_race_df.color[i] = \"#DC0000\"\n",
    "            i += 1 \n",
    "        elif driver_race_df.constructorName[i] == \"Renault\":\n",
    "            driver_race_df.color[i] = \"#FFF500\"\n",
    "            i += 1 \n",
    "        elif driver_race_df.constructorName[i] == \"Haas\":\n",
    "            driver_race_df.color[i] = \"#F0D787\"\n",
    "            i += 1     \n",
    "        elif driver_race_df.constructorName[i] == \"Racing Point\":\n",
    "            driver_race_df.color[i] = \"#F596C8\"\n",
    "            i += 1 \n",
    "        elif driver_race_df.constructorName[i] == \"Toro Rosso\":\n",
    "            driver_race_df.color[i] = \"#469BFF\"\n",
    "            i += 1 \n",
    "        elif driver_race_df.constructorName[i] == \"Mclaren\":\n",
    "            driver_race_df.color[i] = \"#FF8700\"\n",
    "            i += 1 \n",
    "        elif driver_race_df.constructorName[i] == \"Alfa Romeo\":\n",
    "            driver_race_df.color[i] = \"#9B0000\"\n",
    "            i += 1 \n",
    "        elif driver_race_df.constructorName[i] == \"Williams\":\n",
    "            driver_race_df.color[i] = \"#FFFFFF\"\n",
    "            i += 1\n",
    "    elif driver_race_df.year[i] == 2018:\n",
    "        if driver_race_df.constructorName[i] == \"Mercedes\":\n",
    "            driver_race_df.color[i] = \"#00D2BE\"\n",
    "            i += 1\n",
    "        elif driver_race_df.constructorName[i] == \"Red Bull\":\n",
    "            driver_race_df.color[i] = \"#00327D\"\n",
    "            i += 1\n",
    "        elif driver_race_df.constructorName[i] == \"Ferrari\":\n",
    "            driver_race_df.color[i] = \"#DC0000\"\n",
    "            i += 1 \n",
    "        elif driver_race_df.constructorName[i] == \"Renault\":\n",
    "            driver_race_df.color[i] = \"#FFF500\"\n",
    "            i += 1 \n",
    "        elif driver_race_df.constructorName[i] == \"Haas\":\n",
    "            driver_race_df.color[i] = \"#5A5A5A\"\n",
    "            i += 1     \n",
    "        elif driver_race_df.constructorName[i] == \"Force India\":\n",
    "            driver_race_df.color[i] = \"#F596C8\"\n",
    "            i += 1 \n",
    "        elif driver_race_df.constructorName[i] == \"Toro Rosso\":\n",
    "            driver_race_df.color[i] = \"#0032FF\"\n",
    "            i += 1 \n",
    "        elif driver_race_df.constructorName[i] == \"Mclaren\":\n",
    "            driver_race_df.color[i] = \"#FF8700\"\n",
    "            i += 1 \n",
    "        elif driver_race_df.constructorName[i] == \"Sauber\":\n",
    "            driver_race_df.color[i] = \"#9B0000\"\n",
    "            i += 1 \n",
    "        elif driver_race_df.constructorName[i] == \"Williams\":\n",
    "            driver_race_df.color[i] = \"#FFFFFF\"\n",
    "            i += 1\n",
    "    elif driver_race_df.year[i] == 2017:\n",
    "        if driver_race_df.constructorName[i] == \"Mercedes\":\n",
    "            driver_race_df.color[i] = \"#00CFBA\"\n",
    "            i += 1\n",
    "        elif driver_race_df.constructorName[i] == \"Red Bull\":\n",
    "            driver_race_df.color[i] = \"#00007D\"\n",
    "            i += 1\n",
    "        elif driver_race_df.constructorName[i] == \"Ferrari\":\n",
    "            driver_race_df.color[i] = \"#C30000\"\n",
    "            i += 1 \n",
    "        elif driver_race_df.constructorName[i] == \"Renault\":\n",
    "            driver_race_df.color[i] = \"#FFD800\"\n",
    "            i += 1 \n",
    "        elif driver_race_df.constructorName[i] == \"Haas\":\n",
    "            driver_race_df.color[i] = \"#6C0000\"\n",
    "            i += 1     \n",
    "        elif driver_race_df.constructorName[i] == \"Force India\":\n",
    "            driver_race_df.color[i] = \"#FF80C7\"\n",
    "            i += 1 \n",
    "        elif driver_race_df.constructorName[i] == \"Toro Rosso\":\n",
    "            driver_race_df.color[i] = \"#0000FF\"\n",
    "            i += 1 \n",
    "        elif driver_race_df.constructorName[i] == \"Mclaren\":\n",
    "            driver_race_df.color[i] = \"#FF7B08\"\n",
    "            i += 1 \n",
    "        elif driver_race_df.constructorName[i] == \"Sauber\":\n",
    "            driver_race_df.color[i] = \"#006EFF\"\n",
    "            i += 1 \n",
    "        elif driver_race_df.constructorName[i] == \"Williams\":\n",
    "            driver_race_df.color[i] = \"#FFFFFF\"\n",
    "            i += 1\n",
    "    else:\n",
    "        number_of_colors = 12\n",
    "        color = [\"#\"+''.join([random.choice('0123456789ABCDEF') for j in range(6)])\n",
    "        \n",
    "\n",
    "driver_race_df.head(40)\n",
    "driver_race_df.to_csv(\"./colors.csv\")"
   ]
  },
  {
   "cell_type": "code",
   "execution_count": 16,
   "metadata": {},
   "outputs": [
    {
     "name": "stderr",
     "output_type": "stream",
     "text": [
      "/Users/adelineshin/opt/anaconda3/lib/python3.7/site-packages/ipykernel_launcher.py:19: SettingWithCopyWarning: \n",
      "A value is trying to be set on a copy of a slice from a DataFrame\n",
      "\n",
      "See the caveats in the documentation: https://pandas.pydata.org/pandas-docs/stable/user_guide/indexing.html#returning-a-view-versus-a-copy\n",
      "/Users/adelineshin/opt/anaconda3/lib/python3.7/site-packages/pandas/core/indexing.py:670: SettingWithCopyWarning: \n",
      "A value is trying to be set on a copy of a slice from a DataFrame\n",
      "\n",
      "See the caveats in the documentation: https://pandas.pydata.org/pandas-docs/stable/user_guide/indexing.html#returning-a-view-versus-a-copy\n",
      "  self._setitem_with_indexer(indexer, value)\n",
      "/Users/adelineshin/opt/anaconda3/lib/python3.7/site-packages/ipykernel_launcher.py:27: SettingWithCopyWarning: \n",
      "A value is trying to be set on a copy of a slice from a DataFrame\n",
      "\n",
      "See the caveats in the documentation: https://pandas.pydata.org/pandas-docs/stable/user_guide/indexing.html#returning-a-view-versus-a-copy\n",
      "/Users/adelineshin/opt/anaconda3/lib/python3.7/site-packages/ipykernel_launcher.py:23: SettingWithCopyWarning: \n",
      "A value is trying to be set on a copy of a slice from a DataFrame\n",
      "\n",
      "See the caveats in the documentation: https://pandas.pydata.org/pandas-docs/stable/user_guide/indexing.html#returning-a-view-versus-a-copy\n",
      "/Users/adelineshin/opt/anaconda3/lib/python3.7/site-packages/ipykernel_launcher.py:11: SettingWithCopyWarning: \n",
      "A value is trying to be set on a copy of a slice from a DataFrame\n",
      "\n",
      "See the caveats in the documentation: https://pandas.pydata.org/pandas-docs/stable/user_guide/indexing.html#returning-a-view-versus-a-copy\n",
      "  # This is added back by InteractiveShellApp.init_path()\n",
      "/Users/adelineshin/opt/anaconda3/lib/python3.7/site-packages/ipykernel_launcher.py:25: SettingWithCopyWarning: \n",
      "A value is trying to be set on a copy of a slice from a DataFrame\n",
      "\n",
      "See the caveats in the documentation: https://pandas.pydata.org/pandas-docs/stable/user_guide/indexing.html#returning-a-view-versus-a-copy\n",
      "/Users/adelineshin/opt/anaconda3/lib/python3.7/site-packages/ipykernel_launcher.py:9: SettingWithCopyWarning: \n",
      "A value is trying to be set on a copy of a slice from a DataFrame\n",
      "\n",
      "See the caveats in the documentation: https://pandas.pydata.org/pandas-docs/stable/user_guide/indexing.html#returning-a-view-versus-a-copy\n",
      "  if __name__ == '__main__':\n",
      "/Users/adelineshin/opt/anaconda3/lib/python3.7/site-packages/ipykernel_launcher.py:31: SettingWithCopyWarning: \n",
      "A value is trying to be set on a copy of a slice from a DataFrame\n",
      "\n",
      "See the caveats in the documentation: https://pandas.pydata.org/pandas-docs/stable/user_guide/indexing.html#returning-a-view-versus-a-copy\n",
      "/Users/adelineshin/opt/anaconda3/lib/python3.7/site-packages/ipykernel_launcher.py:7: SettingWithCopyWarning: \n",
      "A value is trying to be set on a copy of a slice from a DataFrame\n",
      "\n",
      "See the caveats in the documentation: https://pandas.pydata.org/pandas-docs/stable/user_guide/indexing.html#returning-a-view-versus-a-copy\n",
      "  import sys\n",
      "/Users/adelineshin/opt/anaconda3/lib/python3.7/site-packages/ipykernel_launcher.py:21: SettingWithCopyWarning: \n",
      "A value is trying to be set on a copy of a slice from a DataFrame\n",
      "\n",
      "See the caveats in the documentation: https://pandas.pydata.org/pandas-docs/stable/user_guide/indexing.html#returning-a-view-versus-a-copy\n",
      "/Users/adelineshin/opt/anaconda3/lib/python3.7/site-packages/ipykernel_launcher.py:5: SettingWithCopyWarning: \n",
      "A value is trying to be set on a copy of a slice from a DataFrame\n",
      "\n",
      "See the caveats in the documentation: https://pandas.pydata.org/pandas-docs/stable/user_guide/indexing.html#returning-a-view-versus-a-copy\n",
      "  \"\"\"\n",
      "/Users/adelineshin/opt/anaconda3/lib/python3.7/site-packages/ipykernel_launcher.py:13: SettingWithCopyWarning: \n",
      "A value is trying to be set on a copy of a slice from a DataFrame\n",
      "\n",
      "See the caveats in the documentation: https://pandas.pydata.org/pandas-docs/stable/user_guide/indexing.html#returning-a-view-versus-a-copy\n",
      "  del sys.path[0]\n",
      "/Users/adelineshin/opt/anaconda3/lib/python3.7/site-packages/ipykernel_launcher.py:15: SettingWithCopyWarning: \n",
      "A value is trying to be set on a copy of a slice from a DataFrame\n",
      "\n",
      "See the caveats in the documentation: https://pandas.pydata.org/pandas-docs/stable/user_guide/indexing.html#returning-a-view-versus-a-copy\n",
      "  from ipykernel import kernelapp as app\n",
      "/Users/adelineshin/opt/anaconda3/lib/python3.7/site-packages/ipykernel_launcher.py:17: SettingWithCopyWarning: \n",
      "A value is trying to be set on a copy of a slice from a DataFrame\n",
      "\n",
      "See the caveats in the documentation: https://pandas.pydata.org/pandas-docs/stable/user_guide/indexing.html#returning-a-view-versus-a-copy\n"
     ]
    }
   ],
   "source": [
    "import random\n",
    "constructors_df[\"color\"] = [0] * len(constructors_df.name)\n",
    "for i in range(len(constructors_df.name)):\n",
    "    if constructors_df.name[i] == \"Mercedes\":\n",
    "        constructors_df[\"color\"][i] = \"#00D2BE\"\n",
    "    elif constructors_df.name[i] == \"Red Bull\":\n",
    "        constructors_df[\"color\"][i] = \"#0600EF\"\n",
    "    elif constructors_df.name[i] == \"Ferrari\":\n",
    "        constructors_df[\"color\"][i] = \"#C00000\"\n",
    "    elif constructors_df.name[i] == \"Renault\":\n",
    "        constructors_df[\"color\"][i] = \"#FFF500\"\n",
    "    elif constructors_df.name[i] == \"Haas F1 Team\":\n",
    "        constructors_df[\"color\"][i] = \"#787878\"  \n",
    "    elif constructors_df.name[i] == \"Racing Point\":\n",
    "        constructors_df[\"color\"][i] = \"#F596C8\"\n",
    "    elif constructors_df.name[i] == \"AlphaTauri\":\n",
    "        constructors_df[\"color\"][i] = \"#C8C8C8\"\n",
    "    elif constructors_df.name[i] == \"McLaren\":\n",
    "        constructors_df[\"color\"][i] = \"#FF8700\"\n",
    "    elif constructors_df.name[i] == \"Alfa Romeo\":\n",
    "        constructors_df[\"color\"][i] = \"#960000\"\n",
    "    elif constructors_df.name[i] == \"Williams\":\n",
    "        constructors_df[\"color\"][i] = \"#0082FA\"\n",
    "    elif constructors_df.name[i] == \"Toro Rosso\":\n",
    "        constructors_df[\"color\"][i] = \"#469BFF\"\n",
    "    elif constructors_df.name[i] == \"BMW Sauber\":\n",
    "        constructors_df[\"color\"][i] = \"#006EFF\"\n",
    "    else:\n",
    "        colors = [\"red\", \"green\", \"blue\", \"orange\", \"purple\", \"pink\", \"yellow\", \"white\", \"bisque\", \"turquoise\",\n",
    "                 \"forestgreen\", \"darkgreen\", \"cornflowerblue\", \"silver\", \"crimson\", \"fuschia\"]\n",
    "        constructors_df[\"color\"][i] = random.choice(colors)\n",
    "\n",
    "constructors_df.to_csv(\"./f1db_csv/constructors_colors.csv\")"
   ]
  },
  {
   "cell_type": "code",
   "execution_count": 5,
   "metadata": {
    "scrolled": false
   },
   "outputs": [
    {
     "data": {
      "application/vnd.plotly.v1+json": {
       "config": {
        "plotlyServerURL": "https://plot.ly"
       },
       "data": [
        {
         "customdata": [
          [
           "Lewis Hamilton",
           "Mercedes"
          ],
          [
           "Lewis Hamilton",
           "Mercedes"
          ],
          [
           "Lewis Hamilton",
           "Mercedes"
          ],
          [
           "Lewis Hamilton",
           "Mercedes"
          ],
          [
           "Lewis Hamilton",
           "Mercedes"
          ],
          [
           "Lewis Hamilton",
           "Mercedes"
          ],
          [
           "Lewis Hamilton",
           "Mercedes"
          ],
          [
           "Lewis Hamilton",
           "Mercedes"
          ],
          [
           "Lewis Hamilton",
           "Mercedes"
          ],
          [
           "Lewis Hamilton",
           "Mercedes"
          ],
          [
           "Lewis Hamilton",
           "Mercedes"
          ],
          [
           "Lewis Hamilton",
           "Mercedes"
          ],
          [
           "Lewis Hamilton",
           "Mercedes"
          ],
          [
           "Lewis Hamilton",
           "Mercedes"
          ],
          [
           "Lewis Hamilton",
           "Mercedes"
          ],
          [
           "Lewis Hamilton",
           "Mercedes"
          ],
          [
           "Lewis Hamilton",
           "Mercedes"
          ],
          [
           "Lewis Hamilton",
           "Mercedes"
          ],
          [
           "Lewis Hamilton",
           "Mercedes"
          ],
          [
           "Lewis Hamilton",
           "Mercedes"
          ],
          [
           "Lewis Hamilton",
           "Mercedes"
          ],
          [
           "Lewis Hamilton",
           "Mercedes"
          ],
          [
           "Lewis Hamilton",
           "Mercedes"
          ],
          [
           "Lewis Hamilton",
           "Mercedes"
          ],
          [
           "Lewis Hamilton",
           "Mercedes"
          ],
          [
           "Lewis Hamilton",
           "Mercedes"
          ],
          [
           "Lewis Hamilton",
           "Mercedes"
          ],
          [
           "Lewis Hamilton",
           "Mercedes"
          ],
          [
           "Lewis Hamilton",
           "Mercedes"
          ],
          [
           "Lewis Hamilton",
           "Mercedes"
          ],
          [
           "Lewis Hamilton",
           "Mercedes"
          ],
          [
           "Lewis Hamilton",
           "Mercedes"
          ],
          [
           "Lewis Hamilton",
           "Mercedes"
          ],
          [
           "Lewis Hamilton",
           "Mercedes"
          ],
          [
           "Lewis Hamilton",
           "Mercedes"
          ],
          [
           "Lewis Hamilton",
           "Mercedes"
          ],
          [
           "Lewis Hamilton",
           "Mercedes"
          ],
          [
           "Lewis Hamilton",
           "Mercedes"
          ],
          [
           "Lewis Hamilton",
           "Mercedes"
          ],
          [
           "Lewis Hamilton",
           "Mercedes"
          ],
          [
           "Lewis Hamilton",
           "Mercedes"
          ],
          [
           "Lewis Hamilton",
           "Mercedes"
          ],
          [
           "Lewis Hamilton",
           "Mercedes"
          ],
          [
           "Lewis Hamilton",
           "Mercedes"
          ],
          [
           "Lewis Hamilton",
           "Mercedes"
          ],
          [
           "Lewis Hamilton",
           "Mercedes"
          ],
          [
           "Lewis Hamilton",
           "Mercedes"
          ],
          [
           "Lewis Hamilton",
           "Mercedes"
          ],
          [
           "Lewis Hamilton",
           "Mercedes"
          ],
          [
           "Lewis Hamilton",
           "Mercedes"
          ],
          [
           "Lewis Hamilton",
           "Mercedes"
          ],
          [
           "Lewis Hamilton",
           "Mercedes"
          ]
         ],
         "hovertemplate": "<b>%{hovertext}</b><br><br>lap=%{x}<br>seconds=%{y}<br>constructorRef=%{customdata[1]}<extra></extra>",
         "hovertext": [
          "Lewis Hamilton",
          "Lewis Hamilton",
          "Lewis Hamilton",
          "Lewis Hamilton",
          "Lewis Hamilton",
          "Lewis Hamilton",
          "Lewis Hamilton",
          "Lewis Hamilton",
          "Lewis Hamilton",
          "Lewis Hamilton",
          "Lewis Hamilton",
          "Lewis Hamilton",
          "Lewis Hamilton",
          "Lewis Hamilton",
          "Lewis Hamilton",
          "Lewis Hamilton",
          "Lewis Hamilton",
          "Lewis Hamilton",
          "Lewis Hamilton",
          "Lewis Hamilton",
          "Lewis Hamilton",
          "Lewis Hamilton",
          "Lewis Hamilton",
          "Lewis Hamilton",
          "Lewis Hamilton",
          "Lewis Hamilton",
          "Lewis Hamilton",
          "Lewis Hamilton",
          "Lewis Hamilton",
          "Lewis Hamilton",
          "Lewis Hamilton",
          "Lewis Hamilton",
          "Lewis Hamilton",
          "Lewis Hamilton",
          "Lewis Hamilton",
          "Lewis Hamilton",
          "Lewis Hamilton",
          "Lewis Hamilton",
          "Lewis Hamilton",
          "Lewis Hamilton",
          "Lewis Hamilton",
          "Lewis Hamilton",
          "Lewis Hamilton",
          "Lewis Hamilton",
          "Lewis Hamilton",
          "Lewis Hamilton",
          "Lewis Hamilton",
          "Lewis Hamilton",
          "Lewis Hamilton",
          "Lewis Hamilton",
          "Lewis Hamilton",
          "Lewis Hamilton"
         ],
         "legendgroup": "Lewis Hamilton",
         "line": {
          "color": "#00D2BE",
          "dash": "solid"
         },
         "mode": "lines",
         "name": "Lewis Hamilton",
         "orientation": "v",
         "showlegend": true,
         "type": "scatter",
         "x": [
          1,
          2,
          3,
          4,
          5,
          6,
          7,
          8,
          9,
          10,
          11,
          12,
          13,
          14,
          15,
          16,
          17,
          18,
          19,
          20,
          21,
          22,
          23,
          24,
          25,
          26,
          27,
          28,
          29,
          30,
          31,
          32,
          33,
          34,
          35,
          36,
          37,
          38,
          39,
          40,
          41,
          42,
          43,
          44,
          45,
          46,
          47,
          48,
          49,
          50,
          51,
          52
         ],
         "xaxis": "x",
         "y": [
          94.01,
          126.445,
          151.201,
          152.874,
          138.933,
          90.533,
          91.143,
          90.943,
          90.868,
          90.838,
          90.903,
          90.705,
          125.834,
          167.254,
          151.637,
          158.09,
          154.082,
          142.988,
          90.534,
          90.371,
          90.188,
          90.324,
          89.812,
          90.127,
          89.944,
          90.162,
          90.312,
          90.266,
          90.079,
          89.712,
          89.66,
          89.995,
          89.326,
          89.321,
          89.693,
          89.688,
          89.663,
          89.553,
          89.762,
          89.282,
          89.254,
          89.269,
          89.525,
          89.364,
          89.238,
          89.432,
          89.455,
          89.821,
          90.12,
          91.081,
          92.185,
          115.484
         ],
         "yaxis": "y"
        },
        {
         "customdata": [
          [
           "Max Verstappen",
           "Red_Bull"
          ],
          [
           "Max Verstappen",
           "Red_Bull"
          ],
          [
           "Max Verstappen",
           "Red_Bull"
          ],
          [
           "Max Verstappen",
           "Red_Bull"
          ],
          [
           "Max Verstappen",
           "Red_Bull"
          ],
          [
           "Max Verstappen",
           "Red_Bull"
          ],
          [
           "Max Verstappen",
           "Red_Bull"
          ],
          [
           "Max Verstappen",
           "Red_Bull"
          ],
          [
           "Max Verstappen",
           "Red_Bull"
          ],
          [
           "Max Verstappen",
           "Red_Bull"
          ],
          [
           "Max Verstappen",
           "Red_Bull"
          ],
          [
           "Max Verstappen",
           "Red_Bull"
          ],
          [
           "Max Verstappen",
           "Red_Bull"
          ],
          [
           "Max Verstappen",
           "Red_Bull"
          ],
          [
           "Max Verstappen",
           "Red_Bull"
          ],
          [
           "Max Verstappen",
           "Red_Bull"
          ],
          [
           "Max Verstappen",
           "Red_Bull"
          ],
          [
           "Max Verstappen",
           "Red_Bull"
          ],
          [
           "Max Verstappen",
           "Red_Bull"
          ],
          [
           "Max Verstappen",
           "Red_Bull"
          ],
          [
           "Max Verstappen",
           "Red_Bull"
          ],
          [
           "Max Verstappen",
           "Red_Bull"
          ],
          [
           "Max Verstappen",
           "Red_Bull"
          ],
          [
           "Max Verstappen",
           "Red_Bull"
          ],
          [
           "Max Verstappen",
           "Red_Bull"
          ],
          [
           "Max Verstappen",
           "Red_Bull"
          ],
          [
           "Max Verstappen",
           "Red_Bull"
          ],
          [
           "Max Verstappen",
           "Red_Bull"
          ],
          [
           "Max Verstappen",
           "Red_Bull"
          ],
          [
           "Max Verstappen",
           "Red_Bull"
          ],
          [
           "Max Verstappen",
           "Red_Bull"
          ],
          [
           "Max Verstappen",
           "Red_Bull"
          ],
          [
           "Max Verstappen",
           "Red_Bull"
          ],
          [
           "Max Verstappen",
           "Red_Bull"
          ],
          [
           "Max Verstappen",
           "Red_Bull"
          ],
          [
           "Max Verstappen",
           "Red_Bull"
          ],
          [
           "Max Verstappen",
           "Red_Bull"
          ],
          [
           "Max Verstappen",
           "Red_Bull"
          ],
          [
           "Max Verstappen",
           "Red_Bull"
          ],
          [
           "Max Verstappen",
           "Red_Bull"
          ],
          [
           "Max Verstappen",
           "Red_Bull"
          ],
          [
           "Max Verstappen",
           "Red_Bull"
          ],
          [
           "Max Verstappen",
           "Red_Bull"
          ],
          [
           "Max Verstappen",
           "Red_Bull"
          ],
          [
           "Max Verstappen",
           "Red_Bull"
          ],
          [
           "Max Verstappen",
           "Red_Bull"
          ],
          [
           "Max Verstappen",
           "Red_Bull"
          ],
          [
           "Max Verstappen",
           "Red_Bull"
          ],
          [
           "Max Verstappen",
           "Red_Bull"
          ],
          [
           "Max Verstappen",
           "Red_Bull"
          ],
          [
           "Max Verstappen",
           "Red_Bull"
          ],
          [
           "Max Verstappen",
           "Red_Bull"
          ]
         ],
         "hovertemplate": "<b>%{hovertext}</b><br><br>lap=%{x}<br>seconds=%{y}<br>constructorRef=%{customdata[1]}<extra></extra>",
         "hovertext": [
          "Max Verstappen",
          "Max Verstappen",
          "Max Verstappen",
          "Max Verstappen",
          "Max Verstappen",
          "Max Verstappen",
          "Max Verstappen",
          "Max Verstappen",
          "Max Verstappen",
          "Max Verstappen",
          "Max Verstappen",
          "Max Verstappen",
          "Max Verstappen",
          "Max Verstappen",
          "Max Verstappen",
          "Max Verstappen",
          "Max Verstappen",
          "Max Verstappen",
          "Max Verstappen",
          "Max Verstappen",
          "Max Verstappen",
          "Max Verstappen",
          "Max Verstappen",
          "Max Verstappen",
          "Max Verstappen",
          "Max Verstappen",
          "Max Verstappen",
          "Max Verstappen",
          "Max Verstappen",
          "Max Verstappen",
          "Max Verstappen",
          "Max Verstappen",
          "Max Verstappen",
          "Max Verstappen",
          "Max Verstappen",
          "Max Verstappen",
          "Max Verstappen",
          "Max Verstappen",
          "Max Verstappen",
          "Max Verstappen",
          "Max Verstappen",
          "Max Verstappen",
          "Max Verstappen",
          "Max Verstappen",
          "Max Verstappen",
          "Max Verstappen",
          "Max Verstappen",
          "Max Verstappen",
          "Max Verstappen",
          "Max Verstappen",
          "Max Verstappen",
          "Max Verstappen"
         ],
         "legendgroup": "Max Verstappen",
         "line": {
          "color": "#0600EF",
          "dash": "solid"
         },
         "mode": "lines",
         "name": "Max Verstappen",
         "orientation": "v",
         "showlegend": true,
         "type": "scatter",
         "x": [
          1,
          2,
          3,
          4,
          5,
          6,
          7,
          8,
          9,
          10,
          11,
          12,
          13,
          14,
          15,
          16,
          17,
          18,
          19,
          20,
          21,
          22,
          23,
          24,
          25,
          26,
          27,
          28,
          29,
          30,
          31,
          32,
          33,
          34,
          35,
          36,
          37,
          38,
          39,
          40,
          41,
          42,
          43,
          44,
          45,
          46,
          47,
          48,
          49,
          50,
          51,
          52
         ],
         "xaxis": "x",
         "y": [
          96.913,
          126.326,
          150.222,
          152.99699999999999,
          138.752,
          91.959,
          92.018,
          91.374,
          91.46,
          91.143,
          91.204,
          91.181,
          128.84,
          161.018,
          151.865,
          157.513,
          154.095,
          141.921,
          92.334,
          91.096,
          90.83,
          90.503,
          90.746,
          91.03,
          90.376,
          90.415,
          90.617,
          90.447,
          90.633,
          90.417,
          89.986,
          90.101,
          89.801,
          89.783,
          90.18,
          89.917,
          90.065,
          90.24,
          90.005,
          89.985,
          89.07,
          89.389,
          89.819,
          89.671,
          89.355,
          90.046,
          89.728,
          89.572,
          89.675,
          91.697,
          111.712,
          87.097
         ],
         "yaxis": "y"
        },
        {
         "customdata": [
          [
           "Charles Leclerc",
           "Ferrari"
          ],
          [
           "Charles Leclerc",
           "Ferrari"
          ],
          [
           "Charles Leclerc",
           "Ferrari"
          ],
          [
           "Charles Leclerc",
           "Ferrari"
          ],
          [
           "Charles Leclerc",
           "Ferrari"
          ],
          [
           "Charles Leclerc",
           "Ferrari"
          ],
          [
           "Charles Leclerc",
           "Ferrari"
          ],
          [
           "Charles Leclerc",
           "Ferrari"
          ],
          [
           "Charles Leclerc",
           "Ferrari"
          ],
          [
           "Charles Leclerc",
           "Ferrari"
          ],
          [
           "Charles Leclerc",
           "Ferrari"
          ],
          [
           "Charles Leclerc",
           "Ferrari"
          ],
          [
           "Charles Leclerc",
           "Ferrari"
          ],
          [
           "Charles Leclerc",
           "Ferrari"
          ],
          [
           "Charles Leclerc",
           "Ferrari"
          ],
          [
           "Charles Leclerc",
           "Ferrari"
          ],
          [
           "Charles Leclerc",
           "Ferrari"
          ],
          [
           "Charles Leclerc",
           "Ferrari"
          ],
          [
           "Charles Leclerc",
           "Ferrari"
          ],
          [
           "Charles Leclerc",
           "Ferrari"
          ],
          [
           "Charles Leclerc",
           "Ferrari"
          ],
          [
           "Charles Leclerc",
           "Ferrari"
          ],
          [
           "Charles Leclerc",
           "Ferrari"
          ],
          [
           "Charles Leclerc",
           "Ferrari"
          ],
          [
           "Charles Leclerc",
           "Ferrari"
          ],
          [
           "Charles Leclerc",
           "Ferrari"
          ],
          [
           "Charles Leclerc",
           "Ferrari"
          ],
          [
           "Charles Leclerc",
           "Ferrari"
          ],
          [
           "Charles Leclerc",
           "Ferrari"
          ],
          [
           "Charles Leclerc",
           "Ferrari"
          ],
          [
           "Charles Leclerc",
           "Ferrari"
          ],
          [
           "Charles Leclerc",
           "Ferrari"
          ],
          [
           "Charles Leclerc",
           "Ferrari"
          ],
          [
           "Charles Leclerc",
           "Ferrari"
          ],
          [
           "Charles Leclerc",
           "Ferrari"
          ],
          [
           "Charles Leclerc",
           "Ferrari"
          ],
          [
           "Charles Leclerc",
           "Ferrari"
          ],
          [
           "Charles Leclerc",
           "Ferrari"
          ],
          [
           "Charles Leclerc",
           "Ferrari"
          ],
          [
           "Charles Leclerc",
           "Ferrari"
          ],
          [
           "Charles Leclerc",
           "Ferrari"
          ],
          [
           "Charles Leclerc",
           "Ferrari"
          ],
          [
           "Charles Leclerc",
           "Ferrari"
          ],
          [
           "Charles Leclerc",
           "Ferrari"
          ],
          [
           "Charles Leclerc",
           "Ferrari"
          ],
          [
           "Charles Leclerc",
           "Ferrari"
          ],
          [
           "Charles Leclerc",
           "Ferrari"
          ],
          [
           "Charles Leclerc",
           "Ferrari"
          ],
          [
           "Charles Leclerc",
           "Ferrari"
          ],
          [
           "Charles Leclerc",
           "Ferrari"
          ],
          [
           "Charles Leclerc",
           "Ferrari"
          ],
          [
           "Charles Leclerc",
           "Ferrari"
          ]
         ],
         "hovertemplate": "<b>%{hovertext}</b><br><br>lap=%{x}<br>seconds=%{y}<br>constructorRef=%{customdata[1]}<extra></extra>",
         "hovertext": [
          "Charles Leclerc",
          "Charles Leclerc",
          "Charles Leclerc",
          "Charles Leclerc",
          "Charles Leclerc",
          "Charles Leclerc",
          "Charles Leclerc",
          "Charles Leclerc",
          "Charles Leclerc",
          "Charles Leclerc",
          "Charles Leclerc",
          "Charles Leclerc",
          "Charles Leclerc",
          "Charles Leclerc",
          "Charles Leclerc",
          "Charles Leclerc",
          "Charles Leclerc",
          "Charles Leclerc",
          "Charles Leclerc",
          "Charles Leclerc",
          "Charles Leclerc",
          "Charles Leclerc",
          "Charles Leclerc",
          "Charles Leclerc",
          "Charles Leclerc",
          "Charles Leclerc",
          "Charles Leclerc",
          "Charles Leclerc",
          "Charles Leclerc",
          "Charles Leclerc",
          "Charles Leclerc",
          "Charles Leclerc",
          "Charles Leclerc",
          "Charles Leclerc",
          "Charles Leclerc",
          "Charles Leclerc",
          "Charles Leclerc",
          "Charles Leclerc",
          "Charles Leclerc",
          "Charles Leclerc",
          "Charles Leclerc",
          "Charles Leclerc",
          "Charles Leclerc",
          "Charles Leclerc",
          "Charles Leclerc",
          "Charles Leclerc",
          "Charles Leclerc",
          "Charles Leclerc",
          "Charles Leclerc",
          "Charles Leclerc",
          "Charles Leclerc",
          "Charles Leclerc"
         ],
         "legendgroup": "Charles Leclerc",
         "line": {
          "color": "#C00000",
          "dash": "solid"
         },
         "mode": "lines",
         "name": "Charles Leclerc",
         "orientation": "v",
         "showlegend": true,
         "type": "scatter",
         "x": [
          1,
          2,
          3,
          4,
          5,
          6,
          7,
          8,
          9,
          10,
          11,
          12,
          13,
          14,
          15,
          16,
          17,
          18,
          19,
          20,
          21,
          22,
          23,
          24,
          25,
          26,
          27,
          28,
          29,
          30,
          31,
          32,
          33,
          34,
          35,
          36,
          37,
          38,
          39,
          40,
          41,
          42,
          43,
          44,
          45,
          46,
          47,
          48,
          49,
          50,
          51,
          52
         ],
         "xaxis": "x",
         "y": [
          97.904,
          127.127,
          149.468,
          153.312,
          138.18,
          93.695,
          92.95,
          92.248,
          92.519,
          92.319,
          92.183,
          97.226,
          126.304,
          151.564,
          151.323,
          157.849,
          154.156,
          141.492,
          93.614,
          92.336,
          91.866,
          91.418,
          91.547,
          91.897,
          91.421,
          91.463,
          91.589,
          91.378,
          91.448,
          91.322,
          91.644,
          91.249,
          91.201,
          91.007,
          91.807,
          91.194,
          90.93,
          90.79,
          90.46,
          90.596,
          90.104,
          90.219,
          90.512,
          90.312,
          90.196,
          89.981,
          90.068,
          90.84,
          89.813,
          90.763,
          90.447,
          92.506
         ],
         "yaxis": "y"
        },
        {
         "customdata": [
          [
           "Daniel Ricciardo",
           "Renault"
          ],
          [
           "Daniel Ricciardo",
           "Renault"
          ],
          [
           "Daniel Ricciardo",
           "Renault"
          ],
          [
           "Daniel Ricciardo",
           "Renault"
          ],
          [
           "Daniel Ricciardo",
           "Renault"
          ],
          [
           "Daniel Ricciardo",
           "Renault"
          ],
          [
           "Daniel Ricciardo",
           "Renault"
          ],
          [
           "Daniel Ricciardo",
           "Renault"
          ],
          [
           "Daniel Ricciardo",
           "Renault"
          ],
          [
           "Daniel Ricciardo",
           "Renault"
          ],
          [
           "Daniel Ricciardo",
           "Renault"
          ],
          [
           "Daniel Ricciardo",
           "Renault"
          ],
          [
           "Daniel Ricciardo",
           "Renault"
          ],
          [
           "Daniel Ricciardo",
           "Renault"
          ],
          [
           "Daniel Ricciardo",
           "Renault"
          ],
          [
           "Daniel Ricciardo",
           "Renault"
          ],
          [
           "Daniel Ricciardo",
           "Renault"
          ],
          [
           "Daniel Ricciardo",
           "Renault"
          ],
          [
           "Daniel Ricciardo",
           "Renault"
          ],
          [
           "Daniel Ricciardo",
           "Renault"
          ],
          [
           "Daniel Ricciardo",
           "Renault"
          ],
          [
           "Daniel Ricciardo",
           "Renault"
          ],
          [
           "Daniel Ricciardo",
           "Renault"
          ],
          [
           "Daniel Ricciardo",
           "Renault"
          ],
          [
           "Daniel Ricciardo",
           "Renault"
          ],
          [
           "Daniel Ricciardo",
           "Renault"
          ],
          [
           "Daniel Ricciardo",
           "Renault"
          ],
          [
           "Daniel Ricciardo",
           "Renault"
          ],
          [
           "Daniel Ricciardo",
           "Renault"
          ],
          [
           "Daniel Ricciardo",
           "Renault"
          ],
          [
           "Daniel Ricciardo",
           "Renault"
          ],
          [
           "Daniel Ricciardo",
           "Renault"
          ],
          [
           "Daniel Ricciardo",
           "Renault"
          ],
          [
           "Daniel Ricciardo",
           "Renault"
          ],
          [
           "Daniel Ricciardo",
           "Renault"
          ],
          [
           "Daniel Ricciardo",
           "Renault"
          ],
          [
           "Daniel Ricciardo",
           "Renault"
          ],
          [
           "Daniel Ricciardo",
           "Renault"
          ],
          [
           "Daniel Ricciardo",
           "Renault"
          ],
          [
           "Daniel Ricciardo",
           "Renault"
          ],
          [
           "Daniel Ricciardo",
           "Renault"
          ],
          [
           "Daniel Ricciardo",
           "Renault"
          ],
          [
           "Daniel Ricciardo",
           "Renault"
          ],
          [
           "Daniel Ricciardo",
           "Renault"
          ],
          [
           "Daniel Ricciardo",
           "Renault"
          ],
          [
           "Daniel Ricciardo",
           "Renault"
          ],
          [
           "Daniel Ricciardo",
           "Renault"
          ],
          [
           "Daniel Ricciardo",
           "Renault"
          ],
          [
           "Daniel Ricciardo",
           "Renault"
          ],
          [
           "Daniel Ricciardo",
           "Renault"
          ],
          [
           "Daniel Ricciardo",
           "Renault"
          ],
          [
           "Daniel Ricciardo",
           "Renault"
          ]
         ],
         "hovertemplate": "<b>%{hovertext}</b><br><br>lap=%{x}<br>seconds=%{y}<br>constructorRef=%{customdata[1]}<extra></extra>",
         "hovertext": [
          "Daniel Ricciardo",
          "Daniel Ricciardo",
          "Daniel Ricciardo",
          "Daniel Ricciardo",
          "Daniel Ricciardo",
          "Daniel Ricciardo",
          "Daniel Ricciardo",
          "Daniel Ricciardo",
          "Daniel Ricciardo",
          "Daniel Ricciardo",
          "Daniel Ricciardo",
          "Daniel Ricciardo",
          "Daniel Ricciardo",
          "Daniel Ricciardo",
          "Daniel Ricciardo",
          "Daniel Ricciardo",
          "Daniel Ricciardo",
          "Daniel Ricciardo",
          "Daniel Ricciardo",
          "Daniel Ricciardo",
          "Daniel Ricciardo",
          "Daniel Ricciardo",
          "Daniel Ricciardo",
          "Daniel Ricciardo",
          "Daniel Ricciardo",
          "Daniel Ricciardo",
          "Daniel Ricciardo",
          "Daniel Ricciardo",
          "Daniel Ricciardo",
          "Daniel Ricciardo",
          "Daniel Ricciardo",
          "Daniel Ricciardo",
          "Daniel Ricciardo",
          "Daniel Ricciardo",
          "Daniel Ricciardo",
          "Daniel Ricciardo",
          "Daniel Ricciardo",
          "Daniel Ricciardo",
          "Daniel Ricciardo",
          "Daniel Ricciardo",
          "Daniel Ricciardo",
          "Daniel Ricciardo",
          "Daniel Ricciardo",
          "Daniel Ricciardo",
          "Daniel Ricciardo",
          "Daniel Ricciardo",
          "Daniel Ricciardo",
          "Daniel Ricciardo",
          "Daniel Ricciardo",
          "Daniel Ricciardo",
          "Daniel Ricciardo",
          "Daniel Ricciardo"
         ],
         "legendgroup": "Daniel Ricciardo",
         "line": {
          "color": "#FFF500",
          "dash": "solid"
         },
         "mode": "lines",
         "name": "Daniel Ricciardo",
         "orientation": "v",
         "showlegend": true,
         "type": "scatter",
         "x": [
          1,
          2,
          3,
          4,
          5,
          6,
          7,
          8,
          9,
          10,
          11,
          12,
          13,
          14,
          15,
          16,
          17,
          18,
          19,
          20,
          21,
          22,
          23,
          24,
          25,
          26,
          27,
          28,
          29,
          30,
          31,
          32,
          33,
          34,
          35,
          36,
          37,
          38,
          39,
          40,
          41,
          42,
          43,
          44,
          45,
          46,
          47,
          48,
          49,
          50,
          51,
          52
         ],
         "xaxis": "x",
         "y": [
          99.264,
          128.887,
          148.982,
          155.09,
          134.328,
          94.179,
          94.135,
          93.025,
          93.183,
          93.062,
          92.789,
          98.651,
          146.815,
          128.688,
          151.761,
          159.267,
          152.813,
          137.817,
          95.36,
          93.359,
          92.56,
          92.125,
          92.44,
          92.182,
          92.618,
          92.433,
          91.952,
          91.851,
          91.681,
          91.454,
          91.31,
          91.56,
          91.035,
          91.139,
          91.473,
          90.749,
          90.603,
          90.353,
          90.179,
          90.161,
          89.95,
          90.062,
          90.53,
          90.119,
          89.973,
          90.077,
          90.015,
          90.005,
          89.482,
          89.858,
          89.783,
          89.766
         ],
         "yaxis": "y"
        },
        {
         "customdata": [
          [
           "Lando Norris",
           "Mclaren"
          ],
          [
           "Lando Norris",
           "Mclaren"
          ],
          [
           "Lando Norris",
           "Mclaren"
          ],
          [
           "Lando Norris",
           "Mclaren"
          ],
          [
           "Lando Norris",
           "Mclaren"
          ],
          [
           "Lando Norris",
           "Mclaren"
          ],
          [
           "Lando Norris",
           "Mclaren"
          ],
          [
           "Lando Norris",
           "Mclaren"
          ],
          [
           "Lando Norris",
           "Mclaren"
          ],
          [
           "Lando Norris",
           "Mclaren"
          ],
          [
           "Lando Norris",
           "Mclaren"
          ],
          [
           "Lando Norris",
           "Mclaren"
          ],
          [
           "Lando Norris",
           "Mclaren"
          ],
          [
           "Lando Norris",
           "Mclaren"
          ],
          [
           "Lando Norris",
           "Mclaren"
          ],
          [
           "Lando Norris",
           "Mclaren"
          ],
          [
           "Lando Norris",
           "Mclaren"
          ],
          [
           "Lando Norris",
           "Mclaren"
          ],
          [
           "Lando Norris",
           "Mclaren"
          ],
          [
           "Lando Norris",
           "Mclaren"
          ],
          [
           "Lando Norris",
           "Mclaren"
          ],
          [
           "Lando Norris",
           "Mclaren"
          ],
          [
           "Lando Norris",
           "Mclaren"
          ],
          [
           "Lando Norris",
           "Mclaren"
          ],
          [
           "Lando Norris",
           "Mclaren"
          ],
          [
           "Lando Norris",
           "Mclaren"
          ],
          [
           "Lando Norris",
           "Mclaren"
          ],
          [
           "Lando Norris",
           "Mclaren"
          ],
          [
           "Lando Norris",
           "Mclaren"
          ],
          [
           "Lando Norris",
           "Mclaren"
          ],
          [
           "Lando Norris",
           "Mclaren"
          ],
          [
           "Lando Norris",
           "Mclaren"
          ],
          [
           "Lando Norris",
           "Mclaren"
          ],
          [
           "Lando Norris",
           "Mclaren"
          ],
          [
           "Lando Norris",
           "Mclaren"
          ],
          [
           "Lando Norris",
           "Mclaren"
          ],
          [
           "Lando Norris",
           "Mclaren"
          ],
          [
           "Lando Norris",
           "Mclaren"
          ],
          [
           "Lando Norris",
           "Mclaren"
          ],
          [
           "Lando Norris",
           "Mclaren"
          ],
          [
           "Lando Norris",
           "Mclaren"
          ],
          [
           "Lando Norris",
           "Mclaren"
          ],
          [
           "Lando Norris",
           "Mclaren"
          ],
          [
           "Lando Norris",
           "Mclaren"
          ],
          [
           "Lando Norris",
           "Mclaren"
          ],
          [
           "Lando Norris",
           "Mclaren"
          ],
          [
           "Lando Norris",
           "Mclaren"
          ],
          [
           "Lando Norris",
           "Mclaren"
          ],
          [
           "Lando Norris",
           "Mclaren"
          ],
          [
           "Lando Norris",
           "Mclaren"
          ],
          [
           "Lando Norris",
           "Mclaren"
          ],
          [
           "Lando Norris",
           "Mclaren"
          ]
         ],
         "hovertemplate": "<b>%{hovertext}</b><br><br>lap=%{x}<br>seconds=%{y}<br>constructorRef=%{customdata[1]}<extra></extra>",
         "hovertext": [
          "Lando Norris",
          "Lando Norris",
          "Lando Norris",
          "Lando Norris",
          "Lando Norris",
          "Lando Norris",
          "Lando Norris",
          "Lando Norris",
          "Lando Norris",
          "Lando Norris",
          "Lando Norris",
          "Lando Norris",
          "Lando Norris",
          "Lando Norris",
          "Lando Norris",
          "Lando Norris",
          "Lando Norris",
          "Lando Norris",
          "Lando Norris",
          "Lando Norris",
          "Lando Norris",
          "Lando Norris",
          "Lando Norris",
          "Lando Norris",
          "Lando Norris",
          "Lando Norris",
          "Lando Norris",
          "Lando Norris",
          "Lando Norris",
          "Lando Norris",
          "Lando Norris",
          "Lando Norris",
          "Lando Norris",
          "Lando Norris",
          "Lando Norris",
          "Lando Norris",
          "Lando Norris",
          "Lando Norris",
          "Lando Norris",
          "Lando Norris",
          "Lando Norris",
          "Lando Norris",
          "Lando Norris",
          "Lando Norris",
          "Lando Norris",
          "Lando Norris",
          "Lando Norris",
          "Lando Norris",
          "Lando Norris",
          "Lando Norris",
          "Lando Norris",
          "Lando Norris"
         ],
         "legendgroup": "Lando Norris",
         "line": {
          "color": "#FF8700",
          "dash": "solid"
         },
         "mode": "lines",
         "name": "Lando Norris",
         "orientation": "v",
         "showlegend": true,
         "type": "scatter",
         "x": [
          1,
          2,
          3,
          4,
          5,
          6,
          7,
          8,
          9,
          10,
          11,
          12,
          13,
          14,
          15,
          16,
          17,
          18,
          19,
          20,
          21,
          22,
          23,
          24,
          25,
          26,
          27,
          28,
          29,
          30,
          31,
          32,
          33,
          34,
          35,
          36,
          37,
          38,
          39,
          40,
          41,
          42,
          43,
          44,
          45,
          46,
          47,
          48,
          49,
          50,
          51,
          52
         ],
         "xaxis": "x",
         "y": [
          99.921,
          129.723,
          149.223,
          154.623,
          133.298,
          94.741,
          94.278,
          93.053,
          93.414,
          93.164,
          92.759,
          99.733,
          146.132,
          128.388,
          151.245,
          159.804,
          152.555,
          136.924,
          94.515,
          93.129,
          92.513,
          92.152,
          92.597,
          92.042,
          92.065,
          92.075,
          92.107,
          91.646,
          91.481,
          91.648,
          91.43599999999999,
          91.343,
          91.262,
          90.975,
          91.281,
          90.854,
          90.6,
          90.427,
          90.347,
          90.516,
          90.058,
          90.177,
          90.209,
          90.244,
          90.096,
          90.291,
          90.166,
          90.058,
          91.173,
          90.578,
          90.379,
          90.142
         ],
         "yaxis": "y"
        },
        {
         "customdata": [
          [
           "Esteban Ocon",
           "Renault"
          ],
          [
           "Esteban Ocon",
           "Renault"
          ],
          [
           "Esteban Ocon",
           "Renault"
          ],
          [
           "Esteban Ocon",
           "Renault"
          ],
          [
           "Esteban Ocon",
           "Renault"
          ],
          [
           "Esteban Ocon",
           "Renault"
          ],
          [
           "Esteban Ocon",
           "Renault"
          ],
          [
           "Esteban Ocon",
           "Renault"
          ],
          [
           "Esteban Ocon",
           "Renault"
          ],
          [
           "Esteban Ocon",
           "Renault"
          ],
          [
           "Esteban Ocon",
           "Renault"
          ],
          [
           "Esteban Ocon",
           "Renault"
          ],
          [
           "Esteban Ocon",
           "Renault"
          ],
          [
           "Esteban Ocon",
           "Renault"
          ],
          [
           "Esteban Ocon",
           "Renault"
          ],
          [
           "Esteban Ocon",
           "Renault"
          ],
          [
           "Esteban Ocon",
           "Renault"
          ],
          [
           "Esteban Ocon",
           "Renault"
          ],
          [
           "Esteban Ocon",
           "Renault"
          ],
          [
           "Esteban Ocon",
           "Renault"
          ],
          [
           "Esteban Ocon",
           "Renault"
          ],
          [
           "Esteban Ocon",
           "Renault"
          ],
          [
           "Esteban Ocon",
           "Renault"
          ],
          [
           "Esteban Ocon",
           "Renault"
          ],
          [
           "Esteban Ocon",
           "Renault"
          ],
          [
           "Esteban Ocon",
           "Renault"
          ],
          [
           "Esteban Ocon",
           "Renault"
          ],
          [
           "Esteban Ocon",
           "Renault"
          ],
          [
           "Esteban Ocon",
           "Renault"
          ],
          [
           "Esteban Ocon",
           "Renault"
          ],
          [
           "Esteban Ocon",
           "Renault"
          ],
          [
           "Esteban Ocon",
           "Renault"
          ],
          [
           "Esteban Ocon",
           "Renault"
          ],
          [
           "Esteban Ocon",
           "Renault"
          ],
          [
           "Esteban Ocon",
           "Renault"
          ],
          [
           "Esteban Ocon",
           "Renault"
          ],
          [
           "Esteban Ocon",
           "Renault"
          ],
          [
           "Esteban Ocon",
           "Renault"
          ],
          [
           "Esteban Ocon",
           "Renault"
          ],
          [
           "Esteban Ocon",
           "Renault"
          ],
          [
           "Esteban Ocon",
           "Renault"
          ],
          [
           "Esteban Ocon",
           "Renault"
          ],
          [
           "Esteban Ocon",
           "Renault"
          ],
          [
           "Esteban Ocon",
           "Renault"
          ],
          [
           "Esteban Ocon",
           "Renault"
          ],
          [
           "Esteban Ocon",
           "Renault"
          ],
          [
           "Esteban Ocon",
           "Renault"
          ],
          [
           "Esteban Ocon",
           "Renault"
          ],
          [
           "Esteban Ocon",
           "Renault"
          ],
          [
           "Esteban Ocon",
           "Renault"
          ],
          [
           "Esteban Ocon",
           "Renault"
          ],
          [
           "Esteban Ocon",
           "Renault"
          ]
         ],
         "hovertemplate": "<b>%{hovertext}</b><br><br>lap=%{x}<br>seconds=%{y}<br>constructorRef=%{customdata[1]}<extra></extra>",
         "hovertext": [
          "Esteban Ocon",
          "Esteban Ocon",
          "Esteban Ocon",
          "Esteban Ocon",
          "Esteban Ocon",
          "Esteban Ocon",
          "Esteban Ocon",
          "Esteban Ocon",
          "Esteban Ocon",
          "Esteban Ocon",
          "Esteban Ocon",
          "Esteban Ocon",
          "Esteban Ocon",
          "Esteban Ocon",
          "Esteban Ocon",
          "Esteban Ocon",
          "Esteban Ocon",
          "Esteban Ocon",
          "Esteban Ocon",
          "Esteban Ocon",
          "Esteban Ocon",
          "Esteban Ocon",
          "Esteban Ocon",
          "Esteban Ocon",
          "Esteban Ocon",
          "Esteban Ocon",
          "Esteban Ocon",
          "Esteban Ocon",
          "Esteban Ocon",
          "Esteban Ocon",
          "Esteban Ocon",
          "Esteban Ocon",
          "Esteban Ocon",
          "Esteban Ocon",
          "Esteban Ocon",
          "Esteban Ocon",
          "Esteban Ocon",
          "Esteban Ocon",
          "Esteban Ocon",
          "Esteban Ocon",
          "Esteban Ocon",
          "Esteban Ocon",
          "Esteban Ocon",
          "Esteban Ocon",
          "Esteban Ocon",
          "Esteban Ocon",
          "Esteban Ocon",
          "Esteban Ocon",
          "Esteban Ocon",
          "Esteban Ocon",
          "Esteban Ocon",
          "Esteban Ocon"
         ],
         "legendgroup": "Esteban Ocon",
         "line": {
          "color": "#FFF500",
          "dash": "solid"
         },
         "mode": "lines",
         "name": "Esteban Ocon",
         "orientation": "v",
         "showlegend": true,
         "type": "scatter",
         "x": [
          1,
          2,
          3,
          4,
          5,
          6,
          7,
          8,
          9,
          10,
          11,
          12,
          13,
          14,
          15,
          16,
          17,
          18,
          19,
          20,
          21,
          22,
          23,
          24,
          25,
          26,
          27,
          28,
          29,
          30,
          31,
          32,
          33,
          34,
          35,
          36,
          37,
          38,
          39,
          40,
          41,
          42,
          43,
          44,
          45,
          46,
          47,
          48,
          49,
          50,
          51,
          52
         ],
         "xaxis": "x",
         "y": [
          100.838,
          131.306,
          149.09,
          155.131,
          131.098,
          95.286,
          94.678,
          93.41,
          93.456,
          93.179,
          93.077,
          99.896,
          146.626,
          129.398,
          151.233,
          159.65,
          153.745,
          133.141,
          94.664,
          93.728,
          92.783,
          92.445,
          92.043,
          92.379,
          92.467,
          92.588,
          91.845,
          91.796,
          91.793,
          91.88,
          91.493,
          91.159,
          91.403,
          91.284,
          91.479,
          91.359,
          91.01,
          90.831,
          90.705,
          90.627,
          90.875,
          90.633,
          90.781,
          90.532,
          90.404,
          89.848,
          90.145,
          90.463,
          89.874,
          89.491,
          89.66,
          89.515
         ],
         "yaxis": "y"
        },
        {
         "customdata": [
          [
           "Pierre Gasly",
           "Alphatauri"
          ],
          [
           "Pierre Gasly",
           "Alphatauri"
          ],
          [
           "Pierre Gasly",
           "Alphatauri"
          ],
          [
           "Pierre Gasly",
           "Alphatauri"
          ],
          [
           "Pierre Gasly",
           "Alphatauri"
          ],
          [
           "Pierre Gasly",
           "Alphatauri"
          ],
          [
           "Pierre Gasly",
           "Alphatauri"
          ],
          [
           "Pierre Gasly",
           "Alphatauri"
          ],
          [
           "Pierre Gasly",
           "Alphatauri"
          ],
          [
           "Pierre Gasly",
           "Alphatauri"
          ],
          [
           "Pierre Gasly",
           "Alphatauri"
          ],
          [
           "Pierre Gasly",
           "Alphatauri"
          ],
          [
           "Pierre Gasly",
           "Alphatauri"
          ],
          [
           "Pierre Gasly",
           "Alphatauri"
          ],
          [
           "Pierre Gasly",
           "Alphatauri"
          ],
          [
           "Pierre Gasly",
           "Alphatauri"
          ],
          [
           "Pierre Gasly",
           "Alphatauri"
          ],
          [
           "Pierre Gasly",
           "Alphatauri"
          ],
          [
           "Pierre Gasly",
           "Alphatauri"
          ],
          [
           "Pierre Gasly",
           "Alphatauri"
          ],
          [
           "Pierre Gasly",
           "Alphatauri"
          ],
          [
           "Pierre Gasly",
           "Alphatauri"
          ],
          [
           "Pierre Gasly",
           "Alphatauri"
          ],
          [
           "Pierre Gasly",
           "Alphatauri"
          ],
          [
           "Pierre Gasly",
           "Alphatauri"
          ],
          [
           "Pierre Gasly",
           "Alphatauri"
          ],
          [
           "Pierre Gasly",
           "Alphatauri"
          ],
          [
           "Pierre Gasly",
           "Alphatauri"
          ],
          [
           "Pierre Gasly",
           "Alphatauri"
          ],
          [
           "Pierre Gasly",
           "Alphatauri"
          ],
          [
           "Pierre Gasly",
           "Alphatauri"
          ],
          [
           "Pierre Gasly",
           "Alphatauri"
          ],
          [
           "Pierre Gasly",
           "Alphatauri"
          ],
          [
           "Pierre Gasly",
           "Alphatauri"
          ],
          [
           "Pierre Gasly",
           "Alphatauri"
          ],
          [
           "Pierre Gasly",
           "Alphatauri"
          ],
          [
           "Pierre Gasly",
           "Alphatauri"
          ],
          [
           "Pierre Gasly",
           "Alphatauri"
          ],
          [
           "Pierre Gasly",
           "Alphatauri"
          ],
          [
           "Pierre Gasly",
           "Alphatauri"
          ],
          [
           "Pierre Gasly",
           "Alphatauri"
          ],
          [
           "Pierre Gasly",
           "Alphatauri"
          ],
          [
           "Pierre Gasly",
           "Alphatauri"
          ],
          [
           "Pierre Gasly",
           "Alphatauri"
          ],
          [
           "Pierre Gasly",
           "Alphatauri"
          ],
          [
           "Pierre Gasly",
           "Alphatauri"
          ],
          [
           "Pierre Gasly",
           "Alphatauri"
          ],
          [
           "Pierre Gasly",
           "Alphatauri"
          ],
          [
           "Pierre Gasly",
           "Alphatauri"
          ],
          [
           "Pierre Gasly",
           "Alphatauri"
          ],
          [
           "Pierre Gasly",
           "Alphatauri"
          ],
          [
           "Pierre Gasly",
           "Alphatauri"
          ]
         ],
         "hovertemplate": "<b>%{hovertext}</b><br><br>lap=%{x}<br>seconds=%{y}<br>constructorRef=%{customdata[1]}<extra></extra>",
         "hovertext": [
          "Pierre Gasly",
          "Pierre Gasly",
          "Pierre Gasly",
          "Pierre Gasly",
          "Pierre Gasly",
          "Pierre Gasly",
          "Pierre Gasly",
          "Pierre Gasly",
          "Pierre Gasly",
          "Pierre Gasly",
          "Pierre Gasly",
          "Pierre Gasly",
          "Pierre Gasly",
          "Pierre Gasly",
          "Pierre Gasly",
          "Pierre Gasly",
          "Pierre Gasly",
          "Pierre Gasly",
          "Pierre Gasly",
          "Pierre Gasly",
          "Pierre Gasly",
          "Pierre Gasly",
          "Pierre Gasly",
          "Pierre Gasly",
          "Pierre Gasly",
          "Pierre Gasly",
          "Pierre Gasly",
          "Pierre Gasly",
          "Pierre Gasly",
          "Pierre Gasly",
          "Pierre Gasly",
          "Pierre Gasly",
          "Pierre Gasly",
          "Pierre Gasly",
          "Pierre Gasly",
          "Pierre Gasly",
          "Pierre Gasly",
          "Pierre Gasly",
          "Pierre Gasly",
          "Pierre Gasly",
          "Pierre Gasly",
          "Pierre Gasly",
          "Pierre Gasly",
          "Pierre Gasly",
          "Pierre Gasly",
          "Pierre Gasly",
          "Pierre Gasly",
          "Pierre Gasly",
          "Pierre Gasly",
          "Pierre Gasly",
          "Pierre Gasly",
          "Pierre Gasly"
         ],
         "legendgroup": "Pierre Gasly",
         "line": {
          "color": "#C8C8C8",
          "dash": "solid"
         },
         "mode": "lines",
         "name": "Pierre Gasly",
         "orientation": "v",
         "showlegend": true,
         "type": "scatter",
         "x": [
          1,
          2,
          3,
          4,
          5,
          6,
          7,
          8,
          9,
          10,
          11,
          12,
          13,
          14,
          15,
          16,
          17,
          18,
          19,
          20,
          21,
          22,
          23,
          24,
          25,
          26,
          27,
          28,
          29,
          30,
          31,
          32,
          33,
          34,
          35,
          36,
          37,
          38,
          39,
          40,
          41,
          42,
          43,
          44,
          45,
          46,
          47,
          48,
          49,
          50,
          51,
          52
         ],
         "xaxis": "x",
         "y": [
          101.865,
          132.616,
          149.661,
          153.98,
          130.165,
          95.376,
          94.882,
          93.491,
          93.415,
          93.628,
          92.954,
          100.646,
          147.726,
          128.272,
          151.573,
          160.103,
          153.039,
          131.471,
          95.992,
          93.998,
          92.775,
          92.586,
          92.296,
          92.062,
          92.206,
          92.16,
          92.397,
          92.172,
          92.051,
          91.296,
          91.946,
          91.253,
          91.451,
          91.13,
          91.736,
          91.107,
          91.084,
          91.104,
          90.805,
          90.419,
          90.319,
          90.36,
          90.435,
          90.498,
          90.605,
          90.535,
          90.189,
          90.575,
          90.324,
          90.175,
          89.964,
          89.603
         ],
         "yaxis": "y"
        },
        {
         "customdata": [
          [
           "Alexander Albon",
           "Red_Bull"
          ],
          [
           "Alexander Albon",
           "Red_Bull"
          ],
          [
           "Alexander Albon",
           "Red_Bull"
          ],
          [
           "Alexander Albon",
           "Red_Bull"
          ],
          [
           "Alexander Albon",
           "Red_Bull"
          ],
          [
           "Alexander Albon",
           "Red_Bull"
          ],
          [
           "Alexander Albon",
           "Red_Bull"
          ],
          [
           "Alexander Albon",
           "Red_Bull"
          ],
          [
           "Alexander Albon",
           "Red_Bull"
          ],
          [
           "Alexander Albon",
           "Red_Bull"
          ],
          [
           "Alexander Albon",
           "Red_Bull"
          ],
          [
           "Alexander Albon",
           "Red_Bull"
          ],
          [
           "Alexander Albon",
           "Red_Bull"
          ],
          [
           "Alexander Albon",
           "Red_Bull"
          ],
          [
           "Alexander Albon",
           "Red_Bull"
          ],
          [
           "Alexander Albon",
           "Red_Bull"
          ],
          [
           "Alexander Albon",
           "Red_Bull"
          ],
          [
           "Alexander Albon",
           "Red_Bull"
          ],
          [
           "Alexander Albon",
           "Red_Bull"
          ],
          [
           "Alexander Albon",
           "Red_Bull"
          ],
          [
           "Alexander Albon",
           "Red_Bull"
          ],
          [
           "Alexander Albon",
           "Red_Bull"
          ],
          [
           "Alexander Albon",
           "Red_Bull"
          ],
          [
           "Alexander Albon",
           "Red_Bull"
          ],
          [
           "Alexander Albon",
           "Red_Bull"
          ],
          [
           "Alexander Albon",
           "Red_Bull"
          ],
          [
           "Alexander Albon",
           "Red_Bull"
          ],
          [
           "Alexander Albon",
           "Red_Bull"
          ],
          [
           "Alexander Albon",
           "Red_Bull"
          ],
          [
           "Alexander Albon",
           "Red_Bull"
          ],
          [
           "Alexander Albon",
           "Red_Bull"
          ],
          [
           "Alexander Albon",
           "Red_Bull"
          ],
          [
           "Alexander Albon",
           "Red_Bull"
          ],
          [
           "Alexander Albon",
           "Red_Bull"
          ],
          [
           "Alexander Albon",
           "Red_Bull"
          ],
          [
           "Alexander Albon",
           "Red_Bull"
          ],
          [
           "Alexander Albon",
           "Red_Bull"
          ],
          [
           "Alexander Albon",
           "Red_Bull"
          ],
          [
           "Alexander Albon",
           "Red_Bull"
          ],
          [
           "Alexander Albon",
           "Red_Bull"
          ],
          [
           "Alexander Albon",
           "Red_Bull"
          ],
          [
           "Alexander Albon",
           "Red_Bull"
          ],
          [
           "Alexander Albon",
           "Red_Bull"
          ],
          [
           "Alexander Albon",
           "Red_Bull"
          ],
          [
           "Alexander Albon",
           "Red_Bull"
          ],
          [
           "Alexander Albon",
           "Red_Bull"
          ],
          [
           "Alexander Albon",
           "Red_Bull"
          ],
          [
           "Alexander Albon",
           "Red_Bull"
          ],
          [
           "Alexander Albon",
           "Red_Bull"
          ],
          [
           "Alexander Albon",
           "Red_Bull"
          ],
          [
           "Alexander Albon",
           "Red_Bull"
          ],
          [
           "Alexander Albon",
           "Red_Bull"
          ]
         ],
         "hovertemplate": "<b>%{hovertext}</b><br><br>lap=%{x}<br>seconds=%{y}<br>constructorRef=%{customdata[1]}<extra></extra>",
         "hovertext": [
          "Alexander Albon",
          "Alexander Albon",
          "Alexander Albon",
          "Alexander Albon",
          "Alexander Albon",
          "Alexander Albon",
          "Alexander Albon",
          "Alexander Albon",
          "Alexander Albon",
          "Alexander Albon",
          "Alexander Albon",
          "Alexander Albon",
          "Alexander Albon",
          "Alexander Albon",
          "Alexander Albon",
          "Alexander Albon",
          "Alexander Albon",
          "Alexander Albon",
          "Alexander Albon",
          "Alexander Albon",
          "Alexander Albon",
          "Alexander Albon",
          "Alexander Albon",
          "Alexander Albon",
          "Alexander Albon",
          "Alexander Albon",
          "Alexander Albon",
          "Alexander Albon",
          "Alexander Albon",
          "Alexander Albon",
          "Alexander Albon",
          "Alexander Albon",
          "Alexander Albon",
          "Alexander Albon",
          "Alexander Albon",
          "Alexander Albon",
          "Alexander Albon",
          "Alexander Albon",
          "Alexander Albon",
          "Alexander Albon",
          "Alexander Albon",
          "Alexander Albon",
          "Alexander Albon",
          "Alexander Albon",
          "Alexander Albon",
          "Alexander Albon",
          "Alexander Albon",
          "Alexander Albon",
          "Alexander Albon",
          "Alexander Albon",
          "Alexander Albon",
          "Alexander Albon"
         ],
         "legendgroup": "Alexander Albon",
         "line": {
          "color": "#0600EF",
          "dash": "solid"
         },
         "mode": "lines",
         "name": "Alexander Albon",
         "orientation": "v",
         "showlegend": true,
         "type": "scatter",
         "x": [
          1,
          2,
          3,
          4,
          5,
          6,
          7,
          8,
          9,
          10,
          11,
          12,
          13,
          14,
          15,
          16,
          17,
          18,
          19,
          20,
          21,
          22,
          23,
          24,
          25,
          26,
          27,
          28,
          29,
          30,
          31,
          32,
          33,
          34,
          35,
          36,
          37,
          38,
          39,
          40,
          41,
          42,
          43,
          44,
          45,
          46,
          47,
          48,
          49,
          50,
          51,
          52
         ],
         "xaxis": "x",
         "y": [
          103.077,
          132.634,
          150.069,
          154.515,
          128.78,
          95.837,
          114.67,
          91.828,
          92.407,
          92.208,
          91.622,
          108.43,
          127.837,
          125.744,
          152.218,
          159.745,
          153.881,
          129.712,
          96.213,
          93.979,
          92.77,
          92.673,
          92.189,
          92.107,
          92.245,
          92.149,
          92.35,
          92.175,
          92.16,
          91.204,
          117.525,
          90.132,
          89.637,
          89.426,
          89.993,
          89.565,
          89.487,
          90.254,
          90.426,
          89.261,
          89.281,
          89.485,
          89.368,
          90.032,
          89.685,
          88.874,
          88.79,
          89.075,
          89.256,
          89.122,
          89.162,
          88.689
         ],
         "yaxis": "y"
        },
        {
         "customdata": [
          [
           "Lance Stroll",
           "Racing_Point"
          ],
          [
           "Lance Stroll",
           "Racing_Point"
          ],
          [
           "Lance Stroll",
           "Racing_Point"
          ],
          [
           "Lance Stroll",
           "Racing_Point"
          ],
          [
           "Lance Stroll",
           "Racing_Point"
          ],
          [
           "Lance Stroll",
           "Racing_Point"
          ],
          [
           "Lance Stroll",
           "Racing_Point"
          ],
          [
           "Lance Stroll",
           "Racing_Point"
          ],
          [
           "Lance Stroll",
           "Racing_Point"
          ],
          [
           "Lance Stroll",
           "Racing_Point"
          ],
          [
           "Lance Stroll",
           "Racing_Point"
          ],
          [
           "Lance Stroll",
           "Racing_Point"
          ],
          [
           "Lance Stroll",
           "Racing_Point"
          ],
          [
           "Lance Stroll",
           "Racing_Point"
          ],
          [
           "Lance Stroll",
           "Racing_Point"
          ],
          [
           "Lance Stroll",
           "Racing_Point"
          ],
          [
           "Lance Stroll",
           "Racing_Point"
          ],
          [
           "Lance Stroll",
           "Racing_Point"
          ],
          [
           "Lance Stroll",
           "Racing_Point"
          ],
          [
           "Lance Stroll",
           "Racing_Point"
          ],
          [
           "Lance Stroll",
           "Racing_Point"
          ],
          [
           "Lance Stroll",
           "Racing_Point"
          ],
          [
           "Lance Stroll",
           "Racing_Point"
          ],
          [
           "Lance Stroll",
           "Racing_Point"
          ],
          [
           "Lance Stroll",
           "Racing_Point"
          ],
          [
           "Lance Stroll",
           "Racing_Point"
          ],
          [
           "Lance Stroll",
           "Racing_Point"
          ],
          [
           "Lance Stroll",
           "Racing_Point"
          ],
          [
           "Lance Stroll",
           "Racing_Point"
          ],
          [
           "Lance Stroll",
           "Racing_Point"
          ],
          [
           "Lance Stroll",
           "Racing_Point"
          ],
          [
           "Lance Stroll",
           "Racing_Point"
          ],
          [
           "Lance Stroll",
           "Racing_Point"
          ],
          [
           "Lance Stroll",
           "Racing_Point"
          ],
          [
           "Lance Stroll",
           "Racing_Point"
          ],
          [
           "Lance Stroll",
           "Racing_Point"
          ],
          [
           "Lance Stroll",
           "Racing_Point"
          ],
          [
           "Lance Stroll",
           "Racing_Point"
          ],
          [
           "Lance Stroll",
           "Racing_Point"
          ],
          [
           "Lance Stroll",
           "Racing_Point"
          ],
          [
           "Lance Stroll",
           "Racing_Point"
          ],
          [
           "Lance Stroll",
           "Racing_Point"
          ],
          [
           "Lance Stroll",
           "Racing_Point"
          ],
          [
           "Lance Stroll",
           "Racing_Point"
          ],
          [
           "Lance Stroll",
           "Racing_Point"
          ],
          [
           "Lance Stroll",
           "Racing_Point"
          ],
          [
           "Lance Stroll",
           "Racing_Point"
          ],
          [
           "Lance Stroll",
           "Racing_Point"
          ],
          [
           "Lance Stroll",
           "Racing_Point"
          ],
          [
           "Lance Stroll",
           "Racing_Point"
          ],
          [
           "Lance Stroll",
           "Racing_Point"
          ],
          [
           "Lance Stroll",
           "Racing_Point"
          ]
         ],
         "hovertemplate": "<b>%{hovertext}</b><br><br>lap=%{x}<br>seconds=%{y}<br>constructorRef=%{customdata[1]}<extra></extra>",
         "hovertext": [
          "Lance Stroll",
          "Lance Stroll",
          "Lance Stroll",
          "Lance Stroll",
          "Lance Stroll",
          "Lance Stroll",
          "Lance Stroll",
          "Lance Stroll",
          "Lance Stroll",
          "Lance Stroll",
          "Lance Stroll",
          "Lance Stroll",
          "Lance Stroll",
          "Lance Stroll",
          "Lance Stroll",
          "Lance Stroll",
          "Lance Stroll",
          "Lance Stroll",
          "Lance Stroll",
          "Lance Stroll",
          "Lance Stroll",
          "Lance Stroll",
          "Lance Stroll",
          "Lance Stroll",
          "Lance Stroll",
          "Lance Stroll",
          "Lance Stroll",
          "Lance Stroll",
          "Lance Stroll",
          "Lance Stroll",
          "Lance Stroll",
          "Lance Stroll",
          "Lance Stroll",
          "Lance Stroll",
          "Lance Stroll",
          "Lance Stroll",
          "Lance Stroll",
          "Lance Stroll",
          "Lance Stroll",
          "Lance Stroll",
          "Lance Stroll",
          "Lance Stroll",
          "Lance Stroll",
          "Lance Stroll",
          "Lance Stroll",
          "Lance Stroll",
          "Lance Stroll",
          "Lance Stroll",
          "Lance Stroll",
          "Lance Stroll",
          "Lance Stroll",
          "Lance Stroll"
         ],
         "legendgroup": "Lance Stroll",
         "line": {
          "color": "#F596C8",
          "dash": "solid"
         },
         "mode": "lines",
         "name": "Lance Stroll",
         "orientation": "v",
         "showlegend": true,
         "type": "scatter",
         "x": [
          1,
          2,
          3,
          4,
          5,
          6,
          7,
          8,
          9,
          10,
          11,
          12,
          13,
          14,
          15,
          16,
          17,
          18,
          19,
          20,
          21,
          22,
          23,
          24,
          25,
          26,
          27,
          28,
          29,
          30,
          31,
          32,
          33,
          34,
          35,
          36,
          37,
          38,
          39,
          40,
          41,
          42,
          43,
          44,
          45,
          46,
          47,
          48,
          49,
          50,
          51,
          52
         ],
         "xaxis": "x",
         "y": [
          100.476,
          130.286,
          149.271,
          154.849,
          132.315,
          94.963,
          94.261,
          93.108,
          93.399,
          93.14,
          92.8,
          101.086,
          125.779,
          148.537,
          150.98,
          160.385,
          152.934,
          134.818,
          95.085,
          93.55,
          92.586,
          92.206,
          92.298,
          92.32,
          92.566,
          92.733,
          91.764,
          91.816,
          91.692,
          91.441,
          91.418,
          91.391,
          91.205,
          91.142,
          91.462,
          91.224,
          91.872,
          90.642,
          90.742,
          90.808,
          90.728,
          90.722,
          90.765,
          90.475,
          90.639,
          91.405,
          90.834,
          91.329,
          92.153,
          90.772,
          91.68,
          91.742
         ],
         "yaxis": "y"
        },
        {
         "customdata": [
          [
           "Sebastian Vettel",
           "Ferrari"
          ],
          [
           "Sebastian Vettel",
           "Ferrari"
          ],
          [
           "Sebastian Vettel",
           "Ferrari"
          ],
          [
           "Sebastian Vettel",
           "Ferrari"
          ],
          [
           "Sebastian Vettel",
           "Ferrari"
          ],
          [
           "Sebastian Vettel",
           "Ferrari"
          ],
          [
           "Sebastian Vettel",
           "Ferrari"
          ],
          [
           "Sebastian Vettel",
           "Ferrari"
          ],
          [
           "Sebastian Vettel",
           "Ferrari"
          ],
          [
           "Sebastian Vettel",
           "Ferrari"
          ],
          [
           "Sebastian Vettel",
           "Ferrari"
          ],
          [
           "Sebastian Vettel",
           "Ferrari"
          ],
          [
           "Sebastian Vettel",
           "Ferrari"
          ],
          [
           "Sebastian Vettel",
           "Ferrari"
          ],
          [
           "Sebastian Vettel",
           "Ferrari"
          ],
          [
           "Sebastian Vettel",
           "Ferrari"
          ],
          [
           "Sebastian Vettel",
           "Ferrari"
          ],
          [
           "Sebastian Vettel",
           "Ferrari"
          ],
          [
           "Sebastian Vettel",
           "Ferrari"
          ],
          [
           "Sebastian Vettel",
           "Ferrari"
          ],
          [
           "Sebastian Vettel",
           "Ferrari"
          ],
          [
           "Sebastian Vettel",
           "Ferrari"
          ],
          [
           "Sebastian Vettel",
           "Ferrari"
          ],
          [
           "Sebastian Vettel",
           "Ferrari"
          ],
          [
           "Sebastian Vettel",
           "Ferrari"
          ],
          [
           "Sebastian Vettel",
           "Ferrari"
          ],
          [
           "Sebastian Vettel",
           "Ferrari"
          ],
          [
           "Sebastian Vettel",
           "Ferrari"
          ],
          [
           "Sebastian Vettel",
           "Ferrari"
          ],
          [
           "Sebastian Vettel",
           "Ferrari"
          ],
          [
           "Sebastian Vettel",
           "Ferrari"
          ],
          [
           "Sebastian Vettel",
           "Ferrari"
          ],
          [
           "Sebastian Vettel",
           "Ferrari"
          ],
          [
           "Sebastian Vettel",
           "Ferrari"
          ],
          [
           "Sebastian Vettel",
           "Ferrari"
          ],
          [
           "Sebastian Vettel",
           "Ferrari"
          ],
          [
           "Sebastian Vettel",
           "Ferrari"
          ],
          [
           "Sebastian Vettel",
           "Ferrari"
          ],
          [
           "Sebastian Vettel",
           "Ferrari"
          ],
          [
           "Sebastian Vettel",
           "Ferrari"
          ],
          [
           "Sebastian Vettel",
           "Ferrari"
          ],
          [
           "Sebastian Vettel",
           "Ferrari"
          ],
          [
           "Sebastian Vettel",
           "Ferrari"
          ],
          [
           "Sebastian Vettel",
           "Ferrari"
          ],
          [
           "Sebastian Vettel",
           "Ferrari"
          ],
          [
           "Sebastian Vettel",
           "Ferrari"
          ],
          [
           "Sebastian Vettel",
           "Ferrari"
          ],
          [
           "Sebastian Vettel",
           "Ferrari"
          ],
          [
           "Sebastian Vettel",
           "Ferrari"
          ],
          [
           "Sebastian Vettel",
           "Ferrari"
          ],
          [
           "Sebastian Vettel",
           "Ferrari"
          ],
          [
           "Sebastian Vettel",
           "Ferrari"
          ]
         ],
         "hovertemplate": "<b>%{hovertext}</b><br><br>lap=%{x}<br>seconds=%{y}<br>constructorRef=%{customdata[1]}<extra></extra>",
         "hovertext": [
          "Sebastian Vettel",
          "Sebastian Vettel",
          "Sebastian Vettel",
          "Sebastian Vettel",
          "Sebastian Vettel",
          "Sebastian Vettel",
          "Sebastian Vettel",
          "Sebastian Vettel",
          "Sebastian Vettel",
          "Sebastian Vettel",
          "Sebastian Vettel",
          "Sebastian Vettel",
          "Sebastian Vettel",
          "Sebastian Vettel",
          "Sebastian Vettel",
          "Sebastian Vettel",
          "Sebastian Vettel",
          "Sebastian Vettel",
          "Sebastian Vettel",
          "Sebastian Vettel",
          "Sebastian Vettel",
          "Sebastian Vettel",
          "Sebastian Vettel",
          "Sebastian Vettel",
          "Sebastian Vettel",
          "Sebastian Vettel",
          "Sebastian Vettel",
          "Sebastian Vettel",
          "Sebastian Vettel",
          "Sebastian Vettel",
          "Sebastian Vettel",
          "Sebastian Vettel",
          "Sebastian Vettel",
          "Sebastian Vettel",
          "Sebastian Vettel",
          "Sebastian Vettel",
          "Sebastian Vettel",
          "Sebastian Vettel",
          "Sebastian Vettel",
          "Sebastian Vettel",
          "Sebastian Vettel",
          "Sebastian Vettel",
          "Sebastian Vettel",
          "Sebastian Vettel",
          "Sebastian Vettel",
          "Sebastian Vettel",
          "Sebastian Vettel",
          "Sebastian Vettel",
          "Sebastian Vettel",
          "Sebastian Vettel",
          "Sebastian Vettel",
          "Sebastian Vettel"
         ],
         "legendgroup": "Sebastian Vettel",
         "line": {
          "color": "#C00000",
          "dash": "solid"
         },
         "mode": "lines",
         "name": "Sebastian Vettel",
         "orientation": "v",
         "showlegend": true,
         "type": "scatter",
         "x": [
          1,
          2,
          3,
          4,
          5,
          6,
          7,
          8,
          9,
          10,
          11,
          12,
          13,
          14,
          15,
          16,
          17,
          18,
          19,
          20,
          21,
          22,
          23,
          24,
          25,
          26,
          27,
          28,
          29,
          30,
          31,
          32,
          33,
          34,
          35,
          36,
          37,
          38,
          39,
          40,
          41,
          42,
          43,
          44,
          45,
          46,
          47,
          48,
          49,
          50,
          51,
          52
         ],
         "xaxis": "x",
         "y": [
          101.375,
          131.969,
          148.6,
          154.962,
          131.085,
          95.095,
          94.927,
          93.528,
          93.461,
          93.378,
          93.086,
          99.509,
          144.723,
          129.879,
          151.302,
          159.411,
          153.542,
          134.104,
          95.95,
          93.666,
          92.635,
          92.489,
          91.939,
          92.479,
          92.431,
          92.263,
          92.336,
          92.029,
          91.785,
          91.83,
          91.96,
          91.42,
          91.401,
          91.085,
          91.77,
          91.328,
          92.152,
          91.856,
          91.18599999999999,
          90.752,
          90.609,
          90.776,
          90.973,
          90.537,
          90.761,
          90.666,
          90.601,
          90.757,
          92.228,
          91.547,
          91.225,
          91.782
         ],
         "yaxis": "y"
        },
        {
         "customdata": [
          [
           "Valtteri Bottas",
           "Mercedes"
          ],
          [
           "Valtteri Bottas",
           "Mercedes"
          ],
          [
           "Valtteri Bottas",
           "Mercedes"
          ],
          [
           "Valtteri Bottas",
           "Mercedes"
          ],
          [
           "Valtteri Bottas",
           "Mercedes"
          ],
          [
           "Valtteri Bottas",
           "Mercedes"
          ],
          [
           "Valtteri Bottas",
           "Mercedes"
          ],
          [
           "Valtteri Bottas",
           "Mercedes"
          ],
          [
           "Valtteri Bottas",
           "Mercedes"
          ],
          [
           "Valtteri Bottas",
           "Mercedes"
          ],
          [
           "Valtteri Bottas",
           "Mercedes"
          ],
          [
           "Valtteri Bottas",
           "Mercedes"
          ],
          [
           "Valtteri Bottas",
           "Mercedes"
          ],
          [
           "Valtteri Bottas",
           "Mercedes"
          ],
          [
           "Valtteri Bottas",
           "Mercedes"
          ],
          [
           "Valtteri Bottas",
           "Mercedes"
          ],
          [
           "Valtteri Bottas",
           "Mercedes"
          ],
          [
           "Valtteri Bottas",
           "Mercedes"
          ],
          [
           "Valtteri Bottas",
           "Mercedes"
          ],
          [
           "Valtteri Bottas",
           "Mercedes"
          ],
          [
           "Valtteri Bottas",
           "Mercedes"
          ],
          [
           "Valtteri Bottas",
           "Mercedes"
          ],
          [
           "Valtteri Bottas",
           "Mercedes"
          ],
          [
           "Valtteri Bottas",
           "Mercedes"
          ],
          [
           "Valtteri Bottas",
           "Mercedes"
          ],
          [
           "Valtteri Bottas",
           "Mercedes"
          ],
          [
           "Valtteri Bottas",
           "Mercedes"
          ],
          [
           "Valtteri Bottas",
           "Mercedes"
          ],
          [
           "Valtteri Bottas",
           "Mercedes"
          ],
          [
           "Valtteri Bottas",
           "Mercedes"
          ],
          [
           "Valtteri Bottas",
           "Mercedes"
          ],
          [
           "Valtteri Bottas",
           "Mercedes"
          ],
          [
           "Valtteri Bottas",
           "Mercedes"
          ],
          [
           "Valtteri Bottas",
           "Mercedes"
          ],
          [
           "Valtteri Bottas",
           "Mercedes"
          ],
          [
           "Valtteri Bottas",
           "Mercedes"
          ],
          [
           "Valtteri Bottas",
           "Mercedes"
          ],
          [
           "Valtteri Bottas",
           "Mercedes"
          ],
          [
           "Valtteri Bottas",
           "Mercedes"
          ],
          [
           "Valtteri Bottas",
           "Mercedes"
          ],
          [
           "Valtteri Bottas",
           "Mercedes"
          ],
          [
           "Valtteri Bottas",
           "Mercedes"
          ],
          [
           "Valtteri Bottas",
           "Mercedes"
          ],
          [
           "Valtteri Bottas",
           "Mercedes"
          ],
          [
           "Valtteri Bottas",
           "Mercedes"
          ],
          [
           "Valtteri Bottas",
           "Mercedes"
          ],
          [
           "Valtteri Bottas",
           "Mercedes"
          ],
          [
           "Valtteri Bottas",
           "Mercedes"
          ],
          [
           "Valtteri Bottas",
           "Mercedes"
          ],
          [
           "Valtteri Bottas",
           "Mercedes"
          ],
          [
           "Valtteri Bottas",
           "Mercedes"
          ],
          [
           "Valtteri Bottas",
           "Mercedes"
          ]
         ],
         "hovertemplate": "<b>%{hovertext}</b><br><br>lap=%{x}<br>seconds=%{y}<br>constructorRef=%{customdata[1]}<extra></extra>",
         "hovertext": [
          "Valtteri Bottas",
          "Valtteri Bottas",
          "Valtteri Bottas",
          "Valtteri Bottas",
          "Valtteri Bottas",
          "Valtteri Bottas",
          "Valtteri Bottas",
          "Valtteri Bottas",
          "Valtteri Bottas",
          "Valtteri Bottas",
          "Valtteri Bottas",
          "Valtteri Bottas",
          "Valtteri Bottas",
          "Valtteri Bottas",
          "Valtteri Bottas",
          "Valtteri Bottas",
          "Valtteri Bottas",
          "Valtteri Bottas",
          "Valtteri Bottas",
          "Valtteri Bottas",
          "Valtteri Bottas",
          "Valtteri Bottas",
          "Valtteri Bottas",
          "Valtteri Bottas",
          "Valtteri Bottas",
          "Valtteri Bottas",
          "Valtteri Bottas",
          "Valtteri Bottas",
          "Valtteri Bottas",
          "Valtteri Bottas",
          "Valtteri Bottas",
          "Valtteri Bottas",
          "Valtteri Bottas",
          "Valtteri Bottas",
          "Valtteri Bottas",
          "Valtteri Bottas",
          "Valtteri Bottas",
          "Valtteri Bottas",
          "Valtteri Bottas",
          "Valtteri Bottas",
          "Valtteri Bottas",
          "Valtteri Bottas",
          "Valtteri Bottas",
          "Valtteri Bottas",
          "Valtteri Bottas",
          "Valtteri Bottas",
          "Valtteri Bottas",
          "Valtteri Bottas",
          "Valtteri Bottas",
          "Valtteri Bottas",
          "Valtteri Bottas",
          "Valtteri Bottas"
         ],
         "legendgroup": "Valtteri Bottas",
         "line": {
          "color": "#00D2BE",
          "dash": "solid"
         },
         "mode": "lines",
         "name": "Valtteri Bottas",
         "orientation": "v",
         "showlegend": true,
         "type": "scatter",
         "x": [
          1,
          2,
          3,
          4,
          5,
          6,
          7,
          8,
          9,
          10,
          11,
          12,
          13,
          14,
          15,
          16,
          17,
          18,
          19,
          20,
          21,
          22,
          23,
          24,
          25,
          26,
          27,
          28,
          29,
          30,
          31,
          32,
          33,
          34,
          35,
          36,
          37,
          38,
          39,
          40,
          41,
          42,
          43,
          44,
          45,
          46,
          47,
          48,
          49,
          50,
          51,
          52
         ],
         "xaxis": "x",
         "y": [
          95.364,
          126.276,
          150.518,
          153.304,
          138.71,
          90.858,
          91.622,
          90.961,
          91.039,
          90.883,
          90.518,
          90.968,
          128.489,
          164.825,
          152.049,
          157.114,
          154.13,
          142.431,
          90.959,
          90.392,
          90.415,
          90.058,
          89.988,
          90.506,
          90.232,
          90.444,
          90.164,
          89.764,
          89.944,
          89.934,
          89.719,
          89.617,
          89.579,
          89.608,
          89.463,
          89.765,
          89.881,
          89.508,
          89.907,
          89.892,
          89.265,
          89.296,
          89.723,
          89.78,
          89.739,
          90.164,
          90.271,
          91.797,
          91.051,
          126.242,
          116.238,
          90.086
         ],
         "yaxis": "y"
        },
        {
         "customdata": [
          [
           "George Russell",
           "Williams"
          ],
          [
           "George Russell",
           "Williams"
          ],
          [
           "George Russell",
           "Williams"
          ],
          [
           "George Russell",
           "Williams"
          ],
          [
           "George Russell",
           "Williams"
          ],
          [
           "George Russell",
           "Williams"
          ],
          [
           "George Russell",
           "Williams"
          ],
          [
           "George Russell",
           "Williams"
          ],
          [
           "George Russell",
           "Williams"
          ],
          [
           "George Russell",
           "Williams"
          ],
          [
           "George Russell",
           "Williams"
          ],
          [
           "George Russell",
           "Williams"
          ],
          [
           "George Russell",
           "Williams"
          ],
          [
           "George Russell",
           "Williams"
          ],
          [
           "George Russell",
           "Williams"
          ],
          [
           "George Russell",
           "Williams"
          ],
          [
           "George Russell",
           "Williams"
          ],
          [
           "George Russell",
           "Williams"
          ],
          [
           "George Russell",
           "Williams"
          ],
          [
           "George Russell",
           "Williams"
          ],
          [
           "George Russell",
           "Williams"
          ],
          [
           "George Russell",
           "Williams"
          ],
          [
           "George Russell",
           "Williams"
          ],
          [
           "George Russell",
           "Williams"
          ],
          [
           "George Russell",
           "Williams"
          ],
          [
           "George Russell",
           "Williams"
          ],
          [
           "George Russell",
           "Williams"
          ],
          [
           "George Russell",
           "Williams"
          ],
          [
           "George Russell",
           "Williams"
          ],
          [
           "George Russell",
           "Williams"
          ],
          [
           "George Russell",
           "Williams"
          ],
          [
           "George Russell",
           "Williams"
          ],
          [
           "George Russell",
           "Williams"
          ],
          [
           "George Russell",
           "Williams"
          ],
          [
           "George Russell",
           "Williams"
          ],
          [
           "George Russell",
           "Williams"
          ],
          [
           "George Russell",
           "Williams"
          ],
          [
           "George Russell",
           "Williams"
          ],
          [
           "George Russell",
           "Williams"
          ],
          [
           "George Russell",
           "Williams"
          ],
          [
           "George Russell",
           "Williams"
          ],
          [
           "George Russell",
           "Williams"
          ],
          [
           "George Russell",
           "Williams"
          ],
          [
           "George Russell",
           "Williams"
          ],
          [
           "George Russell",
           "Williams"
          ],
          [
           "George Russell",
           "Williams"
          ],
          [
           "George Russell",
           "Williams"
          ],
          [
           "George Russell",
           "Williams"
          ],
          [
           "George Russell",
           "Williams"
          ],
          [
           "George Russell",
           "Williams"
          ],
          [
           "George Russell",
           "Williams"
          ],
          [
           "George Russell",
           "Williams"
          ]
         ],
         "hovertemplate": "<b>%{hovertext}</b><br><br>lap=%{x}<br>seconds=%{y}<br>constructorRef=%{customdata[1]}<extra></extra>",
         "hovertext": [
          "George Russell",
          "George Russell",
          "George Russell",
          "George Russell",
          "George Russell",
          "George Russell",
          "George Russell",
          "George Russell",
          "George Russell",
          "George Russell",
          "George Russell",
          "George Russell",
          "George Russell",
          "George Russell",
          "George Russell",
          "George Russell",
          "George Russell",
          "George Russell",
          "George Russell",
          "George Russell",
          "George Russell",
          "George Russell",
          "George Russell",
          "George Russell",
          "George Russell",
          "George Russell",
          "George Russell",
          "George Russell",
          "George Russell",
          "George Russell",
          "George Russell",
          "George Russell",
          "George Russell",
          "George Russell",
          "George Russell",
          "George Russell",
          "George Russell",
          "George Russell",
          "George Russell",
          "George Russell",
          "George Russell",
          "George Russell",
          "George Russell",
          "George Russell",
          "George Russell",
          "George Russell",
          "George Russell",
          "George Russell",
          "George Russell",
          "George Russell",
          "George Russell",
          "George Russell"
         ],
         "legendgroup": "George Russell",
         "line": {
          "color": "#0082FA",
          "dash": "solid"
         },
         "mode": "lines",
         "name": "George Russell",
         "orientation": "v",
         "showlegend": true,
         "type": "scatter",
         "x": [
          1,
          2,
          3,
          4,
          5,
          6,
          7,
          8,
          9,
          10,
          11,
          12,
          13,
          14,
          15,
          16,
          17,
          18,
          19,
          20,
          21,
          22,
          23,
          24,
          25,
          26,
          27,
          28,
          29,
          30,
          31,
          32,
          33,
          34,
          35,
          36,
          37,
          38,
          39,
          40,
          41,
          42,
          43,
          44,
          45,
          46,
          47,
          48,
          49,
          50,
          51,
          52
         ],
         "xaxis": "x",
         "y": [
          105.216,
          137.923,
          150.975,
          154.25,
          123.937,
          95.055,
          94.479,
          93.527,
          93.881,
          93.647,
          93.694,
          103.329,
          144.811,
          126.147,
          151.723,
          159.796,
          154.181,
          128.939,
          97.267,
          94.245,
          93.088,
          93.243,
          93.019,
          93.046,
          92.565,
          92.499,
          91.94,
          92.047,
          91.721,
          91.546,
          91.957,
          91.683,
          91.423,
          91.112,
          91.707,
          91.759,
          91.343,
          91.338,
          91.095,
          91.038,
          90.862,
          91.359,
          91.309,
          91.099,
          92.419,
          91.461,
          90.88,
          91.146,
          90.862,
          91.573,
          91.858,
          92.268
         ],
         "yaxis": "y"
        },
        {
         "customdata": [
          [
           "Carlos Sainz",
           "Mclaren"
          ],
          [
           "Carlos Sainz",
           "Mclaren"
          ],
          [
           "Carlos Sainz",
           "Mclaren"
          ],
          [
           "Carlos Sainz",
           "Mclaren"
          ],
          [
           "Carlos Sainz",
           "Mclaren"
          ],
          [
           "Carlos Sainz",
           "Mclaren"
          ],
          [
           "Carlos Sainz",
           "Mclaren"
          ],
          [
           "Carlos Sainz",
           "Mclaren"
          ],
          [
           "Carlos Sainz",
           "Mclaren"
          ],
          [
           "Carlos Sainz",
           "Mclaren"
          ],
          [
           "Carlos Sainz",
           "Mclaren"
          ],
          [
           "Carlos Sainz",
           "Mclaren"
          ],
          [
           "Carlos Sainz",
           "Mclaren"
          ],
          [
           "Carlos Sainz",
           "Mclaren"
          ],
          [
           "Carlos Sainz",
           "Mclaren"
          ],
          [
           "Carlos Sainz",
           "Mclaren"
          ],
          [
           "Carlos Sainz",
           "Mclaren"
          ],
          [
           "Carlos Sainz",
           "Mclaren"
          ],
          [
           "Carlos Sainz",
           "Mclaren"
          ],
          [
           "Carlos Sainz",
           "Mclaren"
          ],
          [
           "Carlos Sainz",
           "Mclaren"
          ],
          [
           "Carlos Sainz",
           "Mclaren"
          ],
          [
           "Carlos Sainz",
           "Mclaren"
          ],
          [
           "Carlos Sainz",
           "Mclaren"
          ],
          [
           "Carlos Sainz",
           "Mclaren"
          ],
          [
           "Carlos Sainz",
           "Mclaren"
          ],
          [
           "Carlos Sainz",
           "Mclaren"
          ],
          [
           "Carlos Sainz",
           "Mclaren"
          ],
          [
           "Carlos Sainz",
           "Mclaren"
          ],
          [
           "Carlos Sainz",
           "Mclaren"
          ],
          [
           "Carlos Sainz",
           "Mclaren"
          ],
          [
           "Carlos Sainz",
           "Mclaren"
          ],
          [
           "Carlos Sainz",
           "Mclaren"
          ],
          [
           "Carlos Sainz",
           "Mclaren"
          ],
          [
           "Carlos Sainz",
           "Mclaren"
          ],
          [
           "Carlos Sainz",
           "Mclaren"
          ],
          [
           "Carlos Sainz",
           "Mclaren"
          ],
          [
           "Carlos Sainz",
           "Mclaren"
          ],
          [
           "Carlos Sainz",
           "Mclaren"
          ],
          [
           "Carlos Sainz",
           "Mclaren"
          ],
          [
           "Carlos Sainz",
           "Mclaren"
          ],
          [
           "Carlos Sainz",
           "Mclaren"
          ],
          [
           "Carlos Sainz",
           "Mclaren"
          ],
          [
           "Carlos Sainz",
           "Mclaren"
          ],
          [
           "Carlos Sainz",
           "Mclaren"
          ],
          [
           "Carlos Sainz",
           "Mclaren"
          ],
          [
           "Carlos Sainz",
           "Mclaren"
          ],
          [
           "Carlos Sainz",
           "Mclaren"
          ],
          [
           "Carlos Sainz",
           "Mclaren"
          ],
          [
           "Carlos Sainz",
           "Mclaren"
          ],
          [
           "Carlos Sainz",
           "Mclaren"
          ],
          [
           "Carlos Sainz",
           "Mclaren"
          ]
         ],
         "hovertemplate": "<b>%{hovertext}</b><br><br>lap=%{x}<br>seconds=%{y}<br>constructorRef=%{customdata[1]}<extra></extra>",
         "hovertext": [
          "Carlos Sainz",
          "Carlos Sainz",
          "Carlos Sainz",
          "Carlos Sainz",
          "Carlos Sainz",
          "Carlos Sainz",
          "Carlos Sainz",
          "Carlos Sainz",
          "Carlos Sainz",
          "Carlos Sainz",
          "Carlos Sainz",
          "Carlos Sainz",
          "Carlos Sainz",
          "Carlos Sainz",
          "Carlos Sainz",
          "Carlos Sainz",
          "Carlos Sainz",
          "Carlos Sainz",
          "Carlos Sainz",
          "Carlos Sainz",
          "Carlos Sainz",
          "Carlos Sainz",
          "Carlos Sainz",
          "Carlos Sainz",
          "Carlos Sainz",
          "Carlos Sainz",
          "Carlos Sainz",
          "Carlos Sainz",
          "Carlos Sainz",
          "Carlos Sainz",
          "Carlos Sainz",
          "Carlos Sainz",
          "Carlos Sainz",
          "Carlos Sainz",
          "Carlos Sainz",
          "Carlos Sainz",
          "Carlos Sainz",
          "Carlos Sainz",
          "Carlos Sainz",
          "Carlos Sainz",
          "Carlos Sainz",
          "Carlos Sainz",
          "Carlos Sainz",
          "Carlos Sainz",
          "Carlos Sainz",
          "Carlos Sainz",
          "Carlos Sainz",
          "Carlos Sainz",
          "Carlos Sainz",
          "Carlos Sainz",
          "Carlos Sainz",
          "Carlos Sainz"
         ],
         "legendgroup": "Carlos Sainz",
         "line": {
          "color": "#FF8700",
          "dash": "solid"
         },
         "mode": "lines",
         "name": "Carlos Sainz",
         "orientation": "v",
         "showlegend": true,
         "type": "scatter",
         "x": [
          1,
          2,
          3,
          4,
          5,
          6,
          7,
          8,
          9,
          10,
          11,
          12,
          13,
          14,
          15,
          16,
          17,
          18,
          19,
          20,
          21,
          22,
          23,
          24,
          25,
          26,
          27,
          28,
          29,
          30,
          31,
          32,
          33,
          34,
          35,
          36,
          37,
          38,
          39,
          40,
          41,
          42,
          43,
          44,
          45,
          46,
          47,
          48,
          49,
          50,
          51,
          52
         ],
         "xaxis": "x",
         "y": [
          98.652,
          128.406,
          148.577,
          154.053,
          136.516,
          93.674,
          93.699,
          92.917,
          93.016,
          92.878,
          92.626,
          100.877,
          124.935,
          148.662,
          152.401,
          158.851,
          153.173,
          138.326,
          94.463,
          92.682,
          92.49,
          91.859,
          92.458,
          91.967,
          91.898,
          91.934,
          91.616,
          91.838,
          91.563,
          91.495,
          91.392,
          91.174,
          91.177,
          91.149,
          91.317,
          90.994,
          90.784,
          90.531,
          90.577,
          90.38,
          90.185,
          90.236,
          90.619,
          90.4,
          90.012,
          90.363,
          89.948,
          90.098,
          90.045,
          90.287,
          97.06,
          117.423
         ],
         "yaxis": "y"
        },
        {
         "customdata": [
          [
           "Antonio Giovinazzi",
           "Alfa"
          ],
          [
           "Antonio Giovinazzi",
           "Alfa"
          ],
          [
           "Antonio Giovinazzi",
           "Alfa"
          ],
          [
           "Antonio Giovinazzi",
           "Alfa"
          ],
          [
           "Antonio Giovinazzi",
           "Alfa"
          ],
          [
           "Antonio Giovinazzi",
           "Alfa"
          ],
          [
           "Antonio Giovinazzi",
           "Alfa"
          ],
          [
           "Antonio Giovinazzi",
           "Alfa"
          ],
          [
           "Antonio Giovinazzi",
           "Alfa"
          ],
          [
           "Antonio Giovinazzi",
           "Alfa"
          ],
          [
           "Antonio Giovinazzi",
           "Alfa"
          ],
          [
           "Antonio Giovinazzi",
           "Alfa"
          ],
          [
           "Antonio Giovinazzi",
           "Alfa"
          ],
          [
           "Antonio Giovinazzi",
           "Alfa"
          ],
          [
           "Antonio Giovinazzi",
           "Alfa"
          ],
          [
           "Antonio Giovinazzi",
           "Alfa"
          ],
          [
           "Antonio Giovinazzi",
           "Alfa"
          ],
          [
           "Antonio Giovinazzi",
           "Alfa"
          ],
          [
           "Antonio Giovinazzi",
           "Alfa"
          ],
          [
           "Antonio Giovinazzi",
           "Alfa"
          ],
          [
           "Antonio Giovinazzi",
           "Alfa"
          ],
          [
           "Antonio Giovinazzi",
           "Alfa"
          ],
          [
           "Antonio Giovinazzi",
           "Alfa"
          ],
          [
           "Antonio Giovinazzi",
           "Alfa"
          ],
          [
           "Antonio Giovinazzi",
           "Alfa"
          ],
          [
           "Antonio Giovinazzi",
           "Alfa"
          ],
          [
           "Antonio Giovinazzi",
           "Alfa"
          ],
          [
           "Antonio Giovinazzi",
           "Alfa"
          ],
          [
           "Antonio Giovinazzi",
           "Alfa"
          ],
          [
           "Antonio Giovinazzi",
           "Alfa"
          ],
          [
           "Antonio Giovinazzi",
           "Alfa"
          ],
          [
           "Antonio Giovinazzi",
           "Alfa"
          ],
          [
           "Antonio Giovinazzi",
           "Alfa"
          ],
          [
           "Antonio Giovinazzi",
           "Alfa"
          ],
          [
           "Antonio Giovinazzi",
           "Alfa"
          ],
          [
           "Antonio Giovinazzi",
           "Alfa"
          ],
          [
           "Antonio Giovinazzi",
           "Alfa"
          ],
          [
           "Antonio Giovinazzi",
           "Alfa"
          ],
          [
           "Antonio Giovinazzi",
           "Alfa"
          ],
          [
           "Antonio Giovinazzi",
           "Alfa"
          ],
          [
           "Antonio Giovinazzi",
           "Alfa"
          ],
          [
           "Antonio Giovinazzi",
           "Alfa"
          ],
          [
           "Antonio Giovinazzi",
           "Alfa"
          ],
          [
           "Antonio Giovinazzi",
           "Alfa"
          ],
          [
           "Antonio Giovinazzi",
           "Alfa"
          ],
          [
           "Antonio Giovinazzi",
           "Alfa"
          ],
          [
           "Antonio Giovinazzi",
           "Alfa"
          ],
          [
           "Antonio Giovinazzi",
           "Alfa"
          ],
          [
           "Antonio Giovinazzi",
           "Alfa"
          ],
          [
           "Antonio Giovinazzi",
           "Alfa"
          ],
          [
           "Antonio Giovinazzi",
           "Alfa"
          ],
          [
           "Antonio Giovinazzi",
           "Alfa"
          ]
         ],
         "hovertemplate": "<b>%{hovertext}</b><br><br>lap=%{x}<br>seconds=%{y}<br>constructorRef=%{customdata[1]}<extra></extra>",
         "hovertext": [
          "Antonio Giovinazzi",
          "Antonio Giovinazzi",
          "Antonio Giovinazzi",
          "Antonio Giovinazzi",
          "Antonio Giovinazzi",
          "Antonio Giovinazzi",
          "Antonio Giovinazzi",
          "Antonio Giovinazzi",
          "Antonio Giovinazzi",
          "Antonio Giovinazzi",
          "Antonio Giovinazzi",
          "Antonio Giovinazzi",
          "Antonio Giovinazzi",
          "Antonio Giovinazzi",
          "Antonio Giovinazzi",
          "Antonio Giovinazzi",
          "Antonio Giovinazzi",
          "Antonio Giovinazzi",
          "Antonio Giovinazzi",
          "Antonio Giovinazzi",
          "Antonio Giovinazzi",
          "Antonio Giovinazzi",
          "Antonio Giovinazzi",
          "Antonio Giovinazzi",
          "Antonio Giovinazzi",
          "Antonio Giovinazzi",
          "Antonio Giovinazzi",
          "Antonio Giovinazzi",
          "Antonio Giovinazzi",
          "Antonio Giovinazzi",
          "Antonio Giovinazzi",
          "Antonio Giovinazzi",
          "Antonio Giovinazzi",
          "Antonio Giovinazzi",
          "Antonio Giovinazzi",
          "Antonio Giovinazzi",
          "Antonio Giovinazzi",
          "Antonio Giovinazzi",
          "Antonio Giovinazzi",
          "Antonio Giovinazzi",
          "Antonio Giovinazzi",
          "Antonio Giovinazzi",
          "Antonio Giovinazzi",
          "Antonio Giovinazzi",
          "Antonio Giovinazzi",
          "Antonio Giovinazzi",
          "Antonio Giovinazzi",
          "Antonio Giovinazzi",
          "Antonio Giovinazzi",
          "Antonio Giovinazzi",
          "Antonio Giovinazzi",
          "Antonio Giovinazzi"
         ],
         "legendgroup": "Antonio Giovinazzi",
         "line": {
          "color": "#960000",
          "dash": "solid"
         },
         "mode": "lines",
         "name": "Antonio Giovinazzi",
         "orientation": "v",
         "showlegend": true,
         "type": "scatter",
         "x": [
          1,
          2,
          3,
          4,
          5,
          6,
          7,
          8,
          9,
          10,
          11,
          12,
          13,
          14,
          15,
          16,
          17,
          18,
          19,
          20,
          21,
          22,
          23,
          24,
          25,
          26,
          27,
          28,
          29,
          30,
          31,
          32,
          33,
          34,
          35,
          36,
          37,
          38,
          39,
          40,
          41,
          42,
          43,
          44,
          45,
          46,
          47,
          48,
          49,
          50,
          51,
          52
         ],
         "xaxis": "x",
         "y": [
          103.369,
          134.228,
          149.7,
          154.31,
          128.087,
          95.001,
          94.52,
          93.506,
          93.445,
          93.621,
          93.955,
          99.88,
          146.229,
          127.745,
          151.331,
          159.985,
          153.418,
          132.137,
          95.792,
          94.027,
          92.582,
          92.693,
          92.158,
          92.206,
          92.323,
          92.258,
          92.276,
          92.249,
          91.913,
          92.614,
          92.275,
          91.808,
          91.548,
          91.633,
          91.905,
          91.718,
          91.72,
          91.401,
          91.566,
          91.701,
          91.109,
          91.547,
          91.462,
          91.177,
          92.133,
          91.417,
          91.147,
          91.014,
          90.977,
          91.082,
          91.072,
          91.518
         ],
         "yaxis": "y"
        },
        {
         "customdata": [
          [
           "Nicholas Latifi",
           "Williams"
          ],
          [
           "Nicholas Latifi",
           "Williams"
          ],
          [
           "Nicholas Latifi",
           "Williams"
          ],
          [
           "Nicholas Latifi",
           "Williams"
          ],
          [
           "Nicholas Latifi",
           "Williams"
          ],
          [
           "Nicholas Latifi",
           "Williams"
          ],
          [
           "Nicholas Latifi",
           "Williams"
          ],
          [
           "Nicholas Latifi",
           "Williams"
          ],
          [
           "Nicholas Latifi",
           "Williams"
          ],
          [
           "Nicholas Latifi",
           "Williams"
          ],
          [
           "Nicholas Latifi",
           "Williams"
          ],
          [
           "Nicholas Latifi",
           "Williams"
          ],
          [
           "Nicholas Latifi",
           "Williams"
          ],
          [
           "Nicholas Latifi",
           "Williams"
          ],
          [
           "Nicholas Latifi",
           "Williams"
          ],
          [
           "Nicholas Latifi",
           "Williams"
          ],
          [
           "Nicholas Latifi",
           "Williams"
          ],
          [
           "Nicholas Latifi",
           "Williams"
          ],
          [
           "Nicholas Latifi",
           "Williams"
          ],
          [
           "Nicholas Latifi",
           "Williams"
          ],
          [
           "Nicholas Latifi",
           "Williams"
          ],
          [
           "Nicholas Latifi",
           "Williams"
          ],
          [
           "Nicholas Latifi",
           "Williams"
          ],
          [
           "Nicholas Latifi",
           "Williams"
          ],
          [
           "Nicholas Latifi",
           "Williams"
          ],
          [
           "Nicholas Latifi",
           "Williams"
          ],
          [
           "Nicholas Latifi",
           "Williams"
          ],
          [
           "Nicholas Latifi",
           "Williams"
          ],
          [
           "Nicholas Latifi",
           "Williams"
          ],
          [
           "Nicholas Latifi",
           "Williams"
          ],
          [
           "Nicholas Latifi",
           "Williams"
          ],
          [
           "Nicholas Latifi",
           "Williams"
          ],
          [
           "Nicholas Latifi",
           "Williams"
          ],
          [
           "Nicholas Latifi",
           "Williams"
          ],
          [
           "Nicholas Latifi",
           "Williams"
          ],
          [
           "Nicholas Latifi",
           "Williams"
          ],
          [
           "Nicholas Latifi",
           "Williams"
          ],
          [
           "Nicholas Latifi",
           "Williams"
          ],
          [
           "Nicholas Latifi",
           "Williams"
          ],
          [
           "Nicholas Latifi",
           "Williams"
          ],
          [
           "Nicholas Latifi",
           "Williams"
          ],
          [
           "Nicholas Latifi",
           "Williams"
          ],
          [
           "Nicholas Latifi",
           "Williams"
          ],
          [
           "Nicholas Latifi",
           "Williams"
          ],
          [
           "Nicholas Latifi",
           "Williams"
          ],
          [
           "Nicholas Latifi",
           "Williams"
          ],
          [
           "Nicholas Latifi",
           "Williams"
          ],
          [
           "Nicholas Latifi",
           "Williams"
          ],
          [
           "Nicholas Latifi",
           "Williams"
          ],
          [
           "Nicholas Latifi",
           "Williams"
          ],
          [
           "Nicholas Latifi",
           "Williams"
          ],
          [
           "Nicholas Latifi",
           "Williams"
          ]
         ],
         "hovertemplate": "<b>%{hovertext}</b><br><br>lap=%{x}<br>seconds=%{y}<br>constructorRef=%{customdata[1]}<extra></extra>",
         "hovertext": [
          "Nicholas Latifi",
          "Nicholas Latifi",
          "Nicholas Latifi",
          "Nicholas Latifi",
          "Nicholas Latifi",
          "Nicholas Latifi",
          "Nicholas Latifi",
          "Nicholas Latifi",
          "Nicholas Latifi",
          "Nicholas Latifi",
          "Nicholas Latifi",
          "Nicholas Latifi",
          "Nicholas Latifi",
          "Nicholas Latifi",
          "Nicholas Latifi",
          "Nicholas Latifi",
          "Nicholas Latifi",
          "Nicholas Latifi",
          "Nicholas Latifi",
          "Nicholas Latifi",
          "Nicholas Latifi",
          "Nicholas Latifi",
          "Nicholas Latifi",
          "Nicholas Latifi",
          "Nicholas Latifi",
          "Nicholas Latifi",
          "Nicholas Latifi",
          "Nicholas Latifi",
          "Nicholas Latifi",
          "Nicholas Latifi",
          "Nicholas Latifi",
          "Nicholas Latifi",
          "Nicholas Latifi",
          "Nicholas Latifi",
          "Nicholas Latifi",
          "Nicholas Latifi",
          "Nicholas Latifi",
          "Nicholas Latifi",
          "Nicholas Latifi",
          "Nicholas Latifi",
          "Nicholas Latifi",
          "Nicholas Latifi",
          "Nicholas Latifi",
          "Nicholas Latifi",
          "Nicholas Latifi",
          "Nicholas Latifi",
          "Nicholas Latifi",
          "Nicholas Latifi",
          "Nicholas Latifi",
          "Nicholas Latifi",
          "Nicholas Latifi",
          "Nicholas Latifi"
         ],
         "legendgroup": "Nicholas Latifi",
         "line": {
          "color": "#0082FA",
          "dash": "solid"
         },
         "mode": "lines",
         "name": "Nicholas Latifi",
         "orientation": "v",
         "showlegend": true,
         "type": "scatter",
         "x": [
          1,
          2,
          3,
          4,
          5,
          6,
          7,
          8,
          9,
          10,
          11,
          12,
          13,
          14,
          15,
          16,
          17,
          18,
          19,
          20,
          21,
          22,
          23,
          24,
          25,
          26,
          27,
          28,
          29,
          30,
          31,
          32,
          33,
          34,
          35,
          36,
          37,
          38,
          39,
          40,
          41,
          42,
          43,
          44,
          45,
          46,
          47,
          48,
          49,
          50,
          51,
          52
         ],
         "xaxis": "x",
         "y": [
          105.776,
          138.757,
          150.708,
          154.814,
          122.869,
          95.352,
          94.776,
          93.672,
          94.243,
          93.964,
          93.264,
          107.83,
          148.133,
          119.905,
          151.968,
          158.734,
          154.151,
          127.362,
          97.147,
          94.695,
          93.51,
          93.027,
          92.937,
          92.793,
          92.345,
          92.503,
          92.676,
          92.895,
          92.37,
          92.1,
          92.153,
          91.562,
          91.96,
          92.119,
          91.858,
          91.993,
          91.298,
          91.243,
          91.345,
          91.082,
          91.617,
          91.16,
          91.09,
          90.501,
          91.27,
          91.019,
          91.008,
          90.871,
          90.915,
          91.119,
          91.227,
          92.146
         ],
         "yaxis": "y"
        },
        {
         "customdata": [
          [
           "Romain Grosjean",
           "Haas"
          ],
          [
           "Romain Grosjean",
           "Haas"
          ],
          [
           "Romain Grosjean",
           "Haas"
          ],
          [
           "Romain Grosjean",
           "Haas"
          ],
          [
           "Romain Grosjean",
           "Haas"
          ],
          [
           "Romain Grosjean",
           "Haas"
          ],
          [
           "Romain Grosjean",
           "Haas"
          ],
          [
           "Romain Grosjean",
           "Haas"
          ],
          [
           "Romain Grosjean",
           "Haas"
          ],
          [
           "Romain Grosjean",
           "Haas"
          ],
          [
           "Romain Grosjean",
           "Haas"
          ],
          [
           "Romain Grosjean",
           "Haas"
          ],
          [
           "Romain Grosjean",
           "Haas"
          ],
          [
           "Romain Grosjean",
           "Haas"
          ],
          [
           "Romain Grosjean",
           "Haas"
          ],
          [
           "Romain Grosjean",
           "Haas"
          ],
          [
           "Romain Grosjean",
           "Haas"
          ],
          [
           "Romain Grosjean",
           "Haas"
          ],
          [
           "Romain Grosjean",
           "Haas"
          ],
          [
           "Romain Grosjean",
           "Haas"
          ],
          [
           "Romain Grosjean",
           "Haas"
          ],
          [
           "Romain Grosjean",
           "Haas"
          ],
          [
           "Romain Grosjean",
           "Haas"
          ],
          [
           "Romain Grosjean",
           "Haas"
          ],
          [
           "Romain Grosjean",
           "Haas"
          ],
          [
           "Romain Grosjean",
           "Haas"
          ],
          [
           "Romain Grosjean",
           "Haas"
          ],
          [
           "Romain Grosjean",
           "Haas"
          ],
          [
           "Romain Grosjean",
           "Haas"
          ],
          [
           "Romain Grosjean",
           "Haas"
          ],
          [
           "Romain Grosjean",
           "Haas"
          ],
          [
           "Romain Grosjean",
           "Haas"
          ],
          [
           "Romain Grosjean",
           "Haas"
          ],
          [
           "Romain Grosjean",
           "Haas"
          ],
          [
           "Romain Grosjean",
           "Haas"
          ],
          [
           "Romain Grosjean",
           "Haas"
          ],
          [
           "Romain Grosjean",
           "Haas"
          ],
          [
           "Romain Grosjean",
           "Haas"
          ],
          [
           "Romain Grosjean",
           "Haas"
          ],
          [
           "Romain Grosjean",
           "Haas"
          ],
          [
           "Romain Grosjean",
           "Haas"
          ],
          [
           "Romain Grosjean",
           "Haas"
          ],
          [
           "Romain Grosjean",
           "Haas"
          ],
          [
           "Romain Grosjean",
           "Haas"
          ],
          [
           "Romain Grosjean",
           "Haas"
          ],
          [
           "Romain Grosjean",
           "Haas"
          ],
          [
           "Romain Grosjean",
           "Haas"
          ],
          [
           "Romain Grosjean",
           "Haas"
          ],
          [
           "Romain Grosjean",
           "Haas"
          ],
          [
           "Romain Grosjean",
           "Haas"
          ],
          [
           "Romain Grosjean",
           "Haas"
          ],
          [
           "Romain Grosjean",
           "Haas"
          ]
         ],
         "hovertemplate": "<b>%{hovertext}</b><br><br>lap=%{x}<br>seconds=%{y}<br>constructorRef=%{customdata[1]}<extra></extra>",
         "hovertext": [
          "Romain Grosjean",
          "Romain Grosjean",
          "Romain Grosjean",
          "Romain Grosjean",
          "Romain Grosjean",
          "Romain Grosjean",
          "Romain Grosjean",
          "Romain Grosjean",
          "Romain Grosjean",
          "Romain Grosjean",
          "Romain Grosjean",
          "Romain Grosjean",
          "Romain Grosjean",
          "Romain Grosjean",
          "Romain Grosjean",
          "Romain Grosjean",
          "Romain Grosjean",
          "Romain Grosjean",
          "Romain Grosjean",
          "Romain Grosjean",
          "Romain Grosjean",
          "Romain Grosjean",
          "Romain Grosjean",
          "Romain Grosjean",
          "Romain Grosjean",
          "Romain Grosjean",
          "Romain Grosjean",
          "Romain Grosjean",
          "Romain Grosjean",
          "Romain Grosjean",
          "Romain Grosjean",
          "Romain Grosjean",
          "Romain Grosjean",
          "Romain Grosjean",
          "Romain Grosjean",
          "Romain Grosjean",
          "Romain Grosjean",
          "Romain Grosjean",
          "Romain Grosjean",
          "Romain Grosjean",
          "Romain Grosjean",
          "Romain Grosjean",
          "Romain Grosjean",
          "Romain Grosjean",
          "Romain Grosjean",
          "Romain Grosjean",
          "Romain Grosjean",
          "Romain Grosjean",
          "Romain Grosjean",
          "Romain Grosjean",
          "Romain Grosjean",
          "Romain Grosjean"
         ],
         "legendgroup": "Romain Grosjean",
         "line": {
          "color": "#787878",
          "dash": "solid"
         },
         "mode": "lines",
         "name": "Romain Grosjean",
         "orientation": "v",
         "showlegend": true,
         "type": "scatter",
         "x": [
          1,
          2,
          3,
          4,
          5,
          6,
          7,
          8,
          9,
          10,
          11,
          12,
          13,
          14,
          15,
          16,
          17,
          18,
          19,
          20,
          21,
          22,
          23,
          24,
          25,
          26,
          27,
          28,
          29,
          30,
          31,
          32,
          33,
          34,
          35,
          36,
          37,
          38,
          39,
          40,
          41,
          42,
          43,
          44,
          45,
          46,
          47,
          48,
          49,
          50,
          51,
          52
         ],
         "xaxis": "x",
         "y": [
          104.267,
          136.618,
          150.42,
          154.305,
          125.987,
          94.525,
          94.24,
          93.672,
          93.467,
          93.607,
          93.605,
          104.987,
          128.326,
          130.741,
          151.069,
          159.117,
          153.187,
          139.878,
          94.042,
          92.647,
          92.736,
          93.137,
          92.632,
          93.129,
          92.537,
          92.307,
          91.885,
          91.76,
          91.708,
          91.447,
          91.398,
          91.447,
          91.124,
          91.067,
          91.662,
          93.318,
          118.576,
          90.862,
          90.365,
          90.148,
          89.919,
          90.644,
          90.84,
          90.57,
          90.321,
          89.965,
          90.261,
          90.062,
          89.782,
          90.013,
          90.318,
          91.68599999999999
         ],
         "yaxis": "y"
        },
        {
         "customdata": [
          [
           "Kimi Räikkönen",
           "Alfa"
          ],
          [
           "Kimi Räikkönen",
           "Alfa"
          ],
          [
           "Kimi Räikkönen",
           "Alfa"
          ],
          [
           "Kimi Räikkönen",
           "Alfa"
          ],
          [
           "Kimi Räikkönen",
           "Alfa"
          ],
          [
           "Kimi Räikkönen",
           "Alfa"
          ],
          [
           "Kimi Räikkönen",
           "Alfa"
          ],
          [
           "Kimi Räikkönen",
           "Alfa"
          ],
          [
           "Kimi Räikkönen",
           "Alfa"
          ],
          [
           "Kimi Räikkönen",
           "Alfa"
          ],
          [
           "Kimi Räikkönen",
           "Alfa"
          ],
          [
           "Kimi Räikkönen",
           "Alfa"
          ],
          [
           "Kimi Räikkönen",
           "Alfa"
          ],
          [
           "Kimi Räikkönen",
           "Alfa"
          ],
          [
           "Kimi Räikkönen",
           "Alfa"
          ],
          [
           "Kimi Räikkönen",
           "Alfa"
          ],
          [
           "Kimi Räikkönen",
           "Alfa"
          ],
          [
           "Kimi Räikkönen",
           "Alfa"
          ],
          [
           "Kimi Räikkönen",
           "Alfa"
          ],
          [
           "Kimi Räikkönen",
           "Alfa"
          ],
          [
           "Kimi Räikkönen",
           "Alfa"
          ],
          [
           "Kimi Räikkönen",
           "Alfa"
          ],
          [
           "Kimi Räikkönen",
           "Alfa"
          ],
          [
           "Kimi Räikkönen",
           "Alfa"
          ],
          [
           "Kimi Räikkönen",
           "Alfa"
          ],
          [
           "Kimi Räikkönen",
           "Alfa"
          ],
          [
           "Kimi Räikkönen",
           "Alfa"
          ],
          [
           "Kimi Räikkönen",
           "Alfa"
          ],
          [
           "Kimi Räikkönen",
           "Alfa"
          ],
          [
           "Kimi Räikkönen",
           "Alfa"
          ],
          [
           "Kimi Räikkönen",
           "Alfa"
          ],
          [
           "Kimi Räikkönen",
           "Alfa"
          ],
          [
           "Kimi Räikkönen",
           "Alfa"
          ],
          [
           "Kimi Räikkönen",
           "Alfa"
          ],
          [
           "Kimi Räikkönen",
           "Alfa"
          ],
          [
           "Kimi Räikkönen",
           "Alfa"
          ],
          [
           "Kimi Räikkönen",
           "Alfa"
          ],
          [
           "Kimi Räikkönen",
           "Alfa"
          ],
          [
           "Kimi Räikkönen",
           "Alfa"
          ],
          [
           "Kimi Räikkönen",
           "Alfa"
          ],
          [
           "Kimi Räikkönen",
           "Alfa"
          ],
          [
           "Kimi Räikkönen",
           "Alfa"
          ],
          [
           "Kimi Räikkönen",
           "Alfa"
          ],
          [
           "Kimi Räikkönen",
           "Alfa"
          ],
          [
           "Kimi Räikkönen",
           "Alfa"
          ],
          [
           "Kimi Räikkönen",
           "Alfa"
          ],
          [
           "Kimi Räikkönen",
           "Alfa"
          ],
          [
           "Kimi Räikkönen",
           "Alfa"
          ],
          [
           "Kimi Räikkönen",
           "Alfa"
          ],
          [
           "Kimi Räikkönen",
           "Alfa"
          ],
          [
           "Kimi Räikkönen",
           "Alfa"
          ]
         ],
         "hovertemplate": "<b>%{hovertext}</b><br><br>lap=%{x}<br>seconds=%{y}<br>constructorRef=%{customdata[1]}<extra></extra>",
         "hovertext": [
          "Kimi Räikkönen",
          "Kimi Räikkönen",
          "Kimi Räikkönen",
          "Kimi Räikkönen",
          "Kimi Räikkönen",
          "Kimi Räikkönen",
          "Kimi Räikkönen",
          "Kimi Räikkönen",
          "Kimi Räikkönen",
          "Kimi Räikkönen",
          "Kimi Räikkönen",
          "Kimi Räikkönen",
          "Kimi Räikkönen",
          "Kimi Räikkönen",
          "Kimi Räikkönen",
          "Kimi Räikkönen",
          "Kimi Räikkönen",
          "Kimi Räikkönen",
          "Kimi Räikkönen",
          "Kimi Räikkönen",
          "Kimi Räikkönen",
          "Kimi Räikkönen",
          "Kimi Räikkönen",
          "Kimi Räikkönen",
          "Kimi Räikkönen",
          "Kimi Räikkönen",
          "Kimi Räikkönen",
          "Kimi Räikkönen",
          "Kimi Räikkönen",
          "Kimi Räikkönen",
          "Kimi Räikkönen",
          "Kimi Räikkönen",
          "Kimi Räikkönen",
          "Kimi Räikkönen",
          "Kimi Räikkönen",
          "Kimi Räikkönen",
          "Kimi Räikkönen",
          "Kimi Räikkönen",
          "Kimi Räikkönen",
          "Kimi Räikkönen",
          "Kimi Räikkönen",
          "Kimi Räikkönen",
          "Kimi Räikkönen",
          "Kimi Räikkönen",
          "Kimi Räikkönen",
          "Kimi Räikkönen",
          "Kimi Räikkönen",
          "Kimi Räikkönen",
          "Kimi Räikkönen",
          "Kimi Räikkönen",
          "Kimi Räikkönen"
         ],
         "legendgroup": "Kimi Räikkönen",
         "line": {
          "color": "#960000",
          "dash": "solid"
         },
         "mode": "lines",
         "name": "Kimi Räikkönen",
         "orientation": "v",
         "showlegend": true,
         "type": "scatter",
         "x": [
          1,
          2,
          3,
          4,
          5,
          6,
          7,
          8,
          9,
          10,
          11,
          12,
          13,
          14,
          15,
          16,
          17,
          18,
          19,
          20,
          21,
          22,
          23,
          24,
          25,
          26,
          27,
          28,
          29,
          30,
          31,
          32,
          33,
          34,
          35,
          36,
          37,
          38,
          39,
          40,
          41,
          42,
          43,
          44,
          45,
          46,
          47,
          48,
          49,
          50,
          51
         ],
         "xaxis": "x",
         "y": [
          104.681,
          137.416,
          150.462,
          154.132,
          125.243,
          94.648,
          94.393,
          93.674,
          93.527,
          93.528,
          93.314,
          104.246,
          151.039,
          122.097,
          151.24,
          159.999,
          154.087,
          128.167,
          95.995,
          94.126,
          93.056,
          92.719,
          93.912,
          92.919,
          92.637,
          92.501,
          93.448,
          92.877,
          92.104,
          92.254,
          92.259,
          93.041,
          92.315,
          92.497,
          92.691,
          91.974,
          91.675,
          91.798,
          92.524,
          91.788,
          91.718,
          92.292,
          91.7,
          92.058,
          91.859,
          91.494,
          114.836,
          128.309,
          89.973,
          92.679,
          96.344
         ],
         "yaxis": "y"
        },
        {
         "customdata": [
          [
           "Kevin Magnussen",
           "Haas"
          ]
         ],
         "hovertemplate": "<b>%{hovertext}</b><br><br>lap=%{x}<br>seconds=%{y}<br>constructorRef=%{customdata[1]}<extra></extra>",
         "hovertext": [
          "Kevin Magnussen"
         ],
         "legendgroup": "Kevin Magnussen",
         "line": {
          "color": "#787878",
          "dash": "solid"
         },
         "mode": "lines",
         "name": "Kevin Magnussen",
         "orientation": "v",
         "showlegend": true,
         "type": "scatter",
         "x": [
          1
         ],
         "xaxis": "x",
         "y": [
          103.754
         ],
         "yaxis": "y"
        },
        {
         "customdata": [
          [
           "Daniil Kvyat",
           "Alphatauri"
          ],
          [
           "Daniil Kvyat",
           "Alphatauri"
          ],
          [
           "Daniil Kvyat",
           "Alphatauri"
          ],
          [
           "Daniil Kvyat",
           "Alphatauri"
          ],
          [
           "Daniil Kvyat",
           "Alphatauri"
          ],
          [
           "Daniil Kvyat",
           "Alphatauri"
          ],
          [
           "Daniil Kvyat",
           "Alphatauri"
          ],
          [
           "Daniil Kvyat",
           "Alphatauri"
          ],
          [
           "Daniil Kvyat",
           "Alphatauri"
          ],
          [
           "Daniil Kvyat",
           "Alphatauri"
          ],
          [
           "Daniil Kvyat",
           "Alphatauri"
          ]
         ],
         "hovertemplate": "<b>%{hovertext}</b><br><br>lap=%{x}<br>seconds=%{y}<br>constructorRef=%{customdata[1]}<extra></extra>",
         "hovertext": [
          "Daniil Kvyat",
          "Daniil Kvyat",
          "Daniil Kvyat",
          "Daniil Kvyat",
          "Daniil Kvyat",
          "Daniil Kvyat",
          "Daniil Kvyat",
          "Daniil Kvyat",
          "Daniil Kvyat",
          "Daniil Kvyat",
          "Daniil Kvyat"
         ],
         "legendgroup": "Daniil Kvyat",
         "line": {
          "color": "#C8C8C8",
          "dash": "solid"
         },
         "mode": "lines",
         "name": "Daniil Kvyat",
         "orientation": "v",
         "showlegend": true,
         "type": "scatter",
         "x": [
          1,
          2,
          3,
          4,
          5,
          6,
          7,
          8,
          9,
          10,
          11
         ],
         "xaxis": "x",
         "y": [
          103.748,
          135.827,
          149.324,
          155.038,
          126.77,
          94.683,
          94.402,
          93.521,
          93.384,
          93.461,
          92.443
         ],
         "yaxis": "y"
        }
       ],
       "layout": {
        "legend": {
         "title": {
          "text": "driverName"
         },
         "tracegroupgap": 0
        },
        "margin": {
         "t": 60
        },
        "template": {
         "data": {
          "bar": [
           {
            "error_x": {
             "color": "#2a3f5f"
            },
            "error_y": {
             "color": "#2a3f5f"
            },
            "marker": {
             "line": {
              "color": "#E5ECF6",
              "width": 0.5
             }
            },
            "type": "bar"
           }
          ],
          "barpolar": [
           {
            "marker": {
             "line": {
              "color": "#E5ECF6",
              "width": 0.5
             }
            },
            "type": "barpolar"
           }
          ],
          "carpet": [
           {
            "aaxis": {
             "endlinecolor": "#2a3f5f",
             "gridcolor": "white",
             "linecolor": "white",
             "minorgridcolor": "white",
             "startlinecolor": "#2a3f5f"
            },
            "baxis": {
             "endlinecolor": "#2a3f5f",
             "gridcolor": "white",
             "linecolor": "white",
             "minorgridcolor": "white",
             "startlinecolor": "#2a3f5f"
            },
            "type": "carpet"
           }
          ],
          "choropleth": [
           {
            "colorbar": {
             "outlinewidth": 0,
             "ticks": ""
            },
            "type": "choropleth"
           }
          ],
          "contour": [
           {
            "colorbar": {
             "outlinewidth": 0,
             "ticks": ""
            },
            "colorscale": [
             [
              0,
              "#0d0887"
             ],
             [
              0.1111111111111111,
              "#46039f"
             ],
             [
              0.2222222222222222,
              "#7201a8"
             ],
             [
              0.3333333333333333,
              "#9c179e"
             ],
             [
              0.4444444444444444,
              "#bd3786"
             ],
             [
              0.5555555555555556,
              "#d8576b"
             ],
             [
              0.6666666666666666,
              "#ed7953"
             ],
             [
              0.7777777777777778,
              "#fb9f3a"
             ],
             [
              0.8888888888888888,
              "#fdca26"
             ],
             [
              1,
              "#f0f921"
             ]
            ],
            "type": "contour"
           }
          ],
          "contourcarpet": [
           {
            "colorbar": {
             "outlinewidth": 0,
             "ticks": ""
            },
            "type": "contourcarpet"
           }
          ],
          "heatmap": [
           {
            "colorbar": {
             "outlinewidth": 0,
             "ticks": ""
            },
            "colorscale": [
             [
              0,
              "#0d0887"
             ],
             [
              0.1111111111111111,
              "#46039f"
             ],
             [
              0.2222222222222222,
              "#7201a8"
             ],
             [
              0.3333333333333333,
              "#9c179e"
             ],
             [
              0.4444444444444444,
              "#bd3786"
             ],
             [
              0.5555555555555556,
              "#d8576b"
             ],
             [
              0.6666666666666666,
              "#ed7953"
             ],
             [
              0.7777777777777778,
              "#fb9f3a"
             ],
             [
              0.8888888888888888,
              "#fdca26"
             ],
             [
              1,
              "#f0f921"
             ]
            ],
            "type": "heatmap"
           }
          ],
          "heatmapgl": [
           {
            "colorbar": {
             "outlinewidth": 0,
             "ticks": ""
            },
            "colorscale": [
             [
              0,
              "#0d0887"
             ],
             [
              0.1111111111111111,
              "#46039f"
             ],
             [
              0.2222222222222222,
              "#7201a8"
             ],
             [
              0.3333333333333333,
              "#9c179e"
             ],
             [
              0.4444444444444444,
              "#bd3786"
             ],
             [
              0.5555555555555556,
              "#d8576b"
             ],
             [
              0.6666666666666666,
              "#ed7953"
             ],
             [
              0.7777777777777778,
              "#fb9f3a"
             ],
             [
              0.8888888888888888,
              "#fdca26"
             ],
             [
              1,
              "#f0f921"
             ]
            ],
            "type": "heatmapgl"
           }
          ],
          "histogram": [
           {
            "marker": {
             "colorbar": {
              "outlinewidth": 0,
              "ticks": ""
             }
            },
            "type": "histogram"
           }
          ],
          "histogram2d": [
           {
            "colorbar": {
             "outlinewidth": 0,
             "ticks": ""
            },
            "colorscale": [
             [
              0,
              "#0d0887"
             ],
             [
              0.1111111111111111,
              "#46039f"
             ],
             [
              0.2222222222222222,
              "#7201a8"
             ],
             [
              0.3333333333333333,
              "#9c179e"
             ],
             [
              0.4444444444444444,
              "#bd3786"
             ],
             [
              0.5555555555555556,
              "#d8576b"
             ],
             [
              0.6666666666666666,
              "#ed7953"
             ],
             [
              0.7777777777777778,
              "#fb9f3a"
             ],
             [
              0.8888888888888888,
              "#fdca26"
             ],
             [
              1,
              "#f0f921"
             ]
            ],
            "type": "histogram2d"
           }
          ],
          "histogram2dcontour": [
           {
            "colorbar": {
             "outlinewidth": 0,
             "ticks": ""
            },
            "colorscale": [
             [
              0,
              "#0d0887"
             ],
             [
              0.1111111111111111,
              "#46039f"
             ],
             [
              0.2222222222222222,
              "#7201a8"
             ],
             [
              0.3333333333333333,
              "#9c179e"
             ],
             [
              0.4444444444444444,
              "#bd3786"
             ],
             [
              0.5555555555555556,
              "#d8576b"
             ],
             [
              0.6666666666666666,
              "#ed7953"
             ],
             [
              0.7777777777777778,
              "#fb9f3a"
             ],
             [
              0.8888888888888888,
              "#fdca26"
             ],
             [
              1,
              "#f0f921"
             ]
            ],
            "type": "histogram2dcontour"
           }
          ],
          "mesh3d": [
           {
            "colorbar": {
             "outlinewidth": 0,
             "ticks": ""
            },
            "type": "mesh3d"
           }
          ],
          "parcoords": [
           {
            "line": {
             "colorbar": {
              "outlinewidth": 0,
              "ticks": ""
             }
            },
            "type": "parcoords"
           }
          ],
          "pie": [
           {
            "automargin": true,
            "type": "pie"
           }
          ],
          "scatter": [
           {
            "marker": {
             "colorbar": {
              "outlinewidth": 0,
              "ticks": ""
             }
            },
            "type": "scatter"
           }
          ],
          "scatter3d": [
           {
            "line": {
             "colorbar": {
              "outlinewidth": 0,
              "ticks": ""
             }
            },
            "marker": {
             "colorbar": {
              "outlinewidth": 0,
              "ticks": ""
             }
            },
            "type": "scatter3d"
           }
          ],
          "scattercarpet": [
           {
            "marker": {
             "colorbar": {
              "outlinewidth": 0,
              "ticks": ""
             }
            },
            "type": "scattercarpet"
           }
          ],
          "scattergeo": [
           {
            "marker": {
             "colorbar": {
              "outlinewidth": 0,
              "ticks": ""
             }
            },
            "type": "scattergeo"
           }
          ],
          "scattergl": [
           {
            "marker": {
             "colorbar": {
              "outlinewidth": 0,
              "ticks": ""
             }
            },
            "type": "scattergl"
           }
          ],
          "scattermapbox": [
           {
            "marker": {
             "colorbar": {
              "outlinewidth": 0,
              "ticks": ""
             }
            },
            "type": "scattermapbox"
           }
          ],
          "scatterpolar": [
           {
            "marker": {
             "colorbar": {
              "outlinewidth": 0,
              "ticks": ""
             }
            },
            "type": "scatterpolar"
           }
          ],
          "scatterpolargl": [
           {
            "marker": {
             "colorbar": {
              "outlinewidth": 0,
              "ticks": ""
             }
            },
            "type": "scatterpolargl"
           }
          ],
          "scatterternary": [
           {
            "marker": {
             "colorbar": {
              "outlinewidth": 0,
              "ticks": ""
             }
            },
            "type": "scatterternary"
           }
          ],
          "surface": [
           {
            "colorbar": {
             "outlinewidth": 0,
             "ticks": ""
            },
            "colorscale": [
             [
              0,
              "#0d0887"
             ],
             [
              0.1111111111111111,
              "#46039f"
             ],
             [
              0.2222222222222222,
              "#7201a8"
             ],
             [
              0.3333333333333333,
              "#9c179e"
             ],
             [
              0.4444444444444444,
              "#bd3786"
             ],
             [
              0.5555555555555556,
              "#d8576b"
             ],
             [
              0.6666666666666666,
              "#ed7953"
             ],
             [
              0.7777777777777778,
              "#fb9f3a"
             ],
             [
              0.8888888888888888,
              "#fdca26"
             ],
             [
              1,
              "#f0f921"
             ]
            ],
            "type": "surface"
           }
          ],
          "table": [
           {
            "cells": {
             "fill": {
              "color": "#EBF0F8"
             },
             "line": {
              "color": "white"
             }
            },
            "header": {
             "fill": {
              "color": "#C8D4E3"
             },
             "line": {
              "color": "white"
             }
            },
            "type": "table"
           }
          ]
         },
         "layout": {
          "annotationdefaults": {
           "arrowcolor": "#2a3f5f",
           "arrowhead": 0,
           "arrowwidth": 1
          },
          "coloraxis": {
           "colorbar": {
            "outlinewidth": 0,
            "ticks": ""
           }
          },
          "colorscale": {
           "diverging": [
            [
             0,
             "#8e0152"
            ],
            [
             0.1,
             "#c51b7d"
            ],
            [
             0.2,
             "#de77ae"
            ],
            [
             0.3,
             "#f1b6da"
            ],
            [
             0.4,
             "#fde0ef"
            ],
            [
             0.5,
             "#f7f7f7"
            ],
            [
             0.6,
             "#e6f5d0"
            ],
            [
             0.7,
             "#b8e186"
            ],
            [
             0.8,
             "#7fbc41"
            ],
            [
             0.9,
             "#4d9221"
            ],
            [
             1,
             "#276419"
            ]
           ],
           "sequential": [
            [
             0,
             "#0d0887"
            ],
            [
             0.1111111111111111,
             "#46039f"
            ],
            [
             0.2222222222222222,
             "#7201a8"
            ],
            [
             0.3333333333333333,
             "#9c179e"
            ],
            [
             0.4444444444444444,
             "#bd3786"
            ],
            [
             0.5555555555555556,
             "#d8576b"
            ],
            [
             0.6666666666666666,
             "#ed7953"
            ],
            [
             0.7777777777777778,
             "#fb9f3a"
            ],
            [
             0.8888888888888888,
             "#fdca26"
            ],
            [
             1,
             "#f0f921"
            ]
           ],
           "sequentialminus": [
            [
             0,
             "#0d0887"
            ],
            [
             0.1111111111111111,
             "#46039f"
            ],
            [
             0.2222222222222222,
             "#7201a8"
            ],
            [
             0.3333333333333333,
             "#9c179e"
            ],
            [
             0.4444444444444444,
             "#bd3786"
            ],
            [
             0.5555555555555556,
             "#d8576b"
            ],
            [
             0.6666666666666666,
             "#ed7953"
            ],
            [
             0.7777777777777778,
             "#fb9f3a"
            ],
            [
             0.8888888888888888,
             "#fdca26"
            ],
            [
             1,
             "#f0f921"
            ]
           ]
          },
          "colorway": [
           "#636efa",
           "#EF553B",
           "#00cc96",
           "#ab63fa",
           "#FFA15A",
           "#19d3f3",
           "#FF6692",
           "#B6E880",
           "#FF97FF",
           "#FECB52"
          ],
          "font": {
           "color": "#2a3f5f"
          },
          "geo": {
           "bgcolor": "white",
           "lakecolor": "white",
           "landcolor": "#E5ECF6",
           "showlakes": true,
           "showland": true,
           "subunitcolor": "white"
          },
          "hoverlabel": {
           "align": "left"
          },
          "hovermode": "closest",
          "mapbox": {
           "style": "light"
          },
          "paper_bgcolor": "white",
          "plot_bgcolor": "#E5ECF6",
          "polar": {
           "angularaxis": {
            "gridcolor": "white",
            "linecolor": "white",
            "ticks": ""
           },
           "bgcolor": "#E5ECF6",
           "radialaxis": {
            "gridcolor": "white",
            "linecolor": "white",
            "ticks": ""
           }
          },
          "scene": {
           "xaxis": {
            "backgroundcolor": "#E5ECF6",
            "gridcolor": "white",
            "gridwidth": 2,
            "linecolor": "white",
            "showbackground": true,
            "ticks": "",
            "zerolinecolor": "white"
           },
           "yaxis": {
            "backgroundcolor": "#E5ECF6",
            "gridcolor": "white",
            "gridwidth": 2,
            "linecolor": "white",
            "showbackground": true,
            "ticks": "",
            "zerolinecolor": "white"
           },
           "zaxis": {
            "backgroundcolor": "#E5ECF6",
            "gridcolor": "white",
            "gridwidth": 2,
            "linecolor": "white",
            "showbackground": true,
            "ticks": "",
            "zerolinecolor": "white"
           }
          },
          "shapedefaults": {
           "line": {
            "color": "#2a3f5f"
           }
          },
          "ternary": {
           "aaxis": {
            "gridcolor": "white",
            "linecolor": "white",
            "ticks": ""
           },
           "baxis": {
            "gridcolor": "white",
            "linecolor": "white",
            "ticks": ""
           },
           "bgcolor": "#E5ECF6",
           "caxis": {
            "gridcolor": "white",
            "linecolor": "white",
            "ticks": ""
           }
          },
          "title": {
           "x": 0.05
          },
          "xaxis": {
           "automargin": true,
           "gridcolor": "white",
           "linecolor": "white",
           "ticks": "",
           "title": {
            "standoff": 15
           },
           "zerolinecolor": "white",
           "zerolinewidth": 2
          },
          "yaxis": {
           "automargin": true,
           "gridcolor": "white",
           "linecolor": "white",
           "ticks": "",
           "title": {
            "standoff": 15
           },
           "zerolinecolor": "white",
           "zerolinewidth": 2
          }
         }
        },
        "xaxis": {
         "anchor": "y",
         "domain": [
          0,
          1
         ],
         "title": {
          "text": "lap"
         }
        },
        "yaxis": {
         "anchor": "x",
         "domain": [
          0,
          1
         ],
         "title": {
          "text": "seconds"
         }
        }
       }
      },
      "text/html": [
       "<div>\n",
       "        \n",
       "        \n",
       "            <div id=\"c5a27a31-226c-48fb-a629-530b853209d7\" class=\"plotly-graph-div\" style=\"height:525px; width:100%;\"></div>\n",
       "            <script type=\"text/javascript\">\n",
       "                require([\"plotly\"], function(Plotly) {\n",
       "                    window.PLOTLYENV=window.PLOTLYENV || {};\n",
       "                    \n",
       "                if (document.getElementById(\"c5a27a31-226c-48fb-a629-530b853209d7\")) {\n",
       "                    Plotly.newPlot(\n",
       "                        'c5a27a31-226c-48fb-a629-530b853209d7',\n",
       "                        [{\"customdata\": [[\"Lewis Hamilton\", \"Mercedes\"], [\"Lewis Hamilton\", \"Mercedes\"], [\"Lewis Hamilton\", \"Mercedes\"], [\"Lewis Hamilton\", \"Mercedes\"], [\"Lewis Hamilton\", \"Mercedes\"], [\"Lewis Hamilton\", \"Mercedes\"], [\"Lewis Hamilton\", \"Mercedes\"], [\"Lewis Hamilton\", \"Mercedes\"], [\"Lewis Hamilton\", \"Mercedes\"], [\"Lewis Hamilton\", \"Mercedes\"], [\"Lewis Hamilton\", \"Mercedes\"], [\"Lewis Hamilton\", \"Mercedes\"], [\"Lewis Hamilton\", \"Mercedes\"], [\"Lewis Hamilton\", \"Mercedes\"], [\"Lewis Hamilton\", \"Mercedes\"], [\"Lewis Hamilton\", \"Mercedes\"], [\"Lewis Hamilton\", \"Mercedes\"], [\"Lewis Hamilton\", \"Mercedes\"], [\"Lewis Hamilton\", \"Mercedes\"], [\"Lewis Hamilton\", \"Mercedes\"], [\"Lewis Hamilton\", \"Mercedes\"], [\"Lewis Hamilton\", \"Mercedes\"], [\"Lewis Hamilton\", \"Mercedes\"], [\"Lewis Hamilton\", \"Mercedes\"], [\"Lewis Hamilton\", \"Mercedes\"], [\"Lewis Hamilton\", \"Mercedes\"], [\"Lewis Hamilton\", \"Mercedes\"], [\"Lewis Hamilton\", \"Mercedes\"], [\"Lewis Hamilton\", \"Mercedes\"], [\"Lewis Hamilton\", \"Mercedes\"], [\"Lewis Hamilton\", \"Mercedes\"], [\"Lewis Hamilton\", \"Mercedes\"], [\"Lewis Hamilton\", \"Mercedes\"], [\"Lewis Hamilton\", \"Mercedes\"], [\"Lewis Hamilton\", \"Mercedes\"], [\"Lewis Hamilton\", \"Mercedes\"], [\"Lewis Hamilton\", \"Mercedes\"], [\"Lewis Hamilton\", \"Mercedes\"], [\"Lewis Hamilton\", \"Mercedes\"], [\"Lewis Hamilton\", \"Mercedes\"], [\"Lewis Hamilton\", \"Mercedes\"], [\"Lewis Hamilton\", \"Mercedes\"], [\"Lewis Hamilton\", \"Mercedes\"], [\"Lewis Hamilton\", \"Mercedes\"], [\"Lewis Hamilton\", \"Mercedes\"], [\"Lewis Hamilton\", \"Mercedes\"], [\"Lewis Hamilton\", \"Mercedes\"], [\"Lewis Hamilton\", \"Mercedes\"], [\"Lewis Hamilton\", \"Mercedes\"], [\"Lewis Hamilton\", \"Mercedes\"], [\"Lewis Hamilton\", \"Mercedes\"], [\"Lewis Hamilton\", \"Mercedes\"]], \"hovertemplate\": \"<b>%{hovertext}</b><br><br>lap=%{x}<br>seconds=%{y}<br>constructorRef=%{customdata[1]}<extra></extra>\", \"hovertext\": [\"Lewis Hamilton\", \"Lewis Hamilton\", \"Lewis Hamilton\", \"Lewis Hamilton\", \"Lewis Hamilton\", \"Lewis Hamilton\", \"Lewis Hamilton\", \"Lewis Hamilton\", \"Lewis Hamilton\", \"Lewis Hamilton\", \"Lewis Hamilton\", \"Lewis Hamilton\", \"Lewis Hamilton\", \"Lewis Hamilton\", \"Lewis Hamilton\", \"Lewis Hamilton\", \"Lewis Hamilton\", \"Lewis Hamilton\", \"Lewis Hamilton\", \"Lewis Hamilton\", \"Lewis Hamilton\", \"Lewis Hamilton\", \"Lewis Hamilton\", \"Lewis Hamilton\", \"Lewis Hamilton\", \"Lewis Hamilton\", \"Lewis Hamilton\", \"Lewis Hamilton\", \"Lewis Hamilton\", \"Lewis Hamilton\", \"Lewis Hamilton\", \"Lewis Hamilton\", \"Lewis Hamilton\", \"Lewis Hamilton\", \"Lewis Hamilton\", \"Lewis Hamilton\", \"Lewis Hamilton\", \"Lewis Hamilton\", \"Lewis Hamilton\", \"Lewis Hamilton\", \"Lewis Hamilton\", \"Lewis Hamilton\", \"Lewis Hamilton\", \"Lewis Hamilton\", \"Lewis Hamilton\", \"Lewis Hamilton\", \"Lewis Hamilton\", \"Lewis Hamilton\", \"Lewis Hamilton\", \"Lewis Hamilton\", \"Lewis Hamilton\", \"Lewis Hamilton\"], \"legendgroup\": \"Lewis Hamilton\", \"line\": {\"color\": \"#00D2BE\", \"dash\": \"solid\"}, \"mode\": \"lines\", \"name\": \"Lewis Hamilton\", \"orientation\": \"v\", \"showlegend\": true, \"type\": \"scatter\", \"x\": [1, 2, 3, 4, 5, 6, 7, 8, 9, 10, 11, 12, 13, 14, 15, 16, 17, 18, 19, 20, 21, 22, 23, 24, 25, 26, 27, 28, 29, 30, 31, 32, 33, 34, 35, 36, 37, 38, 39, 40, 41, 42, 43, 44, 45, 46, 47, 48, 49, 50, 51, 52], \"xaxis\": \"x\", \"y\": [94.01, 126.445, 151.201, 152.874, 138.933, 90.533, 91.143, 90.943, 90.868, 90.838, 90.903, 90.705, 125.834, 167.254, 151.637, 158.09, 154.082, 142.988, 90.534, 90.371, 90.188, 90.324, 89.812, 90.127, 89.944, 90.162, 90.312, 90.266, 90.079, 89.712, 89.66, 89.995, 89.326, 89.321, 89.693, 89.688, 89.663, 89.553, 89.762, 89.282, 89.254, 89.269, 89.525, 89.364, 89.238, 89.432, 89.455, 89.821, 90.12, 91.081, 92.185, 115.484], \"yaxis\": \"y\"}, {\"customdata\": [[\"Max Verstappen\", \"Red_Bull\"], [\"Max Verstappen\", \"Red_Bull\"], [\"Max Verstappen\", \"Red_Bull\"], [\"Max Verstappen\", \"Red_Bull\"], [\"Max Verstappen\", \"Red_Bull\"], [\"Max Verstappen\", \"Red_Bull\"], [\"Max Verstappen\", \"Red_Bull\"], [\"Max Verstappen\", \"Red_Bull\"], [\"Max Verstappen\", \"Red_Bull\"], [\"Max Verstappen\", \"Red_Bull\"], [\"Max Verstappen\", \"Red_Bull\"], [\"Max Verstappen\", \"Red_Bull\"], [\"Max Verstappen\", \"Red_Bull\"], [\"Max Verstappen\", \"Red_Bull\"], [\"Max Verstappen\", \"Red_Bull\"], [\"Max Verstappen\", \"Red_Bull\"], [\"Max Verstappen\", \"Red_Bull\"], [\"Max Verstappen\", \"Red_Bull\"], [\"Max Verstappen\", \"Red_Bull\"], [\"Max Verstappen\", \"Red_Bull\"], [\"Max Verstappen\", \"Red_Bull\"], [\"Max Verstappen\", \"Red_Bull\"], [\"Max Verstappen\", \"Red_Bull\"], [\"Max Verstappen\", \"Red_Bull\"], [\"Max Verstappen\", \"Red_Bull\"], [\"Max Verstappen\", \"Red_Bull\"], [\"Max Verstappen\", \"Red_Bull\"], [\"Max Verstappen\", \"Red_Bull\"], [\"Max Verstappen\", \"Red_Bull\"], [\"Max Verstappen\", \"Red_Bull\"], [\"Max Verstappen\", \"Red_Bull\"], [\"Max Verstappen\", \"Red_Bull\"], [\"Max Verstappen\", \"Red_Bull\"], [\"Max Verstappen\", \"Red_Bull\"], [\"Max Verstappen\", \"Red_Bull\"], [\"Max Verstappen\", \"Red_Bull\"], [\"Max Verstappen\", \"Red_Bull\"], [\"Max Verstappen\", \"Red_Bull\"], [\"Max Verstappen\", \"Red_Bull\"], [\"Max Verstappen\", \"Red_Bull\"], [\"Max Verstappen\", \"Red_Bull\"], [\"Max Verstappen\", \"Red_Bull\"], [\"Max Verstappen\", \"Red_Bull\"], [\"Max Verstappen\", \"Red_Bull\"], [\"Max Verstappen\", \"Red_Bull\"], [\"Max Verstappen\", \"Red_Bull\"], [\"Max Verstappen\", \"Red_Bull\"], [\"Max Verstappen\", \"Red_Bull\"], [\"Max Verstappen\", \"Red_Bull\"], [\"Max Verstappen\", \"Red_Bull\"], [\"Max Verstappen\", \"Red_Bull\"], [\"Max Verstappen\", \"Red_Bull\"]], \"hovertemplate\": \"<b>%{hovertext}</b><br><br>lap=%{x}<br>seconds=%{y}<br>constructorRef=%{customdata[1]}<extra></extra>\", \"hovertext\": [\"Max Verstappen\", \"Max Verstappen\", \"Max Verstappen\", \"Max Verstappen\", \"Max Verstappen\", \"Max Verstappen\", \"Max Verstappen\", \"Max Verstappen\", \"Max Verstappen\", \"Max Verstappen\", \"Max Verstappen\", \"Max Verstappen\", \"Max Verstappen\", \"Max Verstappen\", \"Max Verstappen\", \"Max Verstappen\", \"Max Verstappen\", \"Max Verstappen\", \"Max Verstappen\", \"Max Verstappen\", \"Max Verstappen\", \"Max Verstappen\", \"Max Verstappen\", \"Max Verstappen\", \"Max Verstappen\", \"Max Verstappen\", \"Max Verstappen\", \"Max Verstappen\", \"Max Verstappen\", \"Max Verstappen\", \"Max Verstappen\", \"Max Verstappen\", \"Max Verstappen\", \"Max Verstappen\", \"Max Verstappen\", \"Max Verstappen\", \"Max Verstappen\", \"Max Verstappen\", \"Max Verstappen\", \"Max Verstappen\", \"Max Verstappen\", \"Max Verstappen\", \"Max Verstappen\", \"Max Verstappen\", \"Max Verstappen\", \"Max Verstappen\", \"Max Verstappen\", \"Max Verstappen\", \"Max Verstappen\", \"Max Verstappen\", \"Max Verstappen\", \"Max Verstappen\"], \"legendgroup\": \"Max Verstappen\", \"line\": {\"color\": \"#0600EF\", \"dash\": \"solid\"}, \"mode\": \"lines\", \"name\": \"Max Verstappen\", \"orientation\": \"v\", \"showlegend\": true, \"type\": \"scatter\", \"x\": [1, 2, 3, 4, 5, 6, 7, 8, 9, 10, 11, 12, 13, 14, 15, 16, 17, 18, 19, 20, 21, 22, 23, 24, 25, 26, 27, 28, 29, 30, 31, 32, 33, 34, 35, 36, 37, 38, 39, 40, 41, 42, 43, 44, 45, 46, 47, 48, 49, 50, 51, 52], \"xaxis\": \"x\", \"y\": [96.913, 126.326, 150.222, 152.99699999999999, 138.752, 91.959, 92.018, 91.374, 91.46, 91.143, 91.204, 91.181, 128.84, 161.018, 151.865, 157.513, 154.095, 141.921, 92.334, 91.096, 90.83, 90.503, 90.746, 91.03, 90.376, 90.415, 90.617, 90.447, 90.633, 90.417, 89.986, 90.101, 89.801, 89.783, 90.18, 89.917, 90.065, 90.24, 90.005, 89.985, 89.07, 89.389, 89.819, 89.671, 89.355, 90.046, 89.728, 89.572, 89.675, 91.697, 111.712, 87.097], \"yaxis\": \"y\"}, {\"customdata\": [[\"Charles Leclerc\", \"Ferrari\"], [\"Charles Leclerc\", \"Ferrari\"], [\"Charles Leclerc\", \"Ferrari\"], [\"Charles Leclerc\", \"Ferrari\"], [\"Charles Leclerc\", \"Ferrari\"], [\"Charles Leclerc\", \"Ferrari\"], [\"Charles Leclerc\", \"Ferrari\"], [\"Charles Leclerc\", \"Ferrari\"], [\"Charles Leclerc\", \"Ferrari\"], [\"Charles Leclerc\", \"Ferrari\"], [\"Charles Leclerc\", \"Ferrari\"], [\"Charles Leclerc\", \"Ferrari\"], [\"Charles Leclerc\", \"Ferrari\"], [\"Charles Leclerc\", \"Ferrari\"], [\"Charles Leclerc\", \"Ferrari\"], [\"Charles Leclerc\", \"Ferrari\"], [\"Charles Leclerc\", \"Ferrari\"], [\"Charles Leclerc\", \"Ferrari\"], [\"Charles Leclerc\", \"Ferrari\"], [\"Charles Leclerc\", \"Ferrari\"], [\"Charles Leclerc\", \"Ferrari\"], [\"Charles Leclerc\", \"Ferrari\"], [\"Charles Leclerc\", \"Ferrari\"], [\"Charles Leclerc\", \"Ferrari\"], [\"Charles Leclerc\", \"Ferrari\"], [\"Charles Leclerc\", \"Ferrari\"], [\"Charles Leclerc\", \"Ferrari\"], [\"Charles Leclerc\", \"Ferrari\"], [\"Charles Leclerc\", \"Ferrari\"], [\"Charles Leclerc\", \"Ferrari\"], [\"Charles Leclerc\", \"Ferrari\"], [\"Charles Leclerc\", \"Ferrari\"], [\"Charles Leclerc\", \"Ferrari\"], [\"Charles Leclerc\", \"Ferrari\"], [\"Charles Leclerc\", \"Ferrari\"], [\"Charles Leclerc\", \"Ferrari\"], [\"Charles Leclerc\", \"Ferrari\"], [\"Charles Leclerc\", \"Ferrari\"], [\"Charles Leclerc\", \"Ferrari\"], [\"Charles Leclerc\", \"Ferrari\"], [\"Charles Leclerc\", \"Ferrari\"], [\"Charles Leclerc\", \"Ferrari\"], [\"Charles Leclerc\", \"Ferrari\"], [\"Charles Leclerc\", \"Ferrari\"], [\"Charles Leclerc\", \"Ferrari\"], [\"Charles Leclerc\", \"Ferrari\"], [\"Charles Leclerc\", \"Ferrari\"], [\"Charles Leclerc\", \"Ferrari\"], [\"Charles Leclerc\", \"Ferrari\"], [\"Charles Leclerc\", \"Ferrari\"], [\"Charles Leclerc\", \"Ferrari\"], [\"Charles Leclerc\", \"Ferrari\"]], \"hovertemplate\": \"<b>%{hovertext}</b><br><br>lap=%{x}<br>seconds=%{y}<br>constructorRef=%{customdata[1]}<extra></extra>\", \"hovertext\": [\"Charles Leclerc\", \"Charles Leclerc\", \"Charles Leclerc\", \"Charles Leclerc\", \"Charles Leclerc\", \"Charles Leclerc\", \"Charles Leclerc\", \"Charles Leclerc\", \"Charles Leclerc\", \"Charles Leclerc\", \"Charles Leclerc\", \"Charles Leclerc\", \"Charles Leclerc\", \"Charles Leclerc\", \"Charles Leclerc\", \"Charles Leclerc\", \"Charles Leclerc\", \"Charles Leclerc\", \"Charles Leclerc\", \"Charles Leclerc\", \"Charles Leclerc\", \"Charles Leclerc\", \"Charles Leclerc\", \"Charles Leclerc\", \"Charles Leclerc\", \"Charles Leclerc\", \"Charles Leclerc\", \"Charles Leclerc\", \"Charles Leclerc\", \"Charles Leclerc\", \"Charles Leclerc\", \"Charles Leclerc\", \"Charles Leclerc\", \"Charles Leclerc\", \"Charles Leclerc\", \"Charles Leclerc\", \"Charles Leclerc\", \"Charles Leclerc\", \"Charles Leclerc\", \"Charles Leclerc\", \"Charles Leclerc\", \"Charles Leclerc\", \"Charles Leclerc\", \"Charles Leclerc\", \"Charles Leclerc\", \"Charles Leclerc\", \"Charles Leclerc\", \"Charles Leclerc\", \"Charles Leclerc\", \"Charles Leclerc\", \"Charles Leclerc\", \"Charles Leclerc\"], \"legendgroup\": \"Charles Leclerc\", \"line\": {\"color\": \"#C00000\", \"dash\": \"solid\"}, \"mode\": \"lines\", \"name\": \"Charles Leclerc\", \"orientation\": \"v\", \"showlegend\": true, \"type\": \"scatter\", \"x\": [1, 2, 3, 4, 5, 6, 7, 8, 9, 10, 11, 12, 13, 14, 15, 16, 17, 18, 19, 20, 21, 22, 23, 24, 25, 26, 27, 28, 29, 30, 31, 32, 33, 34, 35, 36, 37, 38, 39, 40, 41, 42, 43, 44, 45, 46, 47, 48, 49, 50, 51, 52], \"xaxis\": \"x\", \"y\": [97.904, 127.127, 149.468, 153.312, 138.18, 93.695, 92.95, 92.248, 92.519, 92.319, 92.183, 97.226, 126.304, 151.564, 151.323, 157.849, 154.156, 141.492, 93.614, 92.336, 91.866, 91.418, 91.547, 91.897, 91.421, 91.463, 91.589, 91.378, 91.448, 91.322, 91.644, 91.249, 91.201, 91.007, 91.807, 91.194, 90.93, 90.79, 90.46, 90.596, 90.104, 90.219, 90.512, 90.312, 90.196, 89.981, 90.068, 90.84, 89.813, 90.763, 90.447, 92.506], \"yaxis\": \"y\"}, {\"customdata\": [[\"Daniel Ricciardo\", \"Renault\"], [\"Daniel Ricciardo\", \"Renault\"], [\"Daniel Ricciardo\", \"Renault\"], [\"Daniel Ricciardo\", \"Renault\"], [\"Daniel Ricciardo\", \"Renault\"], [\"Daniel Ricciardo\", \"Renault\"], [\"Daniel Ricciardo\", \"Renault\"], [\"Daniel Ricciardo\", \"Renault\"], [\"Daniel Ricciardo\", \"Renault\"], [\"Daniel Ricciardo\", \"Renault\"], [\"Daniel Ricciardo\", \"Renault\"], [\"Daniel Ricciardo\", \"Renault\"], [\"Daniel Ricciardo\", \"Renault\"], [\"Daniel Ricciardo\", \"Renault\"], [\"Daniel Ricciardo\", \"Renault\"], [\"Daniel Ricciardo\", \"Renault\"], [\"Daniel Ricciardo\", \"Renault\"], [\"Daniel Ricciardo\", \"Renault\"], [\"Daniel Ricciardo\", \"Renault\"], [\"Daniel Ricciardo\", \"Renault\"], [\"Daniel Ricciardo\", \"Renault\"], [\"Daniel Ricciardo\", \"Renault\"], [\"Daniel Ricciardo\", \"Renault\"], [\"Daniel Ricciardo\", \"Renault\"], [\"Daniel Ricciardo\", \"Renault\"], [\"Daniel Ricciardo\", \"Renault\"], [\"Daniel Ricciardo\", \"Renault\"], [\"Daniel Ricciardo\", \"Renault\"], [\"Daniel Ricciardo\", \"Renault\"], [\"Daniel Ricciardo\", \"Renault\"], [\"Daniel Ricciardo\", \"Renault\"], [\"Daniel Ricciardo\", \"Renault\"], [\"Daniel Ricciardo\", \"Renault\"], [\"Daniel Ricciardo\", \"Renault\"], [\"Daniel Ricciardo\", \"Renault\"], [\"Daniel Ricciardo\", \"Renault\"], [\"Daniel Ricciardo\", \"Renault\"], [\"Daniel Ricciardo\", \"Renault\"], [\"Daniel Ricciardo\", \"Renault\"], [\"Daniel Ricciardo\", \"Renault\"], [\"Daniel Ricciardo\", \"Renault\"], [\"Daniel Ricciardo\", \"Renault\"], [\"Daniel Ricciardo\", \"Renault\"], [\"Daniel Ricciardo\", \"Renault\"], [\"Daniel Ricciardo\", \"Renault\"], [\"Daniel Ricciardo\", \"Renault\"], [\"Daniel Ricciardo\", \"Renault\"], [\"Daniel Ricciardo\", \"Renault\"], [\"Daniel Ricciardo\", \"Renault\"], [\"Daniel Ricciardo\", \"Renault\"], [\"Daniel Ricciardo\", \"Renault\"], [\"Daniel Ricciardo\", \"Renault\"]], \"hovertemplate\": \"<b>%{hovertext}</b><br><br>lap=%{x}<br>seconds=%{y}<br>constructorRef=%{customdata[1]}<extra></extra>\", \"hovertext\": [\"Daniel Ricciardo\", \"Daniel Ricciardo\", \"Daniel Ricciardo\", \"Daniel Ricciardo\", \"Daniel Ricciardo\", \"Daniel Ricciardo\", \"Daniel Ricciardo\", \"Daniel Ricciardo\", \"Daniel Ricciardo\", \"Daniel Ricciardo\", \"Daniel Ricciardo\", \"Daniel Ricciardo\", \"Daniel Ricciardo\", \"Daniel Ricciardo\", \"Daniel Ricciardo\", \"Daniel Ricciardo\", \"Daniel Ricciardo\", \"Daniel Ricciardo\", \"Daniel Ricciardo\", \"Daniel Ricciardo\", \"Daniel Ricciardo\", \"Daniel Ricciardo\", \"Daniel Ricciardo\", \"Daniel Ricciardo\", \"Daniel Ricciardo\", \"Daniel Ricciardo\", \"Daniel Ricciardo\", \"Daniel Ricciardo\", \"Daniel Ricciardo\", \"Daniel Ricciardo\", \"Daniel Ricciardo\", \"Daniel Ricciardo\", \"Daniel Ricciardo\", \"Daniel Ricciardo\", \"Daniel Ricciardo\", \"Daniel Ricciardo\", \"Daniel Ricciardo\", \"Daniel Ricciardo\", \"Daniel Ricciardo\", \"Daniel Ricciardo\", \"Daniel Ricciardo\", \"Daniel Ricciardo\", \"Daniel Ricciardo\", \"Daniel Ricciardo\", \"Daniel Ricciardo\", \"Daniel Ricciardo\", \"Daniel Ricciardo\", \"Daniel Ricciardo\", \"Daniel Ricciardo\", \"Daniel Ricciardo\", \"Daniel Ricciardo\", \"Daniel Ricciardo\"], \"legendgroup\": \"Daniel Ricciardo\", \"line\": {\"color\": \"#FFF500\", \"dash\": \"solid\"}, \"mode\": \"lines\", \"name\": \"Daniel Ricciardo\", \"orientation\": \"v\", \"showlegend\": true, \"type\": \"scatter\", \"x\": [1, 2, 3, 4, 5, 6, 7, 8, 9, 10, 11, 12, 13, 14, 15, 16, 17, 18, 19, 20, 21, 22, 23, 24, 25, 26, 27, 28, 29, 30, 31, 32, 33, 34, 35, 36, 37, 38, 39, 40, 41, 42, 43, 44, 45, 46, 47, 48, 49, 50, 51, 52], \"xaxis\": \"x\", \"y\": [99.264, 128.887, 148.982, 155.09, 134.328, 94.179, 94.135, 93.025, 93.183, 93.062, 92.789, 98.651, 146.815, 128.688, 151.761, 159.267, 152.813, 137.817, 95.36, 93.359, 92.56, 92.125, 92.44, 92.182, 92.618, 92.433, 91.952, 91.851, 91.681, 91.454, 91.31, 91.56, 91.035, 91.139, 91.473, 90.749, 90.603, 90.353, 90.179, 90.161, 89.95, 90.062, 90.53, 90.119, 89.973, 90.077, 90.015, 90.005, 89.482, 89.858, 89.783, 89.766], \"yaxis\": \"y\"}, {\"customdata\": [[\"Lando Norris\", \"Mclaren\"], [\"Lando Norris\", \"Mclaren\"], [\"Lando Norris\", \"Mclaren\"], [\"Lando Norris\", \"Mclaren\"], [\"Lando Norris\", \"Mclaren\"], [\"Lando Norris\", \"Mclaren\"], [\"Lando Norris\", \"Mclaren\"], [\"Lando Norris\", \"Mclaren\"], [\"Lando Norris\", \"Mclaren\"], [\"Lando Norris\", \"Mclaren\"], [\"Lando Norris\", \"Mclaren\"], [\"Lando Norris\", \"Mclaren\"], [\"Lando Norris\", \"Mclaren\"], [\"Lando Norris\", \"Mclaren\"], [\"Lando Norris\", \"Mclaren\"], [\"Lando Norris\", \"Mclaren\"], [\"Lando Norris\", \"Mclaren\"], [\"Lando Norris\", \"Mclaren\"], [\"Lando Norris\", \"Mclaren\"], [\"Lando Norris\", \"Mclaren\"], [\"Lando Norris\", \"Mclaren\"], [\"Lando Norris\", \"Mclaren\"], [\"Lando Norris\", \"Mclaren\"], [\"Lando Norris\", \"Mclaren\"], [\"Lando Norris\", \"Mclaren\"], [\"Lando Norris\", \"Mclaren\"], [\"Lando Norris\", \"Mclaren\"], [\"Lando Norris\", \"Mclaren\"], [\"Lando Norris\", \"Mclaren\"], [\"Lando Norris\", \"Mclaren\"], [\"Lando Norris\", \"Mclaren\"], [\"Lando Norris\", \"Mclaren\"], [\"Lando Norris\", \"Mclaren\"], [\"Lando Norris\", \"Mclaren\"], [\"Lando Norris\", \"Mclaren\"], [\"Lando Norris\", \"Mclaren\"], [\"Lando Norris\", \"Mclaren\"], [\"Lando Norris\", \"Mclaren\"], [\"Lando Norris\", \"Mclaren\"], [\"Lando Norris\", \"Mclaren\"], [\"Lando Norris\", \"Mclaren\"], [\"Lando Norris\", \"Mclaren\"], [\"Lando Norris\", \"Mclaren\"], [\"Lando Norris\", \"Mclaren\"], [\"Lando Norris\", \"Mclaren\"], [\"Lando Norris\", \"Mclaren\"], [\"Lando Norris\", \"Mclaren\"], [\"Lando Norris\", \"Mclaren\"], [\"Lando Norris\", \"Mclaren\"], [\"Lando Norris\", \"Mclaren\"], [\"Lando Norris\", \"Mclaren\"], [\"Lando Norris\", \"Mclaren\"]], \"hovertemplate\": \"<b>%{hovertext}</b><br><br>lap=%{x}<br>seconds=%{y}<br>constructorRef=%{customdata[1]}<extra></extra>\", \"hovertext\": [\"Lando Norris\", \"Lando Norris\", \"Lando Norris\", \"Lando Norris\", \"Lando Norris\", \"Lando Norris\", \"Lando Norris\", \"Lando Norris\", \"Lando Norris\", \"Lando Norris\", \"Lando Norris\", \"Lando Norris\", \"Lando Norris\", \"Lando Norris\", \"Lando Norris\", \"Lando Norris\", \"Lando Norris\", \"Lando Norris\", \"Lando Norris\", \"Lando Norris\", \"Lando Norris\", \"Lando Norris\", \"Lando Norris\", \"Lando Norris\", \"Lando Norris\", \"Lando Norris\", \"Lando Norris\", \"Lando Norris\", \"Lando Norris\", \"Lando Norris\", \"Lando Norris\", \"Lando Norris\", \"Lando Norris\", \"Lando Norris\", \"Lando Norris\", \"Lando Norris\", \"Lando Norris\", \"Lando Norris\", \"Lando Norris\", \"Lando Norris\", \"Lando Norris\", \"Lando Norris\", \"Lando Norris\", \"Lando Norris\", \"Lando Norris\", \"Lando Norris\", \"Lando Norris\", \"Lando Norris\", \"Lando Norris\", \"Lando Norris\", \"Lando Norris\", \"Lando Norris\"], \"legendgroup\": \"Lando Norris\", \"line\": {\"color\": \"#FF8700\", \"dash\": \"solid\"}, \"mode\": \"lines\", \"name\": \"Lando Norris\", \"orientation\": \"v\", \"showlegend\": true, \"type\": \"scatter\", \"x\": [1, 2, 3, 4, 5, 6, 7, 8, 9, 10, 11, 12, 13, 14, 15, 16, 17, 18, 19, 20, 21, 22, 23, 24, 25, 26, 27, 28, 29, 30, 31, 32, 33, 34, 35, 36, 37, 38, 39, 40, 41, 42, 43, 44, 45, 46, 47, 48, 49, 50, 51, 52], \"xaxis\": \"x\", \"y\": [99.921, 129.723, 149.223, 154.623, 133.298, 94.741, 94.278, 93.053, 93.414, 93.164, 92.759, 99.733, 146.132, 128.388, 151.245, 159.804, 152.555, 136.924, 94.515, 93.129, 92.513, 92.152, 92.597, 92.042, 92.065, 92.075, 92.107, 91.646, 91.481, 91.648, 91.43599999999999, 91.343, 91.262, 90.975, 91.281, 90.854, 90.6, 90.427, 90.347, 90.516, 90.058, 90.177, 90.209, 90.244, 90.096, 90.291, 90.166, 90.058, 91.173, 90.578, 90.379, 90.142], \"yaxis\": \"y\"}, {\"customdata\": [[\"Esteban Ocon\", \"Renault\"], [\"Esteban Ocon\", \"Renault\"], [\"Esteban Ocon\", \"Renault\"], [\"Esteban Ocon\", \"Renault\"], [\"Esteban Ocon\", \"Renault\"], [\"Esteban Ocon\", \"Renault\"], [\"Esteban Ocon\", \"Renault\"], [\"Esteban Ocon\", \"Renault\"], [\"Esteban Ocon\", \"Renault\"], [\"Esteban Ocon\", \"Renault\"], [\"Esteban Ocon\", \"Renault\"], [\"Esteban Ocon\", \"Renault\"], [\"Esteban Ocon\", \"Renault\"], [\"Esteban Ocon\", \"Renault\"], [\"Esteban Ocon\", \"Renault\"], [\"Esteban Ocon\", \"Renault\"], [\"Esteban Ocon\", \"Renault\"], [\"Esteban Ocon\", \"Renault\"], [\"Esteban Ocon\", \"Renault\"], [\"Esteban Ocon\", \"Renault\"], [\"Esteban Ocon\", \"Renault\"], [\"Esteban Ocon\", \"Renault\"], [\"Esteban Ocon\", \"Renault\"], [\"Esteban Ocon\", \"Renault\"], [\"Esteban Ocon\", \"Renault\"], [\"Esteban Ocon\", \"Renault\"], [\"Esteban Ocon\", \"Renault\"], [\"Esteban Ocon\", \"Renault\"], [\"Esteban Ocon\", \"Renault\"], [\"Esteban Ocon\", \"Renault\"], [\"Esteban Ocon\", \"Renault\"], [\"Esteban Ocon\", \"Renault\"], [\"Esteban Ocon\", \"Renault\"], [\"Esteban Ocon\", \"Renault\"], [\"Esteban Ocon\", \"Renault\"], [\"Esteban Ocon\", \"Renault\"], [\"Esteban Ocon\", \"Renault\"], [\"Esteban Ocon\", \"Renault\"], [\"Esteban Ocon\", \"Renault\"], [\"Esteban Ocon\", \"Renault\"], [\"Esteban Ocon\", \"Renault\"], [\"Esteban Ocon\", \"Renault\"], [\"Esteban Ocon\", \"Renault\"], [\"Esteban Ocon\", \"Renault\"], [\"Esteban Ocon\", \"Renault\"], [\"Esteban Ocon\", \"Renault\"], [\"Esteban Ocon\", \"Renault\"], [\"Esteban Ocon\", \"Renault\"], [\"Esteban Ocon\", \"Renault\"], [\"Esteban Ocon\", \"Renault\"], [\"Esteban Ocon\", \"Renault\"], [\"Esteban Ocon\", \"Renault\"]], \"hovertemplate\": \"<b>%{hovertext}</b><br><br>lap=%{x}<br>seconds=%{y}<br>constructorRef=%{customdata[1]}<extra></extra>\", \"hovertext\": [\"Esteban Ocon\", \"Esteban Ocon\", \"Esteban Ocon\", \"Esteban Ocon\", \"Esteban Ocon\", \"Esteban Ocon\", \"Esteban Ocon\", \"Esteban Ocon\", \"Esteban Ocon\", \"Esteban Ocon\", \"Esteban Ocon\", \"Esteban Ocon\", \"Esteban Ocon\", \"Esteban Ocon\", \"Esteban Ocon\", \"Esteban Ocon\", \"Esteban Ocon\", \"Esteban Ocon\", \"Esteban Ocon\", \"Esteban Ocon\", \"Esteban Ocon\", \"Esteban Ocon\", \"Esteban Ocon\", \"Esteban Ocon\", \"Esteban Ocon\", \"Esteban Ocon\", \"Esteban Ocon\", \"Esteban Ocon\", \"Esteban Ocon\", \"Esteban Ocon\", \"Esteban Ocon\", \"Esteban Ocon\", \"Esteban Ocon\", \"Esteban Ocon\", \"Esteban Ocon\", \"Esteban Ocon\", \"Esteban Ocon\", \"Esteban Ocon\", \"Esteban Ocon\", \"Esteban Ocon\", \"Esteban Ocon\", \"Esteban Ocon\", \"Esteban Ocon\", \"Esteban Ocon\", \"Esteban Ocon\", \"Esteban Ocon\", \"Esteban Ocon\", \"Esteban Ocon\", \"Esteban Ocon\", \"Esteban Ocon\", \"Esteban Ocon\", \"Esteban Ocon\"], \"legendgroup\": \"Esteban Ocon\", \"line\": {\"color\": \"#FFF500\", \"dash\": \"solid\"}, \"mode\": \"lines\", \"name\": \"Esteban Ocon\", \"orientation\": \"v\", \"showlegend\": true, \"type\": \"scatter\", \"x\": [1, 2, 3, 4, 5, 6, 7, 8, 9, 10, 11, 12, 13, 14, 15, 16, 17, 18, 19, 20, 21, 22, 23, 24, 25, 26, 27, 28, 29, 30, 31, 32, 33, 34, 35, 36, 37, 38, 39, 40, 41, 42, 43, 44, 45, 46, 47, 48, 49, 50, 51, 52], \"xaxis\": \"x\", \"y\": [100.838, 131.306, 149.09, 155.131, 131.098, 95.286, 94.678, 93.41, 93.456, 93.179, 93.077, 99.896, 146.626, 129.398, 151.233, 159.65, 153.745, 133.141, 94.664, 93.728, 92.783, 92.445, 92.043, 92.379, 92.467, 92.588, 91.845, 91.796, 91.793, 91.88, 91.493, 91.159, 91.403, 91.284, 91.479, 91.359, 91.01, 90.831, 90.705, 90.627, 90.875, 90.633, 90.781, 90.532, 90.404, 89.848, 90.145, 90.463, 89.874, 89.491, 89.66, 89.515], \"yaxis\": \"y\"}, {\"customdata\": [[\"Pierre Gasly\", \"Alphatauri\"], [\"Pierre Gasly\", \"Alphatauri\"], [\"Pierre Gasly\", \"Alphatauri\"], [\"Pierre Gasly\", \"Alphatauri\"], [\"Pierre Gasly\", \"Alphatauri\"], [\"Pierre Gasly\", \"Alphatauri\"], [\"Pierre Gasly\", \"Alphatauri\"], [\"Pierre Gasly\", \"Alphatauri\"], [\"Pierre Gasly\", \"Alphatauri\"], [\"Pierre Gasly\", \"Alphatauri\"], [\"Pierre Gasly\", \"Alphatauri\"], [\"Pierre Gasly\", \"Alphatauri\"], [\"Pierre Gasly\", \"Alphatauri\"], [\"Pierre Gasly\", \"Alphatauri\"], [\"Pierre Gasly\", \"Alphatauri\"], [\"Pierre Gasly\", \"Alphatauri\"], [\"Pierre Gasly\", \"Alphatauri\"], [\"Pierre Gasly\", \"Alphatauri\"], [\"Pierre Gasly\", \"Alphatauri\"], [\"Pierre Gasly\", \"Alphatauri\"], [\"Pierre Gasly\", \"Alphatauri\"], [\"Pierre Gasly\", \"Alphatauri\"], [\"Pierre Gasly\", \"Alphatauri\"], [\"Pierre Gasly\", \"Alphatauri\"], [\"Pierre Gasly\", \"Alphatauri\"], [\"Pierre Gasly\", \"Alphatauri\"], [\"Pierre Gasly\", \"Alphatauri\"], [\"Pierre Gasly\", \"Alphatauri\"], [\"Pierre Gasly\", \"Alphatauri\"], [\"Pierre Gasly\", \"Alphatauri\"], [\"Pierre Gasly\", \"Alphatauri\"], [\"Pierre Gasly\", \"Alphatauri\"], [\"Pierre Gasly\", \"Alphatauri\"], [\"Pierre Gasly\", \"Alphatauri\"], [\"Pierre Gasly\", \"Alphatauri\"], [\"Pierre Gasly\", \"Alphatauri\"], [\"Pierre Gasly\", \"Alphatauri\"], [\"Pierre Gasly\", \"Alphatauri\"], [\"Pierre Gasly\", \"Alphatauri\"], [\"Pierre Gasly\", \"Alphatauri\"], [\"Pierre Gasly\", \"Alphatauri\"], [\"Pierre Gasly\", \"Alphatauri\"], [\"Pierre Gasly\", \"Alphatauri\"], [\"Pierre Gasly\", \"Alphatauri\"], [\"Pierre Gasly\", \"Alphatauri\"], [\"Pierre Gasly\", \"Alphatauri\"], [\"Pierre Gasly\", \"Alphatauri\"], [\"Pierre Gasly\", \"Alphatauri\"], [\"Pierre Gasly\", \"Alphatauri\"], [\"Pierre Gasly\", \"Alphatauri\"], [\"Pierre Gasly\", \"Alphatauri\"], [\"Pierre Gasly\", \"Alphatauri\"]], \"hovertemplate\": \"<b>%{hovertext}</b><br><br>lap=%{x}<br>seconds=%{y}<br>constructorRef=%{customdata[1]}<extra></extra>\", \"hovertext\": [\"Pierre Gasly\", \"Pierre Gasly\", \"Pierre Gasly\", \"Pierre Gasly\", \"Pierre Gasly\", \"Pierre Gasly\", \"Pierre Gasly\", \"Pierre Gasly\", \"Pierre Gasly\", \"Pierre Gasly\", \"Pierre Gasly\", \"Pierre Gasly\", \"Pierre Gasly\", \"Pierre Gasly\", \"Pierre Gasly\", \"Pierre Gasly\", \"Pierre Gasly\", \"Pierre Gasly\", \"Pierre Gasly\", \"Pierre Gasly\", \"Pierre Gasly\", \"Pierre Gasly\", \"Pierre Gasly\", \"Pierre Gasly\", \"Pierre Gasly\", \"Pierre Gasly\", \"Pierre Gasly\", \"Pierre Gasly\", \"Pierre Gasly\", \"Pierre Gasly\", \"Pierre Gasly\", \"Pierre Gasly\", \"Pierre Gasly\", \"Pierre Gasly\", \"Pierre Gasly\", \"Pierre Gasly\", \"Pierre Gasly\", \"Pierre Gasly\", \"Pierre Gasly\", \"Pierre Gasly\", \"Pierre Gasly\", \"Pierre Gasly\", \"Pierre Gasly\", \"Pierre Gasly\", \"Pierre Gasly\", \"Pierre Gasly\", \"Pierre Gasly\", \"Pierre Gasly\", \"Pierre Gasly\", \"Pierre Gasly\", \"Pierre Gasly\", \"Pierre Gasly\"], \"legendgroup\": \"Pierre Gasly\", \"line\": {\"color\": \"#C8C8C8\", \"dash\": \"solid\"}, \"mode\": \"lines\", \"name\": \"Pierre Gasly\", \"orientation\": \"v\", \"showlegend\": true, \"type\": \"scatter\", \"x\": [1, 2, 3, 4, 5, 6, 7, 8, 9, 10, 11, 12, 13, 14, 15, 16, 17, 18, 19, 20, 21, 22, 23, 24, 25, 26, 27, 28, 29, 30, 31, 32, 33, 34, 35, 36, 37, 38, 39, 40, 41, 42, 43, 44, 45, 46, 47, 48, 49, 50, 51, 52], \"xaxis\": \"x\", \"y\": [101.865, 132.616, 149.661, 153.98, 130.165, 95.376, 94.882, 93.491, 93.415, 93.628, 92.954, 100.646, 147.726, 128.272, 151.573, 160.103, 153.039, 131.471, 95.992, 93.998, 92.775, 92.586, 92.296, 92.062, 92.206, 92.16, 92.397, 92.172, 92.051, 91.296, 91.946, 91.253, 91.451, 91.13, 91.736, 91.107, 91.084, 91.104, 90.805, 90.419, 90.319, 90.36, 90.435, 90.498, 90.605, 90.535, 90.189, 90.575, 90.324, 90.175, 89.964, 89.603], \"yaxis\": \"y\"}, {\"customdata\": [[\"Alexander Albon\", \"Red_Bull\"], [\"Alexander Albon\", \"Red_Bull\"], [\"Alexander Albon\", \"Red_Bull\"], [\"Alexander Albon\", \"Red_Bull\"], [\"Alexander Albon\", \"Red_Bull\"], [\"Alexander Albon\", \"Red_Bull\"], [\"Alexander Albon\", \"Red_Bull\"], [\"Alexander Albon\", \"Red_Bull\"], [\"Alexander Albon\", \"Red_Bull\"], [\"Alexander Albon\", \"Red_Bull\"], [\"Alexander Albon\", \"Red_Bull\"], [\"Alexander Albon\", \"Red_Bull\"], [\"Alexander Albon\", \"Red_Bull\"], [\"Alexander Albon\", \"Red_Bull\"], [\"Alexander Albon\", \"Red_Bull\"], [\"Alexander Albon\", \"Red_Bull\"], [\"Alexander Albon\", \"Red_Bull\"], [\"Alexander Albon\", \"Red_Bull\"], [\"Alexander Albon\", \"Red_Bull\"], [\"Alexander Albon\", \"Red_Bull\"], [\"Alexander Albon\", \"Red_Bull\"], [\"Alexander Albon\", \"Red_Bull\"], [\"Alexander Albon\", \"Red_Bull\"], [\"Alexander Albon\", \"Red_Bull\"], [\"Alexander Albon\", \"Red_Bull\"], [\"Alexander Albon\", \"Red_Bull\"], [\"Alexander Albon\", \"Red_Bull\"], [\"Alexander Albon\", \"Red_Bull\"], [\"Alexander Albon\", \"Red_Bull\"], [\"Alexander Albon\", \"Red_Bull\"], [\"Alexander Albon\", \"Red_Bull\"], [\"Alexander Albon\", \"Red_Bull\"], [\"Alexander Albon\", \"Red_Bull\"], [\"Alexander Albon\", \"Red_Bull\"], [\"Alexander Albon\", \"Red_Bull\"], [\"Alexander Albon\", \"Red_Bull\"], [\"Alexander Albon\", \"Red_Bull\"], [\"Alexander Albon\", \"Red_Bull\"], [\"Alexander Albon\", \"Red_Bull\"], [\"Alexander Albon\", \"Red_Bull\"], [\"Alexander Albon\", \"Red_Bull\"], [\"Alexander Albon\", \"Red_Bull\"], [\"Alexander Albon\", \"Red_Bull\"], [\"Alexander Albon\", \"Red_Bull\"], [\"Alexander Albon\", \"Red_Bull\"], [\"Alexander Albon\", \"Red_Bull\"], [\"Alexander Albon\", \"Red_Bull\"], [\"Alexander Albon\", \"Red_Bull\"], [\"Alexander Albon\", \"Red_Bull\"], [\"Alexander Albon\", \"Red_Bull\"], [\"Alexander Albon\", \"Red_Bull\"], [\"Alexander Albon\", \"Red_Bull\"]], \"hovertemplate\": \"<b>%{hovertext}</b><br><br>lap=%{x}<br>seconds=%{y}<br>constructorRef=%{customdata[1]}<extra></extra>\", \"hovertext\": [\"Alexander Albon\", \"Alexander Albon\", \"Alexander Albon\", \"Alexander Albon\", \"Alexander Albon\", \"Alexander Albon\", \"Alexander Albon\", \"Alexander Albon\", \"Alexander Albon\", \"Alexander Albon\", \"Alexander Albon\", \"Alexander Albon\", \"Alexander Albon\", \"Alexander Albon\", \"Alexander Albon\", \"Alexander Albon\", \"Alexander Albon\", \"Alexander Albon\", \"Alexander Albon\", \"Alexander Albon\", \"Alexander Albon\", \"Alexander Albon\", \"Alexander Albon\", \"Alexander Albon\", \"Alexander Albon\", \"Alexander Albon\", \"Alexander Albon\", \"Alexander Albon\", \"Alexander Albon\", \"Alexander Albon\", \"Alexander Albon\", \"Alexander Albon\", \"Alexander Albon\", \"Alexander Albon\", \"Alexander Albon\", \"Alexander Albon\", \"Alexander Albon\", \"Alexander Albon\", \"Alexander Albon\", \"Alexander Albon\", \"Alexander Albon\", \"Alexander Albon\", \"Alexander Albon\", \"Alexander Albon\", \"Alexander Albon\", \"Alexander Albon\", \"Alexander Albon\", \"Alexander Albon\", \"Alexander Albon\", \"Alexander Albon\", \"Alexander Albon\", \"Alexander Albon\"], \"legendgroup\": \"Alexander Albon\", \"line\": {\"color\": \"#0600EF\", \"dash\": \"solid\"}, \"mode\": \"lines\", \"name\": \"Alexander Albon\", \"orientation\": \"v\", \"showlegend\": true, \"type\": \"scatter\", \"x\": [1, 2, 3, 4, 5, 6, 7, 8, 9, 10, 11, 12, 13, 14, 15, 16, 17, 18, 19, 20, 21, 22, 23, 24, 25, 26, 27, 28, 29, 30, 31, 32, 33, 34, 35, 36, 37, 38, 39, 40, 41, 42, 43, 44, 45, 46, 47, 48, 49, 50, 51, 52], \"xaxis\": \"x\", \"y\": [103.077, 132.634, 150.069, 154.515, 128.78, 95.837, 114.67, 91.828, 92.407, 92.208, 91.622, 108.43, 127.837, 125.744, 152.218, 159.745, 153.881, 129.712, 96.213, 93.979, 92.77, 92.673, 92.189, 92.107, 92.245, 92.149, 92.35, 92.175, 92.16, 91.204, 117.525, 90.132, 89.637, 89.426, 89.993, 89.565, 89.487, 90.254, 90.426, 89.261, 89.281, 89.485, 89.368, 90.032, 89.685, 88.874, 88.79, 89.075, 89.256, 89.122, 89.162, 88.689], \"yaxis\": \"y\"}, {\"customdata\": [[\"Lance Stroll\", \"Racing_Point\"], [\"Lance Stroll\", \"Racing_Point\"], [\"Lance Stroll\", \"Racing_Point\"], [\"Lance Stroll\", \"Racing_Point\"], [\"Lance Stroll\", \"Racing_Point\"], [\"Lance Stroll\", \"Racing_Point\"], [\"Lance Stroll\", \"Racing_Point\"], [\"Lance Stroll\", \"Racing_Point\"], [\"Lance Stroll\", \"Racing_Point\"], [\"Lance Stroll\", \"Racing_Point\"], [\"Lance Stroll\", \"Racing_Point\"], [\"Lance Stroll\", \"Racing_Point\"], [\"Lance Stroll\", \"Racing_Point\"], [\"Lance Stroll\", \"Racing_Point\"], [\"Lance Stroll\", \"Racing_Point\"], [\"Lance Stroll\", \"Racing_Point\"], [\"Lance Stroll\", \"Racing_Point\"], [\"Lance Stroll\", \"Racing_Point\"], [\"Lance Stroll\", \"Racing_Point\"], [\"Lance Stroll\", \"Racing_Point\"], [\"Lance Stroll\", \"Racing_Point\"], [\"Lance Stroll\", \"Racing_Point\"], [\"Lance Stroll\", \"Racing_Point\"], [\"Lance Stroll\", \"Racing_Point\"], [\"Lance Stroll\", \"Racing_Point\"], [\"Lance Stroll\", \"Racing_Point\"], [\"Lance Stroll\", \"Racing_Point\"], [\"Lance Stroll\", \"Racing_Point\"], [\"Lance Stroll\", \"Racing_Point\"], [\"Lance Stroll\", \"Racing_Point\"], [\"Lance Stroll\", \"Racing_Point\"], [\"Lance Stroll\", \"Racing_Point\"], [\"Lance Stroll\", \"Racing_Point\"], [\"Lance Stroll\", \"Racing_Point\"], [\"Lance Stroll\", \"Racing_Point\"], [\"Lance Stroll\", \"Racing_Point\"], [\"Lance Stroll\", \"Racing_Point\"], [\"Lance Stroll\", \"Racing_Point\"], [\"Lance Stroll\", \"Racing_Point\"], [\"Lance Stroll\", \"Racing_Point\"], [\"Lance Stroll\", \"Racing_Point\"], [\"Lance Stroll\", \"Racing_Point\"], [\"Lance Stroll\", \"Racing_Point\"], [\"Lance Stroll\", \"Racing_Point\"], [\"Lance Stroll\", \"Racing_Point\"], [\"Lance Stroll\", \"Racing_Point\"], [\"Lance Stroll\", \"Racing_Point\"], [\"Lance Stroll\", \"Racing_Point\"], [\"Lance Stroll\", \"Racing_Point\"], [\"Lance Stroll\", \"Racing_Point\"], [\"Lance Stroll\", \"Racing_Point\"], [\"Lance Stroll\", \"Racing_Point\"]], \"hovertemplate\": \"<b>%{hovertext}</b><br><br>lap=%{x}<br>seconds=%{y}<br>constructorRef=%{customdata[1]}<extra></extra>\", \"hovertext\": [\"Lance Stroll\", \"Lance Stroll\", \"Lance Stroll\", \"Lance Stroll\", \"Lance Stroll\", \"Lance Stroll\", \"Lance Stroll\", \"Lance Stroll\", \"Lance Stroll\", \"Lance Stroll\", \"Lance Stroll\", \"Lance Stroll\", \"Lance Stroll\", \"Lance Stroll\", \"Lance Stroll\", \"Lance Stroll\", \"Lance Stroll\", \"Lance Stroll\", \"Lance Stroll\", \"Lance Stroll\", \"Lance Stroll\", \"Lance Stroll\", \"Lance Stroll\", \"Lance Stroll\", \"Lance Stroll\", \"Lance Stroll\", \"Lance Stroll\", \"Lance Stroll\", \"Lance Stroll\", \"Lance Stroll\", \"Lance Stroll\", \"Lance Stroll\", \"Lance Stroll\", \"Lance Stroll\", \"Lance Stroll\", \"Lance Stroll\", \"Lance Stroll\", \"Lance Stroll\", \"Lance Stroll\", \"Lance Stroll\", \"Lance Stroll\", \"Lance Stroll\", \"Lance Stroll\", \"Lance Stroll\", \"Lance Stroll\", \"Lance Stroll\", \"Lance Stroll\", \"Lance Stroll\", \"Lance Stroll\", \"Lance Stroll\", \"Lance Stroll\", \"Lance Stroll\"], \"legendgroup\": \"Lance Stroll\", \"line\": {\"color\": \"#F596C8\", \"dash\": \"solid\"}, \"mode\": \"lines\", \"name\": \"Lance Stroll\", \"orientation\": \"v\", \"showlegend\": true, \"type\": \"scatter\", \"x\": [1, 2, 3, 4, 5, 6, 7, 8, 9, 10, 11, 12, 13, 14, 15, 16, 17, 18, 19, 20, 21, 22, 23, 24, 25, 26, 27, 28, 29, 30, 31, 32, 33, 34, 35, 36, 37, 38, 39, 40, 41, 42, 43, 44, 45, 46, 47, 48, 49, 50, 51, 52], \"xaxis\": \"x\", \"y\": [100.476, 130.286, 149.271, 154.849, 132.315, 94.963, 94.261, 93.108, 93.399, 93.14, 92.8, 101.086, 125.779, 148.537, 150.98, 160.385, 152.934, 134.818, 95.085, 93.55, 92.586, 92.206, 92.298, 92.32, 92.566, 92.733, 91.764, 91.816, 91.692, 91.441, 91.418, 91.391, 91.205, 91.142, 91.462, 91.224, 91.872, 90.642, 90.742, 90.808, 90.728, 90.722, 90.765, 90.475, 90.639, 91.405, 90.834, 91.329, 92.153, 90.772, 91.68, 91.742], \"yaxis\": \"y\"}, {\"customdata\": [[\"Sebastian Vettel\", \"Ferrari\"], [\"Sebastian Vettel\", \"Ferrari\"], [\"Sebastian Vettel\", \"Ferrari\"], [\"Sebastian Vettel\", \"Ferrari\"], [\"Sebastian Vettel\", \"Ferrari\"], [\"Sebastian Vettel\", \"Ferrari\"], [\"Sebastian Vettel\", \"Ferrari\"], [\"Sebastian Vettel\", \"Ferrari\"], [\"Sebastian Vettel\", \"Ferrari\"], [\"Sebastian Vettel\", \"Ferrari\"], [\"Sebastian Vettel\", \"Ferrari\"], [\"Sebastian Vettel\", \"Ferrari\"], [\"Sebastian Vettel\", \"Ferrari\"], [\"Sebastian Vettel\", \"Ferrari\"], [\"Sebastian Vettel\", \"Ferrari\"], [\"Sebastian Vettel\", \"Ferrari\"], [\"Sebastian Vettel\", \"Ferrari\"], [\"Sebastian Vettel\", \"Ferrari\"], [\"Sebastian Vettel\", \"Ferrari\"], [\"Sebastian Vettel\", \"Ferrari\"], [\"Sebastian Vettel\", \"Ferrari\"], [\"Sebastian Vettel\", \"Ferrari\"], [\"Sebastian Vettel\", \"Ferrari\"], [\"Sebastian Vettel\", \"Ferrari\"], [\"Sebastian Vettel\", \"Ferrari\"], [\"Sebastian Vettel\", \"Ferrari\"], [\"Sebastian Vettel\", \"Ferrari\"], [\"Sebastian Vettel\", \"Ferrari\"], [\"Sebastian Vettel\", \"Ferrari\"], [\"Sebastian Vettel\", \"Ferrari\"], [\"Sebastian Vettel\", \"Ferrari\"], [\"Sebastian Vettel\", \"Ferrari\"], [\"Sebastian Vettel\", \"Ferrari\"], [\"Sebastian Vettel\", \"Ferrari\"], [\"Sebastian Vettel\", \"Ferrari\"], [\"Sebastian Vettel\", \"Ferrari\"], [\"Sebastian Vettel\", \"Ferrari\"], [\"Sebastian Vettel\", \"Ferrari\"], [\"Sebastian Vettel\", \"Ferrari\"], [\"Sebastian Vettel\", \"Ferrari\"], [\"Sebastian Vettel\", \"Ferrari\"], [\"Sebastian Vettel\", \"Ferrari\"], [\"Sebastian Vettel\", \"Ferrari\"], [\"Sebastian Vettel\", \"Ferrari\"], [\"Sebastian Vettel\", \"Ferrari\"], [\"Sebastian Vettel\", \"Ferrari\"], [\"Sebastian Vettel\", \"Ferrari\"], [\"Sebastian Vettel\", \"Ferrari\"], [\"Sebastian Vettel\", \"Ferrari\"], [\"Sebastian Vettel\", \"Ferrari\"], [\"Sebastian Vettel\", \"Ferrari\"], [\"Sebastian Vettel\", \"Ferrari\"]], \"hovertemplate\": \"<b>%{hovertext}</b><br><br>lap=%{x}<br>seconds=%{y}<br>constructorRef=%{customdata[1]}<extra></extra>\", \"hovertext\": [\"Sebastian Vettel\", \"Sebastian Vettel\", \"Sebastian Vettel\", \"Sebastian Vettel\", \"Sebastian Vettel\", \"Sebastian Vettel\", \"Sebastian Vettel\", \"Sebastian Vettel\", \"Sebastian Vettel\", \"Sebastian Vettel\", \"Sebastian Vettel\", \"Sebastian Vettel\", \"Sebastian Vettel\", \"Sebastian Vettel\", \"Sebastian Vettel\", \"Sebastian Vettel\", \"Sebastian Vettel\", \"Sebastian Vettel\", \"Sebastian Vettel\", \"Sebastian Vettel\", \"Sebastian Vettel\", \"Sebastian Vettel\", \"Sebastian Vettel\", \"Sebastian Vettel\", \"Sebastian Vettel\", \"Sebastian Vettel\", \"Sebastian Vettel\", \"Sebastian Vettel\", \"Sebastian Vettel\", \"Sebastian Vettel\", \"Sebastian Vettel\", \"Sebastian Vettel\", \"Sebastian Vettel\", \"Sebastian Vettel\", \"Sebastian Vettel\", \"Sebastian Vettel\", \"Sebastian Vettel\", \"Sebastian Vettel\", \"Sebastian Vettel\", \"Sebastian Vettel\", \"Sebastian Vettel\", \"Sebastian Vettel\", \"Sebastian Vettel\", \"Sebastian Vettel\", \"Sebastian Vettel\", \"Sebastian Vettel\", \"Sebastian Vettel\", \"Sebastian Vettel\", \"Sebastian Vettel\", \"Sebastian Vettel\", \"Sebastian Vettel\", \"Sebastian Vettel\"], \"legendgroup\": \"Sebastian Vettel\", \"line\": {\"color\": \"#C00000\", \"dash\": \"solid\"}, \"mode\": \"lines\", \"name\": \"Sebastian Vettel\", \"orientation\": \"v\", \"showlegend\": true, \"type\": \"scatter\", \"x\": [1, 2, 3, 4, 5, 6, 7, 8, 9, 10, 11, 12, 13, 14, 15, 16, 17, 18, 19, 20, 21, 22, 23, 24, 25, 26, 27, 28, 29, 30, 31, 32, 33, 34, 35, 36, 37, 38, 39, 40, 41, 42, 43, 44, 45, 46, 47, 48, 49, 50, 51, 52], \"xaxis\": \"x\", \"y\": [101.375, 131.969, 148.6, 154.962, 131.085, 95.095, 94.927, 93.528, 93.461, 93.378, 93.086, 99.509, 144.723, 129.879, 151.302, 159.411, 153.542, 134.104, 95.95, 93.666, 92.635, 92.489, 91.939, 92.479, 92.431, 92.263, 92.336, 92.029, 91.785, 91.83, 91.96, 91.42, 91.401, 91.085, 91.77, 91.328, 92.152, 91.856, 91.18599999999999, 90.752, 90.609, 90.776, 90.973, 90.537, 90.761, 90.666, 90.601, 90.757, 92.228, 91.547, 91.225, 91.782], \"yaxis\": \"y\"}, {\"customdata\": [[\"Valtteri Bottas\", \"Mercedes\"], [\"Valtteri Bottas\", \"Mercedes\"], [\"Valtteri Bottas\", \"Mercedes\"], [\"Valtteri Bottas\", \"Mercedes\"], [\"Valtteri Bottas\", \"Mercedes\"], [\"Valtteri Bottas\", \"Mercedes\"], [\"Valtteri Bottas\", \"Mercedes\"], [\"Valtteri Bottas\", \"Mercedes\"], [\"Valtteri Bottas\", \"Mercedes\"], [\"Valtteri Bottas\", \"Mercedes\"], [\"Valtteri Bottas\", \"Mercedes\"], [\"Valtteri Bottas\", \"Mercedes\"], [\"Valtteri Bottas\", \"Mercedes\"], [\"Valtteri Bottas\", \"Mercedes\"], [\"Valtteri Bottas\", \"Mercedes\"], [\"Valtteri Bottas\", \"Mercedes\"], [\"Valtteri Bottas\", \"Mercedes\"], [\"Valtteri Bottas\", \"Mercedes\"], [\"Valtteri Bottas\", \"Mercedes\"], [\"Valtteri Bottas\", \"Mercedes\"], [\"Valtteri Bottas\", \"Mercedes\"], [\"Valtteri Bottas\", \"Mercedes\"], [\"Valtteri Bottas\", \"Mercedes\"], [\"Valtteri Bottas\", \"Mercedes\"], [\"Valtteri Bottas\", \"Mercedes\"], [\"Valtteri Bottas\", \"Mercedes\"], [\"Valtteri Bottas\", \"Mercedes\"], [\"Valtteri Bottas\", \"Mercedes\"], [\"Valtteri Bottas\", \"Mercedes\"], [\"Valtteri Bottas\", \"Mercedes\"], [\"Valtteri Bottas\", \"Mercedes\"], [\"Valtteri Bottas\", \"Mercedes\"], [\"Valtteri Bottas\", \"Mercedes\"], [\"Valtteri Bottas\", \"Mercedes\"], [\"Valtteri Bottas\", \"Mercedes\"], [\"Valtteri Bottas\", \"Mercedes\"], [\"Valtteri Bottas\", \"Mercedes\"], [\"Valtteri Bottas\", \"Mercedes\"], [\"Valtteri Bottas\", \"Mercedes\"], [\"Valtteri Bottas\", \"Mercedes\"], [\"Valtteri Bottas\", \"Mercedes\"], [\"Valtteri Bottas\", \"Mercedes\"], [\"Valtteri Bottas\", \"Mercedes\"], [\"Valtteri Bottas\", \"Mercedes\"], [\"Valtteri Bottas\", \"Mercedes\"], [\"Valtteri Bottas\", \"Mercedes\"], [\"Valtteri Bottas\", \"Mercedes\"], [\"Valtteri Bottas\", \"Mercedes\"], [\"Valtteri Bottas\", \"Mercedes\"], [\"Valtteri Bottas\", \"Mercedes\"], [\"Valtteri Bottas\", \"Mercedes\"], [\"Valtteri Bottas\", \"Mercedes\"]], \"hovertemplate\": \"<b>%{hovertext}</b><br><br>lap=%{x}<br>seconds=%{y}<br>constructorRef=%{customdata[1]}<extra></extra>\", \"hovertext\": [\"Valtteri Bottas\", \"Valtteri Bottas\", \"Valtteri Bottas\", \"Valtteri Bottas\", \"Valtteri Bottas\", \"Valtteri Bottas\", \"Valtteri Bottas\", \"Valtteri Bottas\", \"Valtteri Bottas\", \"Valtteri Bottas\", \"Valtteri Bottas\", \"Valtteri Bottas\", \"Valtteri Bottas\", \"Valtteri Bottas\", \"Valtteri Bottas\", \"Valtteri Bottas\", \"Valtteri Bottas\", \"Valtteri Bottas\", \"Valtteri Bottas\", \"Valtteri Bottas\", \"Valtteri Bottas\", \"Valtteri Bottas\", \"Valtteri Bottas\", \"Valtteri Bottas\", \"Valtteri Bottas\", \"Valtteri Bottas\", \"Valtteri Bottas\", \"Valtteri Bottas\", \"Valtteri Bottas\", \"Valtteri Bottas\", \"Valtteri Bottas\", \"Valtteri Bottas\", \"Valtteri Bottas\", \"Valtteri Bottas\", \"Valtteri Bottas\", \"Valtteri Bottas\", \"Valtteri Bottas\", \"Valtteri Bottas\", \"Valtteri Bottas\", \"Valtteri Bottas\", \"Valtteri Bottas\", \"Valtteri Bottas\", \"Valtteri Bottas\", \"Valtteri Bottas\", \"Valtteri Bottas\", \"Valtteri Bottas\", \"Valtteri Bottas\", \"Valtteri Bottas\", \"Valtteri Bottas\", \"Valtteri Bottas\", \"Valtteri Bottas\", \"Valtteri Bottas\"], \"legendgroup\": \"Valtteri Bottas\", \"line\": {\"color\": \"#00D2BE\", \"dash\": \"solid\"}, \"mode\": \"lines\", \"name\": \"Valtteri Bottas\", \"orientation\": \"v\", \"showlegend\": true, \"type\": \"scatter\", \"x\": [1, 2, 3, 4, 5, 6, 7, 8, 9, 10, 11, 12, 13, 14, 15, 16, 17, 18, 19, 20, 21, 22, 23, 24, 25, 26, 27, 28, 29, 30, 31, 32, 33, 34, 35, 36, 37, 38, 39, 40, 41, 42, 43, 44, 45, 46, 47, 48, 49, 50, 51, 52], \"xaxis\": \"x\", \"y\": [95.364, 126.276, 150.518, 153.304, 138.71, 90.858, 91.622, 90.961, 91.039, 90.883, 90.518, 90.968, 128.489, 164.825, 152.049, 157.114, 154.13, 142.431, 90.959, 90.392, 90.415, 90.058, 89.988, 90.506, 90.232, 90.444, 90.164, 89.764, 89.944, 89.934, 89.719, 89.617, 89.579, 89.608, 89.463, 89.765, 89.881, 89.508, 89.907, 89.892, 89.265, 89.296, 89.723, 89.78, 89.739, 90.164, 90.271, 91.797, 91.051, 126.242, 116.238, 90.086], \"yaxis\": \"y\"}, {\"customdata\": [[\"George Russell\", \"Williams\"], [\"George Russell\", \"Williams\"], [\"George Russell\", \"Williams\"], [\"George Russell\", \"Williams\"], [\"George Russell\", \"Williams\"], [\"George Russell\", \"Williams\"], [\"George Russell\", \"Williams\"], [\"George Russell\", \"Williams\"], [\"George Russell\", \"Williams\"], [\"George Russell\", \"Williams\"], [\"George Russell\", \"Williams\"], [\"George Russell\", \"Williams\"], [\"George Russell\", \"Williams\"], [\"George Russell\", \"Williams\"], [\"George Russell\", \"Williams\"], [\"George Russell\", \"Williams\"], [\"George Russell\", \"Williams\"], [\"George Russell\", \"Williams\"], [\"George Russell\", \"Williams\"], [\"George Russell\", \"Williams\"], [\"George Russell\", \"Williams\"], [\"George Russell\", \"Williams\"], [\"George Russell\", \"Williams\"], [\"George Russell\", \"Williams\"], [\"George Russell\", \"Williams\"], [\"George Russell\", \"Williams\"], [\"George Russell\", \"Williams\"], [\"George Russell\", \"Williams\"], [\"George Russell\", \"Williams\"], [\"George Russell\", \"Williams\"], [\"George Russell\", \"Williams\"], [\"George Russell\", \"Williams\"], [\"George Russell\", \"Williams\"], [\"George Russell\", \"Williams\"], [\"George Russell\", \"Williams\"], [\"George Russell\", \"Williams\"], [\"George Russell\", \"Williams\"], [\"George Russell\", \"Williams\"], [\"George Russell\", \"Williams\"], [\"George Russell\", \"Williams\"], [\"George Russell\", \"Williams\"], [\"George Russell\", \"Williams\"], [\"George Russell\", \"Williams\"], [\"George Russell\", \"Williams\"], [\"George Russell\", \"Williams\"], [\"George Russell\", \"Williams\"], [\"George Russell\", \"Williams\"], [\"George Russell\", \"Williams\"], [\"George Russell\", \"Williams\"], [\"George Russell\", \"Williams\"], [\"George Russell\", \"Williams\"], [\"George Russell\", \"Williams\"]], \"hovertemplate\": \"<b>%{hovertext}</b><br><br>lap=%{x}<br>seconds=%{y}<br>constructorRef=%{customdata[1]}<extra></extra>\", \"hovertext\": [\"George Russell\", \"George Russell\", \"George Russell\", \"George Russell\", \"George Russell\", \"George Russell\", \"George Russell\", \"George Russell\", \"George Russell\", \"George Russell\", \"George Russell\", \"George Russell\", \"George Russell\", \"George Russell\", \"George Russell\", \"George Russell\", \"George Russell\", \"George Russell\", \"George Russell\", \"George Russell\", \"George Russell\", \"George Russell\", \"George Russell\", \"George Russell\", \"George Russell\", \"George Russell\", \"George Russell\", \"George Russell\", \"George Russell\", \"George Russell\", \"George Russell\", \"George Russell\", \"George Russell\", \"George Russell\", \"George Russell\", \"George Russell\", \"George Russell\", \"George Russell\", \"George Russell\", \"George Russell\", \"George Russell\", \"George Russell\", \"George Russell\", \"George Russell\", \"George Russell\", \"George Russell\", \"George Russell\", \"George Russell\", \"George Russell\", \"George Russell\", \"George Russell\", \"George Russell\"], \"legendgroup\": \"George Russell\", \"line\": {\"color\": \"#0082FA\", \"dash\": \"solid\"}, \"mode\": \"lines\", \"name\": \"George Russell\", \"orientation\": \"v\", \"showlegend\": true, \"type\": \"scatter\", \"x\": [1, 2, 3, 4, 5, 6, 7, 8, 9, 10, 11, 12, 13, 14, 15, 16, 17, 18, 19, 20, 21, 22, 23, 24, 25, 26, 27, 28, 29, 30, 31, 32, 33, 34, 35, 36, 37, 38, 39, 40, 41, 42, 43, 44, 45, 46, 47, 48, 49, 50, 51, 52], \"xaxis\": \"x\", \"y\": [105.216, 137.923, 150.975, 154.25, 123.937, 95.055, 94.479, 93.527, 93.881, 93.647, 93.694, 103.329, 144.811, 126.147, 151.723, 159.796, 154.181, 128.939, 97.267, 94.245, 93.088, 93.243, 93.019, 93.046, 92.565, 92.499, 91.94, 92.047, 91.721, 91.546, 91.957, 91.683, 91.423, 91.112, 91.707, 91.759, 91.343, 91.338, 91.095, 91.038, 90.862, 91.359, 91.309, 91.099, 92.419, 91.461, 90.88, 91.146, 90.862, 91.573, 91.858, 92.268], \"yaxis\": \"y\"}, {\"customdata\": [[\"Carlos Sainz\", \"Mclaren\"], [\"Carlos Sainz\", \"Mclaren\"], [\"Carlos Sainz\", \"Mclaren\"], [\"Carlos Sainz\", \"Mclaren\"], [\"Carlos Sainz\", \"Mclaren\"], [\"Carlos Sainz\", \"Mclaren\"], [\"Carlos Sainz\", \"Mclaren\"], [\"Carlos Sainz\", \"Mclaren\"], [\"Carlos Sainz\", \"Mclaren\"], [\"Carlos Sainz\", \"Mclaren\"], [\"Carlos Sainz\", \"Mclaren\"], [\"Carlos Sainz\", \"Mclaren\"], [\"Carlos Sainz\", \"Mclaren\"], [\"Carlos Sainz\", \"Mclaren\"], [\"Carlos Sainz\", \"Mclaren\"], [\"Carlos Sainz\", \"Mclaren\"], [\"Carlos Sainz\", \"Mclaren\"], [\"Carlos Sainz\", \"Mclaren\"], [\"Carlos Sainz\", \"Mclaren\"], [\"Carlos Sainz\", \"Mclaren\"], [\"Carlos Sainz\", \"Mclaren\"], [\"Carlos Sainz\", \"Mclaren\"], [\"Carlos Sainz\", \"Mclaren\"], [\"Carlos Sainz\", \"Mclaren\"], [\"Carlos Sainz\", \"Mclaren\"], [\"Carlos Sainz\", \"Mclaren\"], [\"Carlos Sainz\", \"Mclaren\"], [\"Carlos Sainz\", \"Mclaren\"], [\"Carlos Sainz\", \"Mclaren\"], [\"Carlos Sainz\", \"Mclaren\"], [\"Carlos Sainz\", \"Mclaren\"], [\"Carlos Sainz\", \"Mclaren\"], [\"Carlos Sainz\", \"Mclaren\"], [\"Carlos Sainz\", \"Mclaren\"], [\"Carlos Sainz\", \"Mclaren\"], [\"Carlos Sainz\", \"Mclaren\"], [\"Carlos Sainz\", \"Mclaren\"], [\"Carlos Sainz\", \"Mclaren\"], [\"Carlos Sainz\", \"Mclaren\"], [\"Carlos Sainz\", \"Mclaren\"], [\"Carlos Sainz\", \"Mclaren\"], [\"Carlos Sainz\", \"Mclaren\"], [\"Carlos Sainz\", \"Mclaren\"], [\"Carlos Sainz\", \"Mclaren\"], [\"Carlos Sainz\", \"Mclaren\"], [\"Carlos Sainz\", \"Mclaren\"], [\"Carlos Sainz\", \"Mclaren\"], [\"Carlos Sainz\", \"Mclaren\"], [\"Carlos Sainz\", \"Mclaren\"], [\"Carlos Sainz\", \"Mclaren\"], [\"Carlos Sainz\", \"Mclaren\"], [\"Carlos Sainz\", \"Mclaren\"]], \"hovertemplate\": \"<b>%{hovertext}</b><br><br>lap=%{x}<br>seconds=%{y}<br>constructorRef=%{customdata[1]}<extra></extra>\", \"hovertext\": [\"Carlos Sainz\", \"Carlos Sainz\", \"Carlos Sainz\", \"Carlos Sainz\", \"Carlos Sainz\", \"Carlos Sainz\", \"Carlos Sainz\", \"Carlos Sainz\", \"Carlos Sainz\", \"Carlos Sainz\", \"Carlos Sainz\", \"Carlos Sainz\", \"Carlos Sainz\", \"Carlos Sainz\", \"Carlos Sainz\", \"Carlos Sainz\", \"Carlos Sainz\", \"Carlos Sainz\", \"Carlos Sainz\", \"Carlos Sainz\", \"Carlos Sainz\", \"Carlos Sainz\", \"Carlos Sainz\", \"Carlos Sainz\", \"Carlos Sainz\", \"Carlos Sainz\", \"Carlos Sainz\", \"Carlos Sainz\", \"Carlos Sainz\", \"Carlos Sainz\", \"Carlos Sainz\", \"Carlos Sainz\", \"Carlos Sainz\", \"Carlos Sainz\", \"Carlos Sainz\", \"Carlos Sainz\", \"Carlos Sainz\", \"Carlos Sainz\", \"Carlos Sainz\", \"Carlos Sainz\", \"Carlos Sainz\", \"Carlos Sainz\", \"Carlos Sainz\", \"Carlos Sainz\", \"Carlos Sainz\", \"Carlos Sainz\", \"Carlos Sainz\", \"Carlos Sainz\", \"Carlos Sainz\", \"Carlos Sainz\", \"Carlos Sainz\", \"Carlos Sainz\"], \"legendgroup\": \"Carlos Sainz\", \"line\": {\"color\": \"#FF8700\", \"dash\": \"solid\"}, \"mode\": \"lines\", \"name\": \"Carlos Sainz\", \"orientation\": \"v\", \"showlegend\": true, \"type\": \"scatter\", \"x\": [1, 2, 3, 4, 5, 6, 7, 8, 9, 10, 11, 12, 13, 14, 15, 16, 17, 18, 19, 20, 21, 22, 23, 24, 25, 26, 27, 28, 29, 30, 31, 32, 33, 34, 35, 36, 37, 38, 39, 40, 41, 42, 43, 44, 45, 46, 47, 48, 49, 50, 51, 52], \"xaxis\": \"x\", \"y\": [98.652, 128.406, 148.577, 154.053, 136.516, 93.674, 93.699, 92.917, 93.016, 92.878, 92.626, 100.877, 124.935, 148.662, 152.401, 158.851, 153.173, 138.326, 94.463, 92.682, 92.49, 91.859, 92.458, 91.967, 91.898, 91.934, 91.616, 91.838, 91.563, 91.495, 91.392, 91.174, 91.177, 91.149, 91.317, 90.994, 90.784, 90.531, 90.577, 90.38, 90.185, 90.236, 90.619, 90.4, 90.012, 90.363, 89.948, 90.098, 90.045, 90.287, 97.06, 117.423], \"yaxis\": \"y\"}, {\"customdata\": [[\"Antonio Giovinazzi\", \"Alfa\"], [\"Antonio Giovinazzi\", \"Alfa\"], [\"Antonio Giovinazzi\", \"Alfa\"], [\"Antonio Giovinazzi\", \"Alfa\"], [\"Antonio Giovinazzi\", \"Alfa\"], [\"Antonio Giovinazzi\", \"Alfa\"], [\"Antonio Giovinazzi\", \"Alfa\"], [\"Antonio Giovinazzi\", \"Alfa\"], [\"Antonio Giovinazzi\", \"Alfa\"], [\"Antonio Giovinazzi\", \"Alfa\"], [\"Antonio Giovinazzi\", \"Alfa\"], [\"Antonio Giovinazzi\", \"Alfa\"], [\"Antonio Giovinazzi\", \"Alfa\"], [\"Antonio Giovinazzi\", \"Alfa\"], [\"Antonio Giovinazzi\", \"Alfa\"], [\"Antonio Giovinazzi\", \"Alfa\"], [\"Antonio Giovinazzi\", \"Alfa\"], [\"Antonio Giovinazzi\", \"Alfa\"], [\"Antonio Giovinazzi\", \"Alfa\"], [\"Antonio Giovinazzi\", \"Alfa\"], [\"Antonio Giovinazzi\", \"Alfa\"], [\"Antonio Giovinazzi\", \"Alfa\"], [\"Antonio Giovinazzi\", \"Alfa\"], [\"Antonio Giovinazzi\", \"Alfa\"], [\"Antonio Giovinazzi\", \"Alfa\"], [\"Antonio Giovinazzi\", \"Alfa\"], [\"Antonio Giovinazzi\", \"Alfa\"], [\"Antonio Giovinazzi\", \"Alfa\"], [\"Antonio Giovinazzi\", \"Alfa\"], [\"Antonio Giovinazzi\", \"Alfa\"], [\"Antonio Giovinazzi\", \"Alfa\"], [\"Antonio Giovinazzi\", \"Alfa\"], [\"Antonio Giovinazzi\", \"Alfa\"], [\"Antonio Giovinazzi\", \"Alfa\"], [\"Antonio Giovinazzi\", \"Alfa\"], [\"Antonio Giovinazzi\", \"Alfa\"], [\"Antonio Giovinazzi\", \"Alfa\"], [\"Antonio Giovinazzi\", \"Alfa\"], [\"Antonio Giovinazzi\", \"Alfa\"], [\"Antonio Giovinazzi\", \"Alfa\"], [\"Antonio Giovinazzi\", \"Alfa\"], [\"Antonio Giovinazzi\", \"Alfa\"], [\"Antonio Giovinazzi\", \"Alfa\"], [\"Antonio Giovinazzi\", \"Alfa\"], [\"Antonio Giovinazzi\", \"Alfa\"], [\"Antonio Giovinazzi\", \"Alfa\"], [\"Antonio Giovinazzi\", \"Alfa\"], [\"Antonio Giovinazzi\", \"Alfa\"], [\"Antonio Giovinazzi\", \"Alfa\"], [\"Antonio Giovinazzi\", \"Alfa\"], [\"Antonio Giovinazzi\", \"Alfa\"], [\"Antonio Giovinazzi\", \"Alfa\"]], \"hovertemplate\": \"<b>%{hovertext}</b><br><br>lap=%{x}<br>seconds=%{y}<br>constructorRef=%{customdata[1]}<extra></extra>\", \"hovertext\": [\"Antonio Giovinazzi\", \"Antonio Giovinazzi\", \"Antonio Giovinazzi\", \"Antonio Giovinazzi\", \"Antonio Giovinazzi\", \"Antonio Giovinazzi\", \"Antonio Giovinazzi\", \"Antonio Giovinazzi\", \"Antonio Giovinazzi\", \"Antonio Giovinazzi\", \"Antonio Giovinazzi\", \"Antonio Giovinazzi\", \"Antonio Giovinazzi\", \"Antonio Giovinazzi\", \"Antonio Giovinazzi\", \"Antonio Giovinazzi\", \"Antonio Giovinazzi\", \"Antonio Giovinazzi\", \"Antonio Giovinazzi\", \"Antonio Giovinazzi\", \"Antonio Giovinazzi\", \"Antonio Giovinazzi\", \"Antonio Giovinazzi\", \"Antonio Giovinazzi\", \"Antonio Giovinazzi\", \"Antonio Giovinazzi\", \"Antonio Giovinazzi\", \"Antonio Giovinazzi\", \"Antonio Giovinazzi\", \"Antonio Giovinazzi\", \"Antonio Giovinazzi\", \"Antonio Giovinazzi\", \"Antonio Giovinazzi\", \"Antonio Giovinazzi\", \"Antonio Giovinazzi\", \"Antonio Giovinazzi\", \"Antonio Giovinazzi\", \"Antonio Giovinazzi\", \"Antonio Giovinazzi\", \"Antonio Giovinazzi\", \"Antonio Giovinazzi\", \"Antonio Giovinazzi\", \"Antonio Giovinazzi\", \"Antonio Giovinazzi\", \"Antonio Giovinazzi\", \"Antonio Giovinazzi\", \"Antonio Giovinazzi\", \"Antonio Giovinazzi\", \"Antonio Giovinazzi\", \"Antonio Giovinazzi\", \"Antonio Giovinazzi\", \"Antonio Giovinazzi\"], \"legendgroup\": \"Antonio Giovinazzi\", \"line\": {\"color\": \"#960000\", \"dash\": \"solid\"}, \"mode\": \"lines\", \"name\": \"Antonio Giovinazzi\", \"orientation\": \"v\", \"showlegend\": true, \"type\": \"scatter\", \"x\": [1, 2, 3, 4, 5, 6, 7, 8, 9, 10, 11, 12, 13, 14, 15, 16, 17, 18, 19, 20, 21, 22, 23, 24, 25, 26, 27, 28, 29, 30, 31, 32, 33, 34, 35, 36, 37, 38, 39, 40, 41, 42, 43, 44, 45, 46, 47, 48, 49, 50, 51, 52], \"xaxis\": \"x\", \"y\": [103.369, 134.228, 149.7, 154.31, 128.087, 95.001, 94.52, 93.506, 93.445, 93.621, 93.955, 99.88, 146.229, 127.745, 151.331, 159.985, 153.418, 132.137, 95.792, 94.027, 92.582, 92.693, 92.158, 92.206, 92.323, 92.258, 92.276, 92.249, 91.913, 92.614, 92.275, 91.808, 91.548, 91.633, 91.905, 91.718, 91.72, 91.401, 91.566, 91.701, 91.109, 91.547, 91.462, 91.177, 92.133, 91.417, 91.147, 91.014, 90.977, 91.082, 91.072, 91.518], \"yaxis\": \"y\"}, {\"customdata\": [[\"Nicholas Latifi\", \"Williams\"], [\"Nicholas Latifi\", \"Williams\"], [\"Nicholas Latifi\", \"Williams\"], [\"Nicholas Latifi\", \"Williams\"], [\"Nicholas Latifi\", \"Williams\"], [\"Nicholas Latifi\", \"Williams\"], [\"Nicholas Latifi\", \"Williams\"], [\"Nicholas Latifi\", \"Williams\"], [\"Nicholas Latifi\", \"Williams\"], [\"Nicholas Latifi\", \"Williams\"], [\"Nicholas Latifi\", \"Williams\"], [\"Nicholas Latifi\", \"Williams\"], [\"Nicholas Latifi\", \"Williams\"], [\"Nicholas Latifi\", \"Williams\"], [\"Nicholas Latifi\", \"Williams\"], [\"Nicholas Latifi\", \"Williams\"], [\"Nicholas Latifi\", \"Williams\"], [\"Nicholas Latifi\", \"Williams\"], [\"Nicholas Latifi\", \"Williams\"], [\"Nicholas Latifi\", \"Williams\"], [\"Nicholas Latifi\", \"Williams\"], [\"Nicholas Latifi\", \"Williams\"], [\"Nicholas Latifi\", \"Williams\"], [\"Nicholas Latifi\", \"Williams\"], [\"Nicholas Latifi\", \"Williams\"], [\"Nicholas Latifi\", \"Williams\"], [\"Nicholas Latifi\", \"Williams\"], [\"Nicholas Latifi\", \"Williams\"], [\"Nicholas Latifi\", \"Williams\"], [\"Nicholas Latifi\", \"Williams\"], [\"Nicholas Latifi\", \"Williams\"], [\"Nicholas Latifi\", \"Williams\"], [\"Nicholas Latifi\", \"Williams\"], [\"Nicholas Latifi\", \"Williams\"], [\"Nicholas Latifi\", \"Williams\"], [\"Nicholas Latifi\", \"Williams\"], [\"Nicholas Latifi\", \"Williams\"], [\"Nicholas Latifi\", \"Williams\"], [\"Nicholas Latifi\", \"Williams\"], [\"Nicholas Latifi\", \"Williams\"], [\"Nicholas Latifi\", \"Williams\"], [\"Nicholas Latifi\", \"Williams\"], [\"Nicholas Latifi\", \"Williams\"], [\"Nicholas Latifi\", \"Williams\"], [\"Nicholas Latifi\", \"Williams\"], [\"Nicholas Latifi\", \"Williams\"], [\"Nicholas Latifi\", \"Williams\"], [\"Nicholas Latifi\", \"Williams\"], [\"Nicholas Latifi\", \"Williams\"], [\"Nicholas Latifi\", \"Williams\"], [\"Nicholas Latifi\", \"Williams\"], [\"Nicholas Latifi\", \"Williams\"]], \"hovertemplate\": \"<b>%{hovertext}</b><br><br>lap=%{x}<br>seconds=%{y}<br>constructorRef=%{customdata[1]}<extra></extra>\", \"hovertext\": [\"Nicholas Latifi\", \"Nicholas Latifi\", \"Nicholas Latifi\", \"Nicholas Latifi\", \"Nicholas Latifi\", \"Nicholas Latifi\", \"Nicholas Latifi\", \"Nicholas Latifi\", \"Nicholas Latifi\", \"Nicholas Latifi\", \"Nicholas Latifi\", \"Nicholas Latifi\", \"Nicholas Latifi\", \"Nicholas Latifi\", \"Nicholas Latifi\", \"Nicholas Latifi\", \"Nicholas Latifi\", \"Nicholas Latifi\", \"Nicholas Latifi\", \"Nicholas Latifi\", \"Nicholas Latifi\", \"Nicholas Latifi\", \"Nicholas Latifi\", \"Nicholas Latifi\", \"Nicholas Latifi\", \"Nicholas Latifi\", \"Nicholas Latifi\", \"Nicholas Latifi\", \"Nicholas Latifi\", \"Nicholas Latifi\", \"Nicholas Latifi\", \"Nicholas Latifi\", \"Nicholas Latifi\", \"Nicholas Latifi\", \"Nicholas Latifi\", \"Nicholas Latifi\", \"Nicholas Latifi\", \"Nicholas Latifi\", \"Nicholas Latifi\", \"Nicholas Latifi\", \"Nicholas Latifi\", \"Nicholas Latifi\", \"Nicholas Latifi\", \"Nicholas Latifi\", \"Nicholas Latifi\", \"Nicholas Latifi\", \"Nicholas Latifi\", \"Nicholas Latifi\", \"Nicholas Latifi\", \"Nicholas Latifi\", \"Nicholas Latifi\", \"Nicholas Latifi\"], \"legendgroup\": \"Nicholas Latifi\", \"line\": {\"color\": \"#0082FA\", \"dash\": \"solid\"}, \"mode\": \"lines\", \"name\": \"Nicholas Latifi\", \"orientation\": \"v\", \"showlegend\": true, \"type\": \"scatter\", \"x\": [1, 2, 3, 4, 5, 6, 7, 8, 9, 10, 11, 12, 13, 14, 15, 16, 17, 18, 19, 20, 21, 22, 23, 24, 25, 26, 27, 28, 29, 30, 31, 32, 33, 34, 35, 36, 37, 38, 39, 40, 41, 42, 43, 44, 45, 46, 47, 48, 49, 50, 51, 52], \"xaxis\": \"x\", \"y\": [105.776, 138.757, 150.708, 154.814, 122.869, 95.352, 94.776, 93.672, 94.243, 93.964, 93.264, 107.83, 148.133, 119.905, 151.968, 158.734, 154.151, 127.362, 97.147, 94.695, 93.51, 93.027, 92.937, 92.793, 92.345, 92.503, 92.676, 92.895, 92.37, 92.1, 92.153, 91.562, 91.96, 92.119, 91.858, 91.993, 91.298, 91.243, 91.345, 91.082, 91.617, 91.16, 91.09, 90.501, 91.27, 91.019, 91.008, 90.871, 90.915, 91.119, 91.227, 92.146], \"yaxis\": \"y\"}, {\"customdata\": [[\"Romain Grosjean\", \"Haas\"], [\"Romain Grosjean\", \"Haas\"], [\"Romain Grosjean\", \"Haas\"], [\"Romain Grosjean\", \"Haas\"], [\"Romain Grosjean\", \"Haas\"], [\"Romain Grosjean\", \"Haas\"], [\"Romain Grosjean\", \"Haas\"], [\"Romain Grosjean\", \"Haas\"], [\"Romain Grosjean\", \"Haas\"], [\"Romain Grosjean\", \"Haas\"], [\"Romain Grosjean\", \"Haas\"], [\"Romain Grosjean\", \"Haas\"], [\"Romain Grosjean\", \"Haas\"], [\"Romain Grosjean\", \"Haas\"], [\"Romain Grosjean\", \"Haas\"], [\"Romain Grosjean\", \"Haas\"], [\"Romain Grosjean\", \"Haas\"], [\"Romain Grosjean\", \"Haas\"], [\"Romain Grosjean\", \"Haas\"], [\"Romain Grosjean\", \"Haas\"], [\"Romain Grosjean\", \"Haas\"], [\"Romain Grosjean\", \"Haas\"], [\"Romain Grosjean\", \"Haas\"], [\"Romain Grosjean\", \"Haas\"], [\"Romain Grosjean\", \"Haas\"], [\"Romain Grosjean\", \"Haas\"], [\"Romain Grosjean\", \"Haas\"], [\"Romain Grosjean\", \"Haas\"], [\"Romain Grosjean\", \"Haas\"], [\"Romain Grosjean\", \"Haas\"], [\"Romain Grosjean\", \"Haas\"], [\"Romain Grosjean\", \"Haas\"], [\"Romain Grosjean\", \"Haas\"], [\"Romain Grosjean\", \"Haas\"], [\"Romain Grosjean\", \"Haas\"], [\"Romain Grosjean\", \"Haas\"], [\"Romain Grosjean\", \"Haas\"], [\"Romain Grosjean\", \"Haas\"], [\"Romain Grosjean\", \"Haas\"], [\"Romain Grosjean\", \"Haas\"], [\"Romain Grosjean\", \"Haas\"], [\"Romain Grosjean\", \"Haas\"], [\"Romain Grosjean\", \"Haas\"], [\"Romain Grosjean\", \"Haas\"], [\"Romain Grosjean\", \"Haas\"], [\"Romain Grosjean\", \"Haas\"], [\"Romain Grosjean\", \"Haas\"], [\"Romain Grosjean\", \"Haas\"], [\"Romain Grosjean\", \"Haas\"], [\"Romain Grosjean\", \"Haas\"], [\"Romain Grosjean\", \"Haas\"], [\"Romain Grosjean\", \"Haas\"]], \"hovertemplate\": \"<b>%{hovertext}</b><br><br>lap=%{x}<br>seconds=%{y}<br>constructorRef=%{customdata[1]}<extra></extra>\", \"hovertext\": [\"Romain Grosjean\", \"Romain Grosjean\", \"Romain Grosjean\", \"Romain Grosjean\", \"Romain Grosjean\", \"Romain Grosjean\", \"Romain Grosjean\", \"Romain Grosjean\", \"Romain Grosjean\", \"Romain Grosjean\", \"Romain Grosjean\", \"Romain Grosjean\", \"Romain Grosjean\", \"Romain Grosjean\", \"Romain Grosjean\", \"Romain Grosjean\", \"Romain Grosjean\", \"Romain Grosjean\", \"Romain Grosjean\", \"Romain Grosjean\", \"Romain Grosjean\", \"Romain Grosjean\", \"Romain Grosjean\", \"Romain Grosjean\", \"Romain Grosjean\", \"Romain Grosjean\", \"Romain Grosjean\", \"Romain Grosjean\", \"Romain Grosjean\", \"Romain Grosjean\", \"Romain Grosjean\", \"Romain Grosjean\", \"Romain Grosjean\", \"Romain Grosjean\", \"Romain Grosjean\", \"Romain Grosjean\", \"Romain Grosjean\", \"Romain Grosjean\", \"Romain Grosjean\", \"Romain Grosjean\", \"Romain Grosjean\", \"Romain Grosjean\", \"Romain Grosjean\", \"Romain Grosjean\", \"Romain Grosjean\", \"Romain Grosjean\", \"Romain Grosjean\", \"Romain Grosjean\", \"Romain Grosjean\", \"Romain Grosjean\", \"Romain Grosjean\", \"Romain Grosjean\"], \"legendgroup\": \"Romain Grosjean\", \"line\": {\"color\": \"#787878\", \"dash\": \"solid\"}, \"mode\": \"lines\", \"name\": \"Romain Grosjean\", \"orientation\": \"v\", \"showlegend\": true, \"type\": \"scatter\", \"x\": [1, 2, 3, 4, 5, 6, 7, 8, 9, 10, 11, 12, 13, 14, 15, 16, 17, 18, 19, 20, 21, 22, 23, 24, 25, 26, 27, 28, 29, 30, 31, 32, 33, 34, 35, 36, 37, 38, 39, 40, 41, 42, 43, 44, 45, 46, 47, 48, 49, 50, 51, 52], \"xaxis\": \"x\", \"y\": [104.267, 136.618, 150.42, 154.305, 125.987, 94.525, 94.24, 93.672, 93.467, 93.607, 93.605, 104.987, 128.326, 130.741, 151.069, 159.117, 153.187, 139.878, 94.042, 92.647, 92.736, 93.137, 92.632, 93.129, 92.537, 92.307, 91.885, 91.76, 91.708, 91.447, 91.398, 91.447, 91.124, 91.067, 91.662, 93.318, 118.576, 90.862, 90.365, 90.148, 89.919, 90.644, 90.84, 90.57, 90.321, 89.965, 90.261, 90.062, 89.782, 90.013, 90.318, 91.68599999999999], \"yaxis\": \"y\"}, {\"customdata\": [[\"Kimi R\\u00e4ikk\\u00f6nen\", \"Alfa\"], [\"Kimi R\\u00e4ikk\\u00f6nen\", \"Alfa\"], [\"Kimi R\\u00e4ikk\\u00f6nen\", \"Alfa\"], [\"Kimi R\\u00e4ikk\\u00f6nen\", \"Alfa\"], [\"Kimi R\\u00e4ikk\\u00f6nen\", \"Alfa\"], [\"Kimi R\\u00e4ikk\\u00f6nen\", \"Alfa\"], [\"Kimi R\\u00e4ikk\\u00f6nen\", \"Alfa\"], [\"Kimi R\\u00e4ikk\\u00f6nen\", \"Alfa\"], [\"Kimi R\\u00e4ikk\\u00f6nen\", \"Alfa\"], [\"Kimi R\\u00e4ikk\\u00f6nen\", \"Alfa\"], [\"Kimi R\\u00e4ikk\\u00f6nen\", \"Alfa\"], [\"Kimi R\\u00e4ikk\\u00f6nen\", \"Alfa\"], [\"Kimi R\\u00e4ikk\\u00f6nen\", \"Alfa\"], [\"Kimi R\\u00e4ikk\\u00f6nen\", \"Alfa\"], [\"Kimi R\\u00e4ikk\\u00f6nen\", \"Alfa\"], [\"Kimi R\\u00e4ikk\\u00f6nen\", \"Alfa\"], [\"Kimi R\\u00e4ikk\\u00f6nen\", \"Alfa\"], [\"Kimi R\\u00e4ikk\\u00f6nen\", \"Alfa\"], [\"Kimi R\\u00e4ikk\\u00f6nen\", \"Alfa\"], [\"Kimi R\\u00e4ikk\\u00f6nen\", \"Alfa\"], [\"Kimi R\\u00e4ikk\\u00f6nen\", \"Alfa\"], [\"Kimi R\\u00e4ikk\\u00f6nen\", \"Alfa\"], [\"Kimi R\\u00e4ikk\\u00f6nen\", \"Alfa\"], [\"Kimi R\\u00e4ikk\\u00f6nen\", \"Alfa\"], [\"Kimi R\\u00e4ikk\\u00f6nen\", \"Alfa\"], [\"Kimi R\\u00e4ikk\\u00f6nen\", \"Alfa\"], [\"Kimi R\\u00e4ikk\\u00f6nen\", \"Alfa\"], [\"Kimi R\\u00e4ikk\\u00f6nen\", \"Alfa\"], [\"Kimi R\\u00e4ikk\\u00f6nen\", \"Alfa\"], [\"Kimi R\\u00e4ikk\\u00f6nen\", \"Alfa\"], [\"Kimi R\\u00e4ikk\\u00f6nen\", \"Alfa\"], [\"Kimi R\\u00e4ikk\\u00f6nen\", \"Alfa\"], [\"Kimi R\\u00e4ikk\\u00f6nen\", \"Alfa\"], [\"Kimi R\\u00e4ikk\\u00f6nen\", \"Alfa\"], [\"Kimi R\\u00e4ikk\\u00f6nen\", \"Alfa\"], [\"Kimi R\\u00e4ikk\\u00f6nen\", \"Alfa\"], [\"Kimi R\\u00e4ikk\\u00f6nen\", \"Alfa\"], [\"Kimi R\\u00e4ikk\\u00f6nen\", \"Alfa\"], [\"Kimi R\\u00e4ikk\\u00f6nen\", \"Alfa\"], [\"Kimi R\\u00e4ikk\\u00f6nen\", \"Alfa\"], [\"Kimi R\\u00e4ikk\\u00f6nen\", \"Alfa\"], [\"Kimi R\\u00e4ikk\\u00f6nen\", \"Alfa\"], [\"Kimi R\\u00e4ikk\\u00f6nen\", \"Alfa\"], [\"Kimi R\\u00e4ikk\\u00f6nen\", \"Alfa\"], [\"Kimi R\\u00e4ikk\\u00f6nen\", \"Alfa\"], [\"Kimi R\\u00e4ikk\\u00f6nen\", \"Alfa\"], [\"Kimi R\\u00e4ikk\\u00f6nen\", \"Alfa\"], [\"Kimi R\\u00e4ikk\\u00f6nen\", \"Alfa\"], [\"Kimi R\\u00e4ikk\\u00f6nen\", \"Alfa\"], [\"Kimi R\\u00e4ikk\\u00f6nen\", \"Alfa\"], [\"Kimi R\\u00e4ikk\\u00f6nen\", \"Alfa\"]], \"hovertemplate\": \"<b>%{hovertext}</b><br><br>lap=%{x}<br>seconds=%{y}<br>constructorRef=%{customdata[1]}<extra></extra>\", \"hovertext\": [\"Kimi R\\u00e4ikk\\u00f6nen\", \"Kimi R\\u00e4ikk\\u00f6nen\", \"Kimi R\\u00e4ikk\\u00f6nen\", \"Kimi R\\u00e4ikk\\u00f6nen\", \"Kimi R\\u00e4ikk\\u00f6nen\", \"Kimi R\\u00e4ikk\\u00f6nen\", \"Kimi R\\u00e4ikk\\u00f6nen\", \"Kimi R\\u00e4ikk\\u00f6nen\", \"Kimi R\\u00e4ikk\\u00f6nen\", \"Kimi R\\u00e4ikk\\u00f6nen\", \"Kimi R\\u00e4ikk\\u00f6nen\", \"Kimi R\\u00e4ikk\\u00f6nen\", \"Kimi R\\u00e4ikk\\u00f6nen\", \"Kimi R\\u00e4ikk\\u00f6nen\", \"Kimi R\\u00e4ikk\\u00f6nen\", \"Kimi R\\u00e4ikk\\u00f6nen\", \"Kimi R\\u00e4ikk\\u00f6nen\", \"Kimi R\\u00e4ikk\\u00f6nen\", \"Kimi R\\u00e4ikk\\u00f6nen\", \"Kimi R\\u00e4ikk\\u00f6nen\", \"Kimi R\\u00e4ikk\\u00f6nen\", \"Kimi R\\u00e4ikk\\u00f6nen\", \"Kimi R\\u00e4ikk\\u00f6nen\", \"Kimi R\\u00e4ikk\\u00f6nen\", \"Kimi R\\u00e4ikk\\u00f6nen\", \"Kimi R\\u00e4ikk\\u00f6nen\", \"Kimi R\\u00e4ikk\\u00f6nen\", \"Kimi R\\u00e4ikk\\u00f6nen\", \"Kimi R\\u00e4ikk\\u00f6nen\", \"Kimi R\\u00e4ikk\\u00f6nen\", \"Kimi R\\u00e4ikk\\u00f6nen\", \"Kimi R\\u00e4ikk\\u00f6nen\", \"Kimi R\\u00e4ikk\\u00f6nen\", \"Kimi R\\u00e4ikk\\u00f6nen\", \"Kimi R\\u00e4ikk\\u00f6nen\", \"Kimi R\\u00e4ikk\\u00f6nen\", \"Kimi R\\u00e4ikk\\u00f6nen\", \"Kimi R\\u00e4ikk\\u00f6nen\", \"Kimi R\\u00e4ikk\\u00f6nen\", \"Kimi R\\u00e4ikk\\u00f6nen\", \"Kimi R\\u00e4ikk\\u00f6nen\", \"Kimi R\\u00e4ikk\\u00f6nen\", \"Kimi R\\u00e4ikk\\u00f6nen\", \"Kimi R\\u00e4ikk\\u00f6nen\", \"Kimi R\\u00e4ikk\\u00f6nen\", \"Kimi R\\u00e4ikk\\u00f6nen\", \"Kimi R\\u00e4ikk\\u00f6nen\", \"Kimi R\\u00e4ikk\\u00f6nen\", \"Kimi R\\u00e4ikk\\u00f6nen\", \"Kimi R\\u00e4ikk\\u00f6nen\", \"Kimi R\\u00e4ikk\\u00f6nen\"], \"legendgroup\": \"Kimi R\\u00e4ikk\\u00f6nen\", \"line\": {\"color\": \"#960000\", \"dash\": \"solid\"}, \"mode\": \"lines\", \"name\": \"Kimi R\\u00e4ikk\\u00f6nen\", \"orientation\": \"v\", \"showlegend\": true, \"type\": \"scatter\", \"x\": [1, 2, 3, 4, 5, 6, 7, 8, 9, 10, 11, 12, 13, 14, 15, 16, 17, 18, 19, 20, 21, 22, 23, 24, 25, 26, 27, 28, 29, 30, 31, 32, 33, 34, 35, 36, 37, 38, 39, 40, 41, 42, 43, 44, 45, 46, 47, 48, 49, 50, 51], \"xaxis\": \"x\", \"y\": [104.681, 137.416, 150.462, 154.132, 125.243, 94.648, 94.393, 93.674, 93.527, 93.528, 93.314, 104.246, 151.039, 122.097, 151.24, 159.999, 154.087, 128.167, 95.995, 94.126, 93.056, 92.719, 93.912, 92.919, 92.637, 92.501, 93.448, 92.877, 92.104, 92.254, 92.259, 93.041, 92.315, 92.497, 92.691, 91.974, 91.675, 91.798, 92.524, 91.788, 91.718, 92.292, 91.7, 92.058, 91.859, 91.494, 114.836, 128.309, 89.973, 92.679, 96.344], \"yaxis\": \"y\"}, {\"customdata\": [[\"Kevin Magnussen\", \"Haas\"]], \"hovertemplate\": \"<b>%{hovertext}</b><br><br>lap=%{x}<br>seconds=%{y}<br>constructorRef=%{customdata[1]}<extra></extra>\", \"hovertext\": [\"Kevin Magnussen\"], \"legendgroup\": \"Kevin Magnussen\", \"line\": {\"color\": \"#787878\", \"dash\": \"solid\"}, \"mode\": \"lines\", \"name\": \"Kevin Magnussen\", \"orientation\": \"v\", \"showlegend\": true, \"type\": \"scatter\", \"x\": [1], \"xaxis\": \"x\", \"y\": [103.754], \"yaxis\": \"y\"}, {\"customdata\": [[\"Daniil Kvyat\", \"Alphatauri\"], [\"Daniil Kvyat\", \"Alphatauri\"], [\"Daniil Kvyat\", \"Alphatauri\"], [\"Daniil Kvyat\", \"Alphatauri\"], [\"Daniil Kvyat\", \"Alphatauri\"], [\"Daniil Kvyat\", \"Alphatauri\"], [\"Daniil Kvyat\", \"Alphatauri\"], [\"Daniil Kvyat\", \"Alphatauri\"], [\"Daniil Kvyat\", \"Alphatauri\"], [\"Daniil Kvyat\", \"Alphatauri\"], [\"Daniil Kvyat\", \"Alphatauri\"]], \"hovertemplate\": \"<b>%{hovertext}</b><br><br>lap=%{x}<br>seconds=%{y}<br>constructorRef=%{customdata[1]}<extra></extra>\", \"hovertext\": [\"Daniil Kvyat\", \"Daniil Kvyat\", \"Daniil Kvyat\", \"Daniil Kvyat\", \"Daniil Kvyat\", \"Daniil Kvyat\", \"Daniil Kvyat\", \"Daniil Kvyat\", \"Daniil Kvyat\", \"Daniil Kvyat\", \"Daniil Kvyat\"], \"legendgroup\": \"Daniil Kvyat\", \"line\": {\"color\": \"#C8C8C8\", \"dash\": \"solid\"}, \"mode\": \"lines\", \"name\": \"Daniil Kvyat\", \"orientation\": \"v\", \"showlegend\": true, \"type\": \"scatter\", \"x\": [1, 2, 3, 4, 5, 6, 7, 8, 9, 10, 11], \"xaxis\": \"x\", \"y\": [103.748, 135.827, 149.324, 155.038, 126.77, 94.683, 94.402, 93.521, 93.384, 93.461, 92.443], \"yaxis\": \"y\"}],\n",
       "                        {\"legend\": {\"title\": {\"text\": \"driverName\"}, \"tracegroupgap\": 0}, \"margin\": {\"t\": 60}, \"template\": {\"data\": {\"bar\": [{\"error_x\": {\"color\": \"#2a3f5f\"}, \"error_y\": {\"color\": \"#2a3f5f\"}, \"marker\": {\"line\": {\"color\": \"#E5ECF6\", \"width\": 0.5}}, \"type\": \"bar\"}], \"barpolar\": [{\"marker\": {\"line\": {\"color\": \"#E5ECF6\", \"width\": 0.5}}, \"type\": \"barpolar\"}], \"carpet\": [{\"aaxis\": {\"endlinecolor\": \"#2a3f5f\", \"gridcolor\": \"white\", \"linecolor\": \"white\", \"minorgridcolor\": \"white\", \"startlinecolor\": \"#2a3f5f\"}, \"baxis\": {\"endlinecolor\": \"#2a3f5f\", \"gridcolor\": \"white\", \"linecolor\": \"white\", \"minorgridcolor\": \"white\", \"startlinecolor\": \"#2a3f5f\"}, \"type\": \"carpet\"}], \"choropleth\": [{\"colorbar\": {\"outlinewidth\": 0, \"ticks\": \"\"}, \"type\": \"choropleth\"}], \"contour\": [{\"colorbar\": {\"outlinewidth\": 0, \"ticks\": \"\"}, \"colorscale\": [[0.0, \"#0d0887\"], [0.1111111111111111, \"#46039f\"], [0.2222222222222222, \"#7201a8\"], [0.3333333333333333, \"#9c179e\"], [0.4444444444444444, \"#bd3786\"], [0.5555555555555556, \"#d8576b\"], [0.6666666666666666, \"#ed7953\"], [0.7777777777777778, \"#fb9f3a\"], [0.8888888888888888, \"#fdca26\"], [1.0, \"#f0f921\"]], \"type\": \"contour\"}], \"contourcarpet\": [{\"colorbar\": {\"outlinewidth\": 0, \"ticks\": \"\"}, \"type\": \"contourcarpet\"}], \"heatmap\": [{\"colorbar\": {\"outlinewidth\": 0, \"ticks\": \"\"}, \"colorscale\": [[0.0, \"#0d0887\"], [0.1111111111111111, \"#46039f\"], [0.2222222222222222, \"#7201a8\"], [0.3333333333333333, \"#9c179e\"], [0.4444444444444444, \"#bd3786\"], [0.5555555555555556, \"#d8576b\"], [0.6666666666666666, \"#ed7953\"], [0.7777777777777778, \"#fb9f3a\"], [0.8888888888888888, \"#fdca26\"], [1.0, \"#f0f921\"]], \"type\": \"heatmap\"}], \"heatmapgl\": [{\"colorbar\": {\"outlinewidth\": 0, \"ticks\": \"\"}, \"colorscale\": [[0.0, \"#0d0887\"], [0.1111111111111111, \"#46039f\"], [0.2222222222222222, \"#7201a8\"], [0.3333333333333333, \"#9c179e\"], [0.4444444444444444, \"#bd3786\"], [0.5555555555555556, \"#d8576b\"], [0.6666666666666666, \"#ed7953\"], [0.7777777777777778, \"#fb9f3a\"], [0.8888888888888888, \"#fdca26\"], [1.0, \"#f0f921\"]], \"type\": \"heatmapgl\"}], \"histogram\": [{\"marker\": {\"colorbar\": {\"outlinewidth\": 0, \"ticks\": \"\"}}, \"type\": \"histogram\"}], \"histogram2d\": [{\"colorbar\": {\"outlinewidth\": 0, \"ticks\": \"\"}, \"colorscale\": [[0.0, \"#0d0887\"], [0.1111111111111111, \"#46039f\"], [0.2222222222222222, \"#7201a8\"], [0.3333333333333333, \"#9c179e\"], [0.4444444444444444, \"#bd3786\"], [0.5555555555555556, \"#d8576b\"], [0.6666666666666666, \"#ed7953\"], [0.7777777777777778, \"#fb9f3a\"], [0.8888888888888888, \"#fdca26\"], [1.0, \"#f0f921\"]], \"type\": \"histogram2d\"}], \"histogram2dcontour\": [{\"colorbar\": {\"outlinewidth\": 0, \"ticks\": \"\"}, \"colorscale\": [[0.0, \"#0d0887\"], [0.1111111111111111, \"#46039f\"], [0.2222222222222222, \"#7201a8\"], [0.3333333333333333, \"#9c179e\"], [0.4444444444444444, \"#bd3786\"], [0.5555555555555556, \"#d8576b\"], [0.6666666666666666, \"#ed7953\"], [0.7777777777777778, \"#fb9f3a\"], [0.8888888888888888, \"#fdca26\"], [1.0, \"#f0f921\"]], \"type\": \"histogram2dcontour\"}], \"mesh3d\": [{\"colorbar\": {\"outlinewidth\": 0, \"ticks\": \"\"}, \"type\": \"mesh3d\"}], \"parcoords\": [{\"line\": {\"colorbar\": {\"outlinewidth\": 0, \"ticks\": \"\"}}, \"type\": \"parcoords\"}], \"pie\": [{\"automargin\": true, \"type\": \"pie\"}], \"scatter\": [{\"marker\": {\"colorbar\": {\"outlinewidth\": 0, \"ticks\": \"\"}}, \"type\": \"scatter\"}], \"scatter3d\": [{\"line\": {\"colorbar\": {\"outlinewidth\": 0, \"ticks\": \"\"}}, \"marker\": {\"colorbar\": {\"outlinewidth\": 0, \"ticks\": \"\"}}, \"type\": \"scatter3d\"}], \"scattercarpet\": [{\"marker\": {\"colorbar\": {\"outlinewidth\": 0, \"ticks\": \"\"}}, \"type\": \"scattercarpet\"}], \"scattergeo\": [{\"marker\": {\"colorbar\": {\"outlinewidth\": 0, \"ticks\": \"\"}}, \"type\": \"scattergeo\"}], \"scattergl\": [{\"marker\": {\"colorbar\": {\"outlinewidth\": 0, \"ticks\": \"\"}}, \"type\": \"scattergl\"}], \"scattermapbox\": [{\"marker\": {\"colorbar\": {\"outlinewidth\": 0, \"ticks\": \"\"}}, \"type\": \"scattermapbox\"}], \"scatterpolar\": [{\"marker\": {\"colorbar\": {\"outlinewidth\": 0, \"ticks\": \"\"}}, \"type\": \"scatterpolar\"}], \"scatterpolargl\": [{\"marker\": {\"colorbar\": {\"outlinewidth\": 0, \"ticks\": \"\"}}, \"type\": \"scatterpolargl\"}], \"scatterternary\": [{\"marker\": {\"colorbar\": {\"outlinewidth\": 0, \"ticks\": \"\"}}, \"type\": \"scatterternary\"}], \"surface\": [{\"colorbar\": {\"outlinewidth\": 0, \"ticks\": \"\"}, \"colorscale\": [[0.0, \"#0d0887\"], [0.1111111111111111, \"#46039f\"], [0.2222222222222222, \"#7201a8\"], [0.3333333333333333, \"#9c179e\"], [0.4444444444444444, \"#bd3786\"], [0.5555555555555556, \"#d8576b\"], [0.6666666666666666, \"#ed7953\"], [0.7777777777777778, \"#fb9f3a\"], [0.8888888888888888, \"#fdca26\"], [1.0, \"#f0f921\"]], \"type\": \"surface\"}], \"table\": [{\"cells\": {\"fill\": {\"color\": \"#EBF0F8\"}, \"line\": {\"color\": \"white\"}}, \"header\": {\"fill\": {\"color\": \"#C8D4E3\"}, \"line\": {\"color\": \"white\"}}, \"type\": \"table\"}]}, \"layout\": {\"annotationdefaults\": {\"arrowcolor\": \"#2a3f5f\", \"arrowhead\": 0, \"arrowwidth\": 1}, \"coloraxis\": {\"colorbar\": {\"outlinewidth\": 0, \"ticks\": \"\"}}, \"colorscale\": {\"diverging\": [[0, \"#8e0152\"], [0.1, \"#c51b7d\"], [0.2, \"#de77ae\"], [0.3, \"#f1b6da\"], [0.4, \"#fde0ef\"], [0.5, \"#f7f7f7\"], [0.6, \"#e6f5d0\"], [0.7, \"#b8e186\"], [0.8, \"#7fbc41\"], [0.9, \"#4d9221\"], [1, \"#276419\"]], \"sequential\": [[0.0, \"#0d0887\"], [0.1111111111111111, \"#46039f\"], [0.2222222222222222, \"#7201a8\"], [0.3333333333333333, \"#9c179e\"], [0.4444444444444444, \"#bd3786\"], [0.5555555555555556, \"#d8576b\"], [0.6666666666666666, \"#ed7953\"], [0.7777777777777778, \"#fb9f3a\"], [0.8888888888888888, \"#fdca26\"], [1.0, \"#f0f921\"]], \"sequentialminus\": [[0.0, \"#0d0887\"], [0.1111111111111111, \"#46039f\"], [0.2222222222222222, \"#7201a8\"], [0.3333333333333333, \"#9c179e\"], [0.4444444444444444, \"#bd3786\"], [0.5555555555555556, \"#d8576b\"], [0.6666666666666666, \"#ed7953\"], [0.7777777777777778, \"#fb9f3a\"], [0.8888888888888888, \"#fdca26\"], [1.0, \"#f0f921\"]]}, \"colorway\": [\"#636efa\", \"#EF553B\", \"#00cc96\", \"#ab63fa\", \"#FFA15A\", \"#19d3f3\", \"#FF6692\", \"#B6E880\", \"#FF97FF\", \"#FECB52\"], \"font\": {\"color\": \"#2a3f5f\"}, \"geo\": {\"bgcolor\": \"white\", \"lakecolor\": \"white\", \"landcolor\": \"#E5ECF6\", \"showlakes\": true, \"showland\": true, \"subunitcolor\": \"white\"}, \"hoverlabel\": {\"align\": \"left\"}, \"hovermode\": \"closest\", \"mapbox\": {\"style\": \"light\"}, \"paper_bgcolor\": \"white\", \"plot_bgcolor\": \"#E5ECF6\", \"polar\": {\"angularaxis\": {\"gridcolor\": \"white\", \"linecolor\": \"white\", \"ticks\": \"\"}, \"bgcolor\": \"#E5ECF6\", \"radialaxis\": {\"gridcolor\": \"white\", \"linecolor\": \"white\", \"ticks\": \"\"}}, \"scene\": {\"xaxis\": {\"backgroundcolor\": \"#E5ECF6\", \"gridcolor\": \"white\", \"gridwidth\": 2, \"linecolor\": \"white\", \"showbackground\": true, \"ticks\": \"\", \"zerolinecolor\": \"white\"}, \"yaxis\": {\"backgroundcolor\": \"#E5ECF6\", \"gridcolor\": \"white\", \"gridwidth\": 2, \"linecolor\": \"white\", \"showbackground\": true, \"ticks\": \"\", \"zerolinecolor\": \"white\"}, \"zaxis\": {\"backgroundcolor\": \"#E5ECF6\", \"gridcolor\": \"white\", \"gridwidth\": 2, \"linecolor\": \"white\", \"showbackground\": true, \"ticks\": \"\", \"zerolinecolor\": \"white\"}}, \"shapedefaults\": {\"line\": {\"color\": \"#2a3f5f\"}}, \"ternary\": {\"aaxis\": {\"gridcolor\": \"white\", \"linecolor\": \"white\", \"ticks\": \"\"}, \"baxis\": {\"gridcolor\": \"white\", \"linecolor\": \"white\", \"ticks\": \"\"}, \"bgcolor\": \"#E5ECF6\", \"caxis\": {\"gridcolor\": \"white\", \"linecolor\": \"white\", \"ticks\": \"\"}}, \"title\": {\"x\": 0.05}, \"xaxis\": {\"automargin\": true, \"gridcolor\": \"white\", \"linecolor\": \"white\", \"ticks\": \"\", \"title\": {\"standoff\": 15}, \"zerolinecolor\": \"white\", \"zerolinewidth\": 2}, \"yaxis\": {\"automargin\": true, \"gridcolor\": \"white\", \"linecolor\": \"white\", \"ticks\": \"\", \"title\": {\"standoff\": 15}, \"zerolinecolor\": \"white\", \"zerolinewidth\": 2}}}, \"xaxis\": {\"anchor\": \"y\", \"domain\": [0.0, 1.0], \"title\": {\"text\": \"lap\"}}, \"yaxis\": {\"anchor\": \"x\", \"domain\": [0.0, 1.0], \"title\": {\"text\": \"seconds\"}}},\n",
       "                        {\"responsive\": true}\n",
       "                    ).then(function(){\n",
       "                            \n",
       "var gd = document.getElementById('c5a27a31-226c-48fb-a629-530b853209d7');\n",
       "var x = new MutationObserver(function (mutations, observer) {{\n",
       "        var display = window.getComputedStyle(gd).display;\n",
       "        if (!display || display === 'none') {{\n",
       "            console.log([gd, 'removed!']);\n",
       "            Plotly.purge(gd);\n",
       "            observer.disconnect();\n",
       "        }}\n",
       "}});\n",
       "\n",
       "// Listen for the removal of the full notebook cells\n",
       "var notebookContainer = gd.closest('#notebook-container');\n",
       "if (notebookContainer) {{\n",
       "    x.observe(notebookContainer, {childList: true});\n",
       "}}\n",
       "\n",
       "// Listen for the clearing of the current output cell\n",
       "var outputEl = gd.closest('.output');\n",
       "if (outputEl) {{\n",
       "    x.observe(outputEl, {childList: true});\n",
       "}}\n",
       "\n",
       "                        })\n",
       "                };\n",
       "                });\n",
       "            </script>\n",
       "        </div>"
      ]
     },
     "metadata": {},
     "output_type": "display_data"
    }
   ],
   "source": [
    "filtered_ref_df = driver_race_df[driver_race_df.year == 2020]\n",
    "color_palette = pd.Series(filtered_ref_df.color.values, index = filtered_ref_df.driverName).to_dict()\n",
    "color_palette\n",
    "\n",
    "fig = px.line(df_4, x = \"lap\", y = \"seconds\", color = \"driverName\", hover_name = \"driverName\", \n",
    "              hover_data = {\"driverName\" : False, \"constructorRef\" : True}, color_discrete_map = color_palette)\n",
    "\n",
    "fig.show()"
   ]
  },
  {
   "cell_type": "code",
   "execution_count": 6,
   "metadata": {},
   "outputs": [
    {
     "data": {
      "text/html": [
       "<div>\n",
       "<style scoped>\n",
       "    .dataframe tbody tr th:only-of-type {\n",
       "        vertical-align: middle;\n",
       "    }\n",
       "\n",
       "    .dataframe tbody tr th {\n",
       "        vertical-align: top;\n",
       "    }\n",
       "\n",
       "    .dataframe thead th {\n",
       "        text-align: right;\n",
       "    }\n",
       "</style>\n",
       "<table border=\"1\" class=\"dataframe\">\n",
       "  <thead>\n",
       "    <tr style=\"text-align: right;\">\n",
       "      <th></th>\n",
       "      <th>drivers</th>\n",
       "      <th>times</th>\n",
       "      <th>lap_min</th>\n",
       "    </tr>\n",
       "  </thead>\n",
       "  <tbody>\n",
       "    <tr>\n",
       "      <th>0</th>\n",
       "      <td>ver</td>\n",
       "      <td>1</td>\n",
       "      <td>1</td>\n",
       "    </tr>\n",
       "    <tr>\n",
       "      <th>1</th>\n",
       "      <td>ham</td>\n",
       "      <td>5</td>\n",
       "      <td>1</td>\n",
       "    </tr>\n",
       "    <tr>\n",
       "      <th>2</th>\n",
       "      <td>vet</td>\n",
       "      <td>2</td>\n",
       "      <td>1</td>\n",
       "    </tr>\n",
       "  </tbody>\n",
       "</table>\n",
       "</div>"
      ],
      "text/plain": [
       "  drivers  times  lap_min\n",
       "0     ver      1        1\n",
       "1     ham      5        1\n",
       "2     vet      2        1"
      ]
     },
     "execution_count": 6,
     "metadata": {},
     "output_type": "execute_result"
    }
   ],
   "source": [
    "drivers = [\"ver\", \"ham\", \"vet\"]\n",
    "times = [1, 5, 2]\n",
    "\n",
    "df = pd.DataFrame({\"drivers\" : drivers, \"times\" : times})\n",
    "df[\"lap_min\"] = min(times)\n",
    "df"
   ]
  }
 ],
 "metadata": {
  "kernelspec": {
   "display_name": "Python 3",
   "language": "python",
   "name": "python3"
  },
  "language_info": {
   "codemirror_mode": {
    "name": "ipython",
    "version": 3
   },
   "file_extension": ".py",
   "mimetype": "text/x-python",
   "name": "python",
   "nbconvert_exporter": "python",
   "pygments_lexer": "ipython3",
   "version": "3.7.6"
  }
 },
 "nbformat": 4,
 "nbformat_minor": 4
}
