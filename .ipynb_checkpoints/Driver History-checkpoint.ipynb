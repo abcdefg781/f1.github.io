{
 "cells": [
  {
   "cell_type": "markdown",
   "metadata": {},
   "source": [
    "# Driver History Tables"
   ]
  },
  {
   "cell_type": "code",
   "execution_count": 2,
   "metadata": {},
   "outputs": [],
   "source": [
    "import pandas as pd\n",
    "import copy\n",
    "import warnings\n",
    "import datetime as dt\n",
    "\n",
    "warnings.filterwarnings(\"ignore\")\n",
    "pd.set_option('display.max_columns', None)\n",
    "pd.set_option('display.width', None)"
   ]
  },
  {
   "cell_type": "code",
   "execution_count": 4,
   "metadata": {
    "scrolled": true
   },
   "outputs": [
    {
     "data": {
      "text/html": [
       "<div>\n",
       "<style scoped>\n",
       "    .dataframe tbody tr th:only-of-type {\n",
       "        vertical-align: middle;\n",
       "    }\n",
       "\n",
       "    .dataframe tbody tr th {\n",
       "        vertical-align: top;\n",
       "    }\n",
       "\n",
       "    .dataframe thead th {\n",
       "        text-align: right;\n",
       "    }\n",
       "</style>\n",
       "<table border=\"1\" class=\"dataframe\">\n",
       "  <thead>\n",
       "    <tr style=\"text-align: right;\">\n",
       "      <th></th>\n",
       "      <th>driverId</th>\n",
       "      <th>driverName</th>\n",
       "      <th>number</th>\n",
       "      <th>nationality</th>\n",
       "      <th>raceId</th>\n",
       "      <th>constructorId</th>\n",
       "      <th>racePosition</th>\n",
       "      <th>fastestLapTime</th>\n",
       "      <th>constructorName</th>\n",
       "      <th>points</th>\n",
       "      <th>driverStanding</th>\n",
       "      <th>wins</th>\n",
       "      <th>year</th>\n",
       "      <th>name</th>\n",
       "      <th>date</th>\n",
       "      <th>position</th>\n",
       "      <th>minQualifyingTime</th>\n",
       "    </tr>\n",
       "  </thead>\n",
       "  <tbody>\n",
       "    <tr>\n",
       "      <th>0</th>\n",
       "      <td>1</td>\n",
       "      <td>Lewis Hamilton</td>\n",
       "      <td>44</td>\n",
       "      <td>British</td>\n",
       "      <td>18</td>\n",
       "      <td>1</td>\n",
       "      <td>1</td>\n",
       "      <td>87.452</td>\n",
       "      <td>McLaren</td>\n",
       "      <td>10.0</td>\n",
       "      <td>1</td>\n",
       "      <td>1</td>\n",
       "      <td>2008</td>\n",
       "      <td>Australian Grand Prix</td>\n",
       "      <td>2008-03-16</td>\n",
       "      <td>1</td>\n",
       "      <td>85.187</td>\n",
       "    </tr>\n",
       "    <tr>\n",
       "      <th>1</th>\n",
       "      <td>5</td>\n",
       "      <td>Heikki Kovalainen</td>\n",
       "      <td>None</td>\n",
       "      <td>Finnish</td>\n",
       "      <td>18</td>\n",
       "      <td>1</td>\n",
       "      <td>5</td>\n",
       "      <td>87.418</td>\n",
       "      <td>McLaren</td>\n",
       "      <td>4.0</td>\n",
       "      <td>5</td>\n",
       "      <td>0</td>\n",
       "      <td>2008</td>\n",
       "      <td>Australian Grand Prix</td>\n",
       "      <td>2008-03-16</td>\n",
       "      <td>3</td>\n",
       "      <td>85.452</td>\n",
       "    </tr>\n",
       "    <tr>\n",
       "      <th>2</th>\n",
       "      <td>2</td>\n",
       "      <td>Nick Heidfeld</td>\n",
       "      <td>None</td>\n",
       "      <td>German</td>\n",
       "      <td>18</td>\n",
       "      <td>2</td>\n",
       "      <td>2</td>\n",
       "      <td>87.739</td>\n",
       "      <td>BMW Sauber</td>\n",
       "      <td>8.0</td>\n",
       "      <td>2</td>\n",
       "      <td>0</td>\n",
       "      <td>2008</td>\n",
       "      <td>Australian Grand Prix</td>\n",
       "      <td>2008-03-16</td>\n",
       "      <td>5</td>\n",
       "      <td>85.518</td>\n",
       "    </tr>\n",
       "    <tr>\n",
       "      <th>3</th>\n",
       "      <td>3</td>\n",
       "      <td>Nico Rosberg</td>\n",
       "      <td>6</td>\n",
       "      <td>German</td>\n",
       "      <td>18</td>\n",
       "      <td>3</td>\n",
       "      <td>3</td>\n",
       "      <td>88.09</td>\n",
       "      <td>Williams</td>\n",
       "      <td>6.0</td>\n",
       "      <td>3</td>\n",
       "      <td>0</td>\n",
       "      <td>2008</td>\n",
       "      <td>Australian Grand Prix</td>\n",
       "      <td>2008-03-16</td>\n",
       "      <td>7</td>\n",
       "      <td>86.059</td>\n",
       "    </tr>\n",
       "    <tr>\n",
       "      <th>4</th>\n",
       "      <td>6</td>\n",
       "      <td>Kazuki Nakajima</td>\n",
       "      <td>None</td>\n",
       "      <td>Japanese</td>\n",
       "      <td>18</td>\n",
       "      <td>3</td>\n",
       "      <td>6</td>\n",
       "      <td>89.639</td>\n",
       "      <td>Williams</td>\n",
       "      <td>3.0</td>\n",
       "      <td>6</td>\n",
       "      <td>0</td>\n",
       "      <td>2008</td>\n",
       "      <td>Australian Grand Prix</td>\n",
       "      <td>2008-03-16</td>\n",
       "      <td>14</td>\n",
       "      <td>86.413</td>\n",
       "    </tr>\n",
       "    <tr>\n",
       "      <th>5</th>\n",
       "      <td>4</td>\n",
       "      <td>Fernando Alonso</td>\n",
       "      <td>14</td>\n",
       "      <td>Spanish</td>\n",
       "      <td>18</td>\n",
       "      <td>4</td>\n",
       "      <td>4</td>\n",
       "      <td>88.603</td>\n",
       "      <td>Renault</td>\n",
       "      <td>5.0</td>\n",
       "      <td>4</td>\n",
       "      <td>0</td>\n",
       "      <td>2008</td>\n",
       "      <td>Australian Grand Prix</td>\n",
       "      <td>2008-03-16</td>\n",
       "      <td>12</td>\n",
       "      <td>86.188</td>\n",
       "    </tr>\n",
       "    <tr>\n",
       "      <th>6</th>\n",
       "      <td>8</td>\n",
       "      <td>Kimi Räikkönen</td>\n",
       "      <td>7</td>\n",
       "      <td>Finnish</td>\n",
       "      <td>18</td>\n",
       "      <td>6</td>\n",
       "      <td>8</td>\n",
       "      <td>87.903</td>\n",
       "      <td>Ferrari</td>\n",
       "      <td>1.0</td>\n",
       "      <td>8</td>\n",
       "      <td>0</td>\n",
       "      <td>2008</td>\n",
       "      <td>Australian Grand Prix</td>\n",
       "      <td>2008-03-16</td>\n",
       "      <td>16</td>\n",
       "      <td>86.140</td>\n",
       "    </tr>\n",
       "    <tr>\n",
       "      <th>7</th>\n",
       "      <td>7</td>\n",
       "      <td>Sébastien Bourdais</td>\n",
       "      <td>None</td>\n",
       "      <td>French</td>\n",
       "      <td>18</td>\n",
       "      <td>5</td>\n",
       "      <td>7</td>\n",
       "      <td>89.534</td>\n",
       "      <td>Toro Rosso</td>\n",
       "      <td>2.0</td>\n",
       "      <td>7</td>\n",
       "      <td>0</td>\n",
       "      <td>2008</td>\n",
       "      <td>Australian Grand Prix</td>\n",
       "      <td>2008-03-16</td>\n",
       "      <td>18</td>\n",
       "      <td>87.446</td>\n",
       "    </tr>\n",
       "    <tr>\n",
       "      <th>8</th>\n",
       "      <td>1</td>\n",
       "      <td>Lewis Hamilton</td>\n",
       "      <td>44</td>\n",
       "      <td>British</td>\n",
       "      <td>19</td>\n",
       "      <td>1</td>\n",
       "      <td>5</td>\n",
       "      <td>95.462</td>\n",
       "      <td>McLaren</td>\n",
       "      <td>14.0</td>\n",
       "      <td>1</td>\n",
       "      <td>1</td>\n",
       "      <td>2008</td>\n",
       "      <td>Malaysian Grand Prix</td>\n",
       "      <td>2008-03-23</td>\n",
       "      <td>4</td>\n",
       "      <td>94.627</td>\n",
       "    </tr>\n",
       "    <tr>\n",
       "      <th>9</th>\n",
       "      <td>5</td>\n",
       "      <td>Heikki Kovalainen</td>\n",
       "      <td>None</td>\n",
       "      <td>Finnish</td>\n",
       "      <td>19</td>\n",
       "      <td>1</td>\n",
       "      <td>3</td>\n",
       "      <td>95.922</td>\n",
       "      <td>McLaren</td>\n",
       "      <td>10.0</td>\n",
       "      <td>4</td>\n",
       "      <td>0</td>\n",
       "      <td>2008</td>\n",
       "      <td>Malaysian Grand Prix</td>\n",
       "      <td>2008-03-23</td>\n",
       "      <td>3</td>\n",
       "      <td>94.759</td>\n",
       "    </tr>\n",
       "  </tbody>\n",
       "</table>\n",
       "</div>"
      ],
      "text/plain": [
       "   driverId          driverName number nationality  raceId  constructorId  \\\n",
       "0         1      Lewis Hamilton     44     British      18              1   \n",
       "1         5   Heikki Kovalainen   None     Finnish      18              1   \n",
       "2         2       Nick Heidfeld   None      German      18              2   \n",
       "3         3        Nico Rosberg      6      German      18              3   \n",
       "4         6     Kazuki Nakajima   None    Japanese      18              3   \n",
       "5         4     Fernando Alonso     14     Spanish      18              4   \n",
       "6         8      Kimi Räikkönen      7     Finnish      18              6   \n",
       "7         7  Sébastien Bourdais   None      French      18              5   \n",
       "8         1      Lewis Hamilton     44     British      19              1   \n",
       "9         5   Heikki Kovalainen   None     Finnish      19              1   \n",
       "\n",
       "  racePosition fastestLapTime constructorName  points  driverStanding  wins  \\\n",
       "0            1         87.452         McLaren    10.0               1     1   \n",
       "1            5         87.418         McLaren     4.0               5     0   \n",
       "2            2         87.739      BMW Sauber     8.0               2     0   \n",
       "3            3          88.09        Williams     6.0               3     0   \n",
       "4            6         89.639        Williams     3.0               6     0   \n",
       "5            4         88.603         Renault     5.0               4     0   \n",
       "6            8         87.903         Ferrari     1.0               8     0   \n",
       "7            7         89.534      Toro Rosso     2.0               7     0   \n",
       "8            5         95.462         McLaren    14.0               1     1   \n",
       "9            3         95.922         McLaren    10.0               4     0   \n",
       "\n",
       "   year                   name        date  position  minQualifyingTime  \n",
       "0  2008  Australian Grand Prix  2008-03-16         1             85.187  \n",
       "1  2008  Australian Grand Prix  2008-03-16         3             85.452  \n",
       "2  2008  Australian Grand Prix  2008-03-16         5             85.518  \n",
       "3  2008  Australian Grand Prix  2008-03-16         7             86.059  \n",
       "4  2008  Australian Grand Prix  2008-03-16        14             86.413  \n",
       "5  2008  Australian Grand Prix  2008-03-16        12             86.188  \n",
       "6  2008  Australian Grand Prix  2008-03-16        16             86.140  \n",
       "7  2008  Australian Grand Prix  2008-03-16        18             87.446  \n",
       "8  2008   Malaysian Grand Prix  2008-03-23         4             94.627  \n",
       "9  2008   Malaysian Grand Prix  2008-03-23         3             94.759  "
      ]
     },
     "execution_count": 4,
     "metadata": {},
     "output_type": "execute_result"
    }
   ],
   "source": [
    "# Import all the data\n",
    "drivers_df = pd.read_csv(\"./f1db_csv/drivers.csv\").drop(columns = \"url\")\n",
    "results_df = pd.read_csv(\"./f1db_csv/results.csv\")\n",
    "constructors_df = pd.read_csv(\"./f1db_csv/constructors.csv\")\n",
    "races_df = pd.read_csv(\"./f1db_csv/races.csv\")\n",
    "qualifying_df = pd.read_csv(\"./f1db_csv/qualifying.csv\")\n",
    "d_standings_df = pd.read_csv(\"./f1db_csv/driver_standings.csv\")\n",
    "\n",
    "# Clean some names and create new variables\n",
    "# drivers_df\n",
    "drivers_df[\"number\"] = drivers_df[\"number\"].replace({r\"\\N\": None})\n",
    "drivers_df[\"driverName\"] = drivers_df[\"forename\"].str.cat(drivers_df[\"surname\"],sep = \" \")\n",
    "drivers_df = drivers_df.drop(columns = [\"forename\", \"surname\"])\n",
    "\n",
    "# results_df\n",
    "results_df[\"position\"] = results_df[\"position\"].replace({r\"\\N\": None})\n",
    "\n",
    "# Merging to a full dataset for driver history\n",
    "df_1 = pd.merge(drivers_df[[\"driverId\", \"driverName\", \"number\", \"nationality\"]], results_df[[\"driverId\", \"raceId\", \"constructorId\", \"position\", \"fastestLapTime\"]], on = \"driverId\")\n",
    "df_2 = pd.merge(df_1, constructors_df[[\"constructorId\", \"name\"]], on = \"constructorId\")\n",
    "df_2 = df_2.rename({\"position\" : \"racePosition\"}, axis = \"columns\")\n",
    "df_2 = df_2.rename({\"name\" : \"constructorName\"}, axis = \"columns\")\n",
    "df_3 = pd.merge(df_2, d_standings_df[[\"driverId\", \"raceId\", \"points\", \"position\", \"wins\"]], on = [\"driverId\", \"raceId\"])\n",
    "df_3 = df_3.rename({\"position\" : \"driverStanding\"}, axis = \"columns\")\n",
    "df_4 = pd.merge(df_3, races_df[[\"raceId\", \"year\", \"name\", \"date\"]], on = \"raceId\")\n",
    "df_5 = pd.merge(df_4, qualifying_df[[\"raceId\", \"driverId\", \"position\", \"q1\", \"q2\", \"q3\"]], on = [\"driverId\", \"raceId\"])\n",
    "\n",
    "for i in range(len(df_5['q1'])):\n",
    "    nan_series = df_5.q1.isna()[i]\n",
    "    if (df_5['q1'][i] == r\"\\N\") | (nan_series == True):\n",
    "        df_5['q1'][i] = None\n",
    "        i += 1\n",
    "    elif df_5['q1'][i] != 0:\n",
    "        df_5['q1'][i] = float(str(df_5['q1'][i]).split(':')[1]) + (60 * float(str(df_5['q1'][i]).split(':')[0]))\n",
    "        i += 1\n",
    "    else:\n",
    "        df_5['q1'][i] = None\n",
    "        i += 1\n",
    "\n",
    "for i in range(len(df_5['q2'])):\n",
    "    nan_series = df_5.q2.isna()[i]\n",
    "    if (df_5['q2'][i] == r\"\\N\") | (nan_series == True):\n",
    "        df_5['q2'][i] = None\n",
    "        i += 1\n",
    "    elif df_5['q2'][i] != 0:\n",
    "        df_5['q2'][i] = float(str(df_5['q2'][i]).split(':')[1]) + (60 * float(str(df_5['q2'][i]).split(':')[0]))\n",
    "        i += 1\n",
    "    else:\n",
    "        df_5['q2'][i] = None\n",
    "        i += 1\n",
    "\n",
    "for i in range(len(df_5['q3'])):\n",
    "    nan_series = df_5.q3.isna()[i]\n",
    "    if (df_5['q3'][i] == r\"\\N\") | (nan_series == True):\n",
    "        df_5['q3'][i] = None\n",
    "        i += 1\n",
    "    elif df_5['q3'][i] != 0:\n",
    "        df_5['q3'][i] = float(str(df_5['q3'][i]).split(':')[1]) + (60 * float(str(df_5['q3'][i]).split(':')[0]))\n",
    "        i += 1\n",
    "    else:\n",
    "        df_5['q3'][i] = None\n",
    "        i += 1\n",
    "        \n",
    "for i in range(len(df_5['fastestLapTime'])):\n",
    "    nan_series = df_5.fastestLapTime.isna()[i]\n",
    "    if (df_5['fastestLapTime'][i] == r\"\\N\") | (nan_series == True):\n",
    "        df_5['fastestLapTime'][i] = None\n",
    "        i += 1\n",
    "    elif df_5['fastestLapTime'][i] != 0:\n",
    "        df_5['fastestLapTime'][i] = float(str(df_5['fastestLapTime'][i]).split(':')[1]) + (60 * float(str(df_5['fastestLapTime'][i]).split(':')[0]))\n",
    "        i += 1\n",
    "    else:\n",
    "        df_5['fastestLapTime'][i] = None\n",
    "        i += 1\n",
    "\n",
    "df_5[\"minQualifyingTime\"] = df_5[[\"q1\", \"q2\", \"q3\"]].min(skipna = True, axis = 1)\n",
    "df_5 = df_5.drop(columns = [\"q1\", \"q2\", \"q3\"])\n",
    "df_5.head(10)"
   ]
  },
  {
   "cell_type": "code",
   "execution_count": 23,
   "metadata": {},
   "outputs": [
    {
     "data": {
      "text/html": [
       "<div>\n",
       "<style scoped>\n",
       "    .dataframe tbody tr th:only-of-type {\n",
       "        vertical-align: middle;\n",
       "    }\n",
       "\n",
       "    .dataframe tbody tr th {\n",
       "        vertical-align: top;\n",
       "    }\n",
       "\n",
       "    .dataframe thead th {\n",
       "        text-align: right;\n",
       "    }\n",
       "</style>\n",
       "<table border=\"1\" class=\"dataframe\">\n",
       "  <thead>\n",
       "    <tr style=\"text-align: right;\">\n",
       "      <th></th>\n",
       "      <th>driverId</th>\n",
       "      <th>driverName</th>\n",
       "      <th>number</th>\n",
       "      <th>nationality</th>\n",
       "      <th>raceId</th>\n",
       "      <th>constructorId</th>\n",
       "      <th>racePosition</th>\n",
       "      <th>fastestLapTime</th>\n",
       "      <th>constructorName</th>\n",
       "      <th>points</th>\n",
       "      <th>driverStanding</th>\n",
       "      <th>wins</th>\n",
       "      <th>year</th>\n",
       "      <th>name</th>\n",
       "      <th>date</th>\n",
       "      <th>position</th>\n",
       "      <th>minQualifyingTime</th>\n",
       "      <th>Unnamed: 0</th>\n",
       "      <th>minOverallRaceLap</th>\n",
       "      <th>minOverallQualiLap</th>\n",
       "    </tr>\n",
       "  </thead>\n",
       "  <tbody>\n",
       "    <tr>\n",
       "      <th>0</th>\n",
       "      <td>1</td>\n",
       "      <td>Lewis Hamilton</td>\n",
       "      <td>44</td>\n",
       "      <td>British</td>\n",
       "      <td>18</td>\n",
       "      <td>1</td>\n",
       "      <td>1</td>\n",
       "      <td>87.452</td>\n",
       "      <td>McLaren</td>\n",
       "      <td>10.0</td>\n",
       "      <td>1</td>\n",
       "      <td>1</td>\n",
       "      <td>2008</td>\n",
       "      <td>Australian Grand Prix</td>\n",
       "      <td>2008-03-16</td>\n",
       "      <td>1</td>\n",
       "      <td>85.187</td>\n",
       "      <td>17</td>\n",
       "      <td>87.418</td>\n",
       "      <td>85.187</td>\n",
       "    </tr>\n",
       "    <tr>\n",
       "      <th>1</th>\n",
       "      <td>5</td>\n",
       "      <td>Heikki Kovalainen</td>\n",
       "      <td>None</td>\n",
       "      <td>Finnish</td>\n",
       "      <td>18</td>\n",
       "      <td>1</td>\n",
       "      <td>5</td>\n",
       "      <td>87.418</td>\n",
       "      <td>McLaren</td>\n",
       "      <td>4.0</td>\n",
       "      <td>5</td>\n",
       "      <td>0</td>\n",
       "      <td>2008</td>\n",
       "      <td>Australian Grand Prix</td>\n",
       "      <td>2008-03-16</td>\n",
       "      <td>3</td>\n",
       "      <td>85.452</td>\n",
       "      <td>17</td>\n",
       "      <td>87.418</td>\n",
       "      <td>85.187</td>\n",
       "    </tr>\n",
       "    <tr>\n",
       "      <th>2</th>\n",
       "      <td>2</td>\n",
       "      <td>Nick Heidfeld</td>\n",
       "      <td>None</td>\n",
       "      <td>German</td>\n",
       "      <td>18</td>\n",
       "      <td>2</td>\n",
       "      <td>2</td>\n",
       "      <td>87.739</td>\n",
       "      <td>BMW Sauber</td>\n",
       "      <td>8.0</td>\n",
       "      <td>2</td>\n",
       "      <td>0</td>\n",
       "      <td>2008</td>\n",
       "      <td>Australian Grand Prix</td>\n",
       "      <td>2008-03-16</td>\n",
       "      <td>5</td>\n",
       "      <td>85.518</td>\n",
       "      <td>17</td>\n",
       "      <td>87.418</td>\n",
       "      <td>85.187</td>\n",
       "    </tr>\n",
       "    <tr>\n",
       "      <th>3</th>\n",
       "      <td>3</td>\n",
       "      <td>Nico Rosberg</td>\n",
       "      <td>6</td>\n",
       "      <td>German</td>\n",
       "      <td>18</td>\n",
       "      <td>3</td>\n",
       "      <td>3</td>\n",
       "      <td>88.09</td>\n",
       "      <td>Williams</td>\n",
       "      <td>6.0</td>\n",
       "      <td>3</td>\n",
       "      <td>0</td>\n",
       "      <td>2008</td>\n",
       "      <td>Australian Grand Prix</td>\n",
       "      <td>2008-03-16</td>\n",
       "      <td>7</td>\n",
       "      <td>86.059</td>\n",
       "      <td>17</td>\n",
       "      <td>87.418</td>\n",
       "      <td>85.187</td>\n",
       "    </tr>\n",
       "    <tr>\n",
       "      <th>4</th>\n",
       "      <td>6</td>\n",
       "      <td>Kazuki Nakajima</td>\n",
       "      <td>None</td>\n",
       "      <td>Japanese</td>\n",
       "      <td>18</td>\n",
       "      <td>3</td>\n",
       "      <td>6</td>\n",
       "      <td>89.639</td>\n",
       "      <td>Williams</td>\n",
       "      <td>3.0</td>\n",
       "      <td>6</td>\n",
       "      <td>0</td>\n",
       "      <td>2008</td>\n",
       "      <td>Australian Grand Prix</td>\n",
       "      <td>2008-03-16</td>\n",
       "      <td>14</td>\n",
       "      <td>86.413</td>\n",
       "      <td>17</td>\n",
       "      <td>87.418</td>\n",
       "      <td>85.187</td>\n",
       "    </tr>\n",
       "  </tbody>\n",
       "</table>\n",
       "</div>"
      ],
      "text/plain": [
       "   driverId         driverName number nationality  raceId  constructorId  \\\n",
       "0         1     Lewis Hamilton     44     British      18              1   \n",
       "1         5  Heikki Kovalainen   None     Finnish      18              1   \n",
       "2         2      Nick Heidfeld   None      German      18              2   \n",
       "3         3       Nico Rosberg      6      German      18              3   \n",
       "4         6    Kazuki Nakajima   None    Japanese      18              3   \n",
       "\n",
       "  racePosition fastestLapTime constructorName  points  driverStanding  wins  \\\n",
       "0            1         87.452         McLaren    10.0               1     1   \n",
       "1            5         87.418         McLaren     4.0               5     0   \n",
       "2            2         87.739      BMW Sauber     8.0               2     0   \n",
       "3            3          88.09        Williams     6.0               3     0   \n",
       "4            6         89.639        Williams     3.0               6     0   \n",
       "\n",
       "   year                   name        date  position  minQualifyingTime  \\\n",
       "0  2008  Australian Grand Prix  2008-03-16         1             85.187   \n",
       "1  2008  Australian Grand Prix  2008-03-16         3             85.452   \n",
       "2  2008  Australian Grand Prix  2008-03-16         5             85.518   \n",
       "3  2008  Australian Grand Prix  2008-03-16         7             86.059   \n",
       "4  2008  Australian Grand Prix  2008-03-16        14             86.413   \n",
       "\n",
       "   Unnamed: 0  minOverallRaceLap  minOverallQualiLap  \n",
       "0          17             87.418              85.187  \n",
       "1          17             87.418              85.187  \n",
       "2          17             87.418              85.187  \n",
       "3          17             87.418              85.187  \n",
       "4          17             87.418              85.187  "
      ]
     },
     "execution_count": 23,
     "metadata": {},
     "output_type": "execute_result"
    }
   ],
   "source": [
    "df_minlap = pd.read_csv(\"./f1db_csv/min_laps.csv\")\n",
    "df_5 = df_5.merge(df_minlap,on='raceId')\n",
    "df_5.head()"
   ]
  },
  {
   "cell_type": "code",
   "execution_count": 26,
   "metadata": {},
   "outputs": [
    {
     "data": {
      "text/html": [
       "<div>\n",
       "<style scoped>\n",
       "    .dataframe tbody tr th:only-of-type {\n",
       "        vertical-align: middle;\n",
       "    }\n",
       "\n",
       "    .dataframe tbody tr th {\n",
       "        vertical-align: top;\n",
       "    }\n",
       "\n",
       "    .dataframe thead th {\n",
       "        text-align: right;\n",
       "    }\n",
       "</style>\n",
       "<table border=\"1\" class=\"dataframe\">\n",
       "  <thead>\n",
       "    <tr style=\"text-align: right;\">\n",
       "      <th></th>\n",
       "      <th>driverId</th>\n",
       "      <th>driverName</th>\n",
       "      <th>number</th>\n",
       "      <th>nationality</th>\n",
       "      <th>raceId</th>\n",
       "      <th>constructorId</th>\n",
       "      <th>racePosition</th>\n",
       "      <th>fastestLapTime</th>\n",
       "      <th>constructorName</th>\n",
       "      <th>points</th>\n",
       "      <th>driverStanding</th>\n",
       "      <th>wins</th>\n",
       "      <th>year</th>\n",
       "      <th>name</th>\n",
       "      <th>date</th>\n",
       "      <th>position</th>\n",
       "      <th>minQualifyingTime</th>\n",
       "      <th>Unnamed: 0</th>\n",
       "      <th>minOverallRaceLap</th>\n",
       "      <th>minOverallQualiLap</th>\n",
       "      <th>race_lap_ratio</th>\n",
       "      <th>quali_lap_ratio</th>\n",
       "    </tr>\n",
       "  </thead>\n",
       "  <tbody>\n",
       "    <tr>\n",
       "      <th>0</th>\n",
       "      <td>1</td>\n",
       "      <td>Lewis Hamilton</td>\n",
       "      <td>44</td>\n",
       "      <td>British</td>\n",
       "      <td>18</td>\n",
       "      <td>1</td>\n",
       "      <td>1</td>\n",
       "      <td>87.452</td>\n",
       "      <td>McLaren</td>\n",
       "      <td>10.0</td>\n",
       "      <td>1</td>\n",
       "      <td>1</td>\n",
       "      <td>2008</td>\n",
       "      <td>Australian Grand Prix</td>\n",
       "      <td>2008-03-16</td>\n",
       "      <td>1</td>\n",
       "      <td>85.187</td>\n",
       "      <td>17</td>\n",
       "      <td>87.418</td>\n",
       "      <td>85.187</td>\n",
       "      <td>1.00039</td>\n",
       "      <td>1.000000</td>\n",
       "    </tr>\n",
       "    <tr>\n",
       "      <th>1</th>\n",
       "      <td>5</td>\n",
       "      <td>Heikki Kovalainen</td>\n",
       "      <td>None</td>\n",
       "      <td>Finnish</td>\n",
       "      <td>18</td>\n",
       "      <td>1</td>\n",
       "      <td>5</td>\n",
       "      <td>87.418</td>\n",
       "      <td>McLaren</td>\n",
       "      <td>4.0</td>\n",
       "      <td>5</td>\n",
       "      <td>0</td>\n",
       "      <td>2008</td>\n",
       "      <td>Australian Grand Prix</td>\n",
       "      <td>2008-03-16</td>\n",
       "      <td>3</td>\n",
       "      <td>85.452</td>\n",
       "      <td>17</td>\n",
       "      <td>87.418</td>\n",
       "      <td>85.187</td>\n",
       "      <td>1</td>\n",
       "      <td>1.003111</td>\n",
       "    </tr>\n",
       "    <tr>\n",
       "      <th>2</th>\n",
       "      <td>2</td>\n",
       "      <td>Nick Heidfeld</td>\n",
       "      <td>None</td>\n",
       "      <td>German</td>\n",
       "      <td>18</td>\n",
       "      <td>2</td>\n",
       "      <td>2</td>\n",
       "      <td>87.739</td>\n",
       "      <td>BMW Sauber</td>\n",
       "      <td>8.0</td>\n",
       "      <td>2</td>\n",
       "      <td>0</td>\n",
       "      <td>2008</td>\n",
       "      <td>Australian Grand Prix</td>\n",
       "      <td>2008-03-16</td>\n",
       "      <td>5</td>\n",
       "      <td>85.518</td>\n",
       "      <td>17</td>\n",
       "      <td>87.418</td>\n",
       "      <td>85.187</td>\n",
       "      <td>1.00367</td>\n",
       "      <td>1.003886</td>\n",
       "    </tr>\n",
       "    <tr>\n",
       "      <th>3</th>\n",
       "      <td>3</td>\n",
       "      <td>Nico Rosberg</td>\n",
       "      <td>6</td>\n",
       "      <td>German</td>\n",
       "      <td>18</td>\n",
       "      <td>3</td>\n",
       "      <td>3</td>\n",
       "      <td>88.09</td>\n",
       "      <td>Williams</td>\n",
       "      <td>6.0</td>\n",
       "      <td>3</td>\n",
       "      <td>0</td>\n",
       "      <td>2008</td>\n",
       "      <td>Australian Grand Prix</td>\n",
       "      <td>2008-03-16</td>\n",
       "      <td>7</td>\n",
       "      <td>86.059</td>\n",
       "      <td>17</td>\n",
       "      <td>87.418</td>\n",
       "      <td>85.187</td>\n",
       "      <td>1.00769</td>\n",
       "      <td>1.010236</td>\n",
       "    </tr>\n",
       "    <tr>\n",
       "      <th>4</th>\n",
       "      <td>6</td>\n",
       "      <td>Kazuki Nakajima</td>\n",
       "      <td>None</td>\n",
       "      <td>Japanese</td>\n",
       "      <td>18</td>\n",
       "      <td>3</td>\n",
       "      <td>6</td>\n",
       "      <td>89.639</td>\n",
       "      <td>Williams</td>\n",
       "      <td>3.0</td>\n",
       "      <td>6</td>\n",
       "      <td>0</td>\n",
       "      <td>2008</td>\n",
       "      <td>Australian Grand Prix</td>\n",
       "      <td>2008-03-16</td>\n",
       "      <td>14</td>\n",
       "      <td>86.413</td>\n",
       "      <td>17</td>\n",
       "      <td>87.418</td>\n",
       "      <td>85.187</td>\n",
       "      <td>1.02541</td>\n",
       "      <td>1.014392</td>\n",
       "    </tr>\n",
       "  </tbody>\n",
       "</table>\n",
       "</div>"
      ],
      "text/plain": [
       "   driverId         driverName number nationality  raceId  constructorId  \\\n",
       "0         1     Lewis Hamilton     44     British      18              1   \n",
       "1         5  Heikki Kovalainen   None     Finnish      18              1   \n",
       "2         2      Nick Heidfeld   None      German      18              2   \n",
       "3         3       Nico Rosberg      6      German      18              3   \n",
       "4         6    Kazuki Nakajima   None    Japanese      18              3   \n",
       "\n",
       "  racePosition fastestLapTime constructorName  points  driverStanding  wins  \\\n",
       "0            1         87.452         McLaren    10.0               1     1   \n",
       "1            5         87.418         McLaren     4.0               5     0   \n",
       "2            2         87.739      BMW Sauber     8.0               2     0   \n",
       "3            3          88.09        Williams     6.0               3     0   \n",
       "4            6         89.639        Williams     3.0               6     0   \n",
       "\n",
       "   year                   name        date  position  minQualifyingTime  \\\n",
       "0  2008  Australian Grand Prix  2008-03-16         1             85.187   \n",
       "1  2008  Australian Grand Prix  2008-03-16         3             85.452   \n",
       "2  2008  Australian Grand Prix  2008-03-16         5             85.518   \n",
       "3  2008  Australian Grand Prix  2008-03-16         7             86.059   \n",
       "4  2008  Australian Grand Prix  2008-03-16        14             86.413   \n",
       "\n",
       "   Unnamed: 0  minOverallRaceLap  minOverallQualiLap race_lap_ratio  \\\n",
       "0          17             87.418              85.187        1.00039   \n",
       "1          17             87.418              85.187              1   \n",
       "2          17             87.418              85.187        1.00367   \n",
       "3          17             87.418              85.187        1.00769   \n",
       "4          17             87.418              85.187        1.02541   \n",
       "\n",
       "   quali_lap_ratio  \n",
       "0         1.000000  \n",
       "1         1.003111  \n",
       "2         1.003886  \n",
       "3         1.010236  \n",
       "4         1.014392  "
      ]
     },
     "execution_count": 26,
     "metadata": {},
     "output_type": "execute_result"
    }
   ],
   "source": [
    "df_5['race_lap_ratio'] = df_5['fastestLapTime']/df_5['minOverallRaceLap']\n",
    "df_5['quali_lap_ratio'] = df_5['minQualifyingTime']/df_5['minOverallQualiLap']\n",
    "df_5.head()"
   ]
  },
  {
   "cell_type": "code",
   "execution_count": 13,
   "metadata": {},
   "outputs": [
    {
     "ename": "PermissionError",
     "evalue": "[Errno 13] Permission denied: './f1db_csv/driver_history.csv'",
     "output_type": "error",
     "traceback": [
      "\u001b[1;31m---------------------------------------------------------------------------\u001b[0m",
      "\u001b[1;31mPermissionError\u001b[0m                           Traceback (most recent call last)",
      "\u001b[1;32m<ipython-input-13-c695eb3e5c9a>\u001b[0m in \u001b[0;36m<module>\u001b[1;34m\u001b[0m\n\u001b[0;32m      8\u001b[0m \u001b[1;33m\u001b[0m\u001b[0m\n\u001b[0;32m      9\u001b[0m \u001b[1;31m# Save it into a csv\u001b[0m\u001b[1;33m\u001b[0m\u001b[1;33m\u001b[0m\u001b[1;33m\u001b[0m\u001b[0m\n\u001b[1;32m---> 10\u001b[1;33m \u001b[0mdf\u001b[0m\u001b[1;33m.\u001b[0m\u001b[0mto_csv\u001b[0m\u001b[1;33m(\u001b[0m\u001b[1;34m\"./f1db_csv/driver_history.csv\"\u001b[0m\u001b[1;33m)\u001b[0m\u001b[1;33m\u001b[0m\u001b[1;33m\u001b[0m\u001b[0m\n\u001b[0m",
      "\u001b[1;32mc:\\users\\pdebuck\\appdata\\local\\programs\\python\\python38\\lib\\site-packages\\pandas\\core\\generic.py\u001b[0m in \u001b[0;36mto_csv\u001b[1;34m(self, path_or_buf, sep, na_rep, float_format, columns, header, index, index_label, mode, encoding, compression, quoting, quotechar, line_terminator, chunksize, date_format, doublequote, escapechar, decimal, errors)\u001b[0m\n\u001b[0;32m   3165\u001b[0m             \u001b[0mdecimal\u001b[0m\u001b[1;33m=\u001b[0m\u001b[0mdecimal\u001b[0m\u001b[1;33m,\u001b[0m\u001b[1;33m\u001b[0m\u001b[1;33m\u001b[0m\u001b[0m\n\u001b[0;32m   3166\u001b[0m         )\n\u001b[1;32m-> 3167\u001b[1;33m         \u001b[0mformatter\u001b[0m\u001b[1;33m.\u001b[0m\u001b[0msave\u001b[0m\u001b[1;33m(\u001b[0m\u001b[1;33m)\u001b[0m\u001b[1;33m\u001b[0m\u001b[1;33m\u001b[0m\u001b[0m\n\u001b[0m\u001b[0;32m   3168\u001b[0m \u001b[1;33m\u001b[0m\u001b[0m\n\u001b[0;32m   3169\u001b[0m         \u001b[1;32mif\u001b[0m \u001b[0mpath_or_buf\u001b[0m \u001b[1;32mis\u001b[0m \u001b[1;32mNone\u001b[0m\u001b[1;33m:\u001b[0m\u001b[1;33m\u001b[0m\u001b[1;33m\u001b[0m\u001b[0m\n",
      "\u001b[1;32mc:\\users\\pdebuck\\appdata\\local\\programs\\python\\python38\\lib\\site-packages\\pandas\\io\\formats\\csvs.py\u001b[0m in \u001b[0;36msave\u001b[1;34m(self)\u001b[0m\n\u001b[0;32m    183\u001b[0m             \u001b[0mclose\u001b[0m \u001b[1;33m=\u001b[0m \u001b[1;32mFalse\u001b[0m\u001b[1;33m\u001b[0m\u001b[1;33m\u001b[0m\u001b[0m\n\u001b[0;32m    184\u001b[0m         \u001b[1;32melse\u001b[0m\u001b[1;33m:\u001b[0m\u001b[1;33m\u001b[0m\u001b[1;33m\u001b[0m\u001b[0m\n\u001b[1;32m--> 185\u001b[1;33m             f, handles = get_handle(\n\u001b[0m\u001b[0;32m    186\u001b[0m                 \u001b[0mself\u001b[0m\u001b[1;33m.\u001b[0m\u001b[0mpath_or_buf\u001b[0m\u001b[1;33m,\u001b[0m\u001b[1;33m\u001b[0m\u001b[1;33m\u001b[0m\u001b[0m\n\u001b[0;32m    187\u001b[0m                 \u001b[0mself\u001b[0m\u001b[1;33m.\u001b[0m\u001b[0mmode\u001b[0m\u001b[1;33m,\u001b[0m\u001b[1;33m\u001b[0m\u001b[1;33m\u001b[0m\u001b[0m\n",
      "\u001b[1;32mc:\\users\\pdebuck\\appdata\\local\\programs\\python\\python38\\lib\\site-packages\\pandas\\io\\common.py\u001b[0m in \u001b[0;36mget_handle\u001b[1;34m(path_or_buf, mode, encoding, compression, memory_map, is_text, errors)\u001b[0m\n\u001b[0;32m    491\u001b[0m         \u001b[1;32mif\u001b[0m \u001b[0mencoding\u001b[0m\u001b[1;33m:\u001b[0m\u001b[1;33m\u001b[0m\u001b[1;33m\u001b[0m\u001b[0m\n\u001b[0;32m    492\u001b[0m             \u001b[1;31m# Encoding\u001b[0m\u001b[1;33m\u001b[0m\u001b[1;33m\u001b[0m\u001b[1;33m\u001b[0m\u001b[0m\n\u001b[1;32m--> 493\u001b[1;33m             \u001b[0mf\u001b[0m \u001b[1;33m=\u001b[0m \u001b[0mopen\u001b[0m\u001b[1;33m(\u001b[0m\u001b[0mpath_or_buf\u001b[0m\u001b[1;33m,\u001b[0m \u001b[0mmode\u001b[0m\u001b[1;33m,\u001b[0m \u001b[0mencoding\u001b[0m\u001b[1;33m=\u001b[0m\u001b[0mencoding\u001b[0m\u001b[1;33m,\u001b[0m \u001b[0merrors\u001b[0m\u001b[1;33m=\u001b[0m\u001b[0merrors\u001b[0m\u001b[1;33m,\u001b[0m \u001b[0mnewline\u001b[0m\u001b[1;33m=\u001b[0m\u001b[1;34m\"\"\u001b[0m\u001b[1;33m)\u001b[0m\u001b[1;33m\u001b[0m\u001b[1;33m\u001b[0m\u001b[0m\n\u001b[0m\u001b[0;32m    494\u001b[0m         \u001b[1;32melif\u001b[0m \u001b[0mis_text\u001b[0m\u001b[1;33m:\u001b[0m\u001b[1;33m\u001b[0m\u001b[1;33m\u001b[0m\u001b[0m\n\u001b[0;32m    495\u001b[0m             \u001b[1;31m# No explicit encoding\u001b[0m\u001b[1;33m\u001b[0m\u001b[1;33m\u001b[0m\u001b[1;33m\u001b[0m\u001b[0m\n",
      "\u001b[1;31mPermissionError\u001b[0m: [Errno 13] Permission denied: './f1db_csv/driver_history.csv'"
     ]
    }
   ],
   "source": [
    "# Clean this dataset: drop variables and rearrange\n",
    "df = copy.deepcopy(df_5)\n",
    "df = df.drop(columns = [\"driverId\", \"constructorId\"])\n",
    "df = df[[\"driverName\", \"number\", \"nationality\", \"year\", \"name\", \"date\", \"constructorName\", \"position\", \"minQualifyingTime\", \"racePosition\", \"fastestLapTime\", \"wins\", \"points\", \"driverStanding\"]]\n",
    "\n",
    "# Turn date into datetime\n",
    "df[\"date\"] = pd.to_datetime(df[\"date\"])\n",
    "\n",
    "# Save it into a csv\n",
    "df.to_csv(\"./f1db_csv/driver_history.csv\")"
   ]
  },
  {
   "cell_type": "code",
   "execution_count": 14,
   "metadata": {
    "scrolled": true
   },
   "outputs": [
    {
     "name": "stdout",
     "output_type": "stream",
     "text": [
      "<class 'pandas.core.frame.DataFrame'>\n",
      "Int64Index: 8181 entries, 0 to 8180\n",
      "Data columns (total 14 columns):\n",
      " #   Column             Non-Null Count  Dtype         \n",
      "---  ------             --------------  -----         \n",
      " 0   driverName         8181 non-null   object        \n",
      " 1   number             4295 non-null   object        \n",
      " 2   nationality        8181 non-null   object        \n",
      " 3   year               8181 non-null   int64         \n",
      " 4   name               8181 non-null   object        \n",
      " 5   date               8181 non-null   datetime64[ns]\n",
      " 6   constructorName    8181 non-null   object        \n",
      " 7   position           8181 non-null   int64         \n",
      " 8   minQualifyingTime  8052 non-null   float64       \n",
      " 9   racePosition       6249 non-null   object        \n",
      " 10  fastestLapTime     6220 non-null   object        \n",
      " 11  wins               8181 non-null   int64         \n",
      " 12  points             8181 non-null   float64       \n",
      " 13  driverStanding     8181 non-null   int64         \n",
      "dtypes: datetime64[ns](1), float64(2), int64(4), object(7)\n",
      "memory usage: 1.2+ MB\n"
     ]
    }
   ],
   "source": [
    "df.info()"
   ]
  },
  {
   "cell_type": "code",
   "execution_count": 28,
   "metadata": {},
   "outputs": [
    {
     "data": {
      "text/html": [
       "<div>\n",
       "<style scoped>\n",
       "    .dataframe tbody tr th:only-of-type {\n",
       "        vertical-align: middle;\n",
       "    }\n",
       "\n",
       "    .dataframe tbody tr th {\n",
       "        vertical-align: top;\n",
       "    }\n",
       "\n",
       "    .dataframe thead th {\n",
       "        text-align: right;\n",
       "    }\n",
       "</style>\n",
       "<table border=\"1\" class=\"dataframe\">\n",
       "  <thead>\n",
       "    <tr style=\"text-align: right;\">\n",
       "      <th></th>\n",
       "      <th>driverName</th>\n",
       "      <th>number</th>\n",
       "      <th>nationality</th>\n",
       "      <th>year</th>\n",
       "      <th>name</th>\n",
       "      <th>date</th>\n",
       "      <th>constructorName</th>\n",
       "      <th>position</th>\n",
       "      <th>minQualifyingTime</th>\n",
       "      <th>racePosition</th>\n",
       "      <th>fastestLapTime</th>\n",
       "      <th>wins</th>\n",
       "      <th>points</th>\n",
       "      <th>driverStanding</th>\n",
       "      <th>minOverallRaceLap</th>\n",
       "      <th>minOverallQualiLap</th>\n",
       "      <th>race_lap_ratio</th>\n",
       "      <th>quali_lap_ratio</th>\n",
       "    </tr>\n",
       "  </thead>\n",
       "  <tbody>\n",
       "    <tr>\n",
       "      <th>7383</th>\n",
       "      <td>Alexander Albon</td>\n",
       "      <td>23</td>\n",
       "      <td>Thai</td>\n",
       "      <td>2020</td>\n",
       "      <td>British Grand Prix</td>\n",
       "      <td>2020-08-02</td>\n",
       "      <td>Red Bull</td>\n",
       "      <td>12</td>\n",
       "      <td>86.545</td>\n",
       "      <td>8</td>\n",
       "      <td>88.689</td>\n",
       "      <td>0</td>\n",
       "      <td>26.0</td>\n",
       "      <td>6</td>\n",
       "      <td>87.097</td>\n",
       "      <td>84.303</td>\n",
       "      <td>1.01828</td>\n",
       "      <td>1.026595</td>\n",
       "    </tr>\n",
       "    <tr>\n",
       "      <th>7363</th>\n",
       "      <td>Alexander Albon</td>\n",
       "      <td>23</td>\n",
       "      <td>Thai</td>\n",
       "      <td>2020</td>\n",
       "      <td>Hungarian Grand Prix</td>\n",
       "      <td>2020-07-19</td>\n",
       "      <td>Red Bull</td>\n",
       "      <td>13</td>\n",
       "      <td>75.715</td>\n",
       "      <td>5</td>\n",
       "      <td>79.44</td>\n",
       "      <td>0</td>\n",
       "      <td>22.0</td>\n",
       "      <td>5</td>\n",
       "      <td>76.627</td>\n",
       "      <td>73.447</td>\n",
       "      <td>1.03671</td>\n",
       "      <td>1.030879</td>\n",
       "    </tr>\n",
       "    <tr>\n",
       "      <th>7343</th>\n",
       "      <td>Alexander Albon</td>\n",
       "      <td>23</td>\n",
       "      <td>Thai</td>\n",
       "      <td>2020</td>\n",
       "      <td>Styrian Grand Prix</td>\n",
       "      <td>2020-07-12</td>\n",
       "      <td>Red Bull</td>\n",
       "      <td>7</td>\n",
       "      <td>79.014</td>\n",
       "      <td>4</td>\n",
       "      <td>67.299</td>\n",
       "      <td>0</td>\n",
       "      <td>12.0</td>\n",
       "      <td>8</td>\n",
       "      <td>65.619</td>\n",
       "      <td>77.825</td>\n",
       "      <td>1.0256</td>\n",
       "      <td>1.015278</td>\n",
       "    </tr>\n",
       "    <tr>\n",
       "      <th>7323</th>\n",
       "      <td>Alexander Albon</td>\n",
       "      <td>23</td>\n",
       "      <td>Thai</td>\n",
       "      <td>2020</td>\n",
       "      <td>Austrian Grand Prix</td>\n",
       "      <td>2020-07-05</td>\n",
       "      <td>Red Bull</td>\n",
       "      <td>5</td>\n",
       "      <td>63.746</td>\n",
       "      <td>13</td>\n",
       "      <td>68.432</td>\n",
       "      <td>0</td>\n",
       "      <td>0.0</td>\n",
       "      <td>13</td>\n",
       "      <td>67.475</td>\n",
       "      <td>62.939</td>\n",
       "      <td>1.01418</td>\n",
       "      <td>1.012822</td>\n",
       "    </tr>\n",
       "    <tr>\n",
       "      <th>7305</th>\n",
       "      <td>Alexander Albon</td>\n",
       "      <td>23</td>\n",
       "      <td>Thai</td>\n",
       "      <td>2019</td>\n",
       "      <td>Abu Dhabi Grand Prix</td>\n",
       "      <td>2019-12-01</td>\n",
       "      <td>Red Bull</td>\n",
       "      <td>6</td>\n",
       "      <td>95.682</td>\n",
       "      <td>6</td>\n",
       "      <td>102.219</td>\n",
       "      <td>0</td>\n",
       "      <td>92.0</td>\n",
       "      <td>8</td>\n",
       "      <td>99.283</td>\n",
       "      <td>94.779</td>\n",
       "      <td>1.02957</td>\n",
       "      <td>1.009527</td>\n",
       "    </tr>\n",
       "    <tr>\n",
       "      <th>7285</th>\n",
       "      <td>Alexander Albon</td>\n",
       "      <td>23</td>\n",
       "      <td>Thai</td>\n",
       "      <td>2019</td>\n",
       "      <td>Brazilian Grand Prix</td>\n",
       "      <td>2019-11-17</td>\n",
       "      <td>Red Bull</td>\n",
       "      <td>6</td>\n",
       "      <td>67.935</td>\n",
       "      <td>14</td>\n",
       "      <td>71.087</td>\n",
       "      <td>0</td>\n",
       "      <td>84.0</td>\n",
       "      <td>8</td>\n",
       "      <td>70.698</td>\n",
       "      <td>67.503</td>\n",
       "      <td>1.0055</td>\n",
       "      <td>1.006400</td>\n",
       "    </tr>\n",
       "    <tr>\n",
       "      <th>7265</th>\n",
       "      <td>Alexander Albon</td>\n",
       "      <td>23</td>\n",
       "      <td>Thai</td>\n",
       "      <td>2019</td>\n",
       "      <td>United States Grand Prix</td>\n",
       "      <td>2019-11-03</td>\n",
       "      <td>Red Bull</td>\n",
       "      <td>6</td>\n",
       "      <td>92.548</td>\n",
       "      <td>5</td>\n",
       "      <td>98.029</td>\n",
       "      <td>0</td>\n",
       "      <td>84.0</td>\n",
       "      <td>6</td>\n",
       "      <td>96.169</td>\n",
       "      <td>92.029</td>\n",
       "      <td>1.01934</td>\n",
       "      <td>1.005640</td>\n",
       "    </tr>\n",
       "    <tr>\n",
       "      <th>7245</th>\n",
       "      <td>Alexander Albon</td>\n",
       "      <td>23</td>\n",
       "      <td>Thai</td>\n",
       "      <td>2019</td>\n",
       "      <td>Mexican Grand Prix</td>\n",
       "      <td>2019-10-27</td>\n",
       "      <td>Red Bull</td>\n",
       "      <td>5</td>\n",
       "      <td>75.336</td>\n",
       "      <td>5</td>\n",
       "      <td>79.325</td>\n",
       "      <td>0</td>\n",
       "      <td>74.0</td>\n",
       "      <td>8</td>\n",
       "      <td>79.232</td>\n",
       "      <td>74.758</td>\n",
       "      <td>1.00117</td>\n",
       "      <td>1.007732</td>\n",
       "    </tr>\n",
       "    <tr>\n",
       "      <th>7225</th>\n",
       "      <td>Alexander Albon</td>\n",
       "      <td>23</td>\n",
       "      <td>Thai</td>\n",
       "      <td>2019</td>\n",
       "      <td>Japanese Grand Prix</td>\n",
       "      <td>2019-10-13</td>\n",
       "      <td>Red Bull</td>\n",
       "      <td>6</td>\n",
       "      <td>87.851</td>\n",
       "      <td>4</td>\n",
       "      <td>92.775</td>\n",
       "      <td>0</td>\n",
       "      <td>64.0</td>\n",
       "      <td>8</td>\n",
       "      <td>90.983</td>\n",
       "      <td>87.064</td>\n",
       "      <td>1.0197</td>\n",
       "      <td>1.009039</td>\n",
       "    </tr>\n",
       "    <tr>\n",
       "      <th>7205</th>\n",
       "      <td>Alexander Albon</td>\n",
       "      <td>23</td>\n",
       "      <td>Thai</td>\n",
       "      <td>2019</td>\n",
       "      <td>Russian Grand Prix</td>\n",
       "      <td>2019-09-29</td>\n",
       "      <td>Red Bull</td>\n",
       "      <td>19</td>\n",
       "      <td>99.197</td>\n",
       "      <td>5</td>\n",
       "      <td>96.762</td>\n",
       "      <td>0</td>\n",
       "      <td>52.0</td>\n",
       "      <td>8</td>\n",
       "      <td>95.761</td>\n",
       "      <td>91.628</td>\n",
       "      <td>1.01045</td>\n",
       "      <td>1.082606</td>\n",
       "    </tr>\n",
       "    <tr>\n",
       "      <th>7185</th>\n",
       "      <td>Alexander Albon</td>\n",
       "      <td>23</td>\n",
       "      <td>Thai</td>\n",
       "      <td>2019</td>\n",
       "      <td>Singapore Grand Prix</td>\n",
       "      <td>2019-09-22</td>\n",
       "      <td>Red Bull</td>\n",
       "      <td>6</td>\n",
       "      <td>97.411</td>\n",
       "      <td>6</td>\n",
       "      <td>105.26</td>\n",
       "      <td>0</td>\n",
       "      <td>42.0</td>\n",
       "      <td>8</td>\n",
       "      <td>102.301</td>\n",
       "      <td>96.217</td>\n",
       "      <td>1.02892</td>\n",
       "      <td>1.012409</td>\n",
       "    </tr>\n",
       "    <tr>\n",
       "      <th>7165</th>\n",
       "      <td>Alexander Albon</td>\n",
       "      <td>23</td>\n",
       "      <td>Thai</td>\n",
       "      <td>2019</td>\n",
       "      <td>Italian Grand Prix</td>\n",
       "      <td>2019-09-08</td>\n",
       "      <td>Red Bull</td>\n",
       "      <td>8</td>\n",
       "      <td>80.021</td>\n",
       "      <td>6</td>\n",
       "      <td>83.364</td>\n",
       "      <td>0</td>\n",
       "      <td>34.0</td>\n",
       "      <td>9</td>\n",
       "      <td>81.779</td>\n",
       "      <td>79.307</td>\n",
       "      <td>1.01938</td>\n",
       "      <td>1.009003</td>\n",
       "    </tr>\n",
       "    <tr>\n",
       "      <th>7145</th>\n",
       "      <td>Alexander Albon</td>\n",
       "      <td>23</td>\n",
       "      <td>Thai</td>\n",
       "      <td>2019</td>\n",
       "      <td>Belgian Grand Prix</td>\n",
       "      <td>2019-09-01</td>\n",
       "      <td>Red Bull</td>\n",
       "      <td>14</td>\n",
       "      <td>105.528</td>\n",
       "      <td>5</td>\n",
       "      <td>107.507</td>\n",
       "      <td>0</td>\n",
       "      <td>26.0</td>\n",
       "      <td>10</td>\n",
       "      <td>106.409</td>\n",
       "      <td>102.519</td>\n",
       "      <td>1.01032</td>\n",
       "      <td>1.029351</td>\n",
       "    </tr>\n",
       "    <tr>\n",
       "      <th>7121</th>\n",
       "      <td>Alexander Albon</td>\n",
       "      <td>23</td>\n",
       "      <td>Thai</td>\n",
       "      <td>2019</td>\n",
       "      <td>Hungarian Grand Prix</td>\n",
       "      <td>2019-08-04</td>\n",
       "      <td>Toro Rosso</td>\n",
       "      <td>12</td>\n",
       "      <td>76.687</td>\n",
       "      <td>10</td>\n",
       "      <td>80.621</td>\n",
       "      <td>0</td>\n",
       "      <td>16.0</td>\n",
       "      <td>15</td>\n",
       "      <td>77.103</td>\n",
       "      <td>74.572</td>\n",
       "      <td>1.04563</td>\n",
       "      <td>1.028362</td>\n",
       "    </tr>\n",
       "    <tr>\n",
       "      <th>7101</th>\n",
       "      <td>Alexander Albon</td>\n",
       "      <td>23</td>\n",
       "      <td>Thai</td>\n",
       "      <td>2019</td>\n",
       "      <td>German Grand Prix</td>\n",
       "      <td>2019-07-28</td>\n",
       "      <td>Toro Rosso</td>\n",
       "      <td>17</td>\n",
       "      <td>73.461</td>\n",
       "      <td>6</td>\n",
       "      <td>77.85</td>\n",
       "      <td>0</td>\n",
       "      <td>15.0</td>\n",
       "      <td>15</td>\n",
       "      <td>76.645</td>\n",
       "      <td>71.767</td>\n",
       "      <td>1.01572</td>\n",
       "      <td>1.023604</td>\n",
       "    </tr>\n",
       "    <tr>\n",
       "      <th>7081</th>\n",
       "      <td>Alexander Albon</td>\n",
       "      <td>23</td>\n",
       "      <td>Thai</td>\n",
       "      <td>2019</td>\n",
       "      <td>British Grand Prix</td>\n",
       "      <td>2019-07-14</td>\n",
       "      <td>Toro Rosso</td>\n",
       "      <td>9</td>\n",
       "      <td>86.345</td>\n",
       "      <td>12</td>\n",
       "      <td>90.872</td>\n",
       "      <td>0</td>\n",
       "      <td>7.0</td>\n",
       "      <td>15</td>\n",
       "      <td>87.369</td>\n",
       "      <td>85.093</td>\n",
       "      <td>1.04009</td>\n",
       "      <td>1.014713</td>\n",
       "    </tr>\n",
       "    <tr>\n",
       "      <th>7061</th>\n",
       "      <td>Alexander Albon</td>\n",
       "      <td>23</td>\n",
       "      <td>Thai</td>\n",
       "      <td>2019</td>\n",
       "      <td>Austrian Grand Prix</td>\n",
       "      <td>2019-06-30</td>\n",
       "      <td>Toro Rosso</td>\n",
       "      <td>13</td>\n",
       "      <td>64.665</td>\n",
       "      <td>15</td>\n",
       "      <td>68.946</td>\n",
       "      <td>0</td>\n",
       "      <td>7.0</td>\n",
       "      <td>15</td>\n",
       "      <td>67.475</td>\n",
       "      <td>63.003</td>\n",
       "      <td>1.0218</td>\n",
       "      <td>1.026380</td>\n",
       "    </tr>\n",
       "    <tr>\n",
       "      <th>7041</th>\n",
       "      <td>Alexander Albon</td>\n",
       "      <td>23</td>\n",
       "      <td>Thai</td>\n",
       "      <td>2019</td>\n",
       "      <td>French Grand Prix</td>\n",
       "      <td>2019-06-23</td>\n",
       "      <td>Toro Rosso</td>\n",
       "      <td>11</td>\n",
       "      <td>90.461</td>\n",
       "      <td>15</td>\n",
       "      <td>95.029</td>\n",
       "      <td>0</td>\n",
       "      <td>7.0</td>\n",
       "      <td>15</td>\n",
       "      <td>92.740</td>\n",
       "      <td>88.319</td>\n",
       "      <td>1.02468</td>\n",
       "      <td>1.024253</td>\n",
       "    </tr>\n",
       "    <tr>\n",
       "      <th>7021</th>\n",
       "      <td>Alexander Albon</td>\n",
       "      <td>23</td>\n",
       "      <td>Thai</td>\n",
       "      <td>2019</td>\n",
       "      <td>Canadian Grand Prix</td>\n",
       "      <td>2019-06-09</td>\n",
       "      <td>Toro Rosso</td>\n",
       "      <td>14</td>\n",
       "      <td>72.020</td>\n",
       "      <td>None</td>\n",
       "      <td>77.151</td>\n",
       "      <td>0</td>\n",
       "      <td>7.0</td>\n",
       "      <td>15</td>\n",
       "      <td>73.078</td>\n",
       "      <td>70.240</td>\n",
       "      <td>1.05573</td>\n",
       "      <td>1.025342</td>\n",
       "    </tr>\n",
       "    <tr>\n",
       "      <th>7001</th>\n",
       "      <td>Alexander Albon</td>\n",
       "      <td>23</td>\n",
       "      <td>Thai</td>\n",
       "      <td>2019</td>\n",
       "      <td>Monaco Grand Prix</td>\n",
       "      <td>2019-05-26</td>\n",
       "      <td>Toro Rosso</td>\n",
       "      <td>10</td>\n",
       "      <td>71.429</td>\n",
       "      <td>8</td>\n",
       "      <td>75.607</td>\n",
       "      <td>0</td>\n",
       "      <td>7.0</td>\n",
       "      <td>14</td>\n",
       "      <td>74.279</td>\n",
       "      <td>70.166</td>\n",
       "      <td>1.01788</td>\n",
       "      <td>1.018000</td>\n",
       "    </tr>\n",
       "    <tr>\n",
       "      <th>6981</th>\n",
       "      <td>Alexander Albon</td>\n",
       "      <td>23</td>\n",
       "      <td>Thai</td>\n",
       "      <td>2019</td>\n",
       "      <td>Spanish Grand Prix</td>\n",
       "      <td>2019-05-12</td>\n",
       "      <td>Toro Rosso</td>\n",
       "      <td>12</td>\n",
       "      <td>77.445</td>\n",
       "      <td>11</td>\n",
       "      <td>81.028</td>\n",
       "      <td>0</td>\n",
       "      <td>3.0</td>\n",
       "      <td>15</td>\n",
       "      <td>78.492</td>\n",
       "      <td>75.406</td>\n",
       "      <td>1.03231</td>\n",
       "      <td>1.027040</td>\n",
       "    </tr>\n",
       "    <tr>\n",
       "      <th>6961</th>\n",
       "      <td>Alexander Albon</td>\n",
       "      <td>23</td>\n",
       "      <td>Thai</td>\n",
       "      <td>2019</td>\n",
       "      <td>Azerbaijan Grand Prix</td>\n",
       "      <td>2019-04-28</td>\n",
       "      <td>Toro Rosso</td>\n",
       "      <td>12</td>\n",
       "      <td>102.154</td>\n",
       "      <td>11</td>\n",
       "      <td>105.754</td>\n",
       "      <td>0</td>\n",
       "      <td>3.0</td>\n",
       "      <td>15</td>\n",
       "      <td>103.009</td>\n",
       "      <td>100.495</td>\n",
       "      <td>1.02665</td>\n",
       "      <td>1.016508</td>\n",
       "    </tr>\n",
       "    <tr>\n",
       "      <th>6923</th>\n",
       "      <td>Alexander Albon</td>\n",
       "      <td>23</td>\n",
       "      <td>Thai</td>\n",
       "      <td>2019</td>\n",
       "      <td>Bahrain Grand Prix</td>\n",
       "      <td>2019-03-31</td>\n",
       "      <td>Toro Rosso</td>\n",
       "      <td>12</td>\n",
       "      <td>89.513</td>\n",
       "      <td>9</td>\n",
       "      <td>96.752</td>\n",
       "      <td>0</td>\n",
       "      <td>2.0</td>\n",
       "      <td>11</td>\n",
       "      <td>93.411</td>\n",
       "      <td>87.866</td>\n",
       "      <td>1.03577</td>\n",
       "      <td>1.018744</td>\n",
       "    </tr>\n",
       "    <tr>\n",
       "      <th>6903</th>\n",
       "      <td>Alexander Albon</td>\n",
       "      <td>23</td>\n",
       "      <td>Thai</td>\n",
       "      <td>2019</td>\n",
       "      <td>Australian Grand Prix</td>\n",
       "      <td>2019-03-17</td>\n",
       "      <td>Toro Rosso</td>\n",
       "      <td>13</td>\n",
       "      <td>82.636</td>\n",
       "      <td>14</td>\n",
       "      <td>88.188</td>\n",
       "      <td>0</td>\n",
       "      <td>0.0</td>\n",
       "      <td>14</td>\n",
       "      <td>85.580</td>\n",
       "      <td>80.486</td>\n",
       "      <td>1.03047</td>\n",
       "      <td>1.026713</td>\n",
       "    </tr>\n",
       "  </tbody>\n",
       "</table>\n",
       "</div>"
      ],
      "text/plain": [
       "           driverName number nationality  year                      name  \\\n",
       "7383  Alexander Albon     23        Thai  2020        British Grand Prix   \n",
       "7363  Alexander Albon     23        Thai  2020      Hungarian Grand Prix   \n",
       "7343  Alexander Albon     23        Thai  2020        Styrian Grand Prix   \n",
       "7323  Alexander Albon     23        Thai  2020       Austrian Grand Prix   \n",
       "7305  Alexander Albon     23        Thai  2019      Abu Dhabi Grand Prix   \n",
       "7285  Alexander Albon     23        Thai  2019      Brazilian Grand Prix   \n",
       "7265  Alexander Albon     23        Thai  2019  United States Grand Prix   \n",
       "7245  Alexander Albon     23        Thai  2019        Mexican Grand Prix   \n",
       "7225  Alexander Albon     23        Thai  2019       Japanese Grand Prix   \n",
       "7205  Alexander Albon     23        Thai  2019        Russian Grand Prix   \n",
       "7185  Alexander Albon     23        Thai  2019      Singapore Grand Prix   \n",
       "7165  Alexander Albon     23        Thai  2019        Italian Grand Prix   \n",
       "7145  Alexander Albon     23        Thai  2019        Belgian Grand Prix   \n",
       "7121  Alexander Albon     23        Thai  2019      Hungarian Grand Prix   \n",
       "7101  Alexander Albon     23        Thai  2019         German Grand Prix   \n",
       "7081  Alexander Albon     23        Thai  2019        British Grand Prix   \n",
       "7061  Alexander Albon     23        Thai  2019       Austrian Grand Prix   \n",
       "7041  Alexander Albon     23        Thai  2019         French Grand Prix   \n",
       "7021  Alexander Albon     23        Thai  2019       Canadian Grand Prix   \n",
       "7001  Alexander Albon     23        Thai  2019         Monaco Grand Prix   \n",
       "6981  Alexander Albon     23        Thai  2019        Spanish Grand Prix   \n",
       "6961  Alexander Albon     23        Thai  2019     Azerbaijan Grand Prix   \n",
       "6923  Alexander Albon     23        Thai  2019        Bahrain Grand Prix   \n",
       "6903  Alexander Albon     23        Thai  2019     Australian Grand Prix   \n",
       "\n",
       "           date constructorName  position  minQualifyingTime racePosition  \\\n",
       "7383 2020-08-02        Red Bull        12             86.545            8   \n",
       "7363 2020-07-19        Red Bull        13             75.715            5   \n",
       "7343 2020-07-12        Red Bull         7             79.014            4   \n",
       "7323 2020-07-05        Red Bull         5             63.746           13   \n",
       "7305 2019-12-01        Red Bull         6             95.682            6   \n",
       "7285 2019-11-17        Red Bull         6             67.935           14   \n",
       "7265 2019-11-03        Red Bull         6             92.548            5   \n",
       "7245 2019-10-27        Red Bull         5             75.336            5   \n",
       "7225 2019-10-13        Red Bull         6             87.851            4   \n",
       "7205 2019-09-29        Red Bull        19             99.197            5   \n",
       "7185 2019-09-22        Red Bull         6             97.411            6   \n",
       "7165 2019-09-08        Red Bull         8             80.021            6   \n",
       "7145 2019-09-01        Red Bull        14            105.528            5   \n",
       "7121 2019-08-04      Toro Rosso        12             76.687           10   \n",
       "7101 2019-07-28      Toro Rosso        17             73.461            6   \n",
       "7081 2019-07-14      Toro Rosso         9             86.345           12   \n",
       "7061 2019-06-30      Toro Rosso        13             64.665           15   \n",
       "7041 2019-06-23      Toro Rosso        11             90.461           15   \n",
       "7021 2019-06-09      Toro Rosso        14             72.020         None   \n",
       "7001 2019-05-26      Toro Rosso        10             71.429            8   \n",
       "6981 2019-05-12      Toro Rosso        12             77.445           11   \n",
       "6961 2019-04-28      Toro Rosso        12            102.154           11   \n",
       "6923 2019-03-31      Toro Rosso        12             89.513            9   \n",
       "6903 2019-03-17      Toro Rosso        13             82.636           14   \n",
       "\n",
       "     fastestLapTime  wins  points  driverStanding  minOverallRaceLap  \\\n",
       "7383         88.689     0    26.0               6             87.097   \n",
       "7363          79.44     0    22.0               5             76.627   \n",
       "7343         67.299     0    12.0               8             65.619   \n",
       "7323         68.432     0     0.0              13             67.475   \n",
       "7305        102.219     0    92.0               8             99.283   \n",
       "7285         71.087     0    84.0               8             70.698   \n",
       "7265         98.029     0    84.0               6             96.169   \n",
       "7245         79.325     0    74.0               8             79.232   \n",
       "7225         92.775     0    64.0               8             90.983   \n",
       "7205         96.762     0    52.0               8             95.761   \n",
       "7185         105.26     0    42.0               8            102.301   \n",
       "7165         83.364     0    34.0               9             81.779   \n",
       "7145        107.507     0    26.0              10            106.409   \n",
       "7121         80.621     0    16.0              15             77.103   \n",
       "7101          77.85     0    15.0              15             76.645   \n",
       "7081         90.872     0     7.0              15             87.369   \n",
       "7061         68.946     0     7.0              15             67.475   \n",
       "7041         95.029     0     7.0              15             92.740   \n",
       "7021         77.151     0     7.0              15             73.078   \n",
       "7001         75.607     0     7.0              14             74.279   \n",
       "6981         81.028     0     3.0              15             78.492   \n",
       "6961        105.754     0     3.0              15            103.009   \n",
       "6923         96.752     0     2.0              11             93.411   \n",
       "6903         88.188     0     0.0              14             85.580   \n",
       "\n",
       "      minOverallQualiLap race_lap_ratio  quali_lap_ratio  \n",
       "7383              84.303        1.01828         1.026595  \n",
       "7363              73.447        1.03671         1.030879  \n",
       "7343              77.825         1.0256         1.015278  \n",
       "7323              62.939        1.01418         1.012822  \n",
       "7305              94.779        1.02957         1.009527  \n",
       "7285              67.503         1.0055         1.006400  \n",
       "7265              92.029        1.01934         1.005640  \n",
       "7245              74.758        1.00117         1.007732  \n",
       "7225              87.064         1.0197         1.009039  \n",
       "7205              91.628        1.01045         1.082606  \n",
       "7185              96.217        1.02892         1.012409  \n",
       "7165              79.307        1.01938         1.009003  \n",
       "7145             102.519        1.01032         1.029351  \n",
       "7121              74.572        1.04563         1.028362  \n",
       "7101              71.767        1.01572         1.023604  \n",
       "7081              85.093        1.04009         1.014713  \n",
       "7061              63.003         1.0218         1.026380  \n",
       "7041              88.319        1.02468         1.024253  \n",
       "7021              70.240        1.05573         1.025342  \n",
       "7001              70.166        1.01788         1.018000  \n",
       "6981              75.406        1.03231         1.027040  \n",
       "6961             100.495        1.02665         1.016508  \n",
       "6923              87.866        1.03577         1.018744  \n",
       "6903              80.486        1.03047         1.026713  "
      ]
     },
     "execution_count": 28,
     "metadata": {},
     "output_type": "execute_result"
    }
   ],
   "source": [
    "# Function that chooses race history for a particular driver\n",
    "def driver_history_selection(driver_name):\n",
    "    driver_table = df[df.driverName == driver_name]\n",
    "    driver_table = driver_table.sort_values(\"date\", ascending = False)\n",
    "    return driver_table\n",
    "\n",
    "driver_history_selection(\"Alexander Albon\")"
   ]
  },
  {
   "cell_type": "code",
   "execution_count": 54,
   "metadata": {},
   "outputs": [
    {
     "data": {
      "text/html": [
       "<div>\n",
       "<style scoped>\n",
       "    .dataframe tbody tr th:only-of-type {\n",
       "        vertical-align: middle;\n",
       "    }\n",
       "\n",
       "    .dataframe tbody tr th {\n",
       "        vertical-align: top;\n",
       "    }\n",
       "\n",
       "    .dataframe thead th {\n",
       "        text-align: right;\n",
       "    }\n",
       "</style>\n",
       "<table border=\"1\" class=\"dataframe\">\n",
       "  <thead>\n",
       "    <tr style=\"text-align: right;\">\n",
       "      <th></th>\n",
       "      <th>driverId</th>\n",
       "      <th>driverName</th>\n",
       "      <th>number</th>\n",
       "      <th>nationality</th>\n",
       "      <th>raceId</th>\n",
       "      <th>constructorId</th>\n",
       "      <th>racePosition</th>\n",
       "      <th>fastestLapTime</th>\n",
       "      <th>constructorName</th>\n",
       "      <th>points</th>\n",
       "      <th>driverStanding</th>\n",
       "      <th>wins</th>\n",
       "      <th>year</th>\n",
       "      <th>name</th>\n",
       "      <th>date</th>\n",
       "      <th>position</th>\n",
       "      <th>minQualifyingTime</th>\n",
       "      <th>Unnamed: 0</th>\n",
       "      <th>minOverallRaceLap</th>\n",
       "      <th>minOverallQualiLap</th>\n",
       "      <th>race_lap_ratio</th>\n",
       "      <th>quali_lap_ratio</th>\n",
       "      <th>rolling_quali_lap_ratio</th>\n",
       "    </tr>\n",
       "  </thead>\n",
       "  <tbody>\n",
       "    <tr>\n",
       "      <th>7323</th>\n",
       "      <td>848</td>\n",
       "      <td>Alexander Albon</td>\n",
       "      <td>23</td>\n",
       "      <td>Thai</td>\n",
       "      <td>1031</td>\n",
       "      <td>9</td>\n",
       "      <td>13</td>\n",
       "      <td>68.432</td>\n",
       "      <td>Red Bull</td>\n",
       "      <td>0.0</td>\n",
       "      <td>13</td>\n",
       "      <td>0</td>\n",
       "      <td>2020</td>\n",
       "      <td>Austrian Grand Prix</td>\n",
       "      <td>2020-07-05</td>\n",
       "      <td>5</td>\n",
       "      <td>63.746</td>\n",
       "      <td>355</td>\n",
       "      <td>67.475</td>\n",
       "      <td>62.939</td>\n",
       "      <td>1.01418</td>\n",
       "      <td>1.012822</td>\n",
       "      <td>1.012822</td>\n",
       "    </tr>\n",
       "    <tr>\n",
       "      <th>7343</th>\n",
       "      <td>848</td>\n",
       "      <td>Alexander Albon</td>\n",
       "      <td>23</td>\n",
       "      <td>Thai</td>\n",
       "      <td>1032</td>\n",
       "      <td>9</td>\n",
       "      <td>4</td>\n",
       "      <td>67.299</td>\n",
       "      <td>Red Bull</td>\n",
       "      <td>12.0</td>\n",
       "      <td>8</td>\n",
       "      <td>0</td>\n",
       "      <td>2020</td>\n",
       "      <td>Styrian Grand Prix</td>\n",
       "      <td>2020-07-12</td>\n",
       "      <td>7</td>\n",
       "      <td>79.014</td>\n",
       "      <td>356</td>\n",
       "      <td>65.619</td>\n",
       "      <td>77.825</td>\n",
       "      <td>1.0256</td>\n",
       "      <td>1.015278</td>\n",
       "      <td>1.013641</td>\n",
       "    </tr>\n",
       "    <tr>\n",
       "      <th>7363</th>\n",
       "      <td>848</td>\n",
       "      <td>Alexander Albon</td>\n",
       "      <td>23</td>\n",
       "      <td>Thai</td>\n",
       "      <td>1033</td>\n",
       "      <td>9</td>\n",
       "      <td>5</td>\n",
       "      <td>79.44</td>\n",
       "      <td>Red Bull</td>\n",
       "      <td>22.0</td>\n",
       "      <td>5</td>\n",
       "      <td>0</td>\n",
       "      <td>2020</td>\n",
       "      <td>Hungarian Grand Prix</td>\n",
       "      <td>2020-07-19</td>\n",
       "      <td>13</td>\n",
       "      <td>75.715</td>\n",
       "      <td>357</td>\n",
       "      <td>76.627</td>\n",
       "      <td>73.447</td>\n",
       "      <td>1.03671</td>\n",
       "      <td>1.030879</td>\n",
       "      <td>1.016650</td>\n",
       "    </tr>\n",
       "    <tr>\n",
       "      <th>7383</th>\n",
       "      <td>848</td>\n",
       "      <td>Alexander Albon</td>\n",
       "      <td>23</td>\n",
       "      <td>Thai</td>\n",
       "      <td>1034</td>\n",
       "      <td>9</td>\n",
       "      <td>8</td>\n",
       "      <td>88.689</td>\n",
       "      <td>Red Bull</td>\n",
       "      <td>26.0</td>\n",
       "      <td>6</td>\n",
       "      <td>0</td>\n",
       "      <td>2020</td>\n",
       "      <td>British Grand Prix</td>\n",
       "      <td>2020-08-02</td>\n",
       "      <td>12</td>\n",
       "      <td>86.545</td>\n",
       "      <td>358</td>\n",
       "      <td>87.097</td>\n",
       "      <td>84.303</td>\n",
       "      <td>1.01828</td>\n",
       "      <td>1.026595</td>\n",
       "      <td>1.019979</td>\n",
       "    </tr>\n",
       "    <tr>\n",
       "      <th>7321</th>\n",
       "      <td>841</td>\n",
       "      <td>Antonio Giovinazzi</td>\n",
       "      <td>99</td>\n",
       "      <td>Italian</td>\n",
       "      <td>1031</td>\n",
       "      <td>51</td>\n",
       "      <td>9</td>\n",
       "      <td>68.796</td>\n",
       "      <td>Alfa Romeo</td>\n",
       "      <td>2.0</td>\n",
       "      <td>9</td>\n",
       "      <td>0</td>\n",
       "      <td>2020</td>\n",
       "      <td>Austrian Grand Prix</td>\n",
       "      <td>2020-07-05</td>\n",
       "      <td>18</td>\n",
       "      <td>65.175</td>\n",
       "      <td>355</td>\n",
       "      <td>67.475</td>\n",
       "      <td>62.939</td>\n",
       "      <td>1.01958</td>\n",
       "      <td>1.035526</td>\n",
       "      <td>1.035526</td>\n",
       "    </tr>\n",
       "    <tr>\n",
       "      <th>7341</th>\n",
       "      <td>841</td>\n",
       "      <td>Antonio Giovinazzi</td>\n",
       "      <td>99</td>\n",
       "      <td>Italian</td>\n",
       "      <td>1032</td>\n",
       "      <td>51</td>\n",
       "      <td>14</td>\n",
       "      <td>68.512</td>\n",
       "      <td>Alfa Romeo</td>\n",
       "      <td>2.0</td>\n",
       "      <td>13</td>\n",
       "      <td>0</td>\n",
       "      <td>2020</td>\n",
       "      <td>Styrian Grand Prix</td>\n",
       "      <td>2020-07-12</td>\n",
       "      <td>19</td>\n",
       "      <td>81.831</td>\n",
       "      <td>356</td>\n",
       "      <td>65.619</td>\n",
       "      <td>77.825</td>\n",
       "      <td>1.04409</td>\n",
       "      <td>1.051474</td>\n",
       "      <td>1.040842</td>\n",
       "    </tr>\n",
       "    <tr>\n",
       "      <th>7361</th>\n",
       "      <td>841</td>\n",
       "      <td>Antonio Giovinazzi</td>\n",
       "      <td>99</td>\n",
       "      <td>Italian</td>\n",
       "      <td>1033</td>\n",
       "      <td>51</td>\n",
       "      <td>17</td>\n",
       "      <td>80.096</td>\n",
       "      <td>Alfa Romeo</td>\n",
       "      <td>2.0</td>\n",
       "      <td>14</td>\n",
       "      <td>0</td>\n",
       "      <td>2020</td>\n",
       "      <td>Hungarian Grand Prix</td>\n",
       "      <td>2020-07-19</td>\n",
       "      <td>19</td>\n",
       "      <td>76.506</td>\n",
       "      <td>357</td>\n",
       "      <td>76.627</td>\n",
       "      <td>73.447</td>\n",
       "      <td>1.04527</td>\n",
       "      <td>1.041649</td>\n",
       "      <td>1.041863</td>\n",
       "    </tr>\n",
       "    <tr>\n",
       "      <th>7381</th>\n",
       "      <td>841</td>\n",
       "      <td>Antonio Giovinazzi</td>\n",
       "      <td>99</td>\n",
       "      <td>Italian</td>\n",
       "      <td>1034</td>\n",
       "      <td>51</td>\n",
       "      <td>14</td>\n",
       "      <td>90.977</td>\n",
       "      <td>Alfa Romeo</td>\n",
       "      <td>2.0</td>\n",
       "      <td>14</td>\n",
       "      <td>0</td>\n",
       "      <td>2020</td>\n",
       "      <td>British Grand Prix</td>\n",
       "      <td>2020-08-02</td>\n",
       "      <td>17</td>\n",
       "      <td>87.164</td>\n",
       "      <td>358</td>\n",
       "      <td>87.097</td>\n",
       "      <td>84.303</td>\n",
       "      <td>1.04455</td>\n",
       "      <td>1.033937</td>\n",
       "      <td>1.042839</td>\n",
       "    </tr>\n",
       "    <tr>\n",
       "      <th>7310</th>\n",
       "      <td>832</td>\n",
       "      <td>Carlos Sainz</td>\n",
       "      <td>55</td>\n",
       "      <td>Spanish</td>\n",
       "      <td>1031</td>\n",
       "      <td>1</td>\n",
       "      <td>5</td>\n",
       "      <td>67.974</td>\n",
       "      <td>McLaren</td>\n",
       "      <td>10.0</td>\n",
       "      <td>5</td>\n",
       "      <td>0</td>\n",
       "      <td>2020</td>\n",
       "      <td>Austrian Grand Prix</td>\n",
       "      <td>2020-07-05</td>\n",
       "      <td>8</td>\n",
       "      <td>63.971</td>\n",
       "      <td>355</td>\n",
       "      <td>67.475</td>\n",
       "      <td>62.939</td>\n",
       "      <td>1.0074</td>\n",
       "      <td>1.016397</td>\n",
       "      <td>1.016397</td>\n",
       "    </tr>\n",
       "    <tr>\n",
       "      <th>7330</th>\n",
       "      <td>832</td>\n",
       "      <td>Carlos Sainz</td>\n",
       "      <td>55</td>\n",
       "      <td>Spanish</td>\n",
       "      <td>1032</td>\n",
       "      <td>1</td>\n",
       "      <td>9</td>\n",
       "      <td>65.619</td>\n",
       "      <td>McLaren</td>\n",
       "      <td>13.0</td>\n",
       "      <td>7</td>\n",
       "      <td>0</td>\n",
       "      <td>2020</td>\n",
       "      <td>Styrian Grand Prix</td>\n",
       "      <td>2020-07-12</td>\n",
       "      <td>3</td>\n",
       "      <td>78.590</td>\n",
       "      <td>356</td>\n",
       "      <td>65.619</td>\n",
       "      <td>77.825</td>\n",
       "      <td>1</td>\n",
       "      <td>1.009830</td>\n",
       "      <td>1.014208</td>\n",
       "    </tr>\n",
       "  </tbody>\n",
       "</table>\n",
       "</div>"
      ],
      "text/plain": [
       "      driverId          driverName number nationality  raceId  constructorId  \\\n",
       "7323       848     Alexander Albon     23        Thai    1031              9   \n",
       "7343       848     Alexander Albon     23        Thai    1032              9   \n",
       "7363       848     Alexander Albon     23        Thai    1033              9   \n",
       "7383       848     Alexander Albon     23        Thai    1034              9   \n",
       "7321       841  Antonio Giovinazzi     99     Italian    1031             51   \n",
       "7341       841  Antonio Giovinazzi     99     Italian    1032             51   \n",
       "7361       841  Antonio Giovinazzi     99     Italian    1033             51   \n",
       "7381       841  Antonio Giovinazzi     99     Italian    1034             51   \n",
       "7310       832        Carlos Sainz     55     Spanish    1031              1   \n",
       "7330       832        Carlos Sainz     55     Spanish    1032              1   \n",
       "\n",
       "     racePosition fastestLapTime constructorName  points  driverStanding  \\\n",
       "7323           13         68.432        Red Bull     0.0              13   \n",
       "7343            4         67.299        Red Bull    12.0               8   \n",
       "7363            5          79.44        Red Bull    22.0               5   \n",
       "7383            8         88.689        Red Bull    26.0               6   \n",
       "7321            9         68.796      Alfa Romeo     2.0               9   \n",
       "7341           14         68.512      Alfa Romeo     2.0              13   \n",
       "7361           17         80.096      Alfa Romeo     2.0              14   \n",
       "7381           14         90.977      Alfa Romeo     2.0              14   \n",
       "7310            5         67.974         McLaren    10.0               5   \n",
       "7330            9         65.619         McLaren    13.0               7   \n",
       "\n",
       "      wins  year                  name        date  position  \\\n",
       "7323     0  2020   Austrian Grand Prix  2020-07-05         5   \n",
       "7343     0  2020    Styrian Grand Prix  2020-07-12         7   \n",
       "7363     0  2020  Hungarian Grand Prix  2020-07-19        13   \n",
       "7383     0  2020    British Grand Prix  2020-08-02        12   \n",
       "7321     0  2020   Austrian Grand Prix  2020-07-05        18   \n",
       "7341     0  2020    Styrian Grand Prix  2020-07-12        19   \n",
       "7361     0  2020  Hungarian Grand Prix  2020-07-19        19   \n",
       "7381     0  2020    British Grand Prix  2020-08-02        17   \n",
       "7310     0  2020   Austrian Grand Prix  2020-07-05         8   \n",
       "7330     0  2020    Styrian Grand Prix  2020-07-12         3   \n",
       "\n",
       "      minQualifyingTime  Unnamed: 0  minOverallRaceLap  minOverallQualiLap  \\\n",
       "7323             63.746         355             67.475              62.939   \n",
       "7343             79.014         356             65.619              77.825   \n",
       "7363             75.715         357             76.627              73.447   \n",
       "7383             86.545         358             87.097              84.303   \n",
       "7321             65.175         355             67.475              62.939   \n",
       "7341             81.831         356             65.619              77.825   \n",
       "7361             76.506         357             76.627              73.447   \n",
       "7381             87.164         358             87.097              84.303   \n",
       "7310             63.971         355             67.475              62.939   \n",
       "7330             78.590         356             65.619              77.825   \n",
       "\n",
       "     race_lap_ratio  quali_lap_ratio  rolling_quali_lap_ratio  \n",
       "7323        1.01418         1.012822                 1.012822  \n",
       "7343         1.0256         1.015278                 1.013641  \n",
       "7363        1.03671         1.030879                 1.016650  \n",
       "7383        1.01828         1.026595                 1.019979  \n",
       "7321        1.01958         1.035526                 1.035526  \n",
       "7341        1.04409         1.051474                 1.040842  \n",
       "7361        1.04527         1.041649                 1.041863  \n",
       "7381        1.04455         1.033937                 1.042839  \n",
       "7310         1.0074         1.016397                 1.016397  \n",
       "7330              1         1.009830                 1.014208  "
      ]
     },
     "execution_count": 54,
     "metadata": {},
     "output_type": "execute_result"
    }
   ],
   "source": [
    "import plotly.express as px\n",
    "df_6 = df_5[df_5.year==2020]\n",
    "df_grouped = [y for x,y in df_6.groupby('driverName',as_index=False)]\n",
    "for i in range(len(df_grouped)):\n",
    "    df_grouped[i]['rolling_quali_lap_ratio']=df_grouped[i]['quali_lap_ratio'].rolling(5,min_periods=1,win_type='triang').mean()\n",
    "df_6 = pd.concat(df_grouped)\n",
    "df_6.head(10)"
   ]
  },
  {
   "cell_type": "code",
   "execution_count": 55,
   "metadata": {},
   "outputs": [
    {
     "data": {
      "application/vnd.plotly.v1+json": {
       "config": {
        "plotlyServerURL": "https://plot.ly"
       },
       "data": [
        {
         "hovertemplate": "driverName=Alexander Albon<br>raceId=%{x}<br>rolling_quali_lap_ratio=%{y}<extra></extra>",
         "legendgroup": "Alexander Albon",
         "line": {
          "color": "#636efa",
          "dash": "solid"
         },
         "mode": "lines",
         "name": "Alexander Albon",
         "orientation": "v",
         "showlegend": true,
         "type": "scatter",
         "x": [
          1031,
          1032,
          1033,
          1034
         ],
         "xaxis": "x",
         "y": [
          1.0128219387025534,
          1.0136405814714742,
          1.0166501599614366,
          1.0199788554477538
         ],
         "yaxis": "y"
        },
        {
         "hovertemplate": "driverName=Antonio Giovinazzi<br>raceId=%{x}<br>rolling_quali_lap_ratio=%{y}<extra></extra>",
         "legendgroup": "Antonio Giovinazzi",
         "line": {
          "color": "#EF553B",
          "dash": "solid"
         },
         "mode": "lines",
         "name": "Antonio Giovinazzi",
         "orientation": "v",
         "showlegend": true,
         "type": "scatter",
         "x": [
          1031,
          1032,
          1033,
          1034
         ],
         "xaxis": "x",
         "y": [
          1.0355264621299989,
          1.0408424620646077,
          1.0418628984244729,
          1.0428389473066668
         ],
         "yaxis": "y"
        },
        {
         "hovertemplate": "driverName=Carlos Sainz<br>raceId=%{x}<br>rolling_quali_lap_ratio=%{y}<extra></extra>",
         "legendgroup": "Carlos Sainz",
         "line": {
          "color": "#00cc96",
          "dash": "solid"
         },
         "mode": "lines",
         "name": "Carlos Sainz",
         "orientation": "v",
         "showlegend": true,
         "type": "scatter",
         "x": [
          1031,
          1032,
          1033,
          1034
         ],
         "xaxis": "x",
         "y": [
          1.0163968286753842,
          1.0142078011920912,
          1.0150603482084868,
          1.015627714809835
         ],
         "yaxis": "y"
        },
        {
         "hovertemplate": "driverName=Charles Leclerc<br>raceId=%{x}<br>rolling_quali_lap_ratio=%{y}<extra></extra>",
         "legendgroup": "Charles Leclerc",
         "line": {
          "color": "#ab63fa",
          "dash": "solid"
         },
         "mode": "lines",
         "name": "Charles Leclerc",
         "orientation": "v",
         "showlegend": true,
         "type": "scatter",
         "x": [
          1031,
          1032,
          1033,
          1034
         ],
         "xaxis": "x",
         "y": [
          1.0156341854811803,
          1.0181452445450079,
          1.0186483646610187,
          1.018926141273651
         ],
         "yaxis": "y"
        },
        {
         "hovertemplate": "driverName=Daniel Ricciardo<br>raceId=%{x}<br>rolling_quali_lap_ratio=%{y}<extra></extra>",
         "legendgroup": "Daniel Ricciardo",
         "line": {
          "color": "#FFA15A",
          "dash": "solid"
         },
         "mode": "lines",
         "name": "Daniel Ricciardo",
         "orientation": "v",
         "showlegend": true,
         "type": "scatter",
         "x": [
          1031,
          1032,
          1033,
          1034
         ],
         "xaxis": "x",
         "y": [
          1.017223025469105,
          1.017495508787948,
          1.019649035476968,
          1.021136547023064
         ],
         "yaxis": "y"
        },
        {
         "hovertemplate": "driverName=Daniil Kvyat<br>raceId=%{x}<br>rolling_quali_lap_ratio=%{y}<extra></extra>",
         "legendgroup": "Daniil Kvyat",
         "line": {
          "color": "#19d3f3",
          "dash": "solid"
         },
         "mode": "lines",
         "name": "Daniil Kvyat",
         "orientation": "v",
         "showlegend": true,
         "type": "scatter",
         "x": [
          1031,
          1032,
          1033,
          1034
         ],
         "xaxis": "x",
         "y": [
          1.0237054926198383,
          1.0239073131010936,
          1.0262126096268214,
          1.0280466837103872
         ],
         "yaxis": "y"
        },
        {
         "hovertemplate": "driverName=Esteban Ocon<br>raceId=%{x}<br>rolling_quali_lap_ratio=%{y}<extra></extra>",
         "legendgroup": "Esteban Ocon",
         "line": {
          "color": "#FF6692",
          "dash": "solid"
         },
         "mode": "lines",
         "name": "Esteban Ocon",
         "orientation": "v",
         "showlegend": true,
         "type": "scatter",
         "x": [
          1031,
          1032,
          1033,
          1034
         ],
         "xaxis": "x",
         "y": [
          1.027073833394239,
          1.022071066143327,
          1.0227144056913309,
          1.0218526157068006
         ],
         "yaxis": "y"
        },
        {
         "hovertemplate": "driverName=George Russell<br>raceId=%{x}<br>rolling_quali_lap_ratio=%{y}<extra></extra>",
         "legendgroup": "George Russell",
         "line": {
          "color": "#B6E880",
          "dash": "solid"
         },
         "mode": "lines",
         "name": "George Russell",
         "orientation": "v",
         "showlegend": true,
         "type": "scatter",
         "x": [
          1031,
          1032,
          1033,
          1034
         ],
         "xaxis": "x",
         "y": [
          1.035399354930965,
          1.0313562890887877,
          1.0303079675743747,
          1.0284550960974455
         ],
         "yaxis": "y"
        },
        {
         "hovertemplate": "driverName=Kevin Magnussen<br>raceId=%{x}<br>rolling_quali_lap_ratio=%{y}<extra></extra>",
         "legendgroup": "Kevin Magnussen",
         "line": {
          "color": "#FF97FF",
          "dash": "solid"
         },
         "mode": "lines",
         "name": "Kevin Magnussen",
         "orientation": "v",
         "showlegend": true,
         "type": "scatter",
         "x": [
          1031,
          1032,
          1033,
          1034
         ],
         "xaxis": "x",
         "y": [
          1.0353516897313273,
          1.0337873027376854,
          1.0340335674916425,
          1.0337754322741324
         ],
         "yaxis": "y"
        },
        {
         "hovertemplate": "driverName=Kimi Räikkönen<br>raceId=%{x}<br>rolling_quali_lap_ratio=%{y}<extra></extra>",
         "legendgroup": "Kimi Räikkönen",
         "line": {
          "color": "#FECB52",
          "dash": "solid"
         },
         "mode": "lines",
         "name": "Kimi Räikkönen",
         "orientation": "v",
         "showlegend": true,
         "type": "scatter",
         "x": [
          1031,
          1032,
          1033,
          1034
         ],
         "xaxis": "x",
         "y": [
          1.0363049937240822,
          1.038401851475119,
          1.0395376072490046,
          1.0403711214612623
         ],
         "yaxis": "y"
        },
        {
         "hovertemplate": "driverName=Lance Stroll<br>raceId=%{x}<br>rolling_quali_lap_ratio=%{y}<extra></extra>",
         "legendgroup": "Lance Stroll",
         "line": {
          "color": "#636efa",
          "dash": "solid"
         },
         "mode": "lines",
         "name": "Lance Stroll",
         "orientation": "v",
         "showlegend": true,
         "type": "scatter",
         "x": [
          1031,
          1032,
          1033,
          1034
         ],
         "xaxis": "x",
         "y": [
          1.0161426142773162,
          1.0185570100107688,
          1.0179769395953084,
          1.0182483760909822
         ],
         "yaxis": "y"
        },
        {
         "hovertemplate": "driverName=Lando Norris<br>raceId=%{x}<br>rolling_quali_lap_ratio=%{y}<extra></extra>",
         "legendgroup": "Lando Norris",
         "line": {
          "color": "#EF553B",
          "dash": "solid"
         },
         "mode": "lines",
         "name": "Lando Norris",
         "orientation": "v",
         "showlegend": true,
         "type": "scatter",
         "x": [
          1031,
          1032,
          1033,
          1034
         ],
         "xaxis": "x",
         "y": [
          1.0109153307170435,
          1.0099452670568918,
          1.0115729752565128,
          1.013094137515314
         ],
         "yaxis": "y"
        },
        {
         "hovertemplate": "driverName=Lewis Hamilton<br>raceId=%{x}<br>rolling_quali_lap_ratio=%{y}<extra></extra>",
         "legendgroup": "Lewis Hamilton",
         "line": {
          "color": "#00cc96",
          "dash": "solid"
         },
         "mode": "lines",
         "name": "Lewis Hamilton",
         "orientation": "v",
         "showlegend": true,
         "type": "scatter",
         "x": [
          1031,
          1032,
          1033,
          1034
         ],
         "xaxis": "x",
         "y": [
          1.0001906607985511,
          1.000127107199034,
          1.000095330399276,
          1.0000476651996377
         ],
         "yaxis": "y"
        },
        {
         "hovertemplate": "driverName=Max Verstappen<br>raceId=%{x}<br>rolling_quali_lap_ratio=%{y}<extra></extra>",
         "legendgroup": "Max Verstappen",
         "line": {
          "color": "#ab63fa",
          "dash": "solid"
         },
         "mode": "lines",
         "name": "Max Verstappen",
         "orientation": "v",
         "showlegend": true,
         "type": "scatter",
         "x": [
          1031,
          1032,
          1033,
          1034
         ],
         "xaxis": "x",
         "y": [
          1.0085479591350355,
          1.0061826312854407,
          1.0079394038457203,
          1.0089689964401884
         ],
         "yaxis": "y"
        },
        {
         "hovertemplate": "driverName=Nicholas Latifi<br>raceId=%{x}<br>rolling_quali_lap_ratio=%{y}<extra></extra>",
         "legendgroup": "Nicholas Latifi",
         "line": {
          "color": "#FFA15A",
          "dash": "solid"
         },
         "mode": "lines",
         "name": "Nicholas Latifi",
         "orientation": "v",
         "showlegend": true,
         "type": "scatter",
         "x": [
          1031,
          1032,
          1033,
          1034
         ],
         "xaxis": "x",
         "y": [
          1.0447735108597216,
          1.0466987770224463,
          1.0452680853851346,
          1.0442410134525042
         ],
         "yaxis": "y"
        },
        {
         "hovertemplate": "driverName=Nico Hülkenberg<br>raceId=%{x}<br>rolling_quali_lap_ratio=%{y}<extra></extra>",
         "legendgroup": "Nico Hülkenberg",
         "line": {
          "color": "#19d3f3",
          "dash": "solid"
         },
         "mode": "lines",
         "name": "Nico Hülkenberg",
         "orientation": "v",
         "showlegend": true,
         "type": "scatter",
         "x": [
          1034
         ],
         "xaxis": "x",
         "y": [
          1.0240086355171227
         ],
         "yaxis": "y"
        },
        {
         "hovertemplate": "driverName=Pierre Gasly<br>raceId=%{x}<br>rolling_quali_lap_ratio=%{y}<extra></extra>",
         "legendgroup": "Pierre Gasly",
         "line": {
          "color": "#FF6692",
          "dash": "solid"
         },
         "mode": "lines",
         "name": "Pierre Gasly",
         "orientation": "v",
         "showlegend": true,
         "type": "scatter",
         "x": [
          1031,
          1032,
          1033,
          1034
         ],
         "xaxis": "x",
         "y": [
          1.0217035542350532,
          1.0184052177607281,
          1.0194648005258473,
          1.019894158957514
         ],
         "yaxis": "y"
        },
        {
         "hovertemplate": "driverName=Romain Grosjean<br>raceId=%{x}<br>rolling_quali_lap_ratio=%{y}<extra></extra>",
         "legendgroup": "Romain Grosjean",
         "line": {
          "color": "#B6E880",
          "dash": "solid"
         },
         "mode": "lines",
         "name": "Romain Grosjean",
         "orientation": "v",
         "showlegend": true,
         "type": "scatter",
         "x": [
          1031,
          1032,
          1033,
          1034
         ],
         "xaxis": "x",
         "y": [
          1.027836476588443,
          1.027836476588443,
          1.0309526498290402,
          1.0351788571342864
         ],
         "yaxis": "y"
        },
        {
         "hovertemplate": "driverName=Sebastian Vettel<br>raceId=%{x}<br>rolling_quali_lap_ratio=%{y}<extra></extra>",
         "legendgroup": "Sebastian Vettel",
         "line": {
          "color": "#FF97FF",
          "dash": "solid"
         },
         "mode": "lines",
         "name": "Sebastian Vettel",
         "orientation": "v",
         "showlegend": true,
         "type": "scatter",
         "x": [
          1031,
          1032,
          1033,
          1034
         ],
         "xaxis": "x",
         "y": [
          1.0201306026470076,
          1.0207873575415216,
          1.0204434987666802,
          1.0208562108109422
         ],
         "yaxis": "y"
        },
        {
         "hovertemplate": "driverName=Sergio Pérez<br>raceId=%{x}<br>rolling_quali_lap_ratio=%{y}<extra></extra>",
         "legendgroup": "Sergio Pérez",
         "line": {
          "color": "#FECB52",
          "dash": "solid"
         },
         "mode": "lines",
         "name": "Sergio Pérez",
         "orientation": "v",
         "showlegend": true,
         "type": "scatter",
         "x": [
          1031,
          1032,
          1033
         ],
         "xaxis": "x",
         "y": [
          1.0146332162887877,
          1.0259542140072804,
          1.0260069372027762
         ],
         "yaxis": "y"
        },
        {
         "hovertemplate": "driverName=Valtteri Bottas<br>raceId=%{x}<br>rolling_quali_lap_ratio=%{y}<extra></extra>",
         "legendgroup": "Valtteri Bottas",
         "line": {
          "color": "#636efa",
          "dash": "solid"
         },
         "mode": "lines",
         "name": "Valtteri Bottas",
         "orientation": "v",
         "showlegend": true,
         "type": "scatter",
         "x": [
          1031,
          1032,
          1033,
          1034
         ],
         "xaxis": "x",
         "y": [
          1.0000000000000002,
          1.0035635507013598,
          1.003806356171064,
          1.0048373024790636
         ],
         "yaxis": "y"
        }
       ],
       "layout": {
        "legend": {
         "title": {
          "text": "driverName"
         },
         "tracegroupgap": 0
        },
        "margin": {
         "t": 60
        },
        "template": {
         "data": {
          "bar": [
           {
            "error_x": {
             "color": "#2a3f5f"
            },
            "error_y": {
             "color": "#2a3f5f"
            },
            "marker": {
             "line": {
              "color": "#E5ECF6",
              "width": 0.5
             }
            },
            "type": "bar"
           }
          ],
          "barpolar": [
           {
            "marker": {
             "line": {
              "color": "#E5ECF6",
              "width": 0.5
             }
            },
            "type": "barpolar"
           }
          ],
          "carpet": [
           {
            "aaxis": {
             "endlinecolor": "#2a3f5f",
             "gridcolor": "white",
             "linecolor": "white",
             "minorgridcolor": "white",
             "startlinecolor": "#2a3f5f"
            },
            "baxis": {
             "endlinecolor": "#2a3f5f",
             "gridcolor": "white",
             "linecolor": "white",
             "minorgridcolor": "white",
             "startlinecolor": "#2a3f5f"
            },
            "type": "carpet"
           }
          ],
          "choropleth": [
           {
            "colorbar": {
             "outlinewidth": 0,
             "ticks": ""
            },
            "type": "choropleth"
           }
          ],
          "contour": [
           {
            "colorbar": {
             "outlinewidth": 0,
             "ticks": ""
            },
            "colorscale": [
             [
              0,
              "#0d0887"
             ],
             [
              0.1111111111111111,
              "#46039f"
             ],
             [
              0.2222222222222222,
              "#7201a8"
             ],
             [
              0.3333333333333333,
              "#9c179e"
             ],
             [
              0.4444444444444444,
              "#bd3786"
             ],
             [
              0.5555555555555556,
              "#d8576b"
             ],
             [
              0.6666666666666666,
              "#ed7953"
             ],
             [
              0.7777777777777778,
              "#fb9f3a"
             ],
             [
              0.8888888888888888,
              "#fdca26"
             ],
             [
              1,
              "#f0f921"
             ]
            ],
            "type": "contour"
           }
          ],
          "contourcarpet": [
           {
            "colorbar": {
             "outlinewidth": 0,
             "ticks": ""
            },
            "type": "contourcarpet"
           }
          ],
          "heatmap": [
           {
            "colorbar": {
             "outlinewidth": 0,
             "ticks": ""
            },
            "colorscale": [
             [
              0,
              "#0d0887"
             ],
             [
              0.1111111111111111,
              "#46039f"
             ],
             [
              0.2222222222222222,
              "#7201a8"
             ],
             [
              0.3333333333333333,
              "#9c179e"
             ],
             [
              0.4444444444444444,
              "#bd3786"
             ],
             [
              0.5555555555555556,
              "#d8576b"
             ],
             [
              0.6666666666666666,
              "#ed7953"
             ],
             [
              0.7777777777777778,
              "#fb9f3a"
             ],
             [
              0.8888888888888888,
              "#fdca26"
             ],
             [
              1,
              "#f0f921"
             ]
            ],
            "type": "heatmap"
           }
          ],
          "heatmapgl": [
           {
            "colorbar": {
             "outlinewidth": 0,
             "ticks": ""
            },
            "colorscale": [
             [
              0,
              "#0d0887"
             ],
             [
              0.1111111111111111,
              "#46039f"
             ],
             [
              0.2222222222222222,
              "#7201a8"
             ],
             [
              0.3333333333333333,
              "#9c179e"
             ],
             [
              0.4444444444444444,
              "#bd3786"
             ],
             [
              0.5555555555555556,
              "#d8576b"
             ],
             [
              0.6666666666666666,
              "#ed7953"
             ],
             [
              0.7777777777777778,
              "#fb9f3a"
             ],
             [
              0.8888888888888888,
              "#fdca26"
             ],
             [
              1,
              "#f0f921"
             ]
            ],
            "type": "heatmapgl"
           }
          ],
          "histogram": [
           {
            "marker": {
             "colorbar": {
              "outlinewidth": 0,
              "ticks": ""
             }
            },
            "type": "histogram"
           }
          ],
          "histogram2d": [
           {
            "colorbar": {
             "outlinewidth": 0,
             "ticks": ""
            },
            "colorscale": [
             [
              0,
              "#0d0887"
             ],
             [
              0.1111111111111111,
              "#46039f"
             ],
             [
              0.2222222222222222,
              "#7201a8"
             ],
             [
              0.3333333333333333,
              "#9c179e"
             ],
             [
              0.4444444444444444,
              "#bd3786"
             ],
             [
              0.5555555555555556,
              "#d8576b"
             ],
             [
              0.6666666666666666,
              "#ed7953"
             ],
             [
              0.7777777777777778,
              "#fb9f3a"
             ],
             [
              0.8888888888888888,
              "#fdca26"
             ],
             [
              1,
              "#f0f921"
             ]
            ],
            "type": "histogram2d"
           }
          ],
          "histogram2dcontour": [
           {
            "colorbar": {
             "outlinewidth": 0,
             "ticks": ""
            },
            "colorscale": [
             [
              0,
              "#0d0887"
             ],
             [
              0.1111111111111111,
              "#46039f"
             ],
             [
              0.2222222222222222,
              "#7201a8"
             ],
             [
              0.3333333333333333,
              "#9c179e"
             ],
             [
              0.4444444444444444,
              "#bd3786"
             ],
             [
              0.5555555555555556,
              "#d8576b"
             ],
             [
              0.6666666666666666,
              "#ed7953"
             ],
             [
              0.7777777777777778,
              "#fb9f3a"
             ],
             [
              0.8888888888888888,
              "#fdca26"
             ],
             [
              1,
              "#f0f921"
             ]
            ],
            "type": "histogram2dcontour"
           }
          ],
          "mesh3d": [
           {
            "colorbar": {
             "outlinewidth": 0,
             "ticks": ""
            },
            "type": "mesh3d"
           }
          ],
          "parcoords": [
           {
            "line": {
             "colorbar": {
              "outlinewidth": 0,
              "ticks": ""
             }
            },
            "type": "parcoords"
           }
          ],
          "pie": [
           {
            "automargin": true,
            "type": "pie"
           }
          ],
          "scatter": [
           {
            "marker": {
             "colorbar": {
              "outlinewidth": 0,
              "ticks": ""
             }
            },
            "type": "scatter"
           }
          ],
          "scatter3d": [
           {
            "line": {
             "colorbar": {
              "outlinewidth": 0,
              "ticks": ""
             }
            },
            "marker": {
             "colorbar": {
              "outlinewidth": 0,
              "ticks": ""
             }
            },
            "type": "scatter3d"
           }
          ],
          "scattercarpet": [
           {
            "marker": {
             "colorbar": {
              "outlinewidth": 0,
              "ticks": ""
             }
            },
            "type": "scattercarpet"
           }
          ],
          "scattergeo": [
           {
            "marker": {
             "colorbar": {
              "outlinewidth": 0,
              "ticks": ""
             }
            },
            "type": "scattergeo"
           }
          ],
          "scattergl": [
           {
            "marker": {
             "colorbar": {
              "outlinewidth": 0,
              "ticks": ""
             }
            },
            "type": "scattergl"
           }
          ],
          "scattermapbox": [
           {
            "marker": {
             "colorbar": {
              "outlinewidth": 0,
              "ticks": ""
             }
            },
            "type": "scattermapbox"
           }
          ],
          "scatterpolar": [
           {
            "marker": {
             "colorbar": {
              "outlinewidth": 0,
              "ticks": ""
             }
            },
            "type": "scatterpolar"
           }
          ],
          "scatterpolargl": [
           {
            "marker": {
             "colorbar": {
              "outlinewidth": 0,
              "ticks": ""
             }
            },
            "type": "scatterpolargl"
           }
          ],
          "scatterternary": [
           {
            "marker": {
             "colorbar": {
              "outlinewidth": 0,
              "ticks": ""
             }
            },
            "type": "scatterternary"
           }
          ],
          "surface": [
           {
            "colorbar": {
             "outlinewidth": 0,
             "ticks": ""
            },
            "colorscale": [
             [
              0,
              "#0d0887"
             ],
             [
              0.1111111111111111,
              "#46039f"
             ],
             [
              0.2222222222222222,
              "#7201a8"
             ],
             [
              0.3333333333333333,
              "#9c179e"
             ],
             [
              0.4444444444444444,
              "#bd3786"
             ],
             [
              0.5555555555555556,
              "#d8576b"
             ],
             [
              0.6666666666666666,
              "#ed7953"
             ],
             [
              0.7777777777777778,
              "#fb9f3a"
             ],
             [
              0.8888888888888888,
              "#fdca26"
             ],
             [
              1,
              "#f0f921"
             ]
            ],
            "type": "surface"
           }
          ],
          "table": [
           {
            "cells": {
             "fill": {
              "color": "#EBF0F8"
             },
             "line": {
              "color": "white"
             }
            },
            "header": {
             "fill": {
              "color": "#C8D4E3"
             },
             "line": {
              "color": "white"
             }
            },
            "type": "table"
           }
          ]
         },
         "layout": {
          "annotationdefaults": {
           "arrowcolor": "#2a3f5f",
           "arrowhead": 0,
           "arrowwidth": 1
          },
          "coloraxis": {
           "colorbar": {
            "outlinewidth": 0,
            "ticks": ""
           }
          },
          "colorscale": {
           "diverging": [
            [
             0,
             "#8e0152"
            ],
            [
             0.1,
             "#c51b7d"
            ],
            [
             0.2,
             "#de77ae"
            ],
            [
             0.3,
             "#f1b6da"
            ],
            [
             0.4,
             "#fde0ef"
            ],
            [
             0.5,
             "#f7f7f7"
            ],
            [
             0.6,
             "#e6f5d0"
            ],
            [
             0.7,
             "#b8e186"
            ],
            [
             0.8,
             "#7fbc41"
            ],
            [
             0.9,
             "#4d9221"
            ],
            [
             1,
             "#276419"
            ]
           ],
           "sequential": [
            [
             0,
             "#0d0887"
            ],
            [
             0.1111111111111111,
             "#46039f"
            ],
            [
             0.2222222222222222,
             "#7201a8"
            ],
            [
             0.3333333333333333,
             "#9c179e"
            ],
            [
             0.4444444444444444,
             "#bd3786"
            ],
            [
             0.5555555555555556,
             "#d8576b"
            ],
            [
             0.6666666666666666,
             "#ed7953"
            ],
            [
             0.7777777777777778,
             "#fb9f3a"
            ],
            [
             0.8888888888888888,
             "#fdca26"
            ],
            [
             1,
             "#f0f921"
            ]
           ],
           "sequentialminus": [
            [
             0,
             "#0d0887"
            ],
            [
             0.1111111111111111,
             "#46039f"
            ],
            [
             0.2222222222222222,
             "#7201a8"
            ],
            [
             0.3333333333333333,
             "#9c179e"
            ],
            [
             0.4444444444444444,
             "#bd3786"
            ],
            [
             0.5555555555555556,
             "#d8576b"
            ],
            [
             0.6666666666666666,
             "#ed7953"
            ],
            [
             0.7777777777777778,
             "#fb9f3a"
            ],
            [
             0.8888888888888888,
             "#fdca26"
            ],
            [
             1,
             "#f0f921"
            ]
           ]
          },
          "colorway": [
           "#636efa",
           "#EF553B",
           "#00cc96",
           "#ab63fa",
           "#FFA15A",
           "#19d3f3",
           "#FF6692",
           "#B6E880",
           "#FF97FF",
           "#FECB52"
          ],
          "font": {
           "color": "#2a3f5f"
          },
          "geo": {
           "bgcolor": "white",
           "lakecolor": "white",
           "landcolor": "#E5ECF6",
           "showlakes": true,
           "showland": true,
           "subunitcolor": "white"
          },
          "hoverlabel": {
           "align": "left"
          },
          "hovermode": "closest",
          "mapbox": {
           "style": "light"
          },
          "paper_bgcolor": "white",
          "plot_bgcolor": "#E5ECF6",
          "polar": {
           "angularaxis": {
            "gridcolor": "white",
            "linecolor": "white",
            "ticks": ""
           },
           "bgcolor": "#E5ECF6",
           "radialaxis": {
            "gridcolor": "white",
            "linecolor": "white",
            "ticks": ""
           }
          },
          "scene": {
           "xaxis": {
            "backgroundcolor": "#E5ECF6",
            "gridcolor": "white",
            "gridwidth": 2,
            "linecolor": "white",
            "showbackground": true,
            "ticks": "",
            "zerolinecolor": "white"
           },
           "yaxis": {
            "backgroundcolor": "#E5ECF6",
            "gridcolor": "white",
            "gridwidth": 2,
            "linecolor": "white",
            "showbackground": true,
            "ticks": "",
            "zerolinecolor": "white"
           },
           "zaxis": {
            "backgroundcolor": "#E5ECF6",
            "gridcolor": "white",
            "gridwidth": 2,
            "linecolor": "white",
            "showbackground": true,
            "ticks": "",
            "zerolinecolor": "white"
           }
          },
          "shapedefaults": {
           "line": {
            "color": "#2a3f5f"
           }
          },
          "ternary": {
           "aaxis": {
            "gridcolor": "white",
            "linecolor": "white",
            "ticks": ""
           },
           "baxis": {
            "gridcolor": "white",
            "linecolor": "white",
            "ticks": ""
           },
           "bgcolor": "#E5ECF6",
           "caxis": {
            "gridcolor": "white",
            "linecolor": "white",
            "ticks": ""
           }
          },
          "title": {
           "x": 0.05
          },
          "xaxis": {
           "automargin": true,
           "gridcolor": "white",
           "linecolor": "white",
           "ticks": "",
           "title": {
            "standoff": 15
           },
           "zerolinecolor": "white",
           "zerolinewidth": 2
          },
          "yaxis": {
           "automargin": true,
           "gridcolor": "white",
           "linecolor": "white",
           "ticks": "",
           "title": {
            "standoff": 15
           },
           "zerolinecolor": "white",
           "zerolinewidth": 2
          }
         }
        },
        "xaxis": {
         "anchor": "y",
         "domain": [
          0,
          1
         ],
         "title": {
          "text": "raceId"
         }
        },
        "yaxis": {
         "anchor": "x",
         "domain": [
          0,
          1
         ],
         "title": {
          "text": "rolling_quali_lap_ratio"
         }
        }
       }
      },
      "text/html": [
       "<div>\n",
       "        \n",
       "        \n",
       "            <div id=\"c43d9da4-7256-441d-b0ce-1407ffe5bb15\" class=\"plotly-graph-div\" style=\"height:525px; width:100%;\"></div>\n",
       "            <script type=\"text/javascript\">\n",
       "                require([\"plotly\"], function(Plotly) {\n",
       "                    window.PLOTLYENV=window.PLOTLYENV || {};\n",
       "                    \n",
       "                if (document.getElementById(\"c43d9da4-7256-441d-b0ce-1407ffe5bb15\")) {\n",
       "                    Plotly.newPlot(\n",
       "                        'c43d9da4-7256-441d-b0ce-1407ffe5bb15',\n",
       "                        [{\"hovertemplate\": \"driverName=Alexander Albon<br>raceId=%{x}<br>rolling_quali_lap_ratio=%{y}<extra></extra>\", \"legendgroup\": \"Alexander Albon\", \"line\": {\"color\": \"#636efa\", \"dash\": \"solid\"}, \"mode\": \"lines\", \"name\": \"Alexander Albon\", \"orientation\": \"v\", \"showlegend\": true, \"type\": \"scatter\", \"x\": [1031, 1032, 1033, 1034], \"xaxis\": \"x\", \"y\": [1.0128219387025534, 1.0136405814714742, 1.0166501599614366, 1.0199788554477538], \"yaxis\": \"y\"}, {\"hovertemplate\": \"driverName=Antonio Giovinazzi<br>raceId=%{x}<br>rolling_quali_lap_ratio=%{y}<extra></extra>\", \"legendgroup\": \"Antonio Giovinazzi\", \"line\": {\"color\": \"#EF553B\", \"dash\": \"solid\"}, \"mode\": \"lines\", \"name\": \"Antonio Giovinazzi\", \"orientation\": \"v\", \"showlegend\": true, \"type\": \"scatter\", \"x\": [1031, 1032, 1033, 1034], \"xaxis\": \"x\", \"y\": [1.0355264621299989, 1.0408424620646077, 1.0418628984244729, 1.0428389473066668], \"yaxis\": \"y\"}, {\"hovertemplate\": \"driverName=Carlos Sainz<br>raceId=%{x}<br>rolling_quali_lap_ratio=%{y}<extra></extra>\", \"legendgroup\": \"Carlos Sainz\", \"line\": {\"color\": \"#00cc96\", \"dash\": \"solid\"}, \"mode\": \"lines\", \"name\": \"Carlos Sainz\", \"orientation\": \"v\", \"showlegend\": true, \"type\": \"scatter\", \"x\": [1031, 1032, 1033, 1034], \"xaxis\": \"x\", \"y\": [1.0163968286753842, 1.0142078011920912, 1.0150603482084868, 1.015627714809835], \"yaxis\": \"y\"}, {\"hovertemplate\": \"driverName=Charles Leclerc<br>raceId=%{x}<br>rolling_quali_lap_ratio=%{y}<extra></extra>\", \"legendgroup\": \"Charles Leclerc\", \"line\": {\"color\": \"#ab63fa\", \"dash\": \"solid\"}, \"mode\": \"lines\", \"name\": \"Charles Leclerc\", \"orientation\": \"v\", \"showlegend\": true, \"type\": \"scatter\", \"x\": [1031, 1032, 1033, 1034], \"xaxis\": \"x\", \"y\": [1.0156341854811803, 1.0181452445450079, 1.0186483646610187, 1.018926141273651], \"yaxis\": \"y\"}, {\"hovertemplate\": \"driverName=Daniel Ricciardo<br>raceId=%{x}<br>rolling_quali_lap_ratio=%{y}<extra></extra>\", \"legendgroup\": \"Daniel Ricciardo\", \"line\": {\"color\": \"#FFA15A\", \"dash\": \"solid\"}, \"mode\": \"lines\", \"name\": \"Daniel Ricciardo\", \"orientation\": \"v\", \"showlegend\": true, \"type\": \"scatter\", \"x\": [1031, 1032, 1033, 1034], \"xaxis\": \"x\", \"y\": [1.017223025469105, 1.017495508787948, 1.019649035476968, 1.021136547023064], \"yaxis\": \"y\"}, {\"hovertemplate\": \"driverName=Daniil Kvyat<br>raceId=%{x}<br>rolling_quali_lap_ratio=%{y}<extra></extra>\", \"legendgroup\": \"Daniil Kvyat\", \"line\": {\"color\": \"#19d3f3\", \"dash\": \"solid\"}, \"mode\": \"lines\", \"name\": \"Daniil Kvyat\", \"orientation\": \"v\", \"showlegend\": true, \"type\": \"scatter\", \"x\": [1031, 1032, 1033, 1034], \"xaxis\": \"x\", \"y\": [1.0237054926198383, 1.0239073131010936, 1.0262126096268214, 1.0280466837103872], \"yaxis\": \"y\"}, {\"hovertemplate\": \"driverName=Esteban Ocon<br>raceId=%{x}<br>rolling_quali_lap_ratio=%{y}<extra></extra>\", \"legendgroup\": \"Esteban Ocon\", \"line\": {\"color\": \"#FF6692\", \"dash\": \"solid\"}, \"mode\": \"lines\", \"name\": \"Esteban Ocon\", \"orientation\": \"v\", \"showlegend\": true, \"type\": \"scatter\", \"x\": [1031, 1032, 1033, 1034], \"xaxis\": \"x\", \"y\": [1.027073833394239, 1.022071066143327, 1.0227144056913309, 1.0218526157068006], \"yaxis\": \"y\"}, {\"hovertemplate\": \"driverName=George Russell<br>raceId=%{x}<br>rolling_quali_lap_ratio=%{y}<extra></extra>\", \"legendgroup\": \"George Russell\", \"line\": {\"color\": \"#B6E880\", \"dash\": \"solid\"}, \"mode\": \"lines\", \"name\": \"George Russell\", \"orientation\": \"v\", \"showlegend\": true, \"type\": \"scatter\", \"x\": [1031, 1032, 1033, 1034], \"xaxis\": \"x\", \"y\": [1.035399354930965, 1.0313562890887877, 1.0303079675743747, 1.0284550960974455], \"yaxis\": \"y\"}, {\"hovertemplate\": \"driverName=Kevin Magnussen<br>raceId=%{x}<br>rolling_quali_lap_ratio=%{y}<extra></extra>\", \"legendgroup\": \"Kevin Magnussen\", \"line\": {\"color\": \"#FF97FF\", \"dash\": \"solid\"}, \"mode\": \"lines\", \"name\": \"Kevin Magnussen\", \"orientation\": \"v\", \"showlegend\": true, \"type\": \"scatter\", \"x\": [1031, 1032, 1033, 1034], \"xaxis\": \"x\", \"y\": [1.0353516897313273, 1.0337873027376854, 1.0340335674916425, 1.0337754322741324], \"yaxis\": \"y\"}, {\"hovertemplate\": \"driverName=Kimi R\\u00e4ikk\\u00f6nen<br>raceId=%{x}<br>rolling_quali_lap_ratio=%{y}<extra></extra>\", \"legendgroup\": \"Kimi R\\u00e4ikk\\u00f6nen\", \"line\": {\"color\": \"#FECB52\", \"dash\": \"solid\"}, \"mode\": \"lines\", \"name\": \"Kimi R\\u00e4ikk\\u00f6nen\", \"orientation\": \"v\", \"showlegend\": true, \"type\": \"scatter\", \"x\": [1031, 1032, 1033, 1034], \"xaxis\": \"x\", \"y\": [1.0363049937240822, 1.038401851475119, 1.0395376072490046, 1.0403711214612623], \"yaxis\": \"y\"}, {\"hovertemplate\": \"driverName=Lance Stroll<br>raceId=%{x}<br>rolling_quali_lap_ratio=%{y}<extra></extra>\", \"legendgroup\": \"Lance Stroll\", \"line\": {\"color\": \"#636efa\", \"dash\": \"solid\"}, \"mode\": \"lines\", \"name\": \"Lance Stroll\", \"orientation\": \"v\", \"showlegend\": true, \"type\": \"scatter\", \"x\": [1031, 1032, 1033, 1034], \"xaxis\": \"x\", \"y\": [1.0161426142773162, 1.0185570100107688, 1.0179769395953084, 1.0182483760909822], \"yaxis\": \"y\"}, {\"hovertemplate\": \"driverName=Lando Norris<br>raceId=%{x}<br>rolling_quali_lap_ratio=%{y}<extra></extra>\", \"legendgroup\": \"Lando Norris\", \"line\": {\"color\": \"#EF553B\", \"dash\": \"solid\"}, \"mode\": \"lines\", \"name\": \"Lando Norris\", \"orientation\": \"v\", \"showlegend\": true, \"type\": \"scatter\", \"x\": [1031, 1032, 1033, 1034], \"xaxis\": \"x\", \"y\": [1.0109153307170435, 1.0099452670568918, 1.0115729752565128, 1.013094137515314], \"yaxis\": \"y\"}, {\"hovertemplate\": \"driverName=Lewis Hamilton<br>raceId=%{x}<br>rolling_quali_lap_ratio=%{y}<extra></extra>\", \"legendgroup\": \"Lewis Hamilton\", \"line\": {\"color\": \"#00cc96\", \"dash\": \"solid\"}, \"mode\": \"lines\", \"name\": \"Lewis Hamilton\", \"orientation\": \"v\", \"showlegend\": true, \"type\": \"scatter\", \"x\": [1031, 1032, 1033, 1034], \"xaxis\": \"x\", \"y\": [1.0001906607985511, 1.000127107199034, 1.000095330399276, 1.0000476651996377], \"yaxis\": \"y\"}, {\"hovertemplate\": \"driverName=Max Verstappen<br>raceId=%{x}<br>rolling_quali_lap_ratio=%{y}<extra></extra>\", \"legendgroup\": \"Max Verstappen\", \"line\": {\"color\": \"#ab63fa\", \"dash\": \"solid\"}, \"mode\": \"lines\", \"name\": \"Max Verstappen\", \"orientation\": \"v\", \"showlegend\": true, \"type\": \"scatter\", \"x\": [1031, 1032, 1033, 1034], \"xaxis\": \"x\", \"y\": [1.0085479591350355, 1.0061826312854407, 1.0079394038457203, 1.0089689964401884], \"yaxis\": \"y\"}, {\"hovertemplate\": \"driverName=Nicholas Latifi<br>raceId=%{x}<br>rolling_quali_lap_ratio=%{y}<extra></extra>\", \"legendgroup\": \"Nicholas Latifi\", \"line\": {\"color\": \"#FFA15A\", \"dash\": \"solid\"}, \"mode\": \"lines\", \"name\": \"Nicholas Latifi\", \"orientation\": \"v\", \"showlegend\": true, \"type\": \"scatter\", \"x\": [1031, 1032, 1033, 1034], \"xaxis\": \"x\", \"y\": [1.0447735108597216, 1.0466987770224463, 1.0452680853851346, 1.0442410134525042], \"yaxis\": \"y\"}, {\"hovertemplate\": \"driverName=Nico H\\u00fclkenberg<br>raceId=%{x}<br>rolling_quali_lap_ratio=%{y}<extra></extra>\", \"legendgroup\": \"Nico H\\u00fclkenberg\", \"line\": {\"color\": \"#19d3f3\", \"dash\": \"solid\"}, \"mode\": \"lines\", \"name\": \"Nico H\\u00fclkenberg\", \"orientation\": \"v\", \"showlegend\": true, \"type\": \"scatter\", \"x\": [1034], \"xaxis\": \"x\", \"y\": [1.0240086355171227], \"yaxis\": \"y\"}, {\"hovertemplate\": \"driverName=Pierre Gasly<br>raceId=%{x}<br>rolling_quali_lap_ratio=%{y}<extra></extra>\", \"legendgroup\": \"Pierre Gasly\", \"line\": {\"color\": \"#FF6692\", \"dash\": \"solid\"}, \"mode\": \"lines\", \"name\": \"Pierre Gasly\", \"orientation\": \"v\", \"showlegend\": true, \"type\": \"scatter\", \"x\": [1031, 1032, 1033, 1034], \"xaxis\": \"x\", \"y\": [1.0217035542350532, 1.0184052177607281, 1.0194648005258473, 1.019894158957514], \"yaxis\": \"y\"}, {\"hovertemplate\": \"driverName=Romain Grosjean<br>raceId=%{x}<br>rolling_quali_lap_ratio=%{y}<extra></extra>\", \"legendgroup\": \"Romain Grosjean\", \"line\": {\"color\": \"#B6E880\", \"dash\": \"solid\"}, \"mode\": \"lines\", \"name\": \"Romain Grosjean\", \"orientation\": \"v\", \"showlegend\": true, \"type\": \"scatter\", \"x\": [1031, 1032, 1033, 1034], \"xaxis\": \"x\", \"y\": [1.027836476588443, 1.027836476588443, 1.0309526498290402, 1.0351788571342864], \"yaxis\": \"y\"}, {\"hovertemplate\": \"driverName=Sebastian Vettel<br>raceId=%{x}<br>rolling_quali_lap_ratio=%{y}<extra></extra>\", \"legendgroup\": \"Sebastian Vettel\", \"line\": {\"color\": \"#FF97FF\", \"dash\": \"solid\"}, \"mode\": \"lines\", \"name\": \"Sebastian Vettel\", \"orientation\": \"v\", \"showlegend\": true, \"type\": \"scatter\", \"x\": [1031, 1032, 1033, 1034], \"xaxis\": \"x\", \"y\": [1.0201306026470076, 1.0207873575415216, 1.0204434987666802, 1.0208562108109422], \"yaxis\": \"y\"}, {\"hovertemplate\": \"driverName=Sergio P\\u00e9rez<br>raceId=%{x}<br>rolling_quali_lap_ratio=%{y}<extra></extra>\", \"legendgroup\": \"Sergio P\\u00e9rez\", \"line\": {\"color\": \"#FECB52\", \"dash\": \"solid\"}, \"mode\": \"lines\", \"name\": \"Sergio P\\u00e9rez\", \"orientation\": \"v\", \"showlegend\": true, \"type\": \"scatter\", \"x\": [1031, 1032, 1033], \"xaxis\": \"x\", \"y\": [1.0146332162887877, 1.0259542140072804, 1.0260069372027762], \"yaxis\": \"y\"}, {\"hovertemplate\": \"driverName=Valtteri Bottas<br>raceId=%{x}<br>rolling_quali_lap_ratio=%{y}<extra></extra>\", \"legendgroup\": \"Valtteri Bottas\", \"line\": {\"color\": \"#636efa\", \"dash\": \"solid\"}, \"mode\": \"lines\", \"name\": \"Valtteri Bottas\", \"orientation\": \"v\", \"showlegend\": true, \"type\": \"scatter\", \"x\": [1031, 1032, 1033, 1034], \"xaxis\": \"x\", \"y\": [1.0000000000000002, 1.0035635507013598, 1.003806356171064, 1.0048373024790636], \"yaxis\": \"y\"}],\n",
       "                        {\"legend\": {\"title\": {\"text\": \"driverName\"}, \"tracegroupgap\": 0}, \"margin\": {\"t\": 60}, \"template\": {\"data\": {\"bar\": [{\"error_x\": {\"color\": \"#2a3f5f\"}, \"error_y\": {\"color\": \"#2a3f5f\"}, \"marker\": {\"line\": {\"color\": \"#E5ECF6\", \"width\": 0.5}}, \"type\": \"bar\"}], \"barpolar\": [{\"marker\": {\"line\": {\"color\": \"#E5ECF6\", \"width\": 0.5}}, \"type\": \"barpolar\"}], \"carpet\": [{\"aaxis\": {\"endlinecolor\": \"#2a3f5f\", \"gridcolor\": \"white\", \"linecolor\": \"white\", \"minorgridcolor\": \"white\", \"startlinecolor\": \"#2a3f5f\"}, \"baxis\": {\"endlinecolor\": \"#2a3f5f\", \"gridcolor\": \"white\", \"linecolor\": \"white\", \"minorgridcolor\": \"white\", \"startlinecolor\": \"#2a3f5f\"}, \"type\": \"carpet\"}], \"choropleth\": [{\"colorbar\": {\"outlinewidth\": 0, \"ticks\": \"\"}, \"type\": \"choropleth\"}], \"contour\": [{\"colorbar\": {\"outlinewidth\": 0, \"ticks\": \"\"}, \"colorscale\": [[0.0, \"#0d0887\"], [0.1111111111111111, \"#46039f\"], [0.2222222222222222, \"#7201a8\"], [0.3333333333333333, \"#9c179e\"], [0.4444444444444444, \"#bd3786\"], [0.5555555555555556, \"#d8576b\"], [0.6666666666666666, \"#ed7953\"], [0.7777777777777778, \"#fb9f3a\"], [0.8888888888888888, \"#fdca26\"], [1.0, \"#f0f921\"]], \"type\": \"contour\"}], \"contourcarpet\": [{\"colorbar\": {\"outlinewidth\": 0, \"ticks\": \"\"}, \"type\": \"contourcarpet\"}], \"heatmap\": [{\"colorbar\": {\"outlinewidth\": 0, \"ticks\": \"\"}, \"colorscale\": [[0.0, \"#0d0887\"], [0.1111111111111111, \"#46039f\"], [0.2222222222222222, \"#7201a8\"], [0.3333333333333333, \"#9c179e\"], [0.4444444444444444, \"#bd3786\"], [0.5555555555555556, \"#d8576b\"], [0.6666666666666666, \"#ed7953\"], [0.7777777777777778, \"#fb9f3a\"], [0.8888888888888888, \"#fdca26\"], [1.0, \"#f0f921\"]], \"type\": \"heatmap\"}], \"heatmapgl\": [{\"colorbar\": {\"outlinewidth\": 0, \"ticks\": \"\"}, \"colorscale\": [[0.0, \"#0d0887\"], [0.1111111111111111, \"#46039f\"], [0.2222222222222222, \"#7201a8\"], [0.3333333333333333, \"#9c179e\"], [0.4444444444444444, \"#bd3786\"], [0.5555555555555556, \"#d8576b\"], [0.6666666666666666, \"#ed7953\"], [0.7777777777777778, \"#fb9f3a\"], [0.8888888888888888, \"#fdca26\"], [1.0, \"#f0f921\"]], \"type\": \"heatmapgl\"}], \"histogram\": [{\"marker\": {\"colorbar\": {\"outlinewidth\": 0, \"ticks\": \"\"}}, \"type\": \"histogram\"}], \"histogram2d\": [{\"colorbar\": {\"outlinewidth\": 0, \"ticks\": \"\"}, \"colorscale\": [[0.0, \"#0d0887\"], [0.1111111111111111, \"#46039f\"], [0.2222222222222222, \"#7201a8\"], [0.3333333333333333, \"#9c179e\"], [0.4444444444444444, \"#bd3786\"], [0.5555555555555556, \"#d8576b\"], [0.6666666666666666, \"#ed7953\"], [0.7777777777777778, \"#fb9f3a\"], [0.8888888888888888, \"#fdca26\"], [1.0, \"#f0f921\"]], \"type\": \"histogram2d\"}], \"histogram2dcontour\": [{\"colorbar\": {\"outlinewidth\": 0, \"ticks\": \"\"}, \"colorscale\": [[0.0, \"#0d0887\"], [0.1111111111111111, \"#46039f\"], [0.2222222222222222, \"#7201a8\"], [0.3333333333333333, \"#9c179e\"], [0.4444444444444444, \"#bd3786\"], [0.5555555555555556, \"#d8576b\"], [0.6666666666666666, \"#ed7953\"], [0.7777777777777778, \"#fb9f3a\"], [0.8888888888888888, \"#fdca26\"], [1.0, \"#f0f921\"]], \"type\": \"histogram2dcontour\"}], \"mesh3d\": [{\"colorbar\": {\"outlinewidth\": 0, \"ticks\": \"\"}, \"type\": \"mesh3d\"}], \"parcoords\": [{\"line\": {\"colorbar\": {\"outlinewidth\": 0, \"ticks\": \"\"}}, \"type\": \"parcoords\"}], \"pie\": [{\"automargin\": true, \"type\": \"pie\"}], \"scatter\": [{\"marker\": {\"colorbar\": {\"outlinewidth\": 0, \"ticks\": \"\"}}, \"type\": \"scatter\"}], \"scatter3d\": [{\"line\": {\"colorbar\": {\"outlinewidth\": 0, \"ticks\": \"\"}}, \"marker\": {\"colorbar\": {\"outlinewidth\": 0, \"ticks\": \"\"}}, \"type\": \"scatter3d\"}], \"scattercarpet\": [{\"marker\": {\"colorbar\": {\"outlinewidth\": 0, \"ticks\": \"\"}}, \"type\": \"scattercarpet\"}], \"scattergeo\": [{\"marker\": {\"colorbar\": {\"outlinewidth\": 0, \"ticks\": \"\"}}, \"type\": \"scattergeo\"}], \"scattergl\": [{\"marker\": {\"colorbar\": {\"outlinewidth\": 0, \"ticks\": \"\"}}, \"type\": \"scattergl\"}], \"scattermapbox\": [{\"marker\": {\"colorbar\": {\"outlinewidth\": 0, \"ticks\": \"\"}}, \"type\": \"scattermapbox\"}], \"scatterpolar\": [{\"marker\": {\"colorbar\": {\"outlinewidth\": 0, \"ticks\": \"\"}}, \"type\": \"scatterpolar\"}], \"scatterpolargl\": [{\"marker\": {\"colorbar\": {\"outlinewidth\": 0, \"ticks\": \"\"}}, \"type\": \"scatterpolargl\"}], \"scatterternary\": [{\"marker\": {\"colorbar\": {\"outlinewidth\": 0, \"ticks\": \"\"}}, \"type\": \"scatterternary\"}], \"surface\": [{\"colorbar\": {\"outlinewidth\": 0, \"ticks\": \"\"}, \"colorscale\": [[0.0, \"#0d0887\"], [0.1111111111111111, \"#46039f\"], [0.2222222222222222, \"#7201a8\"], [0.3333333333333333, \"#9c179e\"], [0.4444444444444444, \"#bd3786\"], [0.5555555555555556, \"#d8576b\"], [0.6666666666666666, \"#ed7953\"], [0.7777777777777778, \"#fb9f3a\"], [0.8888888888888888, \"#fdca26\"], [1.0, \"#f0f921\"]], \"type\": \"surface\"}], \"table\": [{\"cells\": {\"fill\": {\"color\": \"#EBF0F8\"}, \"line\": {\"color\": \"white\"}}, \"header\": {\"fill\": {\"color\": \"#C8D4E3\"}, \"line\": {\"color\": \"white\"}}, \"type\": \"table\"}]}, \"layout\": {\"annotationdefaults\": {\"arrowcolor\": \"#2a3f5f\", \"arrowhead\": 0, \"arrowwidth\": 1}, \"coloraxis\": {\"colorbar\": {\"outlinewidth\": 0, \"ticks\": \"\"}}, \"colorscale\": {\"diverging\": [[0, \"#8e0152\"], [0.1, \"#c51b7d\"], [0.2, \"#de77ae\"], [0.3, \"#f1b6da\"], [0.4, \"#fde0ef\"], [0.5, \"#f7f7f7\"], [0.6, \"#e6f5d0\"], [0.7, \"#b8e186\"], [0.8, \"#7fbc41\"], [0.9, \"#4d9221\"], [1, \"#276419\"]], \"sequential\": [[0.0, \"#0d0887\"], [0.1111111111111111, \"#46039f\"], [0.2222222222222222, \"#7201a8\"], [0.3333333333333333, \"#9c179e\"], [0.4444444444444444, \"#bd3786\"], [0.5555555555555556, \"#d8576b\"], [0.6666666666666666, \"#ed7953\"], [0.7777777777777778, \"#fb9f3a\"], [0.8888888888888888, \"#fdca26\"], [1.0, \"#f0f921\"]], \"sequentialminus\": [[0.0, \"#0d0887\"], [0.1111111111111111, \"#46039f\"], [0.2222222222222222, \"#7201a8\"], [0.3333333333333333, \"#9c179e\"], [0.4444444444444444, \"#bd3786\"], [0.5555555555555556, \"#d8576b\"], [0.6666666666666666, \"#ed7953\"], [0.7777777777777778, \"#fb9f3a\"], [0.8888888888888888, \"#fdca26\"], [1.0, \"#f0f921\"]]}, \"colorway\": [\"#636efa\", \"#EF553B\", \"#00cc96\", \"#ab63fa\", \"#FFA15A\", \"#19d3f3\", \"#FF6692\", \"#B6E880\", \"#FF97FF\", \"#FECB52\"], \"font\": {\"color\": \"#2a3f5f\"}, \"geo\": {\"bgcolor\": \"white\", \"lakecolor\": \"white\", \"landcolor\": \"#E5ECF6\", \"showlakes\": true, \"showland\": true, \"subunitcolor\": \"white\"}, \"hoverlabel\": {\"align\": \"left\"}, \"hovermode\": \"closest\", \"mapbox\": {\"style\": \"light\"}, \"paper_bgcolor\": \"white\", \"plot_bgcolor\": \"#E5ECF6\", \"polar\": {\"angularaxis\": {\"gridcolor\": \"white\", \"linecolor\": \"white\", \"ticks\": \"\"}, \"bgcolor\": \"#E5ECF6\", \"radialaxis\": {\"gridcolor\": \"white\", \"linecolor\": \"white\", \"ticks\": \"\"}}, \"scene\": {\"xaxis\": {\"backgroundcolor\": \"#E5ECF6\", \"gridcolor\": \"white\", \"gridwidth\": 2, \"linecolor\": \"white\", \"showbackground\": true, \"ticks\": \"\", \"zerolinecolor\": \"white\"}, \"yaxis\": {\"backgroundcolor\": \"#E5ECF6\", \"gridcolor\": \"white\", \"gridwidth\": 2, \"linecolor\": \"white\", \"showbackground\": true, \"ticks\": \"\", \"zerolinecolor\": \"white\"}, \"zaxis\": {\"backgroundcolor\": \"#E5ECF6\", \"gridcolor\": \"white\", \"gridwidth\": 2, \"linecolor\": \"white\", \"showbackground\": true, \"ticks\": \"\", \"zerolinecolor\": \"white\"}}, \"shapedefaults\": {\"line\": {\"color\": \"#2a3f5f\"}}, \"ternary\": {\"aaxis\": {\"gridcolor\": \"white\", \"linecolor\": \"white\", \"ticks\": \"\"}, \"baxis\": {\"gridcolor\": \"white\", \"linecolor\": \"white\", \"ticks\": \"\"}, \"bgcolor\": \"#E5ECF6\", \"caxis\": {\"gridcolor\": \"white\", \"linecolor\": \"white\", \"ticks\": \"\"}}, \"title\": {\"x\": 0.05}, \"xaxis\": {\"automargin\": true, \"gridcolor\": \"white\", \"linecolor\": \"white\", \"ticks\": \"\", \"title\": {\"standoff\": 15}, \"zerolinecolor\": \"white\", \"zerolinewidth\": 2}, \"yaxis\": {\"automargin\": true, \"gridcolor\": \"white\", \"linecolor\": \"white\", \"ticks\": \"\", \"title\": {\"standoff\": 15}, \"zerolinecolor\": \"white\", \"zerolinewidth\": 2}}}, \"xaxis\": {\"anchor\": \"y\", \"domain\": [0.0, 1.0], \"title\": {\"text\": \"raceId\"}}, \"yaxis\": {\"anchor\": \"x\", \"domain\": [0.0, 1.0], \"title\": {\"text\": \"rolling_quali_lap_ratio\"}}},\n",
       "                        {\"responsive\": true}\n",
       "                    ).then(function(){\n",
       "                            \n",
       "var gd = document.getElementById('c43d9da4-7256-441d-b0ce-1407ffe5bb15');\n",
       "var x = new MutationObserver(function (mutations, observer) {{\n",
       "        var display = window.getComputedStyle(gd).display;\n",
       "        if (!display || display === 'none') {{\n",
       "            console.log([gd, 'removed!']);\n",
       "            Plotly.purge(gd);\n",
       "            observer.disconnect();\n",
       "        }}\n",
       "}});\n",
       "\n",
       "// Listen for the removal of the full notebook cells\n",
       "var notebookContainer = gd.closest('#notebook-container');\n",
       "if (notebookContainer) {{\n",
       "    x.observe(notebookContainer, {childList: true});\n",
       "}}\n",
       "\n",
       "// Listen for the clearing of the current output cell\n",
       "var outputEl = gd.closest('.output');\n",
       "if (outputEl) {{\n",
       "    x.observe(outputEl, {childList: true});\n",
       "}}\n",
       "\n",
       "                        })\n",
       "                };\n",
       "                });\n",
       "            </script>\n",
       "        </div>"
      ]
     },
     "metadata": {},
     "output_type": "display_data"
    }
   ],
   "source": [
    "px.line(df_6,x='raceId',y='rolling_quali_lap_ratio',color='driverName')"
   ]
  },
  {
   "cell_type": "code",
   "execution_count": null,
   "metadata": {},
   "outputs": [],
   "source": []
  }
 ],
 "metadata": {
  "kernelspec": {
   "display_name": "Python 3",
   "language": "python",
   "name": "python3"
  },
  "language_info": {
   "codemirror_mode": {
    "name": "ipython",
    "version": 3
   },
   "file_extension": ".py",
   "mimetype": "text/x-python",
   "name": "python",
   "nbconvert_exporter": "python",
   "pygments_lexer": "ipython3",
   "version": "3.8.3"
  }
 },
 "nbformat": 4,
 "nbformat_minor": 4
}
