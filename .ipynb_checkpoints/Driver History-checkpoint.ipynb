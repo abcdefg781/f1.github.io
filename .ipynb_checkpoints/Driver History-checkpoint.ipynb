{
 "cells": [
  {
   "cell_type": "markdown",
   "metadata": {},
   "source": [
    "# Driver History Tables"
   ]
  },
  {
   "cell_type": "code",
   "execution_count": 1,
   "metadata": {},
   "outputs": [],
   "source": [
    "import pandas as pd\n",
    "import copy\n",
    "\n",
    "pd.set_option('display.max_columns', None)\n",
    "pd.set_option('display.width', None)"
   ]
  },
  {
   "cell_type": "code",
   "execution_count": 10,
   "metadata": {},
   "outputs": [
    {
     "ename": "SyntaxError",
     "evalue": "invalid syntax (<ipython-input-10-31dd20a0a354>, line 33)",
     "output_type": "error",
     "traceback": [
      "\u001b[0;36m  File \u001b[0;32m\"<ipython-input-10-31dd20a0a354>\"\u001b[0;36m, line \u001b[0;32m33\u001b[0m\n\u001b[0;31m    else df_5['q1'][i] = 0\u001b[0m\n\u001b[0m       ^\u001b[0m\n\u001b[0;31mSyntaxError\u001b[0m\u001b[0;31m:\u001b[0m invalid syntax\n"
     ]
    }
   ],
   "source": [
    "# Import all the data\n",
    "drivers_df = pd.read_csv(\"./f1db_csv/drivers.csv\").drop(columns = \"url\")\n",
    "results_df = pd.read_csv(\"./f1db_csv/results.csv\")\n",
    "constructors_df = pd.read_csv(\"./f1db_csv/constructors.csv\")\n",
    "races_df = pd.read_csv(\"./f1db_csv/races.csv\")\n",
    "qualifying_df = pd.read_csv(\"./f1db_csv/qualifying.csv\")\n",
    "d_standings_df = pd.read_csv(\"./f1db_csv/driver_standings.csv\")\n",
    "\n",
    "# Clean some names and create new variables\n",
    "# drivers_df\n",
    "drivers_df[\"number\"] = drivers_df[\"number\"].replace({r\"\\N\": None})\n",
    "drivers_df[\"driverName\"] = drivers_df[\"forename\"].str.cat(drivers_df[\"surname\"],sep = \" \")\n",
    "drivers_df = drivers_df.drop(columns = [\"forename\", \"surname\"])\n",
    "\n",
    "# results_df\n",
    "results_df[\"position\"] = results_df[\"position\"].replace({r\"\\N\": None})\n",
    "\n",
    "# Merging to a full dataset for driver history\n",
    "df_1 = pd.merge(drivers_df[[\"driverId\", \"driverName\", \"number\", \"nationality\"]], results_df[[\"driverId\", \"raceId\", \"constructorId\", \"position\", \"fastestLapTime\"]], on = \"driverId\")\n",
    "df_2 = pd.merge(df_1, constructors_df[[\"constructorId\", \"name\"]], on = \"constructorId\")\n",
    "df_2 = df_2.rename({\"position\" : \"racePosition\"}, axis = \"columns\")\n",
    "df_2 = df_2.rename({\"name\" : \"constructorName\"}, axis = \"columns\")\n",
    "df_3 = pd.merge(df_2, d_standings_df[[\"driverId\", \"raceId\", \"points\", \"position\", \"wins\"]], on = [\"driverId\", \"raceId\"])\n",
    "df_3 = df_3.rename({\"position\" : \"driverStanding\"}, axis = \"columns\")\n",
    "df_4 = pd.merge(df_3, races_df[[\"raceId\", \"year\", \"name\"]], on = \"raceId\")\n",
    "df_5 = pd.merge(df_4, qualifying_df[[\"raceId\", \"driverId\", \"position\", \"q1\", \"q2\", \"q3\"]], on = [\"driverId\", \"raceId\"])\n",
    "\n",
    "for i in range(len(df_5['q1'])):\n",
    "    if df_5['q1'][i] == \"00.000\":\n",
    "        df_5['q1'][i] = 0\n",
    "    elif df_5['q1'][i] != 0:\n",
    "        df_5['q1'][i] = float(str(x).split(':')[1]) + (60 * float(str(x).split(':')[0])\n",
    "    else \n",
    "        df_5['q1'][i] = 0\n",
    "\n",
    "df_5.q1\n",
    "\n",
    "# df_5['q1'] = df_5.q1.map(lambda x: 0 if str(x) == '00.000' else(float(str(x).split(':')[1]) + (60 * float(str(x).split(':')[0])) if x != 0 else 0))\n",
    "\n",
    "# final_df['qualifying_time'] = final_df.qualifying_time.map(lambda x: 0 if str(x) == '00.000' \n",
    "#                              else(float(str(x).split(':')[1]) + (60 * float(str(x).split(':')[0])) if x != 0 else 0))\n",
    "# final_df = final_df[final_df['qualifying_time'] != 0]\n",
    "# final_df.sort_values(['season', 'round', 'grid'], inplace = True)\n",
    "# final_df['qualifying_time_diff'] = final_df.groupby(['season', 'round']).qualifying_time.diff()\n",
    "# final_df['qualifying_time'] = final_df.groupby(['season', 'round']).qualifying_time_diff.cumsum().fillna(0)\n",
    "# final_df.drop('qualifying_time_diff', axis = 1, inplace = True)\n",
    "# df_5[\"minQualifyingTime\"] = df_5[[\"q1\", \"q2\", \"q3\"]].min().min()\n",
    "df_5.head(10)\n",
    "\n",
    "# Clean this dataset: drop variables and rearrange\n",
    "df = copy.deepcopy(df_5)\n",
    "df = df.drop(columns = [\"driverId\", \"constructorId\"])\n",
    "# df = df[[\"driverName\", \"number\", \"nationality\", \"year\", \"name\", \"constructorName\", ]]\n",
    "df.head(10)"
   ]
  },
  {
   "cell_type": "code",
   "execution_count": null,
   "metadata": {},
   "outputs": [],
   "source": [
    "# Function that chooses race history for a particular driver\n",
    "# Want: driver, number, nationality, \n",
    "# year, race, team, qualifying position, best qual, final position, fastest lap"
   ]
  }
 ],
 "metadata": {
  "kernelspec": {
   "display_name": "Python 3",
   "language": "python",
   "name": "python3"
  },
  "language_info": {
   "codemirror_mode": {
    "name": "ipython",
    "version": 3
   },
   "file_extension": ".py",
   "mimetype": "text/x-python",
   "name": "python",
   "nbconvert_exporter": "python",
   "pygments_lexer": "ipython3",
   "version": "3.7.6"
  }
 },
 "nbformat": 4,
 "nbformat_minor": 4
}
